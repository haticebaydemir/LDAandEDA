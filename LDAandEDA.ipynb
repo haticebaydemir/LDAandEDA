{
  "nbformat": 4,
  "nbformat_minor": 0,
  "metadata": {
    "colab": {
      "provenance": [],
      "collapsed_sections": [
        "G6CmItp7GxOf",
        "Y_AgZ7yjG4Y_",
        "L0A98NtAv8CJ",
        "P1pGxAgf837U",
        "lu1dX4LS9XD3"
      ],
      "authorship_tag": "ABX9TyM1lXtMPF1+BrkNmpzZzQeL",
      "include_colab_link": true
    },
    "kernelspec": {
      "name": "python3",
      "display_name": "Python 3"
    },
    "language_info": {
      "name": "python"
    }
  },
  "cells": [
    {
      "cell_type": "markdown",
      "metadata": {
        "id": "view-in-github",
        "colab_type": "text"
      },
      "source": [
        "<a href=\"https://colab.research.google.com/github/haticebaydemir/LDAandEDA/blob/main/LDAandEDA.ipynb\" target=\"_parent\"><img src=\"https://colab.research.google.com/assets/colab-badge.svg\" alt=\"Open In Colab\"/></a>"
      ]
    },
    {
      "cell_type": "markdown",
      "source": [
        "### LDA - Gizli Dirichlet Ayrımı (Latent Dirichlet Allocation)\n",
        "En popüler konu modelleme algoritmalarından biridir.\n",
        "## Exploratory Data Analysis (EDA)"
      ],
      "metadata": {
        "id": "gIHxsZLmGudv"
      }
    },
    {
      "cell_type": "markdown",
      "source": [
        "# Gerekli Kütüphaneler"
      ],
      "metadata": {
        "id": "G6CmItp7GxOf"
      }
    },
    {
      "cell_type": "code",
      "execution_count": null,
      "metadata": {
        "colab": {
          "base_uri": "https://localhost:8080/"
        },
        "id": "m4409NX2oR1f",
        "outputId": "78692a0e-7ba9-4880-92d4-58b3784307e2"
      },
      "outputs": [
        {
          "output_type": "stream",
          "name": "stdout",
          "text": [
            "Collecting pyLDAvis\n",
            "  Downloading pyLDAvis-3.4.1-py3-none-any.whl.metadata (4.2 kB)\n",
            "Requirement already satisfied: numpy>=1.24.2 in /usr/local/lib/python3.10/dist-packages (from pyLDAvis) (1.26.4)\n",
            "Requirement already satisfied: scipy in /usr/local/lib/python3.10/dist-packages (from pyLDAvis) (1.13.1)\n",
            "Requirement already satisfied: pandas>=2.0.0 in /usr/local/lib/python3.10/dist-packages (from pyLDAvis) (2.1.4)\n",
            "Requirement already satisfied: joblib>=1.2.0 in /usr/local/lib/python3.10/dist-packages (from pyLDAvis) (1.4.2)\n",
            "Requirement already satisfied: jinja2 in /usr/local/lib/python3.10/dist-packages (from pyLDAvis) (3.1.4)\n",
            "Requirement already satisfied: numexpr in /usr/local/lib/python3.10/dist-packages (from pyLDAvis) (2.10.1)\n",
            "Collecting funcy (from pyLDAvis)\n",
            "  Downloading funcy-2.0-py2.py3-none-any.whl.metadata (5.9 kB)\n",
            "Requirement already satisfied: scikit-learn>=1.0.0 in /usr/local/lib/python3.10/dist-packages (from pyLDAvis) (1.3.2)\n",
            "Requirement already satisfied: gensim in /usr/local/lib/python3.10/dist-packages (from pyLDAvis) (4.3.3)\n",
            "Requirement already satisfied: setuptools in /usr/local/lib/python3.10/dist-packages (from pyLDAvis) (71.0.4)\n",
            "Requirement already satisfied: python-dateutil>=2.8.2 in /usr/local/lib/python3.10/dist-packages (from pandas>=2.0.0->pyLDAvis) (2.8.2)\n",
            "Requirement already satisfied: pytz>=2020.1 in /usr/local/lib/python3.10/dist-packages (from pandas>=2.0.0->pyLDAvis) (2024.1)\n",
            "Requirement already satisfied: tzdata>=2022.1 in /usr/local/lib/python3.10/dist-packages (from pandas>=2.0.0->pyLDAvis) (2024.1)\n",
            "Requirement already satisfied: threadpoolctl>=2.0.0 in /usr/local/lib/python3.10/dist-packages (from scikit-learn>=1.0.0->pyLDAvis) (3.5.0)\n",
            "Requirement already satisfied: smart-open>=1.8.1 in /usr/local/lib/python3.10/dist-packages (from gensim->pyLDAvis) (7.0.4)\n",
            "Requirement already satisfied: MarkupSafe>=2.0 in /usr/local/lib/python3.10/dist-packages (from jinja2->pyLDAvis) (2.1.5)\n",
            "Requirement already satisfied: six>=1.5 in /usr/local/lib/python3.10/dist-packages (from python-dateutil>=2.8.2->pandas>=2.0.0->pyLDAvis) (1.16.0)\n",
            "Requirement already satisfied: wrapt in /usr/local/lib/python3.10/dist-packages (from smart-open>=1.8.1->gensim->pyLDAvis) (1.16.0)\n",
            "Downloading pyLDAvis-3.4.1-py3-none-any.whl (2.6 MB)\n",
            "\u001b[2K   \u001b[90m━━━━━━━━━━━━━━━━━━━━━━━━━━━━━━━━━━━━━━━━\u001b[0m \u001b[32m2.6/2.6 MB\u001b[0m \u001b[31m23.5 MB/s\u001b[0m eta \u001b[36m0:00:00\u001b[0m\n",
            "\u001b[?25hDownloading funcy-2.0-py2.py3-none-any.whl (30 kB)\n",
            "Installing collected packages: funcy, pyLDAvis\n",
            "Successfully installed funcy-2.0 pyLDAvis-3.4.1\n",
            "Requirement already satisfied: pyLDAvis in /usr/local/lib/python3.10/dist-packages (3.4.1)\n",
            "Requirement already satisfied: gensim in /usr/local/lib/python3.10/dist-packages (4.3.3)\n",
            "Requirement already satisfied: numpy>=1.24.2 in /usr/local/lib/python3.10/dist-packages (from pyLDAvis) (1.26.4)\n",
            "Requirement already satisfied: scipy in /usr/local/lib/python3.10/dist-packages (from pyLDAvis) (1.13.1)\n",
            "Requirement already satisfied: pandas>=2.0.0 in /usr/local/lib/python3.10/dist-packages (from pyLDAvis) (2.1.4)\n",
            "Requirement already satisfied: joblib>=1.2.0 in /usr/local/lib/python3.10/dist-packages (from pyLDAvis) (1.4.2)\n",
            "Requirement already satisfied: jinja2 in /usr/local/lib/python3.10/dist-packages (from pyLDAvis) (3.1.4)\n",
            "Requirement already satisfied: numexpr in /usr/local/lib/python3.10/dist-packages (from pyLDAvis) (2.10.1)\n",
            "Requirement already satisfied: funcy in /usr/local/lib/python3.10/dist-packages (from pyLDAvis) (2.0)\n",
            "Requirement already satisfied: scikit-learn>=1.0.0 in /usr/local/lib/python3.10/dist-packages (from pyLDAvis) (1.3.2)\n",
            "Requirement already satisfied: setuptools in /usr/local/lib/python3.10/dist-packages (from pyLDAvis) (71.0.4)\n",
            "Requirement already satisfied: smart-open>=1.8.1 in /usr/local/lib/python3.10/dist-packages (from gensim) (7.0.4)\n",
            "Requirement already satisfied: python-dateutil>=2.8.2 in /usr/local/lib/python3.10/dist-packages (from pandas>=2.0.0->pyLDAvis) (2.8.2)\n",
            "Requirement already satisfied: pytz>=2020.1 in /usr/local/lib/python3.10/dist-packages (from pandas>=2.0.0->pyLDAvis) (2024.1)\n",
            "Requirement already satisfied: tzdata>=2022.1 in /usr/local/lib/python3.10/dist-packages (from pandas>=2.0.0->pyLDAvis) (2024.1)\n",
            "Requirement already satisfied: threadpoolctl>=2.0.0 in /usr/local/lib/python3.10/dist-packages (from scikit-learn>=1.0.0->pyLDAvis) (3.5.0)\n",
            "Requirement already satisfied: wrapt in /usr/local/lib/python3.10/dist-packages (from smart-open>=1.8.1->gensim) (1.16.0)\n",
            "Requirement already satisfied: MarkupSafe>=2.0 in /usr/local/lib/python3.10/dist-packages (from jinja2->pyLDAvis) (2.1.5)\n",
            "Requirement already satisfied: six>=1.5 in /usr/local/lib/python3.10/dist-packages (from python-dateutil>=2.8.2->pandas>=2.0.0->pyLDAvis) (1.16.0)\n"
          ]
        }
      ],
      "source": [
        "!pip install pyLDAvis\n",
        "!pip install pyLDAvis gensim\n",
        "import numpy as np\n",
        "import pandas as pd\n",
        "import matplotlib.pyplot as plt\n",
        "\n",
        "import re\n",
        "import string\n",
        "import nltk\n",
        "from nltk.corpus import stopwords\n",
        "\n",
        "import gensim\n",
        "import pyLDAvis.gensim # for visualization\n",
        "from gensim.models import CoherenceModel"
      ]
    },
    {
      "cell_type": "markdown",
      "source": [
        "pyLDAvis: LDA (Latent Dirichlet Allocation) modelinin görselleştirilmesi için kullanılır.\n",
        "\n",
        "gensim: Doğal dil işleme ve metin madenciliği için kullanılan bir kütüphanedir ve genellikle konu modelleme için kullanılır."
      ],
      "metadata": {
        "id": "5DFXPLJZo-yU"
      }
    },
    {
      "cell_type": "markdown",
      "source": [
        "numpy: Matematiksel hesaplamalar için kullanılır.\n",
        "\n",
        "pandas: Veri analizi ve manipülasyonu için kullanılır.\n",
        "\n",
        "matplotlib.pyplot: Grafikler ve görselleştirmeler yapmak için kullanılır.\n",
        "re: Düzenli ifadelerle metin işleme için kullanılır.\n",
        "\n",
        "string: Metin işlemede kullanılan çeşitli araçlar sağlar.\n",
        "\n",
        "nltk: Doğal dil işleme için kullanılır ve stopwords (yaygın kullanılan kelimeler) listesini içerir.\n",
        "\n",
        "gensim: Metin madenciliği ve konu modelleme için kullanılır.\n",
        "\n",
        "pyLDAvis.gensim: Gensim ile oluşturulan LDA modelini görselleştirmek için kullanılır.\n",
        "CoherenceModel: LDA modelinin kalitesini değerlendirmek için kullanılır."
      ],
      "metadata": {
        "id": "zsYjFC-2okKC"
      }
    },
    {
      "cell_type": "markdown",
      "source": [
        "# Veri Yükleme"
      ],
      "metadata": {
        "id": "Y_AgZ7yjG4Y_"
      }
    },
    {
      "cell_type": "code",
      "source": [
        "from google.colab import drive\n",
        "drive.mount('/content/drive')"
      ],
      "metadata": {
        "colab": {
          "base_uri": "https://localhost:8080/"
        },
        "id": "42_RRBJmoU8V",
        "outputId": "523177e1-0c71-4c05-996b-0a239ec636ef"
      },
      "execution_count": null,
      "outputs": [
        {
          "output_type": "stream",
          "name": "stderr",
          "text": [
            "/usr/local/lib/python3.10/dist-packages/ipykernel/ipkernel.py:283: DeprecationWarning: `should_run_async` will not call `transform_cell` automatically in the future. Please pass the result to `transformed_cell` argument and any exception that happen during thetransform in `preprocessing_exc_tuple` in IPython 7.17 and above.\n",
            "  and should_run_async(code)\n"
          ]
        },
        {
          "output_type": "stream",
          "name": "stdout",
          "text": [
            "Mounted at /content/drive\n"
          ]
        }
      ]
    },
    {
      "cell_type": "code",
      "source": [
        "# Dosya yolu:\n",
        "file_path = '/content/drive/MyDrive/dataset/turkish_news.zip'\n",
        "df = pd.read_csv(file_path)"
      ],
      "metadata": {
        "colab": {
          "base_uri": "https://localhost:8080/"
        },
        "id": "_qQTYhd8pFfI",
        "outputId": "36a51867-7f51-4573-9da7-9c1dcf174b71"
      },
      "execution_count": null,
      "outputs": [
        {
          "output_type": "stream",
          "name": "stderr",
          "text": [
            "/usr/local/lib/python3.10/dist-packages/ipykernel/ipkernel.py:283: DeprecationWarning: `should_run_async` will not call `transform_cell` automatically in the future. Please pass the result to `transformed_cell` argument and any exception that happen during thetransform in `preprocessing_exc_tuple` in IPython 7.17 and above.\n",
            "  and should_run_async(code)\n"
          ]
        }
      ]
    },
    {
      "cell_type": "code",
      "source": [
        "import zipfile\n",
        "import io\n",
        "from google.colab import drive\n",
        "\n",
        "# Google Drive'ı bağlayın\n",
        "drive.mount('/content/drive')\n",
        "\n",
        "# ZIP dosyasının yolu\n",
        "zip_file_path = '/content/drive/MyDrive/dataset/turkish_news.zip'\n",
        "\n",
        "# ZIP dosyasını açın ve CSV dosyasını Pandas DataFrame'e yükleyin\n",
        "with zipfile.ZipFile(zip_file_path, 'r') as zip_ref:\n",
        "    # ZIP dosyasındaki CSV dosyalarının isimlerini al\n",
        "    csv_file_name = [name for name in zip_ref.namelist() if name.endswith('.csv')][0]\n",
        "\n",
        "    # CSV dosyasını bellekten okuma\n",
        "    with zip_ref.open(csv_file_name) as my_file:\n",
        "        df = pd.read_csv(my_file)"
      ],
      "metadata": {
        "colab": {
          "base_uri": "https://localhost:8080/"
        },
        "id": "HGm5YA9vpLGc",
        "outputId": "50d5fed7-4cd2-4024-ea66-bb2190fac3b4"
      },
      "execution_count": null,
      "outputs": [
        {
          "output_type": "stream",
          "name": "stderr",
          "text": [
            "/usr/local/lib/python3.10/dist-packages/ipykernel/ipkernel.py:283: DeprecationWarning: `should_run_async` will not call `transform_cell` automatically in the future. Please pass the result to `transformed_cell` argument and any exception that happen during thetransform in `preprocessing_exc_tuple` in IPython 7.17 and above.\n",
            "  and should_run_async(code)\n"
          ]
        },
        {
          "output_type": "stream",
          "name": "stdout",
          "text": [
            "Drive already mounted at /content/drive; to attempt to forcibly remount, call drive.mount(\"/content/drive\", force_remount=True).\n"
          ]
        }
      ]
    },
    {
      "cell_type": "code",
      "source": [
        "# Veri serindeki ilk üç satır\n",
        "df.head(3)"
      ],
      "metadata": {
        "colab": {
          "base_uri": "https://localhost:8080/",
          "height": 252
        },
        "id": "th4phKP4pN4K",
        "outputId": "d2640006-efa2-4e8f-a5a8-a73a6b698fb1"
      },
      "execution_count": null,
      "outputs": [
        {
          "output_type": "stream",
          "name": "stderr",
          "text": [
            "/usr/local/lib/python3.10/dist-packages/ipykernel/ipkernel.py:283: DeprecationWarning: `should_run_async` will not call `transform_cell` automatically in the future. Please pass the result to `transformed_cell` argument and any exception that happen during thetransform in `preprocessing_exc_tuple` in IPython 7.17 and above.\n",
            "  and should_run_async(code)\n"
          ]
        },
        {
          "output_type": "execute_result",
          "data": {
            "text/plain": [
              "      id                                         main_image  \\\n",
              "0  72337  \"http://www.diken.com.tr/wp-content/uploads/20...   \n",
              "1  72338  \"http://www.diken.com.tr/wp-content/uploads/20...   \n",
              "2  72339  \"http://www.diken.com.tr/wp-content/uploads/20...   \n",
              "\n",
              "                         published            site  \\\n",
              "0  \"2019-03-04T13:33:00.000+02:00\"  \"diken.com.tr\"   \n",
              "1  \"2019-03-04T13:21:00.000+02:00\"  \"diken.com.tr\"   \n",
              "2  \"2019-03-04T12:20:00.000+02:00\"  \"diken.com.tr\"   \n",
              "\n",
              "                                                text  \\\n",
              "0  \"Yatırım bankası: Dolar/TL üçüncü çeyrekte 8.9...   \n",
              "1  \"PİAR Araştırma: Adana ve Antalya’da ‘millet i...   \n",
              "2  \"Renaissance Capital: Merkez Bankası bu hafta ...   \n",
              "\n",
              "                                               title  \\\n",
              "0  \"Yatırım bankası: Dolar/TL üçüncü çeyrekte 8.9...   \n",
              "1  \"PİAR Araştırma: Adana ve Antalya’da ‘millet i...   \n",
              "2  \"Renaissance Capital: Merkez Bankası bu hafta ...   \n",
              "\n",
              "                                                 url  \n",
              "0  \"http://www.diken.com.tr/yatirim-bankasi-dolar...  \n",
              "1  \"http://www.diken.com.tr/piar-arastirma-adana-...  \n",
              "2  \"http://www.diken.com.tr/renaissance-capital-m...  "
            ],
            "text/html": [
              "\n",
              "  <div id=\"df-ede29d17-2e4c-47af-8c23-2991883f9141\" class=\"colab-df-container\">\n",
              "    <div>\n",
              "<style scoped>\n",
              "    .dataframe tbody tr th:only-of-type {\n",
              "        vertical-align: middle;\n",
              "    }\n",
              "\n",
              "    .dataframe tbody tr th {\n",
              "        vertical-align: top;\n",
              "    }\n",
              "\n",
              "    .dataframe thead th {\n",
              "        text-align: right;\n",
              "    }\n",
              "</style>\n",
              "<table border=\"1\" class=\"dataframe\">\n",
              "  <thead>\n",
              "    <tr style=\"text-align: right;\">\n",
              "      <th></th>\n",
              "      <th>id</th>\n",
              "      <th>main_image</th>\n",
              "      <th>published</th>\n",
              "      <th>site</th>\n",
              "      <th>text</th>\n",
              "      <th>title</th>\n",
              "      <th>url</th>\n",
              "    </tr>\n",
              "  </thead>\n",
              "  <tbody>\n",
              "    <tr>\n",
              "      <th>0</th>\n",
              "      <td>72337</td>\n",
              "      <td>\"http://www.diken.com.tr/wp-content/uploads/20...</td>\n",
              "      <td>\"2019-03-04T13:33:00.000+02:00\"</td>\n",
              "      <td>\"diken.com.tr\"</td>\n",
              "      <td>\"Yatırım bankası: Dolar/TL üçüncü çeyrekte 8.9...</td>\n",
              "      <td>\"Yatırım bankası: Dolar/TL üçüncü çeyrekte 8.9...</td>\n",
              "      <td>\"http://www.diken.com.tr/yatirim-bankasi-dolar...</td>\n",
              "    </tr>\n",
              "    <tr>\n",
              "      <th>1</th>\n",
              "      <td>72338</td>\n",
              "      <td>\"http://www.diken.com.tr/wp-content/uploads/20...</td>\n",
              "      <td>\"2019-03-04T13:21:00.000+02:00\"</td>\n",
              "      <td>\"diken.com.tr\"</td>\n",
              "      <td>\"PİAR Araştırma: Adana ve Antalya’da ‘millet i...</td>\n",
              "      <td>\"PİAR Araştırma: Adana ve Antalya’da ‘millet i...</td>\n",
              "      <td>\"http://www.diken.com.tr/piar-arastirma-adana-...</td>\n",
              "    </tr>\n",
              "    <tr>\n",
              "      <th>2</th>\n",
              "      <td>72339</td>\n",
              "      <td>\"http://www.diken.com.tr/wp-content/uploads/20...</td>\n",
              "      <td>\"2019-03-04T12:20:00.000+02:00\"</td>\n",
              "      <td>\"diken.com.tr\"</td>\n",
              "      <td>\"Renaissance Capital: Merkez Bankası bu hafta ...</td>\n",
              "      <td>\"Renaissance Capital: Merkez Bankası bu hafta ...</td>\n",
              "      <td>\"http://www.diken.com.tr/renaissance-capital-m...</td>\n",
              "    </tr>\n",
              "  </tbody>\n",
              "</table>\n",
              "</div>\n",
              "    <div class=\"colab-df-buttons\">\n",
              "\n",
              "  <div class=\"colab-df-container\">\n",
              "    <button class=\"colab-df-convert\" onclick=\"convertToInteractive('df-ede29d17-2e4c-47af-8c23-2991883f9141')\"\n",
              "            title=\"Convert this dataframe to an interactive table.\"\n",
              "            style=\"display:none;\">\n",
              "\n",
              "  <svg xmlns=\"http://www.w3.org/2000/svg\" height=\"24px\" viewBox=\"0 -960 960 960\">\n",
              "    <path d=\"M120-120v-720h720v720H120Zm60-500h600v-160H180v160Zm220 220h160v-160H400v160Zm0 220h160v-160H400v160ZM180-400h160v-160H180v160Zm440 0h160v-160H620v160ZM180-180h160v-160H180v160Zm440 0h160v-160H620v160Z\"/>\n",
              "  </svg>\n",
              "    </button>\n",
              "\n",
              "  <style>\n",
              "    .colab-df-container {\n",
              "      display:flex;\n",
              "      gap: 12px;\n",
              "    }\n",
              "\n",
              "    .colab-df-convert {\n",
              "      background-color: #E8F0FE;\n",
              "      border: none;\n",
              "      border-radius: 50%;\n",
              "      cursor: pointer;\n",
              "      display: none;\n",
              "      fill: #1967D2;\n",
              "      height: 32px;\n",
              "      padding: 0 0 0 0;\n",
              "      width: 32px;\n",
              "    }\n",
              "\n",
              "    .colab-df-convert:hover {\n",
              "      background-color: #E2EBFA;\n",
              "      box-shadow: 0px 1px 2px rgba(60, 64, 67, 0.3), 0px 1px 3px 1px rgba(60, 64, 67, 0.15);\n",
              "      fill: #174EA6;\n",
              "    }\n",
              "\n",
              "    .colab-df-buttons div {\n",
              "      margin-bottom: 4px;\n",
              "    }\n",
              "\n",
              "    [theme=dark] .colab-df-convert {\n",
              "      background-color: #3B4455;\n",
              "      fill: #D2E3FC;\n",
              "    }\n",
              "\n",
              "    [theme=dark] .colab-df-convert:hover {\n",
              "      background-color: #434B5C;\n",
              "      box-shadow: 0px 1px 3px 1px rgba(0, 0, 0, 0.15);\n",
              "      filter: drop-shadow(0px 1px 2px rgba(0, 0, 0, 0.3));\n",
              "      fill: #FFFFFF;\n",
              "    }\n",
              "  </style>\n",
              "\n",
              "    <script>\n",
              "      const buttonEl =\n",
              "        document.querySelector('#df-ede29d17-2e4c-47af-8c23-2991883f9141 button.colab-df-convert');\n",
              "      buttonEl.style.display =\n",
              "        google.colab.kernel.accessAllowed ? 'block' : 'none';\n",
              "\n",
              "      async function convertToInteractive(key) {\n",
              "        const element = document.querySelector('#df-ede29d17-2e4c-47af-8c23-2991883f9141');\n",
              "        const dataTable =\n",
              "          await google.colab.kernel.invokeFunction('convertToInteractive',\n",
              "                                                    [key], {});\n",
              "        if (!dataTable) return;\n",
              "\n",
              "        const docLinkHtml = 'Like what you see? Visit the ' +\n",
              "          '<a target=\"_blank\" href=https://colab.research.google.com/notebooks/data_table.ipynb>data table notebook</a>'\n",
              "          + ' to learn more about interactive tables.';\n",
              "        element.innerHTML = '';\n",
              "        dataTable['output_type'] = 'display_data';\n",
              "        await google.colab.output.renderOutput(dataTable, element);\n",
              "        const docLink = document.createElement('div');\n",
              "        docLink.innerHTML = docLinkHtml;\n",
              "        element.appendChild(docLink);\n",
              "      }\n",
              "    </script>\n",
              "  </div>\n",
              "\n",
              "\n",
              "<div id=\"df-3b3b022e-a481-4532-9b5a-43729f7f22fb\">\n",
              "  <button class=\"colab-df-quickchart\" onclick=\"quickchart('df-3b3b022e-a481-4532-9b5a-43729f7f22fb')\"\n",
              "            title=\"Suggest charts\"\n",
              "            style=\"display:none;\">\n",
              "\n",
              "<svg xmlns=\"http://www.w3.org/2000/svg\" height=\"24px\"viewBox=\"0 0 24 24\"\n",
              "     width=\"24px\">\n",
              "    <g>\n",
              "        <path d=\"M19 3H5c-1.1 0-2 .9-2 2v14c0 1.1.9 2 2 2h14c1.1 0 2-.9 2-2V5c0-1.1-.9-2-2-2zM9 17H7v-7h2v7zm4 0h-2V7h2v10zm4 0h-2v-4h2v4z\"/>\n",
              "    </g>\n",
              "</svg>\n",
              "  </button>\n",
              "\n",
              "<style>\n",
              "  .colab-df-quickchart {\n",
              "      --bg-color: #E8F0FE;\n",
              "      --fill-color: #1967D2;\n",
              "      --hover-bg-color: #E2EBFA;\n",
              "      --hover-fill-color: #174EA6;\n",
              "      --disabled-fill-color: #AAA;\n",
              "      --disabled-bg-color: #DDD;\n",
              "  }\n",
              "\n",
              "  [theme=dark] .colab-df-quickchart {\n",
              "      --bg-color: #3B4455;\n",
              "      --fill-color: #D2E3FC;\n",
              "      --hover-bg-color: #434B5C;\n",
              "      --hover-fill-color: #FFFFFF;\n",
              "      --disabled-bg-color: #3B4455;\n",
              "      --disabled-fill-color: #666;\n",
              "  }\n",
              "\n",
              "  .colab-df-quickchart {\n",
              "    background-color: var(--bg-color);\n",
              "    border: none;\n",
              "    border-radius: 50%;\n",
              "    cursor: pointer;\n",
              "    display: none;\n",
              "    fill: var(--fill-color);\n",
              "    height: 32px;\n",
              "    padding: 0;\n",
              "    width: 32px;\n",
              "  }\n",
              "\n",
              "  .colab-df-quickchart:hover {\n",
              "    background-color: var(--hover-bg-color);\n",
              "    box-shadow: 0 1px 2px rgba(60, 64, 67, 0.3), 0 1px 3px 1px rgba(60, 64, 67, 0.15);\n",
              "    fill: var(--button-hover-fill-color);\n",
              "  }\n",
              "\n",
              "  .colab-df-quickchart-complete:disabled,\n",
              "  .colab-df-quickchart-complete:disabled:hover {\n",
              "    background-color: var(--disabled-bg-color);\n",
              "    fill: var(--disabled-fill-color);\n",
              "    box-shadow: none;\n",
              "  }\n",
              "\n",
              "  .colab-df-spinner {\n",
              "    border: 2px solid var(--fill-color);\n",
              "    border-color: transparent;\n",
              "    border-bottom-color: var(--fill-color);\n",
              "    animation:\n",
              "      spin 1s steps(1) infinite;\n",
              "  }\n",
              "\n",
              "  @keyframes spin {\n",
              "    0% {\n",
              "      border-color: transparent;\n",
              "      border-bottom-color: var(--fill-color);\n",
              "      border-left-color: var(--fill-color);\n",
              "    }\n",
              "    20% {\n",
              "      border-color: transparent;\n",
              "      border-left-color: var(--fill-color);\n",
              "      border-top-color: var(--fill-color);\n",
              "    }\n",
              "    30% {\n",
              "      border-color: transparent;\n",
              "      border-left-color: var(--fill-color);\n",
              "      border-top-color: var(--fill-color);\n",
              "      border-right-color: var(--fill-color);\n",
              "    }\n",
              "    40% {\n",
              "      border-color: transparent;\n",
              "      border-right-color: var(--fill-color);\n",
              "      border-top-color: var(--fill-color);\n",
              "    }\n",
              "    60% {\n",
              "      border-color: transparent;\n",
              "      border-right-color: var(--fill-color);\n",
              "    }\n",
              "    80% {\n",
              "      border-color: transparent;\n",
              "      border-right-color: var(--fill-color);\n",
              "      border-bottom-color: var(--fill-color);\n",
              "    }\n",
              "    90% {\n",
              "      border-color: transparent;\n",
              "      border-bottom-color: var(--fill-color);\n",
              "    }\n",
              "  }\n",
              "</style>\n",
              "\n",
              "  <script>\n",
              "    async function quickchart(key) {\n",
              "      const quickchartButtonEl =\n",
              "        document.querySelector('#' + key + ' button');\n",
              "      quickchartButtonEl.disabled = true;  // To prevent multiple clicks.\n",
              "      quickchartButtonEl.classList.add('colab-df-spinner');\n",
              "      try {\n",
              "        const charts = await google.colab.kernel.invokeFunction(\n",
              "            'suggestCharts', [key], {});\n",
              "      } catch (error) {\n",
              "        console.error('Error during call to suggestCharts:', error);\n",
              "      }\n",
              "      quickchartButtonEl.classList.remove('colab-df-spinner');\n",
              "      quickchartButtonEl.classList.add('colab-df-quickchart-complete');\n",
              "    }\n",
              "    (() => {\n",
              "      let quickchartButtonEl =\n",
              "        document.querySelector('#df-3b3b022e-a481-4532-9b5a-43729f7f22fb button');\n",
              "      quickchartButtonEl.style.display =\n",
              "        google.colab.kernel.accessAllowed ? 'block' : 'none';\n",
              "    })();\n",
              "  </script>\n",
              "</div>\n",
              "\n",
              "    </div>\n",
              "  </div>\n"
            ],
            "application/vnd.google.colaboratory.intrinsic+json": {
              "type": "dataframe",
              "variable_name": "df",
              "summary": "{\n  \"name\": \"df\",\n  \"rows\": 72109,\n  \"fields\": [\n    {\n      \"column\": \"id\",\n      \"properties\": {\n        \"dtype\": \"number\",\n        \"std\": 20816,\n        \"min\": 72110,\n        \"max\": 144218,\n        \"num_unique_values\": 72109,\n        \"samples\": [\n          93492,\n          103445,\n          82441\n        ],\n        \"semantic_type\": \"\",\n        \"description\": \"\"\n      }\n    },\n    {\n      \"column\": \"main_image\",\n      \"properties\": {\n        \"dtype\": \"string\",\n        \"num_unique_values\": 63569,\n        \"samples\": [\n          \"\\\"https://icdn.turkiyegazetesi.com.tr/images/haberler/2019_02/buyuk/yeni-seri-yakalamaliyiz-1550292055.jpg\\\"\",\n          \"\\\"https://image.yenisafak.com/resim/imagecrop/2019/02/26/03/11/resized_5b094-b5f4a97ethumbs_b_c_8049e44a0c268674a8f442654aa2013d.jpg\\\"\",\n          \"\\\"http://i2.haber7.net//haber/haber7/photos/2019/08/jay_jay_okochaya_tutuklama_karari_1550834986_7132.jpg\\\"\"\n        ],\n        \"semantic_type\": \"\",\n        \"description\": \"\"\n      }\n    },\n    {\n      \"column\": \"published\",\n      \"properties\": {\n        \"dtype\": \"category\",\n        \"num_unique_values\": 31306,\n        \"samples\": [\n          \"\\\"2019-02-14T19:37:00.000+02:00\\\"\",\n          \"\\\"2019-03-09T18:02:00.000+02:00\\\"\",\n          \"\\\"2019-03-11T09:27:00.000+02:00\\\"\"\n        ],\n        \"semantic_type\": \"\",\n        \"description\": \"\"\n      }\n    },\n    {\n      \"column\": \"site\",\n      \"properties\": {\n        \"dtype\": \"category\",\n        \"num_unique_values\": 31,\n        \"samples\": [\n          \"\\\"takvim.com.tr\\\"\",\n          \"\\\"gercekgundem.com\\\"\",\n          \"\\\"fanatik.com.tr\\\"\"\n        ],\n        \"semantic_type\": \"\",\n        \"description\": \"\"\n      }\n    },\n    {\n      \"column\": \"text\",\n      \"properties\": {\n        \"dtype\": \"string\",\n        \"num_unique_values\": 69870,\n        \"samples\": [\n          \"\\\"Belediye ekipleri temizlik \\u00e7al\\u0131\\u015fmalar\\u0131n\\u0131 s\\u00fcrd\\u00fcr\\u00fcyor 12:24 13:00 \\u0130HA \\u00c7orlu Belediyesi Temizlik \\u0130\\u015fleri M\\u00fcd\\u00fcrl\\u00fc\\u011f\\u00fc ekipleri taraf\\u0131ndan y\\u00fcr\\u00fct\\u00fclen temizlik \\u00e7al\\u0131\\u015fmalar\\u0131 \\u015fehir merkezi d\\u0131\\u015f\\u0131nda kalan mahallelerde de devam ediyor. \\u00c7orlu Belediyesi Temizlik \\u0130\\u015fleri M\\u00fcd\\u00fcrl\\u00fc\\u011f\\u00fc ekipleri taraf\\u0131ndan y\\u00fcr\\u00fct\\u00fclen temizlik \\u00e7al\\u0131\\u015fmalar\\u0131 \\u015fehir merkezi d\\u0131\\u015f\\u0131nda kalan mahallelerde de devam ediyor. \\u00c7orlu'da \\u00f6zellikle olumsuz hava ko\\u015fullar\\u0131n\\u0131n ve trafi\\u011fin yo\\u011fun oldu\\u011fu g\\u00fcn ve saatlerin ard\\u0131ndan yol kenarlar\\u0131nda yap\\u0131lan temizlik \\u00e7al\\u0131\\u015fmalar\\u0131 sonunda vakumlu s\\u00fcp\\u00fcrge arac\\u0131 ile temizlik ger\\u00e7ekle\\u015ftiriliyor. \\u0130l\\u00e7ede bir\\u00e7ok noktada benzer \\u00e7al\\u0131\\u015fmalar\\u0131 y\\u00fcr\\u00fcten temizlik ekipleri ayn\\u0131 zamanda muhtarl\\u0131klardan gelen talepler do\\u011frultusunda da \\u00e7al\\u0131\\u015fmalar\\u0131n\\u0131 s\\u00fcrd\\u00fcr\\u00fcyor. Konu hakk\\u0131nda a\\u00e7\\u0131klamada bulunan \\u00c7orlu Belediye Ba\\u015fkan\\u0131 Ahmet Sar\\u0131kurt, ekiplerin sadece temizlik \\u00e7al\\u0131\\u015fmas\\u0131 y\\u00fcr\\u00fctmediklerini, geri d\\u00f6n\\u00fc\\u015f\\u00fcme de \\u00f6nemli katk\\u0131 sa\\u011flad\\u0131klar\\u0131n\\u0131 belirterek, \\\\\\\"Temizlik \\u0130\\u015fleri M\\u00fcd\\u00fcrl\\u00fc\\u011f\\u00fcm\\u00fcze ba\\u011fl\\u0131 ekipler taraf\\u0131ndan \\u015fehirde devam eden genel temizlik \\u00e7al\\u0131\\u015fmalar\\u0131n\\u0131n yan\\u0131 s\\u0131ra m\\u0131nt\\u0131ka temizli\\u011fi ve olumsuz hava ko\\u015fullar\\u0131 sonras\\u0131nda yol kenarlar\\u0131nda biriken toprak, \\u00e7amur ve \\u00e7e\\u015fitli at\\u0131klar temizlenirken, do\\u011faya at\\u0131lm\\u0131\\u015f geri d\\u00f6n\\u00fc\\u015ft\\u00fcr\\u00fclebilen at\\u0131klar da \\u00e7al\\u0131\\u015fmalar esnas\\u0131nda toplan\\u0131p geri d\\u00f6n\\u00fc\\u015f\\u00fcme kazand\\u0131r\\u0131l\\u0131yor. Y\\u00fcr\\u00fct\\u00fclen \\u00e7al\\u0131\\u015fmalarla \\u015fehrimizde olu\\u015fabilecek \\u00e7evre kirliliklerinin \\u00f6n\\u00fcne ge\\u00e7meye \\u00e7al\\u0131\\u015f\\u0131yor ve temiz bir \\u00c7orlu i\\u00e7in \\u00e7al\\u0131\\u015fmalar\\u0131m\\u0131z\\u0131 s\\u00fcrd\\u00fcr\\u00fcyoruz\\\\\\\" dedi. TEK\\u0130RDA\\u011e\\\"\",\n          \"\\\"S\\u00fcleyman Soylu'yu birinci g\\u00f6steren anketin alt\\u0131nda ba\\u015fka hesap m\\u0131 var S\\u00fcleyman Soylu'nun \\\\\\\"en g\\u00fcvenilen siyaset\\u00e7i\\\\\\\" \\u00e7\\u0131kt\\u0131\\u011f\\u0131 ankettin arkas\\u0131nda ba\\u015fka bir hesap m\\u0131 var? Facebook Payla\\u015f\\u0131m\\u0131 02.03.2019 14:28 Karakter boyutu :\\\\nGezici Ara\\u015ft\\u0131rma \\u015eirketi\\u2019nin yapt\\u0131\\u011f\\u0131 ankette \\u201cen g\\u00fcvenilen siyaset\\u00e7i\\u201d nin \\u0130\\u00e7i\\u015fleri Bakan\\u0131 S\\u00fcleyman Soylu olarak \\u00e7\\u0131kmas\\u0131 tart\\u0131\\u015fmalara neden oldu.\\\\nBirG\\u00fcn gazetesi yazar\\u0131 Ay\\u015fenur Arslan da bug\\u00fcnk\\u00fc yaz\\u0131s\\u0131nda konuyu k\\u00f6\\u015fesine ta\\u015f\\u0131d\\u0131. \\u201cEn g\\u00fcvenilir siyaset\\u00e7i S\\u00fcleyman Soylu!\\u201d ba\\u015fl\\u0131kl\\u0131 yaz\\u0131s\\u0131nda Arslan, \\u201cBu, elbette benim iddiam de\\u011fil. Gezici Ara\\u015ft\\u0131rma b\\u00f6yle s\\u00f6yl\\u00fcyor. G\\u00fcya soka\\u011fa \\u00e7\\u0131k\\u0131p vatanda\\u015fla konu\\u015fmu\\u015flar.. \\u2018En g\\u00fcvenilir siyaset\\u00e7i kim\\u2019 diye sormu\\u015flar. Birinci s\\u0131rada da S\\u00fcleyman Soylu \\u00e7\\u0131km\\u0131\\u015f\\u201d ifadeleriyle ba\\u015flad\\u0131.\\\\nAy\\u015fenur Arslan yaz\\u0131s\\u0131nda, CHP\\u2019li \\u00d6zg\\u00fcr \\u00d6zel\\u2019in, \\u201cS\\u00fcleyman Soylu, Erdo\\u011fan sonras\\u0131 AKP i\\u00e7in genel ba\\u015fkan projesidir. Bu, yakla\\u015f\\u0131k 9-10 y\\u0131ll\\u0131k bir FET\\u00d6 projesidir\\u201d s\\u00f6zlerine at\\u0131f yaparak, \\u0130stanbul\\u2019daki bilbordlarda \\u0130\\u00e7i\\u015fleri Bakan\\u0131 Soylu\\u2019nun afi\\u015flerinin hangi ama\\u00e7la as\\u0131ld\\u0131\\u011f\\u0131n\\u0131 sordu. Arslan yaz\\u0131s\\u0131n\\u0131n devam\\u0131nda Soylu\\u2019nun AKP\\u2019de \\u015fimdilik \\u201cikinci adam\\u201d olma gibi bir amac\\u0131n\\u0131n olabilece\\u011fini de ifade etti.\\\\nAy\\u015fenur Arslan\\u2019\\u0131n yaz\\u0131s\\u0131 \\u015f\\u00f6yle:\\\\n\\u201cEn g\\u00fcvenilir siyaset\\u00e7i S\\u00fcleyman Soylu!\\\\nBu, elbette benim iddiam de\\u011fil. Gezici Ara\\u015ft\\u0131rma b\\u00f6yle s\\u00f6yl\\u00fcyor. G\\u00fcya soka\\u011fa \\u00e7\\u0131k\\u0131p vatanda\\u015fla konu\\u015fmu\\u015flar.. \\u201cEn g\\u00fcvenilir siyaset\\u00e7i kim\\u201d diye sormu\\u015flar. Birinci s\\u0131rada da S\\u00fcleyman Soylu \\u00e7\\u0131km\\u0131\\u015f.\\\\n\\u00dc\\u00e7\\u00fcnc\\u00fc s\\u0131rada Tak-\\u015eak Pa\\u015fa Versiyon 2 Hulusi Akar.. Alt\\u0131nc\\u0131 s\\u0131rada gazetecilerin bile ad\\u0131n\\u0131 hat\\u0131rlamakta zorlanaca\\u011f\\u0131 MHP Genel Ba\\u015fkan Yard\\u0131mc\\u0131s\\u0131 Fethi Y\\u0131ld\\u0131z.. Hatta a\\u015fa\\u011f\\u0131larda bir yerlerde Cem Uzan falan var.\\\\nYani, Murat Gezici kusura bakmas\\u0131n ama ciddiye alabilece\\u011fim bir liste de\\u011fil.\\\\nAma, birinci ismin \\u201cNEDEN B\\u0130R\\u0130NC\\u0130 SIRADA OLDU\\u011eU\\u201d sorusu listeyi ilgin\\u00e7 k\\u0131l\\u0131yor. Sahiden, S\\u00fcleyman Soylu nas\\u0131l / neden / ne alaka T\\u00fcrkiye\\u2019nin en g\\u00fcvenilir siyaset\\u00e7isi?\\\\nVaktiyle (listenin ikincisi) \\u00d6zg\\u00fcr \\u00d6zel, O\\u2019nun i\\u00e7in hayli k\\u00f6\\u015feli bir iddiada bulunmu\\u015ftu:\\\\n\\u201cS\\u00fcleyman Soylu, Erdo\\u011fan sonras\\u0131 AKP i\\u00e7in genel ba\\u015fkan projesidir. Bu, yakla\\u015f\\u0131k 9-10 y\\u0131ll\\u0131k bir FET\\u00d6 projesidir.\\u201d\\\\nGezici\\u2019nin ara\\u015ft\\u0131rmas\\u0131n\\u0131 g\\u00f6rd\\u00fckten sonra akl\\u0131ma bu \\u201ciddia\\u201d geldi. Ancak, Soylu\\u2019yu akl\\u0131ma d\\u00fc\\u015f\\u00fcren bir ba\\u015fka \\u015fey daha var: \\u0130stanbul\\u2019un ana arterlerinde s\\u0131k s\\u0131k kar\\u015f\\u0131ma \\u00e7\\u0131kan kocaman bir pankart.\\\\nPankartta Soylu\\u2019nun devasa bir portresi ve \\u201cg\\u00fc\\u00e7l\\u00fc T\\u00fcrkiye\\u201d slogan\\u0131 var.\\\\nErdo\\u011fan\\u2019\\u0131 ya da belediye ba\\u015fkan adaylar\\u0131n\\u0131 anlad\\u0131k da.. \\u0130\\u00e7i\\u015fleri Bakan\\u0131 neden, nas\\u0131l bir gerek\\u00e7eyle \\u201creklama\\u201d ihtiya\\u00e7 duyar ki!\\\\nBu soru i\\u015faretleri zihnimde tura \\u00e7\\u0131km\\u0131\\u015fken, \\u00f6nceski g\\u00fcn S\\u00f6zc\\u00fc yazar\\u0131 Rahmi Turan bir yenisini ekledi:\\\\n\\u201cAnkara\\u2019dan ilgin\\u00e7 haberler geliyor. CHP\\u2019nin B\\u00fcy\\u00fck\\u015fehir aday\\u0131 Mansur Yava\\u015f\\u2019\\u0131n 7 puan \\u00f6nde oldu\\u011fu, AKP\\u2019nin Ba\\u015fkent\\u2019i kaybetme pani\\u011fine kap\\u0131ld\\u0131\\u011f\\u0131 belirtiliyor. AKP kaynaklar\\u0131ndan bana f\\u0131s\\u0131ldanan \\u015fu: Say\\u0131n \\u00d6zhaseki, sa\\u011fl\\u0131k sorunlar\\u0131 gerek\\u00e7esiyle ve kendi iradesiyle adayl\\u0131ktan \\u00e7ekilecek, onun yerine son anda S\\u00fcleyman Soylu aday yap\\u0131lacak.\\u201d\\\\nSoylu sanki her yar\\u0131\\u015f\\u0131n favorisi gibi an\\u0131l\\u0131yor. Ad\\u0131 s\\u0131k s\\u0131k \\u00f6zellikle Ankara i\\u00e7in ge\\u00e7iyor. Ancak, g\\u00f6rd\\u00fc\\u011f\\u00fcm kadar\\u0131yla onun g\\u00f6z\\u00fc \\u00e7ok daha y\\u00fckseklerde. Hem de \\u00e7ok uzun s\\u00fcredir.\\\\nMedyadaki en eski / en yak\\u0131n arkada\\u015f\\u0131 Mahmut \\u00d6v\\u00fcr\\u2019\\u00fcn 2000\\u2019li y\\u0131llar\\u0131n ba\\u015f\\u0131ndan bu yana dikkat \\u00e7ekti\\u011fi.. Hatta g\\u00f6z\\u00fcm\\u00fcze soktu\\u011fu bir isim, Soylu.\\\\nO kadar ki, Soylu daha AKP\\u2019de de\\u011filken bile \\u201cAK PART\\u0130\\u2019DE S\\u00dcRPR\\u0130Z \\u0130S\\u0130M\\u201d ba\\u015fl\\u0131\\u011f\\u0131yla yazm\\u0131\\u015ft\\u0131: \\u201cEski DYP\\u2019li S\\u00fcleyman Soylu\\u2019yu yak\\u0131nda Ak Parti\\u2019de g\\u00f6rmek kimseyi \\u015fa\\u015f\\u0131rtmamal\\u0131.\\u201d\\\\nTuhaf de\\u011fil mi!\\\\nDaha AKP\\u2019de de\\u011filken \\u201cAKP\\u2019nin y\\u00fckselen y\\u0131ld\\u0131z aday\\u0131\\u201d ilan ediliyor!\\\\n\\u0130ddia edildi\\u011fi gibi \\u201cbir projeden\\u201d mi s\\u00f6z etmeliyiz? Dahas\\u0131, bunun arkas\\u0131nda FET\\u00d6 m\\u00fc aramal\\u0131y\\u0131z? Hem kendisinin hem de medyadaki en b\\u00fcy\\u00fck deste\\u011fi Mahmut \\u00d6v\\u00fcr\\u2019\\u00fcn ge\\u00e7mi\\u015fteki Cemaat \\u00f6vg\\u00fclerini mi hat\\u0131rlamal\\u0131 / hat\\u0131rlatmal\\u0131y\\u0131z?\\\\nO kadar derine inemeyece\\u011fim. Ama \\u015fu kadar\\u0131n\\u0131 s\\u00f6yleyebilirim; Soylu, bir PROJE olabilmek i\\u00e7in \\u00e7ok \\u00e7al\\u0131\\u015f\\u0131yor.\\\\nT\\u0131pk\\u0131 Hitler\\u2019in yak\\u0131n \\u00e7evresinde -hatta son deminde bile- \\u201cikinci adam\\u201d olabilmek.. Onun g\\u00fcc\\u00fcnden g\\u00fc\\u00e7 alabilmek i\\u00e7in sava\\u015fanlar gibi.. S\\u00fcleyman Soylu da -en az\\u0131ndan \\u015fimdilik- \\u0130K\\u0130NC\\u0130 ADAM olmak istiyor.\\\\nMedyada ve siyaset sahnesinde art\\u0131k HERKES\\u0130N B\\u0130LD\\u0130\\u011e\\u0130 SIR haline geldi: Erdo\\u011fan\\u2019\\u0131n yak\\u0131n \\u00e7evresinde de b\\u00fcy\\u00fck bir g\\u00fc\\u00e7 sava\\u015f\\u0131 s\\u00fcr\\u00fcyor. Asl\\u0131nda birden fazla taraf var. Ancak son zamanlarda iki isim di\\u011ferlerinden daha \\u00f6ne \\u00e7\\u0131kt\\u0131: Berat Albayrak ve S\\u00fcleyman Soylu.\\\\nMutlaka izlemi\\u015fsinizdir: S\\u00fcleyman Soylu bir mekanda damat Berat Albayrak\\u2019la kar\\u015f\\u0131la\\u015f\\u0131yor. Yan\\u0131ndan ge\\u00e7erken de omuz at\\u0131yor. Y\\u00fcz\\u00fcnde keyifli bir g\\u00fcl\\u00fcmsemeyle!\\\\nO ilgin\\u00e7 sahnede somutla\\u015fan yar\\u0131\\u015f\\u0131 hangisi kazan\\u0131r, kimbilir!\\\\nBerat Bey malum. Kendisini kay\\u0131nbabas\\u0131na ispat edebilmek i\\u00e7in y\\u0131rt\\u0131nan bir \\u00e7\\u0131rak.\\\\nS\\u00fcleyman Soylu ise g\\u00fcvenlik / demokrasi / parlamento / insan haklar\\u0131 vs. vs. deyince akl\\u0131na sadece POL\\u0130S G\\u00dcC\\u00dc gelen.. Hatta o g\\u00fcc\\u00fcn bir taciz arac\\u0131 olarak kullan\\u0131lmas\\u0131nda sak\\u0131nca g\\u00f6rmeyen.. D\\u00fcn hakaret etti\\u011fi Erdo\\u011fan\\u2019a bug\\u00fcn ayn\\u0131 hararetle \\u00f6vg\\u00fcler d\\u00fczen bir h\\u0131rs topu. Ve neymi\\u015f efendim!! T\\u00fcrkiye\\u2019nin en g\\u00fcvenilir siyaset\\u00e7isi!!!\\u201d\\\\nOdatv.com \\\"\",\n          \"\\\"Haberler Galeri \\u0130\\u015fte forvetlere ta\\u015f \\u00e7\\u0131karan defans oyuncular\\u0131! Listede tan\\u0131d\\u0131k isimler\\\\nYe\\u015fil sahalarda att\\u0131klar\\u0131 kritik goller ve yapt\\u0131klar\\u0131 asistlerle tak\\u0131mlar\\u0131n\\u0131n elde etti\\u011fi ba\\u015far\\u0131larda \\u00f6nemli rol oyn\\\"\"\n        ],\n        \"semantic_type\": \"\",\n        \"description\": \"\"\n      }\n    },\n    {\n      \"column\": \"title\",\n      \"properties\": {\n        \"dtype\": \"string\",\n        \"num_unique_values\": 65770,\n        \"samples\": [\n          \"\\\"50 bin konutla ilgili ba\\u015fvuru tarihi ve taksit say\\u0131s\\u0131 a\\u00e7\\u0131kland\\u0131!\\\"\",\n          \"\\\"Bosna\\u2019n\\u0131n \\u201cYunus Emre\\u201dsi Cemalettin Lati\\u00e7\\u2019e sayg\\u0131 gecesi\\\"\",\n          \"\\\"Beyaz\\u0131t asayi\\u015f uygulamas\\u0131na tak\\u0131ld\\u0131\\\"\"\n        ],\n        \"semantic_type\": \"\",\n        \"description\": \"\"\n      }\n    },\n    {\n      \"column\": \"url\",\n      \"properties\": {\n        \"dtype\": \"string\",\n        \"num_unique_values\": 71853,\n        \"samples\": [\n          \"\\\"http://ekonomi.haber7.com/ekonomi/haber/2839293-sanayide-4-koldan-2023-atagi\\\"\",\n          \"\\\"https://www.turkiyegazetesi.com.tr/yasam/606677.aspx\\\"\",\n          \"\\\"https://www.sabah.com.tr/gundem/2019/02/16/istanbulun-gelecegini-konusalim\\\"\"\n        ],\n        \"semantic_type\": \"\",\n        \"description\": \"\"\n      }\n    }\n  ]\n}"
            }
          },
          "metadata": {},
          "execution_count": 5
        }
      ]
    },
    {
      "cell_type": "code",
      "execution_count": null,
      "metadata": {
        "id": "6ZpP9jBpFkih",
        "colab": {
          "base_uri": "https://localhost:8080/"
        },
        "outputId": "0f6b5573-4b50-4ea8-c499-5ca9ee04cb60"
      },
      "outputs": [
        {
          "output_type": "stream",
          "name": "stderr",
          "text": [
            "/usr/local/lib/python3.10/dist-packages/ipykernel/ipkernel.py:283: DeprecationWarning: `should_run_async` will not call `transform_cell` automatically in the future. Please pass the result to `transformed_cell` argument and any exception that happen during thetransform in `preprocessing_exc_tuple` in IPython 7.17 and above.\n",
            "  and should_run_async(code)\n"
          ]
        }
      ],
      "source": [
        "df['text'] = df['text'].astype(str)\n",
        "#Bu satır, bir pandas DataFrame'deki text sütunundaki tüm verileri string (metin) veri türüne dönüştürmek için kullanılır."
      ]
    },
    {
      "cell_type": "code",
      "execution_count": null,
      "metadata": {
        "colab": {
          "base_uri": "https://localhost:8080/",
          "height": 262
        },
        "id": "W02jebvUFn9f",
        "outputId": "9a127799-678e-4684-a18e-c2615949c13c"
      },
      "outputs": [
        {
          "output_type": "stream",
          "name": "stderr",
          "text": [
            "/usr/local/lib/python3.10/dist-packages/ipykernel/ipkernel.py:283: DeprecationWarning: `should_run_async` will not call `transform_cell` automatically in the future. Please pass the result to `transformed_cell` argument and any exception that happen during thetransform in `preprocessing_exc_tuple` in IPython 7.17 and above.\n",
            "  and should_run_async(code)\n"
          ]
        },
        {
          "output_type": "execute_result",
          "data": {
            "text/plain": [
              "                                                text\n",
              "0  \"Yatırım bankası: Dolar/TL üçüncü çeyrekte 8.9...\n",
              "1  \"PİAR Araştırma: Adana ve Antalya’da ‘millet i...\n",
              "2  \"Renaissance Capital: Merkez Bankası bu hafta ...\n",
              "3  \"Ağrı’daki İYİ Partililerin istifa gerekçesi: ...\n",
              "4  \"Otomobil pazarı iki ayda yarı yarıya eridi 04..."
            ],
            "text/html": [
              "\n",
              "  <div id=\"df-66e870da-8876-4948-bb87-8d0f0847e7ef\" class=\"colab-df-container\">\n",
              "    <div>\n",
              "<style scoped>\n",
              "    .dataframe tbody tr th:only-of-type {\n",
              "        vertical-align: middle;\n",
              "    }\n",
              "\n",
              "    .dataframe tbody tr th {\n",
              "        vertical-align: top;\n",
              "    }\n",
              "\n",
              "    .dataframe thead th {\n",
              "        text-align: right;\n",
              "    }\n",
              "</style>\n",
              "<table border=\"1\" class=\"dataframe\">\n",
              "  <thead>\n",
              "    <tr style=\"text-align: right;\">\n",
              "      <th></th>\n",
              "      <th>text</th>\n",
              "    </tr>\n",
              "  </thead>\n",
              "  <tbody>\n",
              "    <tr>\n",
              "      <th>0</th>\n",
              "      <td>\"Yatırım bankası: Dolar/TL üçüncü çeyrekte 8.9...</td>\n",
              "    </tr>\n",
              "    <tr>\n",
              "      <th>1</th>\n",
              "      <td>\"PİAR Araştırma: Adana ve Antalya’da ‘millet i...</td>\n",
              "    </tr>\n",
              "    <tr>\n",
              "      <th>2</th>\n",
              "      <td>\"Renaissance Capital: Merkez Bankası bu hafta ...</td>\n",
              "    </tr>\n",
              "    <tr>\n",
              "      <th>3</th>\n",
              "      <td>\"Ağrı’daki İYİ Partililerin istifa gerekçesi: ...</td>\n",
              "    </tr>\n",
              "    <tr>\n",
              "      <th>4</th>\n",
              "      <td>\"Otomobil pazarı iki ayda yarı yarıya eridi 04...</td>\n",
              "    </tr>\n",
              "  </tbody>\n",
              "</table>\n",
              "</div>\n",
              "    <div class=\"colab-df-buttons\">\n",
              "\n",
              "  <div class=\"colab-df-container\">\n",
              "    <button class=\"colab-df-convert\" onclick=\"convertToInteractive('df-66e870da-8876-4948-bb87-8d0f0847e7ef')\"\n",
              "            title=\"Convert this dataframe to an interactive table.\"\n",
              "            style=\"display:none;\">\n",
              "\n",
              "  <svg xmlns=\"http://www.w3.org/2000/svg\" height=\"24px\" viewBox=\"0 -960 960 960\">\n",
              "    <path d=\"M120-120v-720h720v720H120Zm60-500h600v-160H180v160Zm220 220h160v-160H400v160Zm0 220h160v-160H400v160ZM180-400h160v-160H180v160Zm440 0h160v-160H620v160ZM180-180h160v-160H180v160Zm440 0h160v-160H620v160Z\"/>\n",
              "  </svg>\n",
              "    </button>\n",
              "\n",
              "  <style>\n",
              "    .colab-df-container {\n",
              "      display:flex;\n",
              "      gap: 12px;\n",
              "    }\n",
              "\n",
              "    .colab-df-convert {\n",
              "      background-color: #E8F0FE;\n",
              "      border: none;\n",
              "      border-radius: 50%;\n",
              "      cursor: pointer;\n",
              "      display: none;\n",
              "      fill: #1967D2;\n",
              "      height: 32px;\n",
              "      padding: 0 0 0 0;\n",
              "      width: 32px;\n",
              "    }\n",
              "\n",
              "    .colab-df-convert:hover {\n",
              "      background-color: #E2EBFA;\n",
              "      box-shadow: 0px 1px 2px rgba(60, 64, 67, 0.3), 0px 1px 3px 1px rgba(60, 64, 67, 0.15);\n",
              "      fill: #174EA6;\n",
              "    }\n",
              "\n",
              "    .colab-df-buttons div {\n",
              "      margin-bottom: 4px;\n",
              "    }\n",
              "\n",
              "    [theme=dark] .colab-df-convert {\n",
              "      background-color: #3B4455;\n",
              "      fill: #D2E3FC;\n",
              "    }\n",
              "\n",
              "    [theme=dark] .colab-df-convert:hover {\n",
              "      background-color: #434B5C;\n",
              "      box-shadow: 0px 1px 3px 1px rgba(0, 0, 0, 0.15);\n",
              "      filter: drop-shadow(0px 1px 2px rgba(0, 0, 0, 0.3));\n",
              "      fill: #FFFFFF;\n",
              "    }\n",
              "  </style>\n",
              "\n",
              "    <script>\n",
              "      const buttonEl =\n",
              "        document.querySelector('#df-66e870da-8876-4948-bb87-8d0f0847e7ef button.colab-df-convert');\n",
              "      buttonEl.style.display =\n",
              "        google.colab.kernel.accessAllowed ? 'block' : 'none';\n",
              "\n",
              "      async function convertToInteractive(key) {\n",
              "        const element = document.querySelector('#df-66e870da-8876-4948-bb87-8d0f0847e7ef');\n",
              "        const dataTable =\n",
              "          await google.colab.kernel.invokeFunction('convertToInteractive',\n",
              "                                                    [key], {});\n",
              "        if (!dataTable) return;\n",
              "\n",
              "        const docLinkHtml = 'Like what you see? Visit the ' +\n",
              "          '<a target=\"_blank\" href=https://colab.research.google.com/notebooks/data_table.ipynb>data table notebook</a>'\n",
              "          + ' to learn more about interactive tables.';\n",
              "        element.innerHTML = '';\n",
              "        dataTable['output_type'] = 'display_data';\n",
              "        await google.colab.output.renderOutput(dataTable, element);\n",
              "        const docLink = document.createElement('div');\n",
              "        docLink.innerHTML = docLinkHtml;\n",
              "        element.appendChild(docLink);\n",
              "      }\n",
              "    </script>\n",
              "  </div>\n",
              "\n",
              "\n",
              "<div id=\"df-7364aed8-13ed-42b4-bd3a-84e83d10c45b\">\n",
              "  <button class=\"colab-df-quickchart\" onclick=\"quickchart('df-7364aed8-13ed-42b4-bd3a-84e83d10c45b')\"\n",
              "            title=\"Suggest charts\"\n",
              "            style=\"display:none;\">\n",
              "\n",
              "<svg xmlns=\"http://www.w3.org/2000/svg\" height=\"24px\"viewBox=\"0 0 24 24\"\n",
              "     width=\"24px\">\n",
              "    <g>\n",
              "        <path d=\"M19 3H5c-1.1 0-2 .9-2 2v14c0 1.1.9 2 2 2h14c1.1 0 2-.9 2-2V5c0-1.1-.9-2-2-2zM9 17H7v-7h2v7zm4 0h-2V7h2v10zm4 0h-2v-4h2v4z\"/>\n",
              "    </g>\n",
              "</svg>\n",
              "  </button>\n",
              "\n",
              "<style>\n",
              "  .colab-df-quickchart {\n",
              "      --bg-color: #E8F0FE;\n",
              "      --fill-color: #1967D2;\n",
              "      --hover-bg-color: #E2EBFA;\n",
              "      --hover-fill-color: #174EA6;\n",
              "      --disabled-fill-color: #AAA;\n",
              "      --disabled-bg-color: #DDD;\n",
              "  }\n",
              "\n",
              "  [theme=dark] .colab-df-quickchart {\n",
              "      --bg-color: #3B4455;\n",
              "      --fill-color: #D2E3FC;\n",
              "      --hover-bg-color: #434B5C;\n",
              "      --hover-fill-color: #FFFFFF;\n",
              "      --disabled-bg-color: #3B4455;\n",
              "      --disabled-fill-color: #666;\n",
              "  }\n",
              "\n",
              "  .colab-df-quickchart {\n",
              "    background-color: var(--bg-color);\n",
              "    border: none;\n",
              "    border-radius: 50%;\n",
              "    cursor: pointer;\n",
              "    display: none;\n",
              "    fill: var(--fill-color);\n",
              "    height: 32px;\n",
              "    padding: 0;\n",
              "    width: 32px;\n",
              "  }\n",
              "\n",
              "  .colab-df-quickchart:hover {\n",
              "    background-color: var(--hover-bg-color);\n",
              "    box-shadow: 0 1px 2px rgba(60, 64, 67, 0.3), 0 1px 3px 1px rgba(60, 64, 67, 0.15);\n",
              "    fill: var(--button-hover-fill-color);\n",
              "  }\n",
              "\n",
              "  .colab-df-quickchart-complete:disabled,\n",
              "  .colab-df-quickchart-complete:disabled:hover {\n",
              "    background-color: var(--disabled-bg-color);\n",
              "    fill: var(--disabled-fill-color);\n",
              "    box-shadow: none;\n",
              "  }\n",
              "\n",
              "  .colab-df-spinner {\n",
              "    border: 2px solid var(--fill-color);\n",
              "    border-color: transparent;\n",
              "    border-bottom-color: var(--fill-color);\n",
              "    animation:\n",
              "      spin 1s steps(1) infinite;\n",
              "  }\n",
              "\n",
              "  @keyframes spin {\n",
              "    0% {\n",
              "      border-color: transparent;\n",
              "      border-bottom-color: var(--fill-color);\n",
              "      border-left-color: var(--fill-color);\n",
              "    }\n",
              "    20% {\n",
              "      border-color: transparent;\n",
              "      border-left-color: var(--fill-color);\n",
              "      border-top-color: var(--fill-color);\n",
              "    }\n",
              "    30% {\n",
              "      border-color: transparent;\n",
              "      border-left-color: var(--fill-color);\n",
              "      border-top-color: var(--fill-color);\n",
              "      border-right-color: var(--fill-color);\n",
              "    }\n",
              "    40% {\n",
              "      border-color: transparent;\n",
              "      border-right-color: var(--fill-color);\n",
              "      border-top-color: var(--fill-color);\n",
              "    }\n",
              "    60% {\n",
              "      border-color: transparent;\n",
              "      border-right-color: var(--fill-color);\n",
              "    }\n",
              "    80% {\n",
              "      border-color: transparent;\n",
              "      border-right-color: var(--fill-color);\n",
              "      border-bottom-color: var(--fill-color);\n",
              "    }\n",
              "    90% {\n",
              "      border-color: transparent;\n",
              "      border-bottom-color: var(--fill-color);\n",
              "    }\n",
              "  }\n",
              "</style>\n",
              "\n",
              "  <script>\n",
              "    async function quickchart(key) {\n",
              "      const quickchartButtonEl =\n",
              "        document.querySelector('#' + key + ' button');\n",
              "      quickchartButtonEl.disabled = true;  // To prevent multiple clicks.\n",
              "      quickchartButtonEl.classList.add('colab-df-spinner');\n",
              "      try {\n",
              "        const charts = await google.colab.kernel.invokeFunction(\n",
              "            'suggestCharts', [key], {});\n",
              "      } catch (error) {\n",
              "        console.error('Error during call to suggestCharts:', error);\n",
              "      }\n",
              "      quickchartButtonEl.classList.remove('colab-df-spinner');\n",
              "      quickchartButtonEl.classList.add('colab-df-quickchart-complete');\n",
              "    }\n",
              "    (() => {\n",
              "      let quickchartButtonEl =\n",
              "        document.querySelector('#df-7364aed8-13ed-42b4-bd3a-84e83d10c45b button');\n",
              "      quickchartButtonEl.style.display =\n",
              "        google.colab.kernel.accessAllowed ? 'block' : 'none';\n",
              "    })();\n",
              "  </script>\n",
              "</div>\n",
              "\n",
              "    </div>\n",
              "  </div>\n"
            ],
            "application/vnd.google.colaboratory.intrinsic+json": {
              "type": "dataframe",
              "summary": "{\n  \"name\": \"#Bu sat\\u0131r, pandas DataFrame'inden sadece belirli bir s\\u00fctunu se\\u00e7mek ve yeni bir DataFrame olu\\u015fturmak i\\u00e7in kullan\\u0131l\\u0131r\",\n  \"rows\": 5,\n  \"fields\": [\n    {\n      \"column\": \"text\",\n      \"properties\": {\n        \"dtype\": \"string\",\n        \"num_unique_values\": 5,\n        \"samples\": [\n          \"\\\"P\\u0130AR Ara\\u015ft\\u0131rma: Adana ve Antalya\\u2019da \\u2018millet ittifak\\u0131\\u2019 avantajl\\u0131 konumda 04/03/2019 14:21\\\\nP\\u0130AR Ara\\u015ft\\u0131rma\\u2019n\\u0131n Akdeniz b\\u00f6lgesinde y\\u00fcr\\u00fctt\\u00fc\\u011f\\u00fc ankete g\\u00f6re Kahramanmara\\u015f\\u2019ta \\u2018 cumhur ittifak\\u0131 \\u2018 ve Isparta\\u2019da MHP \\u00f6nde g\\u00f6r\\u00fcn\\u00fcrken, Hatay, Adana ve Antalya\\u2019da ise \\u2018 millet ittifak\\u0131\\u2019 \\u00f6nde g\\u00f6r\\u00fcn\\u00fcyor. Foto\\u011fraf: Reuters\\\\nAra\\u015ft\\u0131rma 26 \\u015eubat \\u2013 1 Mart tarihleri aras\\u0131nda 6 bin 190 kat\\u0131l\\u0131mc\\u0131 ile ger\\u00e7ekle\\u015ftirildi. Reklam\\\\nHata pay\\u0131 +/- y\\u00fczde 2 olarak hesaplanan ara\\u015ft\\u0131rmaya g\\u00f6re iller ve oy oranlar\\u0131 \\u015f\\u00f6yle:\\\\nKahramanmara\\u015f :\\\\nAKP\\u2019li aday Hayrettin G\\u00fcng\\u00f6r: Y\\u00fczde 68.9 Reklam\\\\nCHP\\u2019li aday Ali \\u00d6ztun\\u00e7: Y\\u00fczde 30.1\\\\nAntalya :\\\\nAKP\\u2019li aday Menderes T\\u00fcrel: Y\\u00fczde 44.5\\\\nCHP\\u2019li aday Muhittin B\\u00f6cek: Y\\u00fczde 53.1\\\\nIsparta :\\\\nMHP\\u2019li aday Yusuf Ziya G\\u00fcnayd\\u0131n: Y\\u00fczde 38.9\\\\nAKP\\u2019li aday \\u015e\\u00fckr\\u00fc Ba\\u015fde\\u011firmen: Y\\u00fczde 35.1\\\\n\\u0130Y\\u0130 Parti\\u2019li aday G\\u00f6kmen Hakk\\u0131 G\\u00f6kmeno\\u011flu: Y\\u00fczde 24.5\\\\nHatay :\\\\nAKP\\u2019li aday \\u0130brahim G\\u00fcler: Y\\u00fczde 42.1\\\\nCHP\\u2019li aday L\\u00fctf\\u00fc Sava\\u015f: Y\\u00fczde 56\\\\nAdana :\\\\nAKP\\u2019li aday H\\u00fcseyin S\\u00f6zl\\u00fc: Y\\u00fczde 46.1\\\\nCHP\\u2019li aday Zeydan Karalar: Y\\u00fczde 51.9\\\"\",\n          \"\\\"Otomobil pazar\\u0131 iki ayda yar\\u0131 yar\\u0131ya eridi 04/03/2019 12:52\\\\nOtomobil ve hafif ticari ara\\u00e7 pazar\\u0131 \\u015fubatta y\\u00fczde 47.1 daralarak 24 bin 875 adet oldu. Y\\u0131l\\u0131n ilk iki ay\\u0131nda sat\\u0131\\u015flar y\\u00fczde 52.2 azald\\u0131.\\\\nOtomotiv Distrib\\u00fct\\u00f6rleri Derne\\u011fi (ODD) verilerine g\\u00f6re, y\\u0131l\\u0131n ilk iki ay\\u0131ndaki daralmayla sat\\u0131\\u015flar 39 bin 248\\u2019e geriledi. Reklam Pazar bu y\\u0131l da k\\u00fc\\u00e7\\u00fclmeye devam edecek\\\\nODD ge\\u00e7en y\\u0131l\\u0131n tamam\\u0131nda y\\u00fczde 35 k\\u00fc\\u00e7\\u00fclerek yakla\\u015f\\u0131k 642 bin\\u2019e gerileyen a\\u011f\\u0131r ticari ara\\u00e7 dahil, otomotiv pazar\\u0131n\\u0131n bu y\\u0131l 450 bin adede inece\\u011fini tahmin ediyor\\\\nOtomobil ve hafif ticari ara\\u00e7 k\\u0131r\\u0131l\\u0131m\\u0131na bak\\u0131ld\\u0131\\u011f\\u0131nda, otomobil sat\\u0131\\u015flar\\u0131 \\u015fubatta ge\\u00e7en y\\u0131la g\\u00f6re y\\u00fczde 46.5 d\\u00fc\\u015f\\u00fc\\u015fle 19 bin 205 adede indi. Hafif ticari ara\\u00e7 sat\\u0131\\u015flar\\u0131 ise y\\u00fczde 49 d\\u00fc\\u015f\\u00fc\\u015fle 5 bin 670 adede d\\u00fc\\u015ft\\u00fc.\\\\nOtomotiv pazar\\u0131, sert y\\u00fckselen faizler, liradaki keskin de\\u011fer kayb\\u0131yla gelen fiyat art\\u0131\\u015flar\\u0131 ve t\\u00fcketici g\\u00fcvenindeki gerileme nedeniyle ge\\u00e7en y\\u0131l nisan ay\\u0131ndan itibaren giderek artan h\\u0131zlarda daral\\u0131rken, daralma ge\\u00e7en y\\u0131l ekim ay\\u0131nda zirve yaparak y\\u00fczde 76.5\\u2019i bulmu\\u015ftu. Reklam\\\\nSat\\u0131\\u015flardaki daralma, h\\u00fck\\u00fcmetin mart sonuna kadar devam edecek vergi indirimlerinin ba\\u015flad\\u0131\\u011f\\u0131 kas\\u0131m ay\\u0131ndan bu yana s\\u0131n\\u0131rl\\u0131 da olsa h\\u0131z kesti. Sat\\u0131\\u015flar kas\\u0131m ve aral\\u0131kta s\\u0131ras\\u0131yla y\\u00fczde 42 ve 43, ocak ay\\u0131nda ise y\\u00fczde 59 darald\\u0131.\\\\n2019 y\\u0131l\\u0131 \\u015fubat sonunda otomobil pazar\\u0131 segmentinin y\\u00fczde 82.4\\u2019\\u00fcn\\u00fc vergi oranlar\\u0131 d\\u00fc\\u015f\\u00fck olan A, B ve C segmentlerinde yer alan ara\\u00e7lar olu\\u015fturdu.\\\"\",\n          \"\\\"Renaissance Capital: Merkez Bankas\\u0131 bu hafta 100 baz puan indirime gidebilir 04/03/2019 13:20\\\\nRusya merkezli banka Renaissance Capital, Merkez Bankas\\u0131\\u2019n\\u0131n bu hafta yapaca\\u011f\\u0131 toplant\\u0131da faizlerde 100 baz puanl\\u0131k bir indirime gidebilece\\u011fini ve ekonomistlerin d\\u00f6rd\\u00fcnc\\u00fc \\u00e7eyrek i\\u00e7in y\\u00fczde 2\\u2019lik bir daralma bekledi\\u011fini bildirdi.\\\\nKurulu\\u015fun ba\\u015f ekonomisti Charlie Robertson enflasyonun gerilemesine ili\\u015fkin yapt\\u0131\\u011f\\u0131 Twitter payla\\u015f\\u0131m\\u0131nda bug\\u00fcn a\\u00e7\\u0131klanan d\\u0131\\u015f ticaret ve enflasyon verilerini ele ald\\u0131 ve \\u015fu payla\\u015f\\u0131m\\u0131 yapt\\u0131: \\u201cT\\u00fcrkiye. \\u0130hracat b\\u00fcy\\u00fcmesi y\\u00fczde 6\\u2019dan y\\u00fczde 4\\u2019e d\\u00fc\\u015ft\\u00fc. Enflasyon 18 Ekim\\u2019deki y\\u00fczde 25 zirvesinden y\\u00fczde 20.0\\u2019nin alt\\u0131na geriledi. Gelecek hafta a\\u00e7\\u0131klanacak 4. \\u00e7eyrek b\\u00fcy\\u00fcme rakamlar\\u0131 da \\u00e7ok \\u00e7irkin olabilir. Muhtemelen yan\\u0131l\\u0131yorum ama 100 baz puanl\\u0131k bir faiz indirimi yapacaklar\\u0131n\\u0131 tahmin ediyorum. Bloomberg anketine kat\\u0131lan 22 ekonomist de bu hafta Merkez Bankas\\u0131\\u2019ndan herhangi bir de\\u011fi\\u015fikli\\u011fe gitmesini beklemiyor (Faizler \\u015fu anda y\\u00fczde 24).\\u201d Reklam 4\\u2019\\u00fcnc\\u00fc \\u00e7eyrekte y\\u00fczde 2 daralma bekleniyor\\\\nTakip\\u00e7ilerinin konuya ili\\u015fkin sorular\\u0131n\\u0131 da yan\\u0131tlayan Robertson, kendisinin bekledi\\u011finden daha iyi gelen \\u00fc\\u00e7\\u00fcnc\\u00fc \\u00e7eyrek b\\u00fcy\\u00fcme rakamlar\\u0131n\\u0131n da a\\u015fa\\u011f\\u0131 y\\u00f6nl\\u00fc revize edilece\\u011fini \\u00f6ng\\u00f6rd\\u00fc. 4\\u2019\\u00fcnc\\u00fc \\u00e7eyrekte yat\\u0131r\\u0131mlar ve t\\u00fcketimde b\\u00fcy\\u00fck bir d\\u00fc\\u015f\\u00fc\\u015f g\\u00f6r\\u00fclece\\u011fini d\\u00fc\\u015f\\u00fcnen Robertson \\u20184\\u2019\\u00fcnc\\u00fc \\u00e7eyrekte ekonominin y\\u00fczde 2 k\\u00fc\\u00e7\\u00fclece\\u011fine ili\\u015fkin bir fikir birli\\u011fi oldu\\u011funu\\u2019 belirtti. Turkey. Export growth slowing from 6% to 4%, inflation has fallen from peak 25% in Oct-18 to sub-20.0% and 4Q GDP figures out next week could be very ugly. Am probably wrong, but I'd pencil in a 100bp rate cut. All 22 economists cited on Bloomberg expect no change (24.0%) https://t.co/f6YYZdnXgB \\u2014 Charlie Robertson (@RencapMan) March 4, 2019 I think 3Q18 GDP will be revised down (ie it was better than I expected) and 4Q GDP will show a big fall in investment and consumption. Consensus assuming around -2% YoY in 4Q18. We'll find out next week.. Reklam \\u2014 Charlie Robertson (@RencapMan) March 4, 2019\\\\nRobertson \\u015fubat ay\\u0131n\\u0131n ilk g\\u00fcnlerinde T\\u00fcrkiye\\u2019ye ili\\u015fkin bir rapor haz\\u0131rlam\\u0131\\u015f, bu raporda d\\u00f6rd\\u00fcnc\\u00fc \\u00e7eyrek b\\u00fcy\\u00fcmesinin y\\u00fczde 6 gibi beklenmeyen bir h\\u0131zda daralmas\\u0131n\\u0131n faiz indirimini hakl\\u0131 \\u00e7\\u0131karabilece\\u011fini yazm\\u0131\\u015ft\\u0131.\\\"\"\n        ],\n        \"semantic_type\": \"\",\n        \"description\": \"\"\n      }\n    }\n  ]\n}"
            }
          },
          "metadata": {},
          "execution_count": 8
        }
      ],
      "source": [
        "news_df = df[['text']]\n",
        "news_df.head()\n",
        "#Bu satır, pandas DataFrame'inden sadece belirli bir sütunu seçmek ve yeni bir DataFrame oluşturmak için kullanılır."
      ]
    },
    {
      "cell_type": "markdown",
      "source": [
        "Neler Yapacağız?\n",
        "\n",
        "Küçük Harfe Çevirme: Metinleri küçük harfe dönüştürür.\n",
        "\n",
        "Noktalama İşaretlerini Kaldırma: Metin içindeki tüm noktalama işaretlerini temizler.\n",
        "\n",
        "Sayıları Kaldırma: Metindeki sayıları kaldırır.\n",
        "\n",
        "Stopwords'leri Kaldırma: Yaygın kullanılan ve analizde katkısı olmayan kelimeleri temizler.\n",
        "\n",
        "Gereksiz Kelimeleri Kaldırma: Özelleştirilmiş gereksiz kelimeleri çıkarır."
      ],
      "metadata": {
        "id": "sCxEHnDfqk1G"
      }
    },
    {
      "cell_type": "code",
      "source": [
        "import nltk\n",
        "\n",
        "# 'stopwords' verisini indirin\n",
        "nltk.download('stopwords')\n"
      ],
      "metadata": {
        "colab": {
          "base_uri": "https://localhost:8080/"
        },
        "id": "r_LBfyGZrGYo",
        "outputId": "9cd4964b-1dcb-4a31-fc3c-1f644620dfeb"
      },
      "execution_count": null,
      "outputs": [
        {
          "output_type": "stream",
          "name": "stderr",
          "text": [
            "/usr/local/lib/python3.10/dist-packages/ipykernel/ipkernel.py:283: DeprecationWarning: `should_run_async` will not call `transform_cell` automatically in the future. Please pass the result to `transformed_cell` argument and any exception that happen during thetransform in `preprocessing_exc_tuple` in IPython 7.17 and above.\n",
            "  and should_run_async(code)\n",
            "[nltk_data] Downloading package stopwords to /root/nltk_data...\n",
            "[nltk_data]   Unzipping corpora/stopwords.zip.\n"
          ]
        },
        {
          "output_type": "execute_result",
          "data": {
            "text/plain": [
              "True"
            ]
          },
          "metadata": {},
          "execution_count": 11
        }
      ]
    },
    {
      "cell_type": "code",
      "source": [
        "import string\n",
        "from nltk.corpus import stopwords\n",
        "\n",
        "# Noktalama işaretleri setini oluşturun\n",
        "punctuation_set = set(string.punctuation)\n",
        "\n",
        "# Türkçe stopwords'leri yükleyin ve genişletin\n",
        "stopwords_set = set(stopwords.words('turkish'))\n",
        "stopwords_set.update(['bir', 'kadar', 'sonra'])\n",
        "\n",
        "# Örnek metin\n",
        "text = \"Bu bir örnek metindir. Şu an 2024 yılındayız.\"\n",
        "\n",
        "# Metni temizleme işlevi\n",
        "def clean_dataset(text):\n",
        "    # Küçük harfe çevir\n",
        "    text = text.lower()\n",
        "\n",
        "    # Noktalama işaretlerini kaldır\n",
        "    text = ''.join([char for char in text if char not in punctuation_set])\n",
        "\n",
        "    # Sayıları kaldır\n",
        "    text = ''.join([char for char in text if not char.isdigit()])\n",
        "\n",
        "    # Stopwords'leri kaldır\n",
        "    text = ' '.join(word for word in text.split() if word not in stopwords_set)\n",
        "\n",
        "    return text"
      ],
      "metadata": {
        "colab": {
          "base_uri": "https://localhost:8080/"
        },
        "id": "xBOGc5cYq1Nb",
        "outputId": "34cddc6f-bb17-4e1e-c05d-bd17dc11beb3"
      },
      "execution_count": null,
      "outputs": [
        {
          "output_type": "stream",
          "name": "stderr",
          "text": [
            "/usr/local/lib/python3.10/dist-packages/ipykernel/ipkernel.py:283: DeprecationWarning: `should_run_async` will not call `transform_cell` automatically in the future. Please pass the result to `transformed_cell` argument and any exception that happen during thetransform in `preprocessing_exc_tuple` in IPython 7.17 and above.\n",
            "  and should_run_async(code)\n"
          ]
        }
      ]
    },
    {
      "cell_type": "code",
      "source": [
        "news_df['text'] = news_df['text'].apply(lambda x: clean_dataset(x))"
      ],
      "metadata": {
        "colab": {
          "base_uri": "https://localhost:8080/"
        },
        "id": "vgvAKOXtq8rR",
        "outputId": "1ac20dd0-306b-4617-b387-c7fed2ae5881"
      },
      "execution_count": null,
      "outputs": [
        {
          "output_type": "stream",
          "name": "stderr",
          "text": [
            "/usr/local/lib/python3.10/dist-packages/ipykernel/ipkernel.py:283: DeprecationWarning: `should_run_async` will not call `transform_cell` automatically in the future. Please pass the result to `transformed_cell` argument and any exception that happen during thetransform in `preprocessing_exc_tuple` in IPython 7.17 and above.\n",
            "  and should_run_async(code)\n",
            "<ipython-input-15-1e237955aa7d>:1: SettingWithCopyWarning: \n",
            "A value is trying to be set on a copy of a slice from a DataFrame.\n",
            "Try using .loc[row_indexer,col_indexer] = value instead\n",
            "\n",
            "See the caveats in the documentation: https://pandas.pydata.org/pandas-docs/stable/user_guide/indexing.html#returning-a-view-versus-a-copy\n",
            "  news_df['text'] = news_df['text'].apply(lambda x: clean_dataset(x))\n"
          ]
        }
      ]
    },
    {
      "cell_type": "code",
      "source": [
        "news_df['cleaned_text'] = news_df.iloc[5].text"
      ],
      "metadata": {
        "colab": {
          "base_uri": "https://localhost:8080/"
        },
        "id": "AVm1sKGwsvSq",
        "outputId": "c422d1f2-2032-4d36-ad97-3a26daddf040"
      },
      "execution_count": null,
      "outputs": [
        {
          "output_type": "stream",
          "name": "stderr",
          "text": [
            "/usr/local/lib/python3.10/dist-packages/ipykernel/ipkernel.py:283: DeprecationWarning: `should_run_async` will not call `transform_cell` automatically in the future. Please pass the result to `transformed_cell` argument and any exception that happen during thetransform in `preprocessing_exc_tuple` in IPython 7.17 and above.\n",
            "  and should_run_async(code)\n",
            "<ipython-input-16-239f8d955830>:1: SettingWithCopyWarning: \n",
            "A value is trying to be set on a copy of a slice from a DataFrame.\n",
            "Try using .loc[row_indexer,col_indexer] = value instead\n",
            "\n",
            "See the caveats in the documentation: https://pandas.pydata.org/pandas-docs/stable/user_guide/indexing.html#returning-a-view-versus-a-copy\n",
            "  news_df['cleaned_text'] = news_df.iloc[5].text\n"
          ]
        }
      ]
    },
    {
      "cell_type": "code",
      "source": [
        "news_df['cleaned_text'].iloc[5]"
      ],
      "metadata": {
        "colab": {
          "base_uri": "https://localhost:8080/",
          "height": 129
        },
        "id": "xxTQHGr7tN5Z",
        "outputId": "7d7a48aa-3b62-49cb-eb49-b0f2fa7e6cb7"
      },
      "execution_count": null,
      "outputs": [
        {
          "output_type": "stream",
          "name": "stderr",
          "text": [
            "/usr/local/lib/python3.10/dist-packages/ipykernel/ipkernel.py:283: DeprecationWarning: `should_run_async` will not call `transform_cell` automatically in the future. Please pass the result to `transformed_cell` argument and any exception that happen during thetransform in `preprocessing_exc_tuple` in IPython 7.17 and above.\n",
            "  and should_run_async(code)\n"
          ]
        },
        {
          "output_type": "execute_result",
          "data": {
            "text/plain": [
              "'şubat ayında ihracat yüzde arttı ithalat yüzde azaldı nticaret bakanı ruhsar pekcan şubat ayında ihracatın yüzde artışla milyar milyon dolar ithalatın yüzde azalışla milyar milyon dolar olarak gerçekleştiğini açıkladı fotoğraf reutersnbakan pekcan şunları söyledi “ eskiden kullandığımız özel ticaret sistemine göre şubat ayında ihracatımız yüzde artışla milyar milyon dolar olarak gerçekleşmiştir öts’ye göre ithalatımız şubat ayında yüzde düşüşle milyar milyon dolar seviyesinde gerçekleşmiştir ” reklam'"
            ],
            "application/vnd.google.colaboratory.intrinsic+json": {
              "type": "string"
            }
          },
          "metadata": {},
          "execution_count": 17
        }
      ]
    },
    {
      "cell_type": "code",
      "source": [
        "news_df['cleaned_text_token'] = news_df['cleaned_text'].apply(lambda x: x.split())"
      ],
      "metadata": {
        "colab": {
          "base_uri": "https://localhost:8080/"
        },
        "id": "exFzNZwetrzg",
        "outputId": "fdd18001-3f1c-4e8b-ac84-915cf7119de1"
      },
      "execution_count": null,
      "outputs": [
        {
          "output_type": "stream",
          "name": "stderr",
          "text": [
            "/usr/local/lib/python3.10/dist-packages/ipykernel/ipkernel.py:283: DeprecationWarning: `should_run_async` will not call `transform_cell` automatically in the future. Please pass the result to `transformed_cell` argument and any exception that happen during thetransform in `preprocessing_exc_tuple` in IPython 7.17 and above.\n",
            "  and should_run_async(code)\n",
            "<ipython-input-18-810a655e9a5e>:1: SettingWithCopyWarning: \n",
            "A value is trying to be set on a copy of a slice from a DataFrame.\n",
            "Try using .loc[row_indexer,col_indexer] = value instead\n",
            "\n",
            "See the caveats in the documentation: https://pandas.pydata.org/pandas-docs/stable/user_guide/indexing.html#returning-a-view-versus-a-copy\n",
            "  news_df['cleaned_text_token'] = news_df['cleaned_text'].apply(lambda x: x.split())\n"
          ]
        }
      ]
    },
    {
      "cell_type": "code",
      "source": [
        "news_df.drop(['text'], axis=1, inplace=True)"
      ],
      "metadata": {
        "colab": {
          "base_uri": "https://localhost:8080/"
        },
        "id": "Fq1uL3hyuWbh",
        "outputId": "97b28075-1c0b-40c3-b23b-9d7f2e5b55ac"
      },
      "execution_count": null,
      "outputs": [
        {
          "output_type": "stream",
          "name": "stderr",
          "text": [
            "/usr/local/lib/python3.10/dist-packages/ipykernel/ipkernel.py:283: DeprecationWarning: `should_run_async` will not call `transform_cell` automatically in the future. Please pass the result to `transformed_cell` argument and any exception that happen during thetransform in `preprocessing_exc_tuple` in IPython 7.17 and above.\n",
            "  and should_run_async(code)\n",
            "<ipython-input-19-54ebb617f88c>:1: SettingWithCopyWarning: \n",
            "A value is trying to be set on a copy of a slice from a DataFrame\n",
            "\n",
            "See the caveats in the documentation: https://pandas.pydata.org/pandas-docs/stable/user_guide/indexing.html#returning-a-view-versus-a-copy\n",
            "  news_df.drop(['text'], axis=1, inplace=True)\n"
          ]
        }
      ]
    },
    {
      "cell_type": "code",
      "source": [
        "news_df.head(5)"
      ],
      "metadata": {
        "colab": {
          "base_uri": "https://localhost:8080/",
          "height": 262
        },
        "id": "wtLpWMUXvW1Y",
        "outputId": "3dc82d8a-cc49-48e9-f3e7-b25d5b2d7442"
      },
      "execution_count": null,
      "outputs": [
        {
          "output_type": "stream",
          "name": "stderr",
          "text": [
            "/usr/local/lib/python3.10/dist-packages/ipykernel/ipkernel.py:283: DeprecationWarning: `should_run_async` will not call `transform_cell` automatically in the future. Please pass the result to `transformed_cell` argument and any exception that happen during thetransform in `preprocessing_exc_tuple` in IPython 7.17 and above.\n",
            "  and should_run_async(code)\n"
          ]
        },
        {
          "output_type": "execute_result",
          "data": {
            "text/plain": [
              "                                        cleaned_text  \\\n",
              "0  şubat ayında ihracat yüzde arttı ithalat yüzde...   \n",
              "1  şubat ayında ihracat yüzde arttı ithalat yüzde...   \n",
              "2  şubat ayında ihracat yüzde arttı ithalat yüzde...   \n",
              "3  şubat ayında ihracat yüzde arttı ithalat yüzde...   \n",
              "4  şubat ayında ihracat yüzde arttı ithalat yüzde...   \n",
              "\n",
              "                                  cleaned_text_token  \n",
              "0  [şubat, ayında, ihracat, yüzde, arttı, ithalat...  \n",
              "1  [şubat, ayında, ihracat, yüzde, arttı, ithalat...  \n",
              "2  [şubat, ayında, ihracat, yüzde, arttı, ithalat...  \n",
              "3  [şubat, ayında, ihracat, yüzde, arttı, ithalat...  \n",
              "4  [şubat, ayında, ihracat, yüzde, arttı, ithalat...  "
            ],
            "text/html": [
              "\n",
              "  <div id=\"df-a93bcc38-10f4-4ce3-ae5f-d1d0081fde3b\" class=\"colab-df-container\">\n",
              "    <div>\n",
              "<style scoped>\n",
              "    .dataframe tbody tr th:only-of-type {\n",
              "        vertical-align: middle;\n",
              "    }\n",
              "\n",
              "    .dataframe tbody tr th {\n",
              "        vertical-align: top;\n",
              "    }\n",
              "\n",
              "    .dataframe thead th {\n",
              "        text-align: right;\n",
              "    }\n",
              "</style>\n",
              "<table border=\"1\" class=\"dataframe\">\n",
              "  <thead>\n",
              "    <tr style=\"text-align: right;\">\n",
              "      <th></th>\n",
              "      <th>cleaned_text</th>\n",
              "      <th>cleaned_text_token</th>\n",
              "    </tr>\n",
              "  </thead>\n",
              "  <tbody>\n",
              "    <tr>\n",
              "      <th>0</th>\n",
              "      <td>şubat ayında ihracat yüzde arttı ithalat yüzde...</td>\n",
              "      <td>[şubat, ayında, ihracat, yüzde, arttı, ithalat...</td>\n",
              "    </tr>\n",
              "    <tr>\n",
              "      <th>1</th>\n",
              "      <td>şubat ayında ihracat yüzde arttı ithalat yüzde...</td>\n",
              "      <td>[şubat, ayında, ihracat, yüzde, arttı, ithalat...</td>\n",
              "    </tr>\n",
              "    <tr>\n",
              "      <th>2</th>\n",
              "      <td>şubat ayında ihracat yüzde arttı ithalat yüzde...</td>\n",
              "      <td>[şubat, ayında, ihracat, yüzde, arttı, ithalat...</td>\n",
              "    </tr>\n",
              "    <tr>\n",
              "      <th>3</th>\n",
              "      <td>şubat ayında ihracat yüzde arttı ithalat yüzde...</td>\n",
              "      <td>[şubat, ayında, ihracat, yüzde, arttı, ithalat...</td>\n",
              "    </tr>\n",
              "    <tr>\n",
              "      <th>4</th>\n",
              "      <td>şubat ayında ihracat yüzde arttı ithalat yüzde...</td>\n",
              "      <td>[şubat, ayında, ihracat, yüzde, arttı, ithalat...</td>\n",
              "    </tr>\n",
              "  </tbody>\n",
              "</table>\n",
              "</div>\n",
              "    <div class=\"colab-df-buttons\">\n",
              "\n",
              "  <div class=\"colab-df-container\">\n",
              "    <button class=\"colab-df-convert\" onclick=\"convertToInteractive('df-a93bcc38-10f4-4ce3-ae5f-d1d0081fde3b')\"\n",
              "            title=\"Convert this dataframe to an interactive table.\"\n",
              "            style=\"display:none;\">\n",
              "\n",
              "  <svg xmlns=\"http://www.w3.org/2000/svg\" height=\"24px\" viewBox=\"0 -960 960 960\">\n",
              "    <path d=\"M120-120v-720h720v720H120Zm60-500h600v-160H180v160Zm220 220h160v-160H400v160Zm0 220h160v-160H400v160ZM180-400h160v-160H180v160Zm440 0h160v-160H620v160ZM180-180h160v-160H180v160Zm440 0h160v-160H620v160Z\"/>\n",
              "  </svg>\n",
              "    </button>\n",
              "\n",
              "  <style>\n",
              "    .colab-df-container {\n",
              "      display:flex;\n",
              "      gap: 12px;\n",
              "    }\n",
              "\n",
              "    .colab-df-convert {\n",
              "      background-color: #E8F0FE;\n",
              "      border: none;\n",
              "      border-radius: 50%;\n",
              "      cursor: pointer;\n",
              "      display: none;\n",
              "      fill: #1967D2;\n",
              "      height: 32px;\n",
              "      padding: 0 0 0 0;\n",
              "      width: 32px;\n",
              "    }\n",
              "\n",
              "    .colab-df-convert:hover {\n",
              "      background-color: #E2EBFA;\n",
              "      box-shadow: 0px 1px 2px rgba(60, 64, 67, 0.3), 0px 1px 3px 1px rgba(60, 64, 67, 0.15);\n",
              "      fill: #174EA6;\n",
              "    }\n",
              "\n",
              "    .colab-df-buttons div {\n",
              "      margin-bottom: 4px;\n",
              "    }\n",
              "\n",
              "    [theme=dark] .colab-df-convert {\n",
              "      background-color: #3B4455;\n",
              "      fill: #D2E3FC;\n",
              "    }\n",
              "\n",
              "    [theme=dark] .colab-df-convert:hover {\n",
              "      background-color: #434B5C;\n",
              "      box-shadow: 0px 1px 3px 1px rgba(0, 0, 0, 0.15);\n",
              "      filter: drop-shadow(0px 1px 2px rgba(0, 0, 0, 0.3));\n",
              "      fill: #FFFFFF;\n",
              "    }\n",
              "  </style>\n",
              "\n",
              "    <script>\n",
              "      const buttonEl =\n",
              "        document.querySelector('#df-a93bcc38-10f4-4ce3-ae5f-d1d0081fde3b button.colab-df-convert');\n",
              "      buttonEl.style.display =\n",
              "        google.colab.kernel.accessAllowed ? 'block' : 'none';\n",
              "\n",
              "      async function convertToInteractive(key) {\n",
              "        const element = document.querySelector('#df-a93bcc38-10f4-4ce3-ae5f-d1d0081fde3b');\n",
              "        const dataTable =\n",
              "          await google.colab.kernel.invokeFunction('convertToInteractive',\n",
              "                                                    [key], {});\n",
              "        if (!dataTable) return;\n",
              "\n",
              "        const docLinkHtml = 'Like what you see? Visit the ' +\n",
              "          '<a target=\"_blank\" href=https://colab.research.google.com/notebooks/data_table.ipynb>data table notebook</a>'\n",
              "          + ' to learn more about interactive tables.';\n",
              "        element.innerHTML = '';\n",
              "        dataTable['output_type'] = 'display_data';\n",
              "        await google.colab.output.renderOutput(dataTable, element);\n",
              "        const docLink = document.createElement('div');\n",
              "        docLink.innerHTML = docLinkHtml;\n",
              "        element.appendChild(docLink);\n",
              "      }\n",
              "    </script>\n",
              "  </div>\n",
              "\n",
              "\n",
              "<div id=\"df-c14abb57-3df4-4330-848d-ac2459fa9800\">\n",
              "  <button class=\"colab-df-quickchart\" onclick=\"quickchart('df-c14abb57-3df4-4330-848d-ac2459fa9800')\"\n",
              "            title=\"Suggest charts\"\n",
              "            style=\"display:none;\">\n",
              "\n",
              "<svg xmlns=\"http://www.w3.org/2000/svg\" height=\"24px\"viewBox=\"0 0 24 24\"\n",
              "     width=\"24px\">\n",
              "    <g>\n",
              "        <path d=\"M19 3H5c-1.1 0-2 .9-2 2v14c0 1.1.9 2 2 2h14c1.1 0 2-.9 2-2V5c0-1.1-.9-2-2-2zM9 17H7v-7h2v7zm4 0h-2V7h2v10zm4 0h-2v-4h2v4z\"/>\n",
              "    </g>\n",
              "</svg>\n",
              "  </button>\n",
              "\n",
              "<style>\n",
              "  .colab-df-quickchart {\n",
              "      --bg-color: #E8F0FE;\n",
              "      --fill-color: #1967D2;\n",
              "      --hover-bg-color: #E2EBFA;\n",
              "      --hover-fill-color: #174EA6;\n",
              "      --disabled-fill-color: #AAA;\n",
              "      --disabled-bg-color: #DDD;\n",
              "  }\n",
              "\n",
              "  [theme=dark] .colab-df-quickchart {\n",
              "      --bg-color: #3B4455;\n",
              "      --fill-color: #D2E3FC;\n",
              "      --hover-bg-color: #434B5C;\n",
              "      --hover-fill-color: #FFFFFF;\n",
              "      --disabled-bg-color: #3B4455;\n",
              "      --disabled-fill-color: #666;\n",
              "  }\n",
              "\n",
              "  .colab-df-quickchart {\n",
              "    background-color: var(--bg-color);\n",
              "    border: none;\n",
              "    border-radius: 50%;\n",
              "    cursor: pointer;\n",
              "    display: none;\n",
              "    fill: var(--fill-color);\n",
              "    height: 32px;\n",
              "    padding: 0;\n",
              "    width: 32px;\n",
              "  }\n",
              "\n",
              "  .colab-df-quickchart:hover {\n",
              "    background-color: var(--hover-bg-color);\n",
              "    box-shadow: 0 1px 2px rgba(60, 64, 67, 0.3), 0 1px 3px 1px rgba(60, 64, 67, 0.15);\n",
              "    fill: var(--button-hover-fill-color);\n",
              "  }\n",
              "\n",
              "  .colab-df-quickchart-complete:disabled,\n",
              "  .colab-df-quickchart-complete:disabled:hover {\n",
              "    background-color: var(--disabled-bg-color);\n",
              "    fill: var(--disabled-fill-color);\n",
              "    box-shadow: none;\n",
              "  }\n",
              "\n",
              "  .colab-df-spinner {\n",
              "    border: 2px solid var(--fill-color);\n",
              "    border-color: transparent;\n",
              "    border-bottom-color: var(--fill-color);\n",
              "    animation:\n",
              "      spin 1s steps(1) infinite;\n",
              "  }\n",
              "\n",
              "  @keyframes spin {\n",
              "    0% {\n",
              "      border-color: transparent;\n",
              "      border-bottom-color: var(--fill-color);\n",
              "      border-left-color: var(--fill-color);\n",
              "    }\n",
              "    20% {\n",
              "      border-color: transparent;\n",
              "      border-left-color: var(--fill-color);\n",
              "      border-top-color: var(--fill-color);\n",
              "    }\n",
              "    30% {\n",
              "      border-color: transparent;\n",
              "      border-left-color: var(--fill-color);\n",
              "      border-top-color: var(--fill-color);\n",
              "      border-right-color: var(--fill-color);\n",
              "    }\n",
              "    40% {\n",
              "      border-color: transparent;\n",
              "      border-right-color: var(--fill-color);\n",
              "      border-top-color: var(--fill-color);\n",
              "    }\n",
              "    60% {\n",
              "      border-color: transparent;\n",
              "      border-right-color: var(--fill-color);\n",
              "    }\n",
              "    80% {\n",
              "      border-color: transparent;\n",
              "      border-right-color: var(--fill-color);\n",
              "      border-bottom-color: var(--fill-color);\n",
              "    }\n",
              "    90% {\n",
              "      border-color: transparent;\n",
              "      border-bottom-color: var(--fill-color);\n",
              "    }\n",
              "  }\n",
              "</style>\n",
              "\n",
              "  <script>\n",
              "    async function quickchart(key) {\n",
              "      const quickchartButtonEl =\n",
              "        document.querySelector('#' + key + ' button');\n",
              "      quickchartButtonEl.disabled = true;  // To prevent multiple clicks.\n",
              "      quickchartButtonEl.classList.add('colab-df-spinner');\n",
              "      try {\n",
              "        const charts = await google.colab.kernel.invokeFunction(\n",
              "            'suggestCharts', [key], {});\n",
              "      } catch (error) {\n",
              "        console.error('Error during call to suggestCharts:', error);\n",
              "      }\n",
              "      quickchartButtonEl.classList.remove('colab-df-spinner');\n",
              "      quickchartButtonEl.classList.add('colab-df-quickchart-complete');\n",
              "    }\n",
              "    (() => {\n",
              "      let quickchartButtonEl =\n",
              "        document.querySelector('#df-c14abb57-3df4-4330-848d-ac2459fa9800 button');\n",
              "      quickchartButtonEl.style.display =\n",
              "        google.colab.kernel.accessAllowed ? 'block' : 'none';\n",
              "    })();\n",
              "  </script>\n",
              "</div>\n",
              "\n",
              "    </div>\n",
              "  </div>\n"
            ],
            "application/vnd.google.colaboratory.intrinsic+json": {
              "type": "dataframe",
              "variable_name": "news_df",
              "summary": "{\n  \"name\": \"news_df\",\n  \"rows\": 72109,\n  \"fields\": [\n    {\n      \"column\": \"cleaned_text\",\n      \"properties\": {\n        \"dtype\": \"category\",\n        \"num_unique_values\": 1,\n        \"samples\": [\n          \"\\u015fubat ay\\u0131nda ihracat y\\u00fczde artt\\u0131 ithalat y\\u00fczde azald\\u0131 nticaret bakan\\u0131 ruhsar pekcan \\u015fubat ay\\u0131nda ihracat\\u0131n y\\u00fczde art\\u0131\\u015fla milyar milyon dolar ithalat\\u0131n y\\u00fczde azal\\u0131\\u015fla milyar milyon dolar olarak ger\\u00e7ekle\\u015fti\\u011fini a\\u00e7\\u0131klad\\u0131 foto\\u011fraf reutersnbakan pekcan \\u015funlar\\u0131 s\\u00f6yledi \\u201c eskiden kulland\\u0131\\u011f\\u0131m\\u0131z \\u00f6zel ticaret sistemine g\\u00f6re \\u015fubat ay\\u0131nda ihracat\\u0131m\\u0131z y\\u00fczde art\\u0131\\u015fla milyar milyon dolar olarak ger\\u00e7ekle\\u015fmi\\u015ftir \\u00f6ts\\u2019ye g\\u00f6re ithalat\\u0131m\\u0131z \\u015fubat ay\\u0131nda y\\u00fczde d\\u00fc\\u015f\\u00fc\\u015fle milyar milyon dolar seviyesinde ger\\u00e7ekle\\u015fmi\\u015ftir \\u201d reklam\"\n        ],\n        \"semantic_type\": \"\",\n        \"description\": \"\"\n      }\n    },\n    {\n      \"column\": \"cleaned_text_token\",\n      \"properties\": {\n        \"dtype\": \"object\",\n        \"semantic_type\": \"\",\n        \"description\": \"\"\n      }\n    }\n  ]\n}"
            }
          },
          "metadata": {},
          "execution_count": 20
        }
      ]
    },
    {
      "cell_type": "markdown",
      "source": [
        "# LDA MODEL TRAINING"
      ],
      "metadata": {
        "id": "L0A98NtAv8CJ"
      }
    },
    {
      "cell_type": "code",
      "source": [
        "tokenized_text = news_df['cleaned_text_token']\n",
        "word_list = gensim.corpora.Dictionary(tokenized_text)\n",
        "\n",
        "# Bu kod parçaları, news_df DataFrame'indeki her bir metni kelimelere ayırıp, bu kelimeleri bir sözlükte toplar. Bu sözlük, her benzersiz kelimeye bir id atar ve bu id'ler ile kelimeler arasında bir eşleşme sağlar."
      ],
      "metadata": {
        "colab": {
          "base_uri": "https://localhost:8080/"
        },
        "id": "4R4IzKSawAyC",
        "outputId": "6b5eddf6-c1e8-492d-fca0-c2dcba3dc296"
      },
      "execution_count": null,
      "outputs": [
        {
          "output_type": "stream",
          "name": "stderr",
          "text": [
            "/usr/local/lib/python3.10/dist-packages/ipykernel/ipkernel.py:283: DeprecationWarning: `should_run_async` will not call `transform_cell` automatically in the future. Please pass the result to `transformed_cell` argument and any exception that happen during thetransform in `preprocessing_exc_tuple` in IPython 7.17 and above.\n",
            "  and should_run_async(code)\n"
          ]
        }
      ]
    },
    {
      "cell_type": "code",
      "source": [
        "# vectorized terms\n",
        "document_term_matrix = [word_list.doc2bow(term) for term in tokenized_text]\n",
        "# Bu kod parçası, metin verilerini sayısal bir formata dönüştürür."
      ],
      "metadata": {
        "colab": {
          "base_uri": "https://localhost:8080/"
        },
        "id": "9mJXOX73wDsI",
        "outputId": "3db81a8b-3e06-4274-a80e-86c22a2cc022"
      },
      "execution_count": null,
      "outputs": [
        {
          "output_type": "stream",
          "name": "stderr",
          "text": [
            "/usr/local/lib/python3.10/dist-packages/ipykernel/ipkernel.py:283: DeprecationWarning: `should_run_async` will not call `transform_cell` automatically in the future. Please pass the result to `transformed_cell` argument and any exception that happen during thetransform in `preprocessing_exc_tuple` in IPython 7.17 and above.\n",
            "  and should_run_async(code)\n"
          ]
        }
      ]
    },
    {
      "cell_type": "code",
      "source": [
        "lda_model = gensim.models.ldamodel.LdaModel(\n",
        "                                            corpus= document_term_matrix,\n",
        "                                            id2word= word_list,\n",
        "                                            num_topics = 15,\n",
        "                                            passes = 10\n",
        "                                           )"
      ],
      "metadata": {
        "colab": {
          "base_uri": "https://localhost:8080/"
        },
        "id": "HM3OFRKX3Mm2",
        "outputId": "c79152e3-36c5-49a4-e9ad-6260e1bc908e"
      },
      "execution_count": null,
      "outputs": [
        {
          "output_type": "stream",
          "name": "stderr",
          "text": [
            "/usr/local/lib/python3.10/dist-packages/ipykernel/ipkernel.py:283: DeprecationWarning: `should_run_async` will not call `transform_cell` automatically in the future. Please pass the result to `transformed_cell` argument and any exception that happen during thetransform in `preprocessing_exc_tuple` in IPython 7.17 and above.\n",
            "  and should_run_async(code)\n"
          ]
        }
      ]
    },
    {
      "cell_type": "markdown",
      "source": [
        "Bu kod parçası, LDA modelini oluşturur ve eğitir. LDA, belgeler içinde gizli konuları bulmak için kullanılır ve şu işlemleri yapar:\n",
        "\n",
        "Konu Modelleme (Topic Modeling): LDA, belgelerdeki temaları veya konuları keşfetmek için kullanılır. Belirli bir sayıda konu belirleyerek, model bu konuları belgelerdeki kelimeler ile ilişkilendirir.\n",
        "\n",
        "Konu Dağılımı: Her bir belge, belirli konuların bir kombinasyonu olarak temsil edilir. Her bir konu, belirli kelimelerin bir dağılımıdır."
      ],
      "metadata": {
        "id": "MW8Gsfmp8E_W"
      }
    },
    {
      "cell_type": "code",
      "source": [
        "# Most repeated words in created topics\n",
        "topics = lda_model.print_topics(num_words=7)\n",
        "\n",
        "for topic in topics:\n",
        "    print(topic)"
      ],
      "metadata": {
        "colab": {
          "base_uri": "https://localhost:8080/"
        },
        "id": "sAk8OStN8Jre",
        "outputId": "e8f9f771-97e8-4f6c-8aaa-798c8a976093"
      },
      "execution_count": null,
      "outputs": [
        {
          "output_type": "stream",
          "name": "stdout",
          "text": [
            "(0, '0.092*\"yüzde\" + 0.062*\"milyar\" + 0.062*\"şubat\" + 0.062*\"ayında\" + 0.062*\"milyon\" + 0.062*\"dolar\" + 0.031*\"pekcan\"')\n",
            "(1, '0.025*\"reklam\" + 0.025*\"pekcan\" + 0.025*\"ruhsar\" + 0.025*\"reutersnbakan\" + 0.025*\"sistemine\" + 0.025*\"olarak\" + 0.025*\"söyledi\"')\n",
            "(2, '0.092*\"yüzde\" + 0.062*\"şubat\" + 0.062*\"milyon\" + 0.062*\"ayında\" + 0.062*\"milyar\" + 0.062*\"dolar\" + 0.031*\"olarak\"')\n",
            "(3, '0.092*\"yüzde\" + 0.062*\"milyon\" + 0.062*\"şubat\" + 0.062*\"ayında\" + 0.062*\"dolar\" + 0.062*\"milyar\" + 0.031*\"artışla\"')\n",
            "(4, '0.092*\"yüzde\" + 0.062*\"dolar\" + 0.062*\"şubat\" + 0.062*\"ayında\" + 0.062*\"milyar\" + 0.062*\"milyon\" + 0.031*\"gerçekleşmiştir\"')\n",
            "(5, '0.025*\"reklam\" + 0.025*\"pekcan\" + 0.025*\"ruhsar\" + 0.025*\"reutersnbakan\" + 0.025*\"sistemine\" + 0.025*\"olarak\" + 0.025*\"söyledi\"')\n",
            "(6, '0.025*\"reklam\" + 0.025*\"pekcan\" + 0.025*\"ruhsar\" + 0.025*\"reutersnbakan\" + 0.025*\"sistemine\" + 0.025*\"olarak\" + 0.025*\"söyledi\"')\n",
            "(7, '0.025*\"reklam\" + 0.025*\"pekcan\" + 0.025*\"ruhsar\" + 0.025*\"reutersnbakan\" + 0.025*\"sistemine\" + 0.025*\"olarak\" + 0.025*\"söyledi\"')\n",
            "(8, '0.092*\"yüzde\" + 0.062*\"milyon\" + 0.062*\"şubat\" + 0.062*\"dolar\" + 0.062*\"ayında\" + 0.062*\"milyar\" + 0.031*\"pekcan\"')\n",
            "(9, '0.025*\"reklam\" + 0.025*\"pekcan\" + 0.025*\"ruhsar\" + 0.025*\"reutersnbakan\" + 0.025*\"sistemine\" + 0.025*\"olarak\" + 0.025*\"söyledi\"')\n",
            "(10, '0.092*\"yüzde\" + 0.062*\"ayında\" + 0.062*\"şubat\" + 0.062*\"dolar\" + 0.062*\"milyar\" + 0.062*\"milyon\" + 0.031*\"göre\"')\n",
            "(11, '0.025*\"reklam\" + 0.025*\"pekcan\" + 0.025*\"ruhsar\" + 0.025*\"reutersnbakan\" + 0.025*\"sistemine\" + 0.025*\"olarak\" + 0.025*\"söyledi\"')\n",
            "(12, '0.092*\"yüzde\" + 0.062*\"dolar\" + 0.062*\"milyon\" + 0.062*\"milyar\" + 0.062*\"ayında\" + 0.062*\"şubat\" + 0.031*\"göre\"')\n",
            "(13, '0.025*\"reklam\" + 0.025*\"pekcan\" + 0.025*\"ruhsar\" + 0.025*\"reutersnbakan\" + 0.025*\"sistemine\" + 0.025*\"olarak\" + 0.025*\"söyledi\"')\n",
            "(14, '0.092*\"yüzde\" + 0.062*\"şubat\" + 0.062*\"dolar\" + 0.062*\"ayında\" + 0.062*\"milyar\" + 0.062*\"milyon\" + 0.031*\"olarak\"')\n"
          ]
        },
        {
          "output_type": "stream",
          "name": "stderr",
          "text": [
            "/usr/local/lib/python3.10/dist-packages/ipykernel/ipkernel.py:283: DeprecationWarning: `should_run_async` will not call `transform_cell` automatically in the future. Please pass the result to `transformed_cell` argument and any exception that happen during thetransform in `preprocessing_exc_tuple` in IPython 7.17 and above.\n",
            "  and should_run_async(code)\n"
          ]
        }
      ]
    },
    {
      "cell_type": "markdown",
      "source": [
        "Bu kod, LDA modelinde belirlenen konuların içeriğini anlamaya yardımcı olur. Belirli bir sayıda kelime (bu örnekte 7) kullanarak her konunun içeriğini gösterir. Bu, konuların ne hakkında olduğunu anlamak için faydalıdır."
      ],
      "metadata": {
        "id": "T9YGGm4s8yd5"
      }
    },
    {
      "cell_type": "markdown",
      "source": [
        "# MODEL VISUALIZATION"
      ],
      "metadata": {
        "id": "P1pGxAgf837U"
      }
    },
    {
      "cell_type": "code",
      "source": [
        "pyLDAvis.enable_notebook()\n",
        "vis = pyLDAvis.gensim.prepare(lda_model, document_term_matrix, dictionary=lda_model.id2word, mds='mmds')\n",
        "pyLDAvis.display(vis)"
      ],
      "metadata": {
        "colab": {
          "base_uri": "https://localhost:8080/",
          "height": 954
        },
        "id": "smAdGnPJ88K8",
        "outputId": "6e87c3e2-760c-4ea9-86b3-849ba2ec3b7d"
      },
      "execution_count": null,
      "outputs": [
        {
          "output_type": "stream",
          "name": "stderr",
          "text": [
            "/usr/local/lib/python3.10/dist-packages/ipykernel/ipkernel.py:283: DeprecationWarning: `should_run_async` will not call `transform_cell` automatically in the future. Please pass the result to `transformed_cell` argument and any exception that happen during thetransform in `preprocessing_exc_tuple` in IPython 7.17 and above.\n",
            "  and should_run_async(code)\n",
            "/usr/local/lib/python3.10/dist-packages/sklearn/manifold/_mds.py:298: FutureWarning: The default value of `normalized_stress` will change to `'auto'` in version 1.4. To suppress this warning, manually set the value of `normalized_stress`.\n",
            "  warnings.warn(\n"
          ]
        },
        {
          "output_type": "execute_result",
          "data": {
            "text/plain": [
              "<IPython.core.display.HTML object>"
            ],
            "text/html": [
              "\n",
              "<link rel=\"stylesheet\" type=\"text/css\" href=\"https://cdn.jsdelivr.net/gh/bmabey/pyLDAvis@3.4.0/pyLDAvis/js/ldavis.v1.0.0.css\">\n",
              "\n",
              "\n",
              "<div id=\"ldavis_el7351376988475655043782020412\" style=\"background-color:white;\"></div>\n",
              "<script type=\"text/javascript\">\n",
              "\n",
              "var ldavis_el7351376988475655043782020412_data = {\"mdsDat\": {\"x\": [0.002581726339180228, 0.0026631229671494, 0.00244723654777059, 0.002765486175756249, 0.002892381838852715, 0.002595303100206628, 0.0031635001459594677, 0.0027854160969579835, -0.003455979851287793, -0.003470113344874854, -0.0029999973883859505, -0.002386741733551047, -0.003472056338094736, -0.002913325737158945, -0.003195958818479939], \"y\": [0.022097124789575193, 0.022087424070830204, 0.022112374745469576, 0.022074845085949254, 0.022058581040401183, 0.02209551879295454, 0.022021385442696634, 0.02207234339806584, -0.02519126872116211, -0.02518932571478232, -0.025249630335775312, -0.02531496173259106, -0.025189057969438936, -0.025259777316553527, -0.02522557557563918], \"topics\": [1, 2, 3, 4, 5, 6, 7, 8, 9, 10, 11, 12, 13, 14, 15], \"cluster\": [1, 1, 1, 1, 1, 1, 1, 1, 1, 1, 1, 1, 1, 1, 1], \"Freq\": [12.495097603723368, 12.455057580412824, 12.430742815470271, 12.415875933954505, 12.415674381344354, 12.407434547271112, 12.373153978963414, 12.299888978825999, 0.10101059714773504, 0.10101059714773504, 0.10101059714773504, 0.10101059714773504, 0.10101059714773504, 0.10101059714773504, 0.10101059714773504]}, \"tinfo\": {\"Term\": [\"dolar\", \"milyon\", \"milyar\", \"\\u015fubat\", \"ay\\u0131nda\", \"y\\u00fczde\", \"olarak\", \"art\\u0131\\u015fla\", \"g\\u00f6re\", \"pekcan\", \"ger\\u00e7ekle\\u015fmi\\u015ftir\", \"nticaret\", \"ihracat\\u0131n\", \"ruhsar\", \"artt\\u0131\", \"kulland\\u0131\\u011f\\u0131m\\u0131z\", \"a\\u00e7\\u0131klad\\u0131\", \"\\u00f6zel\", \"ger\\u00e7ekle\\u015fti\\u011fini\", \"eskiden\", \"foto\\u011fraf\", \"azal\\u0131\\u015fla\", \"ihracat\", \"ithalat\\u0131n\", \"sistemine\", \"reklam\", \"ithalat\", \"\\u00f6ts\\u2019ye\", \"azald\\u0131\", \"ithalat\\u0131m\\u0131z\", \"y\\u00fczde\", \"milyar\", \"\\u015fubat\", \"milyon\", \"ay\\u0131nda\", \"dolar\", \"pekcan\", \"olarak\", \"ger\\u00e7ekle\\u015fmi\\u015ftir\", \"g\\u00f6re\", \"art\\u0131\\u015fla\", \"azal\\u0131\\u015fla\", \"ithalat\\u0131n\", \"ger\\u00e7ekle\\u015fti\\u011fini\", \"ihracat\", \"\\u00f6zel\", \"\\u00f6ts\\u2019ye\", \"nticaret\", \"reutersnbakan\", \"s\\u00f6yledi\", \"\\u201c\", \"sistemine\", \"\\u015funlar\\u0131\", \"ticaret\", \"eskiden\", \"\\u201d\", \"azald\\u0131\", \"ithalat\", \"reklam\", \"ihracat\\u0131n\", \"y\\u00fczde\", \"\\u015fubat\", \"dolar\", \"ay\\u0131nda\", \"milyar\", \"milyon\", \"olarak\", \"g\\u00f6re\", \"art\\u0131\\u015fla\", \"pekcan\", \"ger\\u00e7ekle\\u015fmi\\u015ftir\", \"a\\u00e7\\u0131klad\\u0131\", \"artt\\u0131\", \"ihracat\\u0131m\\u0131z\", \"d\\u00fc\\u015f\\u00fc\\u015fle\", \"ithalat\", \"foto\\u011fraf\", \"kulland\\u0131\\u011f\\u0131m\\u0131z\", \"\\u00f6ts\\u2019ye\", \"azald\\u0131\", \"ihracat\", \"ithalat\\u0131m\\u0131z\", \"eskiden\", \"seviyesinde\", \"azal\\u0131\\u015fla\", \"ruhsar\", \"nticaret\", \"\\u201d\", \"\\u015funlar\\u0131\", \"\\u201c\", \"ger\\u00e7ekle\\u015fti\\u011fini\", \"y\\u00fczde\", \"dolar\", \"\\u015fubat\", \"ay\\u0131nda\", \"milyar\", \"milyon\", \"ger\\u00e7ekle\\u015fmi\\u015ftir\", \"art\\u0131\\u015fla\", \"g\\u00f6re\", \"olarak\", \"pekcan\", \"ruhsar\", \"reutersnbakan\", \"\\u015funlar\\u0131\", \"eskiden\", \"kulland\\u0131\\u011f\\u0131m\\u0131z\", \"\\u201c\", \"azald\\u0131\", \"\\u00f6ts\\u2019ye\", \"reklam\", \"foto\\u011fraf\", \"d\\u00fc\\u015f\\u00fc\\u015fle\", \"ticaret\", \"seviyesinde\", \"ithalat\", \"ithalat\\u0131m\\u0131z\", \"ihracat\", \"\\u00f6zel\", \"ihracat\\u0131m\\u0131z\", \"azal\\u0131\\u015fla\", \"ger\\u00e7ekle\\u015fti\\u011fini\", \"y\\u00fczde\", \"ay\\u0131nda\", \"\\u015fubat\", \"dolar\", \"milyar\", \"milyon\", \"g\\u00f6re\", \"art\\u0131\\u015fla\", \"pekcan\", \"ger\\u00e7ekle\\u015fmi\\u015ftir\", \"olarak\", \"foto\\u011fraf\", \"bakan\\u0131\", \"s\\u00f6yledi\", \"d\\u00fc\\u015f\\u00fc\\u015fle\", \"\\u201c\", \"a\\u00e7\\u0131klad\\u0131\", \"ticaret\", \"\\u201d\", \"\\u00f6ts\\u2019ye\", \"ihracat\\u0131m\\u0131z\", \"ithalat\", \"ithalat\\u0131m\\u0131z\", \"artt\\u0131\", \"azald\\u0131\", \"ger\\u00e7ekle\\u015fti\\u011fini\", \"kulland\\u0131\\u011f\\u0131m\\u0131z\", \"azal\\u0131\\u015fla\", \"\\u015funlar\\u0131\", \"seviyesinde\", \"ithalat\\u0131n\", \"y\\u00fczde\", \"\\u015fubat\", \"milyon\", \"ay\\u0131nda\", \"milyar\", \"dolar\", \"olarak\", \"ger\\u00e7ekle\\u015fmi\\u015ftir\", \"g\\u00f6re\", \"art\\u0131\\u015fla\", \"pekcan\", \"\\u201d\", \"sistemine\", \"ithalat\", \"ihracat\\u0131n\", \"artt\\u0131\", \"\\u00f6ts\\u2019ye\", \"ticaret\", \"a\\u00e7\\u0131klad\\u0131\", \"nticaret\", \"d\\u00fc\\u015f\\u00fc\\u015fle\", \"azald\\u0131\", \"ger\\u00e7ekle\\u015fti\\u011fini\", \"reutersnbakan\", \"ihracat\\u0131m\\u0131z\", \"kulland\\u0131\\u011f\\u0131m\\u0131z\", \"seviyesinde\", \"s\\u00f6yledi\", \"ithalat\\u0131n\", \"azal\\u0131\\u015fla\", \"eskiden\", \"y\\u00fczde\", \"dolar\", \"milyon\", \"milyar\", \"ay\\u0131nda\", \"\\u015fubat\", \"g\\u00f6re\", \"ger\\u00e7ekle\\u015fmi\\u015ftir\", \"pekcan\", \"art\\u0131\\u015fla\", \"olarak\", \"reklam\", \"eskiden\", \"ruhsar\", \"seviyesinde\", \"d\\u00fc\\u015f\\u00fc\\u015fle\", \"bakan\\u0131\", \"ithalat\\u0131m\\u0131z\", \"ihracat\\u0131n\", \"nticaret\", \"artt\\u0131\", \"ihracat\\u0131m\\u0131z\", \"\\u00f6zel\", \"\\u201c\", \"azald\\u0131\", \"ithalat\", \"sistemine\", \"s\\u00f6yledi\", \"ithalat\\u0131n\", \"a\\u00e7\\u0131klad\\u0131\", \"y\\u00fczde\", \"milyon\", \"\\u015fubat\", \"dolar\", \"ay\\u0131nda\", \"milyar\", \"art\\u0131\\u015fla\", \"olarak\", \"pekcan\", \"ger\\u00e7ekle\\u015fmi\\u015ftir\", \"g\\u00f6re\", \"a\\u00e7\\u0131klad\\u0131\", \"ihracat\\u0131m\\u0131z\", \"ithalat\\u0131n\", \"ihracat\", \"\\u00f6zel\", \"ticaret\", \"s\\u00f6yledi\", \"kulland\\u0131\\u011f\\u0131m\\u0131z\", \"seviyesinde\", \"nticaret\", \"reutersnbakan\", \"d\\u00fc\\u015f\\u00fc\\u015fle\", \"bakan\\u0131\", \"eskiden\", \"ger\\u00e7ekle\\u015fti\\u011fini\", \"ruhsar\", \"\\u00f6ts\\u2019ye\", \"ithalat\", \"ithalat\\u0131m\\u0131z\", \"azal\\u0131\\u015fla\", \"foto\\u011fraf\", \"y\\u00fczde\", \"milyon\", \"\\u015fubat\", \"dolar\", \"ay\\u0131nda\", \"milyar\", \"pekcan\", \"ger\\u00e7ekle\\u015fmi\\u015ftir\", \"olarak\", \"art\\u0131\\u015fla\", \"g\\u00f6re\", \"\\u201c\", \"bakan\\u0131\", \"ithalat\\u0131m\\u0131z\", \"\\u015funlar\\u0131\", \"\\u00f6zel\", \"reutersnbakan\", \"seviyesinde\", \"ruhsar\", \"nticaret\", \"ihracat\\u0131n\", \"ithalat\\u0131n\", \"ticaret\", \"ihracat\\u0131m\\u0131z\", \"\\u201d\", \"reklam\", \"sistemine\", \"ihracat\", \"azal\\u0131\\u015fla\", \"kulland\\u0131\\u011f\\u0131m\\u0131z\", \"\\u015funlar\\u0131\", \"ticaret\", \"seviyesinde\", \"reutersnbakan\", \"s\\u00f6yledi\", \"ihracat\\u0131m\\u0131z\", \"d\\u00fc\\u015f\\u00fc\\u015fle\", \"bakan\\u0131\", \"\\u201d\", \"\\u201c\", \"azald\\u0131\", \"\\u00f6ts\\u2019ye\", \"ithalat\", \"ithalat\\u0131m\\u0131z\", \"reklam\", \"sistemine\", \"ithalat\\u0131n\", \"ihracat\", \"azal\\u0131\\u015fla\", \"foto\\u011fraf\", \"eskiden\", \"ger\\u00e7ekle\\u015fti\\u011fini\", \"\\u00f6zel\", \"a\\u00e7\\u0131klad\\u0131\", \"kulland\\u0131\\u011f\\u0131m\\u0131z\", \"artt\\u0131\", \"ruhsar\", \"ihracat\\u0131n\", \"nticaret\", \"ger\\u00e7ekle\\u015fmi\\u015ftir\", \"art\\u0131\\u015fla\", \"ay\\u0131nda\", \"dolar\", \"g\\u00f6re\", \"milyar\", \"milyon\", \"olarak\", \"pekcan\", \"\\u015funlar\\u0131\", \"ticaret\", \"seviyesinde\", \"reutersnbakan\", \"s\\u00f6yledi\", \"ihracat\\u0131m\\u0131z\", \"d\\u00fc\\u015f\\u00fc\\u015fle\", \"bakan\\u0131\", \"\\u201d\", \"\\u201c\", \"azald\\u0131\", \"\\u00f6ts\\u2019ye\", \"ithalat\", \"ithalat\\u0131m\\u0131z\", \"reklam\", \"sistemine\", \"ithalat\\u0131n\", \"ihracat\", \"azal\\u0131\\u015fla\", \"foto\\u011fraf\", \"eskiden\", \"ger\\u00e7ekle\\u015fti\\u011fini\", \"\\u00f6zel\", \"a\\u00e7\\u0131klad\\u0131\", \"kulland\\u0131\\u011f\\u0131m\\u0131z\", \"artt\\u0131\", \"ruhsar\", \"ihracat\\u0131n\", \"nticaret\", \"ger\\u00e7ekle\\u015fmi\\u015ftir\", \"art\\u0131\\u015fla\", \"ay\\u0131nda\", \"dolar\", \"g\\u00f6re\", \"milyar\", \"milyon\", \"olarak\", \"pekcan\", \"\\u015funlar\\u0131\", \"ticaret\", \"seviyesinde\", \"reutersnbakan\", \"s\\u00f6yledi\", \"ihracat\\u0131m\\u0131z\", \"d\\u00fc\\u015f\\u00fc\\u015fle\", \"bakan\\u0131\", \"\\u201d\", \"\\u201c\", \"azald\\u0131\", \"\\u00f6ts\\u2019ye\", \"ithalat\", \"ithalat\\u0131m\\u0131z\", \"reklam\", \"sistemine\", \"ithalat\\u0131n\", \"ihracat\", \"azal\\u0131\\u015fla\", \"foto\\u011fraf\", \"eskiden\", \"ger\\u00e7ekle\\u015fti\\u011fini\", \"\\u00f6zel\", \"a\\u00e7\\u0131klad\\u0131\", \"kulland\\u0131\\u011f\\u0131m\\u0131z\", \"artt\\u0131\", \"ruhsar\", \"ihracat\\u0131n\", \"nticaret\", \"ger\\u00e7ekle\\u015fmi\\u015ftir\", \"art\\u0131\\u015fla\", \"ay\\u0131nda\", \"dolar\", \"g\\u00f6re\", \"milyar\", \"milyon\", \"olarak\", \"pekcan\", \"\\u015funlar\\u0131\", \"ticaret\", \"seviyesinde\", \"reutersnbakan\", \"s\\u00f6yledi\", \"ihracat\\u0131m\\u0131z\", \"d\\u00fc\\u015f\\u00fc\\u015fle\", \"bakan\\u0131\", \"\\u201d\", \"\\u201c\", \"azald\\u0131\", \"\\u00f6ts\\u2019ye\", \"ithalat\", \"ithalat\\u0131m\\u0131z\", \"reklam\", \"sistemine\", \"ithalat\\u0131n\", \"ihracat\", \"azal\\u0131\\u015fla\", \"foto\\u011fraf\", \"eskiden\", \"ger\\u00e7ekle\\u015fti\\u011fini\", \"\\u00f6zel\", \"a\\u00e7\\u0131klad\\u0131\", \"kulland\\u0131\\u011f\\u0131m\\u0131z\", \"artt\\u0131\", \"ruhsar\", \"ihracat\\u0131n\", \"nticaret\", \"ger\\u00e7ekle\\u015fmi\\u015ftir\", \"art\\u0131\\u015fla\", \"ay\\u0131nda\", \"dolar\", \"g\\u00f6re\", \"milyar\", \"milyon\", \"olarak\", \"pekcan\", \"\\u015funlar\\u0131\", \"ticaret\", \"seviyesinde\", \"reutersnbakan\", \"s\\u00f6yledi\", \"ihracat\\u0131m\\u0131z\", \"d\\u00fc\\u015f\\u00fc\\u015fle\", \"bakan\\u0131\", \"\\u201d\", \"\\u201c\", \"azald\\u0131\", \"\\u00f6ts\\u2019ye\", \"ithalat\", \"ithalat\\u0131m\\u0131z\", \"reklam\", \"sistemine\", \"ithalat\\u0131n\", \"ihracat\", \"azal\\u0131\\u015fla\", \"foto\\u011fraf\", \"eskiden\", \"ger\\u00e7ekle\\u015fti\\u011fini\", \"\\u00f6zel\", \"a\\u00e7\\u0131klad\\u0131\", \"kulland\\u0131\\u011f\\u0131m\\u0131z\", \"artt\\u0131\", \"ruhsar\", \"ihracat\\u0131n\", \"nticaret\", \"ger\\u00e7ekle\\u015fmi\\u015ftir\", \"art\\u0131\\u015fla\", \"ay\\u0131nda\", \"dolar\", \"g\\u00f6re\", \"milyar\", \"milyon\", \"olarak\", \"pekcan\", \"\\u015funlar\\u0131\", \"ticaret\", \"seviyesinde\", \"reutersnbakan\", \"s\\u00f6yledi\", \"ihracat\\u0131m\\u0131z\", \"d\\u00fc\\u015f\\u00fc\\u015fle\", \"bakan\\u0131\", \"\\u201d\", \"\\u201c\", \"azald\\u0131\", \"\\u00f6ts\\u2019ye\", \"ithalat\", \"ithalat\\u0131m\\u0131z\", \"reklam\", \"sistemine\", \"ithalat\\u0131n\", \"ihracat\", \"azal\\u0131\\u015fla\", \"foto\\u011fraf\", \"eskiden\", \"ger\\u00e7ekle\\u015fti\\u011fini\", \"\\u00f6zel\", \"a\\u00e7\\u0131klad\\u0131\", \"kulland\\u0131\\u011f\\u0131m\\u0131z\", \"artt\\u0131\", \"ruhsar\", \"ihracat\\u0131n\", \"nticaret\", \"ger\\u00e7ekle\\u015fmi\\u015ftir\", \"art\\u0131\\u015fla\", \"ay\\u0131nda\", \"dolar\", \"g\\u00f6re\", \"milyar\", \"milyon\", \"olarak\", \"pekcan\", \"\\u015funlar\\u0131\", \"ticaret\", \"seviyesinde\", \"reutersnbakan\", \"s\\u00f6yledi\", \"ihracat\\u0131m\\u0131z\", \"d\\u00fc\\u015f\\u00fc\\u015fle\", \"bakan\\u0131\", \"\\u201d\", \"\\u201c\", \"azald\\u0131\", \"\\u00f6ts\\u2019ye\", \"ithalat\", \"ithalat\\u0131m\\u0131z\", \"reklam\", \"sistemine\", \"ithalat\\u0131n\", \"ihracat\", \"azal\\u0131\\u015fla\", \"foto\\u011fraf\", \"eskiden\", \"ger\\u00e7ekle\\u015fti\\u011fini\", \"\\u00f6zel\", \"a\\u00e7\\u0131klad\\u0131\", \"kulland\\u0131\\u011f\\u0131m\\u0131z\", \"artt\\u0131\", \"ruhsar\", \"ihracat\\u0131n\", \"nticaret\", \"ger\\u00e7ekle\\u015fmi\\u015ftir\", \"art\\u0131\\u015fla\", \"ay\\u0131nda\", \"dolar\", \"g\\u00f6re\", \"milyar\", \"milyon\", \"olarak\", \"pekcan\"], \"Freq\": [287225.0, 287225.0, 287225.0, 287225.0, 287225.0, 430423.0, 144026.0, 144026.0, 144026.0, 144026.0, 144026.0, 72427.0, 72427.0, 72427.0, 72427.0, 72427.0, 72427.0, 72427.0, 72427.0, 72427.0, 72427.0, 72427.0, 72427.0, 72427.0, 72427.0, 72427.0, 72427.0, 72427.0, 72427.0, 72427.0, 54060.60457620592, 36040.42486818545, 36040.38996037504, 36040.37250646983, 36040.37250646983, 36040.35068908832, 18020.200434532897, 18020.186253234915, 18020.176435413236, 18020.17316280601, 18020.17316280601, 9010.101308135525, 9010.100217266448, 9010.100217266448, 9010.095308355609, 9010.094217486534, 9010.090399444769, 9010.090399444769, 9010.089308575694, 9010.089308575694, 9010.089308575694, 9010.089308575694, 9010.088217706618, 9010.08767227208, 9010.088217706618, 9010.08767227208, 9010.08767227208, 9010.08767227208, 9010.08767227208, 9010.086581403006, 53887.30436308897, 35924.906546089296, 35924.88697336754, 35924.8782743801, 35924.86522589893, 35924.83912893659, 17962.44131193691, 17962.434787696326, 17962.432612949466, 17962.42717608231, 17962.415214974575, 8981.23044232933, 8981.224461775462, 8981.22337440203, 8981.22337440203, 8981.22337440203, 8981.22337440203, 8981.22337440203, 8981.2222870286, 8981.221743341885, 8981.221743341885, 8981.219568595025, 8981.219568595025, 8981.218481221593, 8981.218481221593, 8981.218481221593, 8981.218481221593, 8981.217393848163, 8981.216306474733, 8981.216306474733, 8981.216306474733, 53782.101219871496, 35854.73921108408, 35854.73921108408, 35854.73921108408, 35854.73269958012, 35854.713165068235, 17927.39999256052, 17927.37828754732, 17927.36852029138, 17927.36634979006, 17927.36200878742, 8963.697825778941, 8963.696740528281, 8963.69294215097, 8963.69294215097, 8963.69294215097, 8963.69077164965, 8963.69077164965, 8963.69077164965, 8963.68968639899, 8963.68968639899, 8963.68914377366, 8963.68588802168, 8963.68588802168, 8963.68588802168, 8963.68588802168, 8963.68588802168, 8963.68588802168, 8963.68426014569, 8963.68426014569, 8963.68426014569, 53717.78340387103, 35811.8946248788, 35811.853434675235, 35811.84909886433, 35811.84909886433, 35811.844763053436, 17905.954900108478, 17905.94189267577, 17905.934305006696, 17905.922381526718, 17905.920213621266, 8952.981243888777, 8952.9736562197, 8952.97148831425, 8952.97148831425, 8952.968778432436, 8952.968778432436, 8952.966068550622, 8952.966068550622, 8952.966068550622, 8952.964984597897, 8952.964984597897, 8952.964984597897, 8952.964984597897, 8952.96390064517, 8952.96390064517, 8952.96390064517, 8952.963358668809, 8952.962274716083, 8952.962274716083, 8952.962274716083, 53716.902706967536, 35811.298098871885, 35811.29376313137, 35811.27858803956, 35811.274252299045, 35811.2612450775, 17905.666392398005, 17905.652301241327, 17905.649049435942, 17905.649049435942, 17905.623034992845, 8952.834280134131, 8952.830486361181, 8952.829402426052, 8952.829402426052, 8952.828318490923, 8952.824524717971, 8952.822356847713, 8952.822356847713, 8952.822356847713, 8952.821272912584, 8952.821272912584, 8952.820730945019, 8952.816395204503, 8952.816395204503, 8952.816395204503, 8952.815311269374, 8952.815311269374, 8952.815311269374, 8952.815311269374, 8952.815311269374, 53681.27440563134, 35787.57259764044, 35787.56393191436, 35787.53360187306, 35787.524936146976, 35787.46860892743, 17893.751635915884, 17893.737554110998, 17893.737554110998, 17893.737554110998, 17893.728888384914, 8946.886108507668, 8946.886108507668, 8946.886108507668, 8946.881234036744, 8946.881234036744, 8946.881234036744, 8946.881234036744, 8946.881234036744, 8946.881234036744, 8946.877442781582, 8946.876901173702, 8946.876901173702, 8946.875817957942, 8946.875817957942, 8946.875817957942, 8946.875817957942, 8946.874734742181, 8946.87365152642, 8946.86986027126, 53532.98836722221, 35688.67547489985, 35688.673314453976, 35688.65819133285, 35688.65819133285, 35688.6538704411, 17844.329095666424, 17844.329095666424, 17844.32693522055, 17844.31613299117, 17844.31613299117, 8922.15590604971, 8922.154285715304, 8922.154285715304, 8922.154285715304, 8922.154285715304, 8922.15104504649, 8922.15104504649, 8922.15104504649, 8922.15050493502, 8922.15104504649, 8922.149424712083, 8922.149424712083, 8922.149424712083, 8922.149424712083, 8922.149424712083, 8922.149424712083, 8922.148344489146, 8922.148344489146, 8922.148344489146, 8922.148344489146, 8922.148344489146, 53216.00416038627, 35477.320357466975, 35477.305323894194, 35477.296733281175, 35477.296733281175, 35477.29243797467, 17738.679507612782, 17738.669843173135, 17738.658031080235, 17738.653735773725, 17738.644071334078, 8869.34243837296, 8869.340290719705, 8869.337606153136, 8869.334921586567, 8869.33384775994, 8869.332773933313, 8869.331700106686, 8869.331163193372, 8869.331163193372, 8869.330089366744, 8869.327941713489, 8869.326867886863, 8869.326330973548, 8869.326330973548, 8869.326330973548, 8869.326330973548, 8869.326330973548, 8869.326330973548, 8869.326330973548, 118.36132148937018, 118.36132148937018, 118.36132148937018, 118.36132148937018, 118.36132148937018, 118.36132148937018, 118.36132148937018, 118.36132148937018, 118.36132148937018, 118.36132148937018, 118.36132148937018, 118.36132148937018, 118.36132148937018, 118.36132148937018, 118.36132148937018, 118.36132148937018, 118.36132148937018, 118.36132148937018, 118.36132148937018, 118.36132148937018, 118.36132148937018, 118.36132148937018, 118.36132148937018, 118.36132148937018, 118.36132148937018, 118.36132148937018, 118.36132148937018, 118.36132148937018, 118.36132148937018, 118.36132148937018, 118.36132148937018, 118.36132148937018, 118.36132148937018, 118.36132148937018, 118.36132148937018, 118.36132148937018, 118.36132148937018, 118.36132148937018, 118.36132148937018, 118.36132148937018, 118.36132148937018, 118.36132148937018, 118.36132148937018, 118.36132148937018, 118.36132148937018, 118.36132148937018, 118.36132148937018, 118.36132148937018, 118.36132148937018, 118.36132148937018, 118.36132148937018, 118.36132148937018, 118.36132148937018, 118.36132148937018, 118.36132148937018, 118.36132148937018, 118.36132148937018, 118.36132148937018, 118.36132148937018, 118.36132148937018, 118.36132148937018, 118.36132148937018, 118.36132148937018, 118.36132148937018, 118.36132148937018, 118.36132148937018, 118.36132148937018, 118.36132148937018, 118.36132148937018, 118.36132148937018, 118.36132148937018, 118.36132148937018, 118.36132148937018, 118.36132148937018, 118.36132148937018, 118.36132148937018, 118.36132148937018, 118.36132148937018, 118.36132148937018, 118.36132148937018, 118.36132148937018, 118.36132148937018, 118.36132148937018, 118.36132148937018, 118.36132148937018, 118.36132148937018, 118.36132148937018, 118.36132148937018, 118.36132148937018, 118.36132148937018, 118.36132148937018, 118.36132148937018, 118.36132148937018, 118.36132148937018, 118.36132148937018, 118.36132148937018, 118.36132148937018, 118.36132148937018, 118.36132148937018, 118.36132148937018, 118.36132148937018, 118.36132148937018, 118.36132148937018, 118.36132148937018, 118.36132148937018, 118.36132148937018, 118.36132148937018, 118.36132148937018, 118.36132148937018, 118.36132148937018, 118.36132148937018, 118.36132148937018, 118.36132148937018, 118.36132148937018, 118.36132148937018, 118.36132148937018, 118.36132148937018, 118.36132148937018, 118.36132148937018, 118.36132148937018, 118.36132148937018, 118.36132148937018, 118.36132148937018, 118.36132148937018, 118.36132148937018, 118.36132148937018, 118.36132148937018, 118.36132148937018, 118.36132148937018, 118.36132148937018, 118.36132148937018, 118.36132148937018, 118.36132148937018, 118.36132148937018, 118.36132148937018, 118.36132148937018, 118.36132148937018, 118.36132148937018, 118.36132148937018, 118.36132148937018, 118.36132148937018, 118.36132148937018, 118.36132148937018, 118.36132148937018, 118.36132148937018, 118.36132148937018, 118.36132148937018, 118.36132148937018, 118.36132148937018, 118.36132148937018, 118.36132148937018, 118.36132148937018, 118.36132148937018, 118.36132148937018, 118.36132148937018, 118.36132148937018, 118.36132148937018, 118.36132148937018, 118.36132148937018, 118.36132148937018, 118.36132148937018, 118.36132148937018, 118.36132148937018, 118.36132148937018, 118.36132148937018, 118.36132148937018, 118.36132148937018, 118.36132148937018, 118.36132148937018, 118.36132148937018, 118.36132148937018, 118.36132148937018, 118.36132148937018, 118.36132148937018, 118.36132148937018, 118.36132148937018, 118.36132148937018, 118.36132148937018, 118.36132148937018, 118.36132148937018, 118.36132148937018, 118.36132148937018, 118.36132148937018, 118.36132148937018, 118.36132148937018, 118.36132148937018, 118.36132148937018, 118.36132148937018, 118.36132148937018, 118.36132148937018, 118.36132148937018, 118.36132148937018, 118.36132148937018, 118.36132148937018, 118.36132148937018, 118.36132148937018, 118.36132148937018, 118.36132148937018, 118.36132148937018, 118.36132148937018, 118.36132148937018, 118.36132148937018, 118.36132148937018, 118.36132148937018, 118.36132148937018, 118.36132148937018, 118.36132148937018, 118.36132148937018, 118.36132148937018, 118.36132148937018, 118.36132148937018, 118.36132148937018, 118.36132148937018, 118.36132148937018, 118.36132148937018, 118.36132148937018, 118.36132148937018, 118.36132148937018, 118.36132148937018, 118.36132148937018, 118.36132148937018, 118.36132148937018, 118.36132148937018, 118.36132148937018, 118.36132148937018, 118.36132148937018, 118.36132148937018, 118.36132148937018, 118.36132148937018, 118.36132148937018, 118.36132148937018, 118.36132148937018, 118.36132148937018, 118.36132148937018, 118.36132148937018, 118.36132148937018, 118.36132148937018, 118.36132148937018, 118.36132148937018, 118.36132148937018, 118.36132148937018, 118.36132148937018, 118.36132148937018, 118.36132148937018, 118.36132148937018, 118.36132148937018, 118.36132148937018, 118.36132148937018, 118.36132148937018, 118.36132148937018, 118.36132148937018, 118.36132148937018, 118.36132148937018, 118.36132148937018, 118.36132148937018, 118.36132148937018, 118.36132148937018, 118.36132148937018, 118.36132148937018, 118.36132148937018, 118.36132148937018, 118.36132148937018, 118.36132148937018, 118.36132148937018, 118.36132148937018, 118.36132148937018], \"Total\": [287225.0, 287225.0, 287225.0, 287225.0, 287225.0, 430423.0, 144026.0, 144026.0, 144026.0, 144026.0, 144026.0, 72427.0, 72427.0, 72427.0, 72427.0, 72427.0, 72427.0, 72427.0, 72427.0, 72427.0, 72427.0, 72427.0, 72427.0, 72427.0, 72427.0, 72427.0, 72427.0, 72427.0, 72427.0, 72427.0, 430423.4924536705, 287225.1553055424, 287225.16374879685, 287225.15234136634, 287225.1723160391, 287225.14399016195, 144026.82020677198, 144026.82578653822, 144026.81910641716, 144026.82151100476, 144026.82464139114, 72427.65271434537, 72427.65263400991, 72427.65274160032, 72427.65266616702, 72427.65308728613, 72427.65171606805, 72427.65582198174, 72427.6498531507, 72427.64991837429, 72427.65140270784, 72427.65261764299, 72427.64767810573, 72427.64825202741, 72427.6527391768, 72427.65101897404, 72427.65167224029, 72427.65173668669, 72427.65207582217, 72427.65365411779, 430423.4924536705, 287225.16374879685, 287225.14399016195, 287225.1723160391, 287225.1553055424, 287225.15234136634, 144026.82578653822, 144026.82151100476, 144026.82464139114, 144026.82020677198, 144026.81910641716, 72427.6531310093, 72427.65318782546, 72427.65036448145, 72427.65045421656, 72427.65173668669, 72427.65271809523, 72427.65314678808, 72427.65171606805, 72427.65167224029, 72427.65266616702, 72427.65189172368, 72427.6527391768, 72427.64922657596, 72427.65271434537, 72427.6535718101, 72427.65582198174, 72427.65101897404, 72427.64767810573, 72427.65140270784, 72427.65274160032, 430423.4924536705, 287225.14399016195, 287225.16374879685, 287225.1723160391, 287225.1553055424, 287225.15234136634, 144026.81910641716, 144026.82464139114, 144026.82151100476, 144026.82578653822, 144026.82020677198, 72427.6535718101, 72427.6498531507, 72427.64767810573, 72427.6527391768, 72427.65314678808, 72427.65140270784, 72427.65167224029, 72427.65171606805, 72427.65207582217, 72427.65271809523, 72427.65045421656, 72427.64825202741, 72427.64922657596, 72427.65173668669, 72427.65189172368, 72427.65266616702, 72427.65308728613, 72427.65036448145, 72427.65271434537, 72427.65274160032, 430423.4924536705, 287225.1723160391, 287225.16374879685, 287225.14399016195, 287225.1553055424, 287225.15234136634, 144026.82151100476, 144026.82464139114, 144026.82020677198, 144026.81910641716, 144026.82578653822, 72427.65271809523, 72427.65079448948, 72427.64991837429, 72427.65045421656, 72427.65140270784, 72427.6531310093, 72427.64825202741, 72427.65101897404, 72427.65171606805, 72427.65036448145, 72427.65173668669, 72427.65189172368, 72427.65318782546, 72427.65167224029, 72427.65274160032, 72427.65314678808, 72427.65271434537, 72427.64767810573, 72427.64922657596, 72427.65263400991, 430423.4924536705, 287225.16374879685, 287225.15234136634, 287225.1723160391, 287225.1553055424, 287225.14399016195, 144026.82578653822, 144026.81910641716, 144026.82151100476, 144026.82464139114, 144026.82020677198, 72427.65101897404, 72427.65261764299, 72427.65173668669, 72427.65365411779, 72427.65318782546, 72427.65171606805, 72427.64825202741, 72427.6531310093, 72427.65582198174, 72427.65045421656, 72427.65167224029, 72427.65274160032, 72427.6498531507, 72427.65036448145, 72427.65314678808, 72427.64922657596, 72427.64991837429, 72427.65263400991, 72427.65271434537, 72427.6527391768, 430423.4924536705, 287225.14399016195, 287225.15234136634, 287225.1553055424, 287225.1723160391, 287225.16374879685, 144026.82151100476, 144026.81910641716, 144026.82020677198, 144026.82464139114, 144026.82578653822, 72427.65207582217, 72427.6527391768, 72427.6535718101, 72427.64922657596, 72427.65045421656, 72427.65079448948, 72427.65189172368, 72427.65365411779, 72427.65582198174, 72427.65318782546, 72427.65036448145, 72427.65308728613, 72427.65140270784, 72427.65167224029, 72427.65173668669, 72427.65261764299, 72427.64991837429, 72427.65263400991, 72427.6531310093, 430423.4924536705, 287225.15234136634, 287225.16374879685, 287225.14399016195, 287225.1723160391, 287225.1553055424, 144026.82464139114, 144026.82578653822, 144026.82020677198, 144026.81910641716, 144026.82151100476, 72427.6531310093, 72427.65036448145, 72427.65263400991, 72427.65266616702, 72427.65308728613, 72427.64825202741, 72427.64991837429, 72427.65314678808, 72427.64922657596, 72427.65582198174, 72427.6498531507, 72427.65045421656, 72427.65079448948, 72427.6527391768, 72427.65274160032, 72427.6535718101, 72427.65171606805, 72427.65173668669, 72427.65189172368, 72427.65271434537, 72427.65271809523, 430423.4924536705, 287225.15234136634, 287225.16374879685, 287225.14399016195, 287225.1723160391, 287225.1553055424, 144026.82020677198, 144026.81910641716, 144026.82578653822, 144026.82464139114, 144026.82151100476, 72427.65140270784, 72427.65079448948, 72427.65189172368, 72427.64767810573, 72427.65308728613, 72427.6498531507, 72427.64922657596, 72427.6535718101, 72427.65582198174, 72427.65365411779, 72427.65263400991, 72427.64825202741, 72427.65036448145, 72427.65101897404, 72427.65207582217, 72427.65261764299, 72427.65266616702, 72427.65271434537, 72427.65314678808, 72427.64767810573, 72427.64825202741, 72427.64922657596, 72427.6498531507, 72427.64991837429, 72427.65036448145, 72427.65045421656, 72427.65079448948, 72427.65101897404, 72427.65140270784, 72427.65167224029, 72427.65171606805, 72427.65173668669, 72427.65189172368, 72427.65207582217, 72427.65261764299, 72427.65263400991, 72427.65266616702, 72427.65271434537, 72427.65271809523, 72427.6527391768, 72427.65274160032, 72427.65308728613, 72427.6531310093, 72427.65314678808, 72427.65318782546, 72427.6535718101, 72427.65365411779, 72427.65582198174, 144026.81910641716, 144026.82464139114, 287225.1723160391, 287225.14399016195, 144026.82151100476, 287225.1553055424, 287225.15234136634, 144026.82578653822, 144026.82020677198, 72427.64767810573, 72427.64825202741, 72427.64922657596, 72427.6498531507, 72427.64991837429, 72427.65036448145, 72427.65045421656, 72427.65079448948, 72427.65101897404, 72427.65140270784, 72427.65167224029, 72427.65171606805, 72427.65173668669, 72427.65189172368, 72427.65207582217, 72427.65261764299, 72427.65263400991, 72427.65266616702, 72427.65271434537, 72427.65271809523, 72427.6527391768, 72427.65274160032, 72427.65308728613, 72427.6531310093, 72427.65314678808, 72427.65318782546, 72427.6535718101, 72427.65365411779, 72427.65582198174, 144026.81910641716, 144026.82464139114, 287225.1723160391, 287225.14399016195, 144026.82151100476, 287225.1553055424, 287225.15234136634, 144026.82578653822, 144026.82020677198, 72427.64767810573, 72427.64825202741, 72427.64922657596, 72427.6498531507, 72427.64991837429, 72427.65036448145, 72427.65045421656, 72427.65079448948, 72427.65101897404, 72427.65140270784, 72427.65167224029, 72427.65171606805, 72427.65173668669, 72427.65189172368, 72427.65207582217, 72427.65261764299, 72427.65263400991, 72427.65266616702, 72427.65271434537, 72427.65271809523, 72427.6527391768, 72427.65274160032, 72427.65308728613, 72427.6531310093, 72427.65314678808, 72427.65318782546, 72427.6535718101, 72427.65365411779, 72427.65582198174, 144026.81910641716, 144026.82464139114, 287225.1723160391, 287225.14399016195, 144026.82151100476, 287225.1553055424, 287225.15234136634, 144026.82578653822, 144026.82020677198, 72427.64767810573, 72427.64825202741, 72427.64922657596, 72427.6498531507, 72427.64991837429, 72427.65036448145, 72427.65045421656, 72427.65079448948, 72427.65101897404, 72427.65140270784, 72427.65167224029, 72427.65171606805, 72427.65173668669, 72427.65189172368, 72427.65207582217, 72427.65261764299, 72427.65263400991, 72427.65266616702, 72427.65271434537, 72427.65271809523, 72427.6527391768, 72427.65274160032, 72427.65308728613, 72427.6531310093, 72427.65314678808, 72427.65318782546, 72427.6535718101, 72427.65365411779, 72427.65582198174, 144026.81910641716, 144026.82464139114, 287225.1723160391, 287225.14399016195, 144026.82151100476, 287225.1553055424, 287225.15234136634, 144026.82578653822, 144026.82020677198, 72427.64767810573, 72427.64825202741, 72427.64922657596, 72427.6498531507, 72427.64991837429, 72427.65036448145, 72427.65045421656, 72427.65079448948, 72427.65101897404, 72427.65140270784, 72427.65167224029, 72427.65171606805, 72427.65173668669, 72427.65189172368, 72427.65207582217, 72427.65261764299, 72427.65263400991, 72427.65266616702, 72427.65271434537, 72427.65271809523, 72427.6527391768, 72427.65274160032, 72427.65308728613, 72427.6531310093, 72427.65314678808, 72427.65318782546, 72427.6535718101, 72427.65365411779, 72427.65582198174, 144026.81910641716, 144026.82464139114, 287225.1723160391, 287225.14399016195, 144026.82151100476, 287225.1553055424, 287225.15234136634, 144026.82578653822, 144026.82020677198, 72427.64767810573, 72427.64825202741, 72427.64922657596, 72427.6498531507, 72427.64991837429, 72427.65036448145, 72427.65045421656, 72427.65079448948, 72427.65101897404, 72427.65140270784, 72427.65167224029, 72427.65171606805, 72427.65173668669, 72427.65189172368, 72427.65207582217, 72427.65261764299, 72427.65263400991, 72427.65266616702, 72427.65271434537, 72427.65271809523, 72427.6527391768, 72427.65274160032, 72427.65308728613, 72427.6531310093, 72427.65314678808, 72427.65318782546, 72427.6535718101, 72427.65365411779, 72427.65582198174, 144026.81910641716, 144026.82464139114, 287225.1723160391, 287225.14399016195, 144026.82151100476, 287225.1553055424, 287225.15234136634, 144026.82578653822, 144026.82020677198, 72427.64767810573, 72427.64825202741, 72427.64922657596, 72427.6498531507, 72427.64991837429, 72427.65036448145, 72427.65045421656, 72427.65079448948, 72427.65101897404, 72427.65140270784, 72427.65167224029, 72427.65171606805, 72427.65173668669, 72427.65189172368, 72427.65207582217, 72427.65261764299, 72427.65263400991, 72427.65266616702, 72427.65271434537, 72427.65271809523, 72427.6527391768, 72427.65274160032, 72427.65308728613, 72427.6531310093, 72427.65314678808, 72427.65318782546, 72427.6535718101, 72427.65365411779, 72427.65582198174, 144026.81910641716, 144026.82464139114, 287225.1723160391, 287225.14399016195, 144026.82151100476, 287225.1553055424, 287225.15234136634, 144026.82578653822, 144026.82020677198], \"Category\": [\"Default\", \"Default\", \"Default\", \"Default\", \"Default\", \"Default\", \"Default\", \"Default\", \"Default\", \"Default\", \"Default\", \"Default\", \"Default\", \"Default\", \"Default\", \"Default\", \"Default\", \"Default\", \"Default\", \"Default\", \"Default\", \"Default\", \"Default\", \"Default\", \"Default\", \"Default\", \"Default\", \"Default\", \"Default\", \"Default\", \"Topic1\", \"Topic1\", \"Topic1\", \"Topic1\", \"Topic1\", \"Topic1\", \"Topic1\", \"Topic1\", \"Topic1\", \"Topic1\", \"Topic1\", \"Topic1\", \"Topic1\", \"Topic1\", \"Topic1\", \"Topic1\", \"Topic1\", \"Topic1\", \"Topic1\", \"Topic1\", \"Topic1\", \"Topic1\", \"Topic1\", \"Topic1\", \"Topic1\", \"Topic1\", \"Topic1\", \"Topic1\", \"Topic1\", \"Topic1\", \"Topic2\", \"Topic2\", \"Topic2\", \"Topic2\", \"Topic2\", \"Topic2\", \"Topic2\", \"Topic2\", \"Topic2\", \"Topic2\", \"Topic2\", \"Topic2\", \"Topic2\", \"Topic2\", \"Topic2\", \"Topic2\", \"Topic2\", \"Topic2\", \"Topic2\", \"Topic2\", \"Topic2\", \"Topic2\", \"Topic2\", \"Topic2\", \"Topic2\", \"Topic2\", \"Topic2\", \"Topic2\", \"Topic2\", \"Topic2\", \"Topic2\", \"Topic3\", \"Topic3\", \"Topic3\", \"Topic3\", \"Topic3\", \"Topic3\", \"Topic3\", \"Topic3\", \"Topic3\", \"Topic3\", \"Topic3\", \"Topic3\", \"Topic3\", \"Topic3\", \"Topic3\", \"Topic3\", \"Topic3\", \"Topic3\", \"Topic3\", \"Topic3\", \"Topic3\", \"Topic3\", \"Topic3\", \"Topic3\", \"Topic3\", \"Topic3\", \"Topic3\", \"Topic3\", \"Topic3\", \"Topic3\", \"Topic3\", \"Topic4\", \"Topic4\", \"Topic4\", \"Topic4\", \"Topic4\", \"Topic4\", \"Topic4\", \"Topic4\", \"Topic4\", \"Topic4\", \"Topic4\", \"Topic4\", \"Topic4\", \"Topic4\", \"Topic4\", \"Topic4\", \"Topic4\", \"Topic4\", \"Topic4\", \"Topic4\", \"Topic4\", \"Topic4\", \"Topic4\", \"Topic4\", \"Topic4\", \"Topic4\", \"Topic4\", \"Topic4\", \"Topic4\", \"Topic4\", \"Topic4\", \"Topic5\", \"Topic5\", \"Topic5\", \"Topic5\", \"Topic5\", \"Topic5\", \"Topic5\", \"Topic5\", \"Topic5\", \"Topic5\", \"Topic5\", \"Topic5\", \"Topic5\", \"Topic5\", \"Topic5\", \"Topic5\", \"Topic5\", \"Topic5\", \"Topic5\", \"Topic5\", \"Topic5\", \"Topic5\", \"Topic5\", \"Topic5\", \"Topic5\", \"Topic5\", \"Topic5\", \"Topic5\", \"Topic5\", \"Topic5\", \"Topic5\", \"Topic6\", \"Topic6\", \"Topic6\", \"Topic6\", \"Topic6\", \"Topic6\", \"Topic6\", \"Topic6\", \"Topic6\", \"Topic6\", \"Topic6\", \"Topic6\", \"Topic6\", \"Topic6\", \"Topic6\", \"Topic6\", \"Topic6\", \"Topic6\", \"Topic6\", \"Topic6\", \"Topic6\", \"Topic6\", \"Topic6\", \"Topic6\", \"Topic6\", \"Topic6\", \"Topic6\", \"Topic6\", \"Topic6\", \"Topic6\", \"Topic7\", \"Topic7\", \"Topic7\", \"Topic7\", \"Topic7\", \"Topic7\", \"Topic7\", \"Topic7\", \"Topic7\", \"Topic7\", \"Topic7\", \"Topic7\", \"Topic7\", \"Topic7\", \"Topic7\", \"Topic7\", \"Topic7\", \"Topic7\", \"Topic7\", \"Topic7\", \"Topic7\", \"Topic7\", \"Topic7\", \"Topic7\", \"Topic7\", \"Topic7\", \"Topic7\", \"Topic7\", \"Topic7\", \"Topic7\", \"Topic7\", \"Topic7\", \"Topic8\", \"Topic8\", \"Topic8\", \"Topic8\", \"Topic8\", \"Topic8\", \"Topic8\", \"Topic8\", \"Topic8\", \"Topic8\", \"Topic8\", \"Topic8\", \"Topic8\", \"Topic8\", \"Topic8\", \"Topic8\", \"Topic8\", \"Topic8\", \"Topic8\", \"Topic8\", \"Topic8\", \"Topic8\", \"Topic8\", \"Topic8\", \"Topic8\", \"Topic8\", \"Topic8\", \"Topic8\", \"Topic8\", \"Topic8\", \"Topic9\", \"Topic9\", \"Topic9\", \"Topic9\", \"Topic9\", \"Topic9\", \"Topic9\", \"Topic9\", \"Topic9\", \"Topic9\", \"Topic9\", \"Topic9\", \"Topic9\", \"Topic9\", \"Topic9\", \"Topic9\", \"Topic9\", \"Topic9\", \"Topic9\", \"Topic9\", \"Topic9\", \"Topic9\", \"Topic9\", \"Topic9\", \"Topic9\", \"Topic9\", \"Topic9\", \"Topic9\", \"Topic9\", \"Topic9\", \"Topic9\", \"Topic9\", \"Topic9\", \"Topic9\", \"Topic9\", \"Topic9\", \"Topic9\", \"Topic9\", \"Topic10\", \"Topic10\", \"Topic10\", \"Topic10\", \"Topic10\", \"Topic10\", \"Topic10\", \"Topic10\", \"Topic10\", \"Topic10\", \"Topic10\", \"Topic10\", \"Topic10\", \"Topic10\", \"Topic10\", \"Topic10\", \"Topic10\", \"Topic10\", \"Topic10\", \"Topic10\", \"Topic10\", \"Topic10\", \"Topic10\", \"Topic10\", \"Topic10\", \"Topic10\", \"Topic10\", \"Topic10\", \"Topic10\", \"Topic10\", \"Topic10\", \"Topic10\", \"Topic10\", \"Topic10\", \"Topic10\", \"Topic10\", \"Topic10\", \"Topic10\", \"Topic11\", \"Topic11\", \"Topic11\", \"Topic11\", \"Topic11\", \"Topic11\", \"Topic11\", \"Topic11\", \"Topic11\", \"Topic11\", \"Topic11\", \"Topic11\", \"Topic11\", \"Topic11\", \"Topic11\", \"Topic11\", \"Topic11\", \"Topic11\", \"Topic11\", \"Topic11\", \"Topic11\", \"Topic11\", \"Topic11\", \"Topic11\", \"Topic11\", \"Topic11\", \"Topic11\", \"Topic11\", \"Topic11\", \"Topic11\", \"Topic11\", \"Topic11\", \"Topic11\", \"Topic11\", \"Topic11\", \"Topic11\", \"Topic11\", \"Topic11\", \"Topic12\", \"Topic12\", \"Topic12\", \"Topic12\", \"Topic12\", \"Topic12\", \"Topic12\", \"Topic12\", \"Topic12\", \"Topic12\", \"Topic12\", \"Topic12\", \"Topic12\", \"Topic12\", \"Topic12\", \"Topic12\", \"Topic12\", \"Topic12\", \"Topic12\", \"Topic12\", \"Topic12\", \"Topic12\", \"Topic12\", \"Topic12\", \"Topic12\", \"Topic12\", \"Topic12\", \"Topic12\", \"Topic12\", \"Topic12\", \"Topic12\", \"Topic12\", \"Topic12\", \"Topic12\", \"Topic12\", \"Topic12\", \"Topic12\", \"Topic12\", \"Topic13\", \"Topic13\", \"Topic13\", \"Topic13\", \"Topic13\", \"Topic13\", \"Topic13\", \"Topic13\", \"Topic13\", \"Topic13\", \"Topic13\", \"Topic13\", \"Topic13\", \"Topic13\", \"Topic13\", \"Topic13\", \"Topic13\", \"Topic13\", \"Topic13\", \"Topic13\", \"Topic13\", \"Topic13\", \"Topic13\", \"Topic13\", \"Topic13\", \"Topic13\", \"Topic13\", \"Topic13\", \"Topic13\", \"Topic13\", \"Topic13\", \"Topic13\", \"Topic13\", \"Topic13\", \"Topic13\", \"Topic13\", \"Topic13\", \"Topic13\", \"Topic14\", \"Topic14\", \"Topic14\", \"Topic14\", \"Topic14\", \"Topic14\", \"Topic14\", \"Topic14\", \"Topic14\", \"Topic14\", \"Topic14\", \"Topic14\", \"Topic14\", \"Topic14\", \"Topic14\", \"Topic14\", \"Topic14\", \"Topic14\", \"Topic14\", \"Topic14\", \"Topic14\", \"Topic14\", \"Topic14\", \"Topic14\", \"Topic14\", \"Topic14\", \"Topic14\", \"Topic14\", \"Topic14\", \"Topic14\", \"Topic14\", \"Topic14\", \"Topic14\", \"Topic14\", \"Topic14\", \"Topic14\", \"Topic14\", \"Topic14\", \"Topic15\", \"Topic15\", \"Topic15\", \"Topic15\", \"Topic15\", \"Topic15\", \"Topic15\", \"Topic15\", \"Topic15\", \"Topic15\", \"Topic15\", \"Topic15\", \"Topic15\", \"Topic15\", \"Topic15\", \"Topic15\", \"Topic15\", \"Topic15\", \"Topic15\", \"Topic15\", \"Topic15\", \"Topic15\", \"Topic15\", \"Topic15\", \"Topic15\", \"Topic15\", \"Topic15\", \"Topic15\", \"Topic15\", \"Topic15\", \"Topic15\", \"Topic15\", \"Topic15\", \"Topic15\", \"Topic15\", \"Topic15\", \"Topic15\", \"Topic15\"], \"logprob\": [30.0, 29.0, 28.0, 27.0, 26.0, 25.0, 24.0, 23.0, 22.0, 21.0, 20.0, 19.0, 18.0, 17.0, 16.0, 15.0, 14.0, 13.0, 12.0, 11.0, 10.0, 9.0, 8.0, 7.0, 6.0, 5.0, 4.0, 3.0, 2.0, 1.0, -2.3826, -2.7881, -2.7881, -2.7881, -2.7881, -2.7881, -3.4812, -3.4812, -3.4812, -3.4812, -3.4812, -4.1744, -4.1744, -4.1744, -4.1744, -4.1744, -4.1744, -4.1744, -4.1744, -4.1744, -4.1744, -4.1744, -4.1744, -4.1744, -4.1744, -4.1744, -4.1744, -4.1744, -4.1744, -4.1744, -2.3826, -2.7881, -2.7881, -2.7881, -2.7881, -2.7881, -3.4812, -3.4812, -3.4812, -3.4812, -3.4812, -4.1744, -4.1744, -4.1744, -4.1744, -4.1744, -4.1744, -4.1744, -4.1744, -4.1744, -4.1744, -4.1744, -4.1744, -4.1744, -4.1744, -4.1744, -4.1744, -4.1744, -4.1744, -4.1744, -4.1744, -2.3826, -2.7881, -2.7881, -2.7881, -2.7881, -2.7881, -3.4812, -3.4812, -3.4812, -3.4812, -3.4812, -4.1744, -4.1744, -4.1744, -4.1744, -4.1744, -4.1744, -4.1744, -4.1744, -4.1744, -4.1744, -4.1744, -4.1744, -4.1744, -4.1744, -4.1744, -4.1744, -4.1744, -4.1744, -4.1744, -4.1744, -2.3826, -2.7881, -2.7881, -2.7881, -2.7881, -2.7881, -3.4812, -3.4812, -3.4812, -3.4812, -3.4812, -4.1744, -4.1744, -4.1744, -4.1744, -4.1744, -4.1744, -4.1744, -4.1744, -4.1744, -4.1744, -4.1744, -4.1744, -4.1744, -4.1744, -4.1744, -4.1744, -4.1744, -4.1744, -4.1744, -4.1744, -2.3826, -2.7881, -2.7881, -2.7881, -2.7881, -2.7881, -3.4812, -3.4812, -3.4812, -3.4812, -3.4812, -4.1744, -4.1744, -4.1744, -4.1744, -4.1744, -4.1744, -4.1744, -4.1744, -4.1744, -4.1744, -4.1744, -4.1744, -4.1744, -4.1744, -4.1744, -4.1744, -4.1744, -4.1744, -4.1744, -4.1744, -2.3826, -2.7881, -2.7881, -2.7881, -2.7881, -2.7881, -3.4812, -3.4812, -3.4812, -3.4812, -3.4812, -4.1744, -4.1744, -4.1744, -4.1744, -4.1744, -4.1744, -4.1744, -4.1744, -4.1744, -4.1744, -4.1744, -4.1744, -4.1744, -4.1744, -4.1744, -4.1744, -4.1744, -4.1744, -4.1744, -2.3826, -2.7881, -2.7881, -2.7881, -2.7881, -2.7881, -3.4812, -3.4812, -3.4812, -3.4812, -3.4812, -4.1744, -4.1744, -4.1744, -4.1744, -4.1744, -4.1744, -4.1744, -4.1744, -4.1744, -4.1744, -4.1744, -4.1744, -4.1744, -4.1744, -4.1744, -4.1744, -4.1744, -4.1744, -4.1744, -4.1744, -4.1744, -2.3826, -2.7881, -2.7881, -2.7881, -2.7881, -2.7881, -3.4812, -3.4812, -3.4812, -3.4812, -3.4812, -4.1744, -4.1744, -4.1744, -4.1744, -4.1744, -4.1744, -4.1744, -4.1744, -4.1744, -4.1744, -4.1744, -4.1744, -4.1744, -4.1744, -4.1744, -4.1744, -4.1744, -4.1744, -4.1744, -3.6889, -3.6889, -3.6889, -3.6889, -3.6889, -3.6889, -3.6889, -3.6889, -3.6889, -3.6889, -3.6889, -3.6889, -3.6889, -3.6889, -3.6889, -3.6889, -3.6889, -3.6889, -3.6889, -3.6889, -3.6889, -3.6889, -3.6889, -3.6889, -3.6889, -3.6889, -3.6889, -3.6889, -3.6889, -3.6889, -3.6889, -3.6889, -3.6889, -3.6889, -3.6889, -3.6889, -3.6889, -3.6889, -3.6889, -3.6889, -3.6889, -3.6889, -3.6889, -3.6889, -3.6889, -3.6889, -3.6889, -3.6889, -3.6889, -3.6889, -3.6889, -3.6889, -3.6889, -3.6889, -3.6889, -3.6889, -3.6889, -3.6889, -3.6889, -3.6889, -3.6889, -3.6889, -3.6889, -3.6889, -3.6889, -3.6889, -3.6889, -3.6889, -3.6889, -3.6889, -3.6889, -3.6889, -3.6889, -3.6889, -3.6889, -3.6889, -3.6889, -3.6889, -3.6889, -3.6889, -3.6889, -3.6889, -3.6889, -3.6889, -3.6889, -3.6889, -3.6889, -3.6889, -3.6889, -3.6889, -3.6889, -3.6889, -3.6889, -3.6889, -3.6889, -3.6889, -3.6889, -3.6889, -3.6889, -3.6889, -3.6889, -3.6889, -3.6889, -3.6889, -3.6889, -3.6889, -3.6889, -3.6889, -3.6889, -3.6889, -3.6889, -3.6889, -3.6889, -3.6889, -3.6889, -3.6889, -3.6889, -3.6889, -3.6889, -3.6889, -3.6889, -3.6889, -3.6889, -3.6889, -3.6889, -3.6889, -3.6889, -3.6889, -3.6889, -3.6889, -3.6889, -3.6889, -3.6889, -3.6889, -3.6889, -3.6889, -3.6889, -3.6889, -3.6889, -3.6889, -3.6889, -3.6889, -3.6889, -3.6889, -3.6889, -3.6889, -3.6889, -3.6889, -3.6889, -3.6889, -3.6889, -3.6889, -3.6889, -3.6889, -3.6889, -3.6889, -3.6889, -3.6889, -3.6889, -3.6889, -3.6889, -3.6889, -3.6889, -3.6889, -3.6889, -3.6889, -3.6889, -3.6889, -3.6889, -3.6889, -3.6889, -3.6889, -3.6889, -3.6889, -3.6889, -3.6889, -3.6889, -3.6889, -3.6889, -3.6889, -3.6889, -3.6889, -3.6889, -3.6889, -3.6889, -3.6889, -3.6889, -3.6889, -3.6889, -3.6889, -3.6889, -3.6889, -3.6889, -3.6889, -3.6889, -3.6889, -3.6889, -3.6889, -3.6889, -3.6889, -3.6889, -3.6889, -3.6889, -3.6889, -3.6889, -3.6889, -3.6889, -3.6889, -3.6889, -3.6889, -3.6889, -3.6889, -3.6889, -3.6889, -3.6889, -3.6889, -3.6889, -3.6889, -3.6889, -3.6889, -3.6889, -3.6889, -3.6889, -3.6889, -3.6889, -3.6889, -3.6889, -3.6889, -3.6889, -3.6889, -3.6889, -3.6889, -3.6889, -3.6889, -3.6889, -3.6889, -3.6889, -3.6889, -3.6889, -3.6889, -3.6889, -3.6889, -3.6889, -3.6889, -3.6889, -3.6889, -3.6889, -3.6889, -3.6889, -3.6889, -3.6889, -3.6889, -3.6889, -3.6889, -3.6889, -3.6889, -3.6889, -3.6889, -3.6889, -3.6889, -3.6889, -3.6889, -3.6889, -3.6889, -3.6889, -3.6889], \"loglift\": [30.0, 29.0, 28.0, 27.0, 26.0, 25.0, 24.0, 23.0, 22.0, 21.0, 20.0, 19.0, 18.0, 17.0, 16.0, 15.0, 14.0, 13.0, 12.0, 11.0, 10.0, 9.0, 8.0, 7.0, 6.0, 5.0, 4.0, 3.0, 2.0, 1.0, 0.0052, 0.0042, 0.0042, 0.0042, 0.0042, 0.0042, 0.0013, 0.0013, 0.0013, 0.0013, 0.0013, -0.0044, -0.0044, -0.0044, -0.0044, -0.0044, -0.0044, -0.0044, -0.0044, -0.0044, -0.0044, -0.0044, -0.0044, -0.0044, -0.0044, -0.0044, -0.0044, -0.0044, -0.0044, -0.0044, 0.0052, 0.0042, 0.0042, 0.0042, 0.0042, 0.0042, 0.0013, 0.0013, 0.0013, 0.0013, 0.0013, -0.0044, -0.0044, -0.0044, -0.0044, -0.0044, -0.0044, -0.0044, -0.0044, -0.0044, -0.0044, -0.0044, -0.0044, -0.0044, -0.0044, -0.0044, -0.0044, -0.0044, -0.0044, -0.0044, -0.0044, 0.0052, 0.0042, 0.0042, 0.0042, 0.0042, 0.0042, 0.0013, 0.0013, 0.0013, 0.0013, 0.0013, -0.0044, -0.0044, -0.0044, -0.0044, -0.0044, -0.0044, -0.0044, -0.0044, -0.0044, -0.0044, -0.0044, -0.0044, -0.0044, -0.0044, -0.0044, -0.0044, -0.0044, -0.0044, -0.0044, -0.0044, 0.0052, 0.0042, 0.0042, 0.0042, 0.0042, 0.0042, 0.0013, 0.0013, 0.0013, 0.0013, 0.0013, -0.0044, -0.0044, -0.0044, -0.0044, -0.0044, -0.0044, -0.0044, -0.0044, -0.0044, -0.0044, -0.0044, -0.0044, -0.0044, -0.0044, -0.0044, -0.0044, -0.0044, -0.0044, -0.0044, -0.0044, 0.0052, 0.0042, 0.0042, 0.0042, 0.0042, 0.0042, 0.0013, 0.0013, 0.0013, 0.0013, 0.0013, -0.0044, -0.0044, -0.0044, -0.0044, -0.0044, -0.0044, -0.0044, -0.0044, -0.0044, -0.0044, -0.0044, -0.0044, -0.0044, -0.0044, -0.0044, -0.0044, -0.0044, -0.0044, -0.0044, -0.0044, 0.0052, 0.0042, 0.0042, 0.0042, 0.0042, 0.0042, 0.0013, 0.0013, 0.0013, 0.0013, 0.0013, -0.0044, -0.0044, -0.0044, -0.0044, -0.0044, -0.0044, -0.0044, -0.0044, -0.0044, -0.0044, -0.0044, -0.0044, -0.0044, -0.0044, -0.0044, -0.0044, -0.0044, -0.0044, -0.0044, 0.0052, 0.0042, 0.0042, 0.0042, 0.0042, 0.0042, 0.0013, 0.0013, 0.0013, 0.0013, 0.0013, -0.0044, -0.0044, -0.0044, -0.0044, -0.0044, -0.0044, -0.0044, -0.0044, -0.0044, -0.0044, -0.0044, -0.0044, -0.0044, -0.0044, -0.0044, -0.0044, -0.0044, -0.0044, -0.0044, -0.0044, -0.0044, 0.0052, 0.0042, 0.0042, 0.0042, 0.0042, 0.0042, 0.0013, 0.0013, 0.0013, 0.0013, 0.0013, -0.0044, -0.0044, -0.0044, -0.0044, -0.0044, -0.0044, -0.0044, -0.0044, -0.0044, -0.0044, -0.0044, -0.0044, -0.0044, -0.0044, -0.0044, -0.0044, -0.0044, -0.0044, -0.0044, 0.4811, 0.4811, 0.4811, 0.4811, 0.4811, 0.4811, 0.4811, 0.4811, 0.4811, 0.4811, 0.4811, 0.4811, 0.4811, 0.4811, 0.4811, 0.4811, 0.4811, 0.4811, 0.4811, 0.4811, 0.4811, 0.4811, 0.4811, 0.4811, 0.4811, 0.4811, 0.4811, 0.4811, 0.4811, -0.2063, -0.2063, -0.8966, -0.8966, -0.2063, -0.8966, -0.8966, -0.2063, -0.2063, 0.4811, 0.4811, 0.4811, 0.4811, 0.4811, 0.4811, 0.4811, 0.4811, 0.4811, 0.4811, 0.4811, 0.4811, 0.4811, 0.4811, 0.4811, 0.4811, 0.4811, 0.4811, 0.4811, 0.4811, 0.4811, 0.4811, 0.4811, 0.4811, 0.4811, 0.4811, 0.4811, 0.4811, 0.4811, -0.2063, -0.2063, -0.8966, -0.8966, -0.2063, -0.8966, -0.8966, -0.2063, -0.2063, 0.4811, 0.4811, 0.4811, 0.4811, 0.4811, 0.4811, 0.4811, 0.4811, 0.4811, 0.4811, 0.4811, 0.4811, 0.4811, 0.4811, 0.4811, 0.4811, 0.4811, 0.4811, 0.4811, 0.4811, 0.4811, 0.4811, 0.4811, 0.4811, 0.4811, 0.4811, 0.4811, 0.4811, 0.4811, -0.2063, -0.2063, -0.8966, -0.8966, -0.2063, -0.8966, -0.8966, -0.2063, -0.2063, 0.4811, 0.4811, 0.4811, 0.4811, 0.4811, 0.4811, 0.4811, 0.4811, 0.4811, 0.4811, 0.4811, 0.4811, 0.4811, 0.4811, 0.4811, 0.4811, 0.4811, 0.4811, 0.4811, 0.4811, 0.4811, 0.4811, 0.4811, 0.4811, 0.4811, 0.4811, 0.4811, 0.4811, 0.4811, -0.2063, -0.2063, -0.8966, -0.8966, -0.2063, -0.8966, -0.8966, -0.2063, -0.2063, 0.4811, 0.4811, 0.4811, 0.4811, 0.4811, 0.4811, 0.4811, 0.4811, 0.4811, 0.4811, 0.4811, 0.4811, 0.4811, 0.4811, 0.4811, 0.4811, 0.4811, 0.4811, 0.4811, 0.4811, 0.4811, 0.4811, 0.4811, 0.4811, 0.4811, 0.4811, 0.4811, 0.4811, 0.4811, -0.2063, -0.2063, -0.8966, -0.8966, -0.2063, -0.8966, -0.8966, -0.2063, -0.2063, 0.4811, 0.4811, 0.4811, 0.4811, 0.4811, 0.4811, 0.4811, 0.4811, 0.4811, 0.4811, 0.4811, 0.4811, 0.4811, 0.4811, 0.4811, 0.4811, 0.4811, 0.4811, 0.4811, 0.4811, 0.4811, 0.4811, 0.4811, 0.4811, 0.4811, 0.4811, 0.4811, 0.4811, 0.4811, -0.2063, -0.2063, -0.8966, -0.8966, -0.2063, -0.8966, -0.8966, -0.2063, -0.2063, 0.4811, 0.4811, 0.4811, 0.4811, 0.4811, 0.4811, 0.4811, 0.4811, 0.4811, 0.4811, 0.4811, 0.4811, 0.4811, 0.4811, 0.4811, 0.4811, 0.4811, 0.4811, 0.4811, 0.4811, 0.4811, 0.4811, 0.4811, 0.4811, 0.4811, 0.4811, 0.4811, 0.4811, 0.4811, -0.2063, -0.2063, -0.8966, -0.8966, -0.2063, -0.8966, -0.8966, -0.2063, -0.2063]}, \"token.table\": {\"Topic\": [1, 2, 3, 4, 5, 6, 7, 8, 9, 10, 11, 12, 13, 14, 15, 1, 2, 3, 4, 5, 6, 7, 8, 9, 10, 11, 12, 13, 14, 15, 1, 2, 3, 4, 5, 6, 7, 8, 9, 10, 11, 12, 13, 14, 15, 1, 2, 3, 4, 5, 6, 7, 8, 9, 10, 11, 12, 13, 14, 15, 1, 2, 3, 4, 5, 6, 7, 8, 9, 10, 11, 12, 13, 14, 15, 1, 2, 3, 4, 5, 6, 7, 8, 9, 10, 11, 12, 13, 14, 15, 1, 2, 3, 4, 5, 6, 7, 8, 9, 10, 11, 12, 13, 14, 15, 1, 2, 3, 4, 5, 6, 7, 8, 9, 10, 11, 12, 13, 14, 15, 1, 2, 3, 4, 5, 6, 7, 8, 9, 10, 11, 12, 13, 14, 15, 1, 2, 3, 4, 5, 6, 7, 8, 9, 10, 11, 12, 13, 14, 15, 1, 2, 3, 4, 5, 6, 7, 8, 9, 10, 11, 12, 13, 14, 15, 1, 2, 3, 4, 5, 6, 7, 8, 9, 10, 11, 12, 13, 14, 15, 1, 2, 3, 4, 5, 6, 7, 8, 9, 10, 11, 12, 13, 14, 15, 1, 2, 3, 4, 5, 6, 7, 8, 9, 10, 11, 12, 13, 14, 15, 1, 2, 3, 4, 5, 6, 7, 8, 9, 10, 11, 12, 13, 14, 15, 1, 2, 3, 4, 5, 6, 7, 8, 9, 10, 11, 12, 13, 14, 15, 1, 2, 3, 4, 5, 6, 7, 8, 9, 10, 11, 12, 13, 14, 15, 1, 2, 3, 4, 5, 6, 7, 8, 9, 10, 11, 12, 13, 14, 15, 1, 2, 3, 4, 5, 6, 7, 8, 9, 10, 11, 12, 13, 14, 15, 1, 2, 3, 4, 5, 6, 7, 8, 9, 10, 11, 12, 13, 14, 15, 1, 2, 3, 4, 5, 6, 7, 8, 9, 10, 11, 12, 13, 14, 15, 1, 2, 3, 4, 5, 6, 7, 8, 9, 10, 11, 12, 13, 14, 15, 1, 2, 3, 4, 5, 6, 7, 8, 9, 10, 11, 12, 13, 14, 15, 1, 2, 3, 4, 5, 6, 7, 8, 9, 10, 11, 12, 13, 14, 15, 1, 2, 3, 4, 5, 6, 7, 8, 9, 10, 11, 12, 13, 14, 15, 1, 2, 3, 4, 5, 6, 7, 8, 9, 10, 11, 12, 13, 14, 15, 1, 2, 3, 4, 5, 6, 7, 8, 9, 10, 11, 12, 13, 14, 15, 1, 2, 3, 4, 5, 6, 7, 8, 9, 10, 11, 12, 13, 14, 15, 1, 2, 3, 4, 5, 6, 7, 8, 9, 10, 11, 12, 13, 14, 15, 1, 2, 3, 4, 5, 6, 7, 8, 9, 10, 11, 12, 13, 14, 15, 1, 2, 3, 4, 5, 6, 7, 8, 9, 10, 11, 12, 13, 14, 15, 1, 2, 3, 4, 5, 6, 7, 8, 9, 10, 11, 12, 13, 14, 15, 1, 2, 3, 4, 5, 6, 7, 8, 9, 10, 11, 12, 13, 14, 15, 1, 2, 3, 4, 5, 6, 7, 8, 9, 10, 11, 12, 13, 14, 15, 1, 2, 3, 4, 5, 6, 7, 8, 9, 10, 11, 12, 13, 14, 15, 1, 2, 3, 4, 5, 6, 7, 8, 9, 10, 11, 12, 13, 14, 15, 1, 2, 3, 4, 5, 6, 7, 8, 9, 10, 11, 12, 13, 14, 15, 1, 2, 3, 4, 5, 6, 7, 8, 9, 10, 11, 12, 13, 14, 15, 1, 2, 3, 4, 5, 6, 7, 8, 9, 10, 11, 12, 13, 14, 15, 1, 2, 3, 4, 5, 6, 7, 8, 9, 10, 11, 12, 13, 14, 15], \"Freq\": [0.12439999921900703, 0.12399959966547194, 0.12376488268581344, 0.12361300699309323, 0.12361300699309323, 0.12353016570615494, 0.12318499367724538, 0.12245322897595709, 0.0016292119764531445, 0.0016292119764531445, 0.0016292119764531445, 0.0016292119764531445, 0.0016292119764531445, 0.0016292119764531445, 0.0016292119764531445, 0.12511558207901588, 0.12471287931760729, 0.12446986903055036, 0.12432406285831622, 0.12432406285831622, 0.124240745045611, 0.12389358749267255, 0.12316455663150182, 0.0008192918249347322, 0.0008192918249347322, 0.0008192918249347322, 0.0008192918249347322, 0.0008192918249347322, 0.0008192918249347322, 0.0008192918249347322, 0.1254764675024532, 0.12507608476763682, 0.12483237353774859, 0.12468266521081725, 0.12467918362181886, 0.12459910707485558, 0.12425442976401366, 0.12351633289635217, 0.0004108275018115837, 0.0004108275018115837, 0.0004108275018115837, 0.0004108275018115837, 0.0004108275018115837, 0.0004108275018115837, 0.0004108275018115837, 0.12440000182213982, 0.12399960226022616, 0.12376488527565609, 0.12361300957975781, 0.12361300957975781, 0.12353016829108601, 0.12318499625495355, 0.12245323153835272, 0.0016292120105452273, 0.0016292120105452273, 0.0016292120105452273, 0.0016292120105452273, 0.0016292120105452273, 0.0016292120105452273, 0.0016292120105452273, 0.12440000003224508, 0.12399960047609246, 0.12376488349489954, 0.12361300780118649, 0.12361300780118649, 0.12353016651370663, 0.12318499448254058, 0.12245322977646855, 0.0016292119871037648, 0.0016292119871037648, 0.0016292119871037648, 0.0016292119871037648, 0.0016292119871037648, 0.0016292119871037648, 0.0016292119871037648, 0.12439999931659312, 0.12399959976274393, 0.12376488278290129, 0.12361300709006195, 0.12361300709006195, 0.12353016580305867, 0.12318499377387833, 0.12245322907201603, 0.0016292119777311861, 0.0016292119777311861, 0.0016292119777311861, 0.0016292119777311861, 0.0016292119777311861, 0.0016292119777311861, 0.0016292119777311861, 0.12440000332974362, 0.12399960376297751, 0.12376488677556291, 0.12361301107782405, 0.12361301107782405, 0.1235301697881483, 0.12318499774783269, 0.12245323302236362, 0.00162921203028965, 0.00162921203028965, 0.00162921203028965, 0.00162921203028965, 0.00162921203028965, 0.00162921203028965, 0.00162921203028965, 0.12547647987682597, 0.12507609710252424, 0.12483238584860143, 0.124682677506906, 0.12467919591756424, 0.12459911936270389, 0.12425444201787021, 0.1235163450774183, 0.0004108275423270107, 0.0004108275423270107, 0.0004108275423270107, 0.0004108275423270107, 0.0004108275423270107, 0.0004108275423270107, 0.0004108275423270107, 0.12440000391418826, 0.12399960434554104, 0.1237648873570237, 0.12361301165857132, 0.12361301165857132, 0.12353017036850637, 0.12318499832656911, 0.12245323359766212, 0.001629212037943864, 0.001629212037943864, 0.001629212037943864, 0.001629212037943864, 0.001629212037943864, 0.001629212037943864, 0.001629212037943864, 0.12439999998959521, 0.12399960043357987, 0.12376488345246742, 0.12361300775880643, 0.12361300775880643, 0.12353016647135498, 0.12318499444030727, 0.12245322973448612, 0.0016292119865451982, 0.0016292119865451982, 0.0016292119865451982, 0.0016292119865451982, 0.0016292119865451982, 0.0016292119865451982, 0.0016292119865451982, 0.12440000002580442, 0.12399960046967254, 0.12376488348849177, 0.12361300779478657, 0.12361300779478657, 0.12353016650731101, 0.12318499447616282, 0.12245322977012868, 0.0016292119870194143, 0.0016292119870194143, 0.0016292119870194143, 0.0016292119870194143, 0.0016292119870194143, 0.0016292119870194143, 0.0016292119870194143, 0.12511558688722796, 0.12471288411034344, 0.1244698738139476, 0.12432406763611009, 0.12432406763611009, 0.12424074982020294, 0.12389359225392318, 0.12316456136473568, 0.0008192918564202497, 0.0008192918564202497, 0.0008192918564202497, 0.0008192918564202497, 0.0008192918564202497, 0.0008192918564202497, 0.0008192918564202497, 0.12439999998543264, 0.12399960042943069, 0.12376488344832609, 0.12361300775467018, 0.12361300775467018, 0.12353016646722151, 0.12318499443618534, 0.12245322973038868, 0.0016292119864906827, 0.0016292119864906827, 0.0016292119864906827, 0.0016292119864906827, 0.0016292119864906827, 0.0016292119864906827, 0.0016292119864906827, 0.1251155847983713, 0.12471288202821003, 0.12446987173587136, 0.12432406556046814, 0.12432406556046814, 0.12424074774595203, 0.12389359018546821, 0.12316455930845216, 0.0008192918427418319, 0.0008192918427418319, 0.0008192918427418319, 0.0008192918427418319, 0.0008192918427418319, 0.0008192918427418319, 0.0008192918427418319, 0.12440000011499507, 0.1239996005585761, 0.12376488357722705, 0.12361300788341296, 0.12361300788341296, 0.12353016659587801, 0.12318499456448234, 0.12245322985792355, 0.0016292119881875047, 0.0016292119881875047, 0.0016292119881875047, 0.0016292119881875047, 0.0016292119881875047, 0.0016292119881875047, 0.0016292119881875047, 0.12440000406831515, 0.12399960449917186, 0.12376488751036371, 0.12361301181172314, 0.12361301181172314, 0.12353017052155557, 0.12318499847919065, 0.12245323374937704, 0.001629212039962396, 0.001629212039962396, 0.001629212039962396, 0.001629212039962396, 0.001629212039962396, 0.001629212039962396, 0.001629212039962396, 0.12439999841811453, 0.12399959886715722, 0.12376488188900983, 0.12361300619726741, 0.12361300619726741, 0.12353016491086245, 0.12318499288417512, 0.12245322818759798, 0.001629211965964208, 0.001629211965964208, 0.001629211965964208, 0.001629211965964208, 0.001629211965964208, 0.001629211965964208, 0.001629211965964208, 0.12440000171144822, 0.12399960214989084, 0.12376488516552962, 0.12361300946976647, 0.12361300946976647, 0.1235301681811684, 0.12318499614534306, 0.12245323142939338, 0.0016292120090955482, 0.0016292120090955482, 0.0016292120090955482, 0.0016292120090955482, 0.0016292120090955482, 0.0016292120090955482, 0.0016292120090955482, 0.12440000144516039, 0.1239996018844601, 0.12376488490060131, 0.12361300920516326, 0.12361300920516326, 0.12353016791674251, 0.12318499588165605, 0.12245323116727276, 0.001629212005608094, 0.001629212005608094, 0.001629212005608094, 0.001629212005608094, 0.001629212005608094, 0.001629212005608094, 0.001629212005608094, 0.12440000017022736, 0.12399960061363062, 0.12376488363217736, 0.12361300793829584, 0.12361300793829584, 0.1235301666507241, 0.12318499461917519, 0.12245322991229149, 0.0016292119889108577, 0.0016292119889108577, 0.0016292119889108577, 0.0016292119889108577, 0.0016292119889108577, 0.0016292119889108577, 0.0016292119889108577, 0.12439999928949184, 0.1239995997357299, 0.1237648827559384, 0.12361300706313214, 0.12361300706313214, 0.12353016577614691, 0.12318499374704177, 0.12245322904533887, 0.0016292119773762528, 0.0016292119773762528, 0.0016292119773762528, 0.0016292119773762528, 0.0016292119773762528, 0.0016292119773762528, 0.0016292119773762528, 0.12547647493361652, 0.12507609217508805, 0.12483238093076637, 0.12468267259496876, 0.12467919100576418, 0.12459911445405848, 0.12425443712280354, 0.12351634021142932, 0.0004108275261422516, 0.0004108275261422516, 0.0004108275261422516, 0.0004108275261422516, 0.0004108275261422516, 0.0004108275261422516, 0.0004108275261422516, 0.1254764762285392, 0.12507609346587875, 0.12483238221904197, 0.12468267388169937, 0.12467919229245884, 0.12459911573992676, 0.12425443840511473, 0.12351634148612332, 0.0004108275303820095, 0.0004108275303820095, 0.0004108275303820095, 0.0004108275303820095, 0.0004108275303820095, 0.0004108275303820095, 0.0004108275303820095, 0.12439999469464359, 0.12399959515567081, 0.12376487818454884, 0.12361300249735228, 0.12361300249735228, 0.12353016121342687, 0.12318498919707105, 0.12245322452239667, 0.0016292119171995498, 0.0016292119171995498, 0.0016292119171995498, 0.0016292119171995498, 0.0016292119171995498, 0.0016292119171995498, 0.0016292119171995498, 0.12511558108423076, 0.12471287832602403, 0.12446986804089927, 0.12432406186982442, 0.12432406186982442, 0.12424074405778164, 0.12389358650760342, 0.12316455565222915, 0.000819291818420601, 0.000819291818420601, 0.000819291818420601, 0.000819291818420601, 0.000819291818420601, 0.000819291818420601, 0.000819291818420601, 0.12511558593135363, 0.12471288315754572, 0.12446987286300647, 0.12432406668628292, 0.12432406668628292, 0.12424074887101232, 0.12389359130738481, 0.12316456042376704, 0.0008192918501609172, 0.0008192918501609172, 0.0008192918501609172, 0.0008192918501609172, 0.0008192918501609172, 0.0008192918501609172, 0.0008192918501609172, 0.12440000112895723, 0.12399960156927468, 0.1237648845860125, 0.1236130088909605, 0.1236130088909605, 0.12353016760275032, 0.12318499556854122, 0.12245323085601795, 0.0016292120014669204, 0.0016292120014669204, 0.0016292120014669204, 0.0016292120014669204, 0.0016292120014669204, 0.0016292120014669204, 0.0016292120014669204, 0.12440000494656467, 0.12399960537459459, 0.12376488838412937, 0.12361301268441659, 0.12361301268441659, 0.12353017139366415, 0.12318499934886237, 0.12245323461388258, 0.0016292120514644428, 0.0016292120514644428, 0.0016292120514644428, 0.0016292120514644428, 0.0016292120514644428, 0.0016292120514644428, 0.0016292120514644428, 0.12439999855948425, 0.12399959900807193, 0.12376488202965781, 0.12361300633774279, 0.12361300633774279, 0.12353016505124369, 0.1231849930241641, 0.12245322832675537, 0.001629211967815665, 0.001629211967815665, 0.001629211967815665, 0.001629211967815665, 0.001629211967815665, 0.001629211967815665, 0.001629211967815665, 0.1244000060227545, 0.12399960644732055, 0.12376488945482479, 0.12361301375379813, 0.12361301375379813, 0.12353017246232903, 0.12318500041454114, 0.12245323567323083, 0.0016292120655588271, 0.0016292120655588271, 0.0016292120655588271, 0.0016292120655588271, 0.0016292120655588271, 0.0016292120655588271, 0.0016292120655588271, 0.12440000019833877, 0.12399960064165155, 0.12376488366014526, 0.12361300796622941, 0.12361300796622941, 0.12353016667863896, 0.12318499464701205, 0.122453229939963, 0.0016292119892790207, 0.0016292119892790207, 0.0016292119892790207, 0.0016292119892790207, 0.0016292119892790207, 0.0016292119892790207, 0.0016292119892790207, 0.12440000483453818, 0.12399960526292868, 0.12376488827267483, 0.12361301257309881, 0.12361301257309881, 0.12353017128242098, 0.12318499923793004, 0.12245323450360923, 0.0016292120499972814, 0.0016292120499972814, 0.0016292120499972814, 0.0016292120499972814, 0.0016292120499972814, 0.0016292120499972814, 0.0016292120499972814, 0.12440000769661591, 0.12399960811579439, 0.1237648911201404, 0.12361301541707016, 0.12361301541707016, 0.1235301741244864, 0.12318500207205406, 0.1224532373208975, 0.0016292120874806522, 0.0016292120874806522, 0.0016292120874806522, 0.0016292120874806522, 0.0016292120874806522, 0.0016292120874806522, 0.0016292120874806522, 0.1255995570590724, 0.1251953040314133, 0.12495135823886039, 0.12480266747006623, 0.12480034417680383, 0.12471670561935712, 0.12437285821652064, 0.1236363742523371, 0.0002741486049642171, 0.0002741486049642171, 0.0002741486049642171, 0.0002741486049642171, 0.0002741486049642171, 0.0002741486049642171, 0.0002741486049642171, 0.1244000017468623, 0.12399960218519093, 0.1237648852007629, 0.12361300950495652, 0.12361300950495652, 0.12353016821633485, 0.12318499618041126, 0.12245323146425324, 0.0016292120095593508, 0.0016292120095593508, 0.0016292120095593508, 0.0016292120095593508, 0.0016292120095593508, 0.0016292120095593508, 0.0016292120095593508, 0.12439999939169098, 0.12399959983760007, 0.12376488285761575, 0.12361300716468472, 0.12361300716468472, 0.12353016587763142, 0.12318499384824272, 0.12245322914593865, 0.0016292119787147097, 0.0016292119787147097, 0.0016292119787147097, 0.0016292119787147097, 0.0016292119787147097, 0.0016292119787147097, 0.0016292119787147097, 0.12547647124511724, 0.1250760884983584, 0.12483237726120085, 0.12468266892980406, 0.12467918734070182, 0.1245956292022478, 0.12425443347022723, 0.12351633658055007, 0.0004108275140655892, 0.0004108275140655892, 0.0004108275140655892, 0.0004108275140655892, 0.0004108275140655892, 0.0004108275140655892, 0.0004108275140655892, 0.12440000868237017, 0.12399960909837586, 0.12376489210086195, 0.12361301639658824, 0.12361301639658824, 0.12353017510334804, 0.12318500304818053, 0.12245323829122541, 0.0016292121003906414, 0.0016292121003906414, 0.0016292121003906414, 0.0016292121003906414, 0.0016292121003906414, 0.0016292121003906414, 0.0016292121003906414, 0.12440000228508231, 0.1239996027216786, 0.12376488573623505, 0.12361301003977158, 0.12361301003977158, 0.12353016875079151, 0.12318499671337452, 0.1224532319940505, 0.0016292120166081813, 0.0016292120166081813, 0.0016292120166081813, 0.0016292120166081813, 0.0016292120166081813, 0.0016292120166081813, 0.0016292120166081813, 0.12440000294417432, 0.12399960337864922, 0.1237648863919621, 0.12361301069469396, 0.12361301069469396, 0.12353016940527499, 0.12318499736602921, 0.12245323264282819, 0.0016292120252400187, 0.0016292120252400187, 0.0016292120252400187, 0.0016292120252400187, 0.0016292120252400187, 0.0016292120252400187, 0.0016292120252400187], \"Term\": [\"artt\\u0131\", \"artt\\u0131\", \"artt\\u0131\", \"artt\\u0131\", \"artt\\u0131\", \"artt\\u0131\", \"artt\\u0131\", \"artt\\u0131\", \"artt\\u0131\", \"artt\\u0131\", \"artt\\u0131\", \"artt\\u0131\", \"artt\\u0131\", \"artt\\u0131\", \"artt\\u0131\", \"art\\u0131\\u015fla\", \"art\\u0131\\u015fla\", \"art\\u0131\\u015fla\", \"art\\u0131\\u015fla\", \"art\\u0131\\u015fla\", \"art\\u0131\\u015fla\", \"art\\u0131\\u015fla\", \"art\\u0131\\u015fla\", \"art\\u0131\\u015fla\", \"art\\u0131\\u015fla\", \"art\\u0131\\u015fla\", \"art\\u0131\\u015fla\", \"art\\u0131\\u015fla\", \"art\\u0131\\u015fla\", \"art\\u0131\\u015fla\", \"ay\\u0131nda\", \"ay\\u0131nda\", \"ay\\u0131nda\", \"ay\\u0131nda\", \"ay\\u0131nda\", \"ay\\u0131nda\", \"ay\\u0131nda\", \"ay\\u0131nda\", \"ay\\u0131nda\", \"ay\\u0131nda\", \"ay\\u0131nda\", \"ay\\u0131nda\", \"ay\\u0131nda\", \"ay\\u0131nda\", \"ay\\u0131nda\", \"azald\\u0131\", \"azald\\u0131\", \"azald\\u0131\", \"azald\\u0131\", \"azald\\u0131\", \"azald\\u0131\", \"azald\\u0131\", \"azald\\u0131\", \"azald\\u0131\", \"azald\\u0131\", \"azald\\u0131\", \"azald\\u0131\", \"azald\\u0131\", \"azald\\u0131\", \"azald\\u0131\", \"azal\\u0131\\u015fla\", \"azal\\u0131\\u015fla\", \"azal\\u0131\\u015fla\", \"azal\\u0131\\u015fla\", \"azal\\u0131\\u015fla\", \"azal\\u0131\\u015fla\", \"azal\\u0131\\u015fla\", \"azal\\u0131\\u015fla\", \"azal\\u0131\\u015fla\", \"azal\\u0131\\u015fla\", \"azal\\u0131\\u015fla\", \"azal\\u0131\\u015fla\", \"azal\\u0131\\u015fla\", \"azal\\u0131\\u015fla\", \"azal\\u0131\\u015fla\", \"a\\u00e7\\u0131klad\\u0131\", \"a\\u00e7\\u0131klad\\u0131\", \"a\\u00e7\\u0131klad\\u0131\", \"a\\u00e7\\u0131klad\\u0131\", \"a\\u00e7\\u0131klad\\u0131\", \"a\\u00e7\\u0131klad\\u0131\", \"a\\u00e7\\u0131klad\\u0131\", \"a\\u00e7\\u0131klad\\u0131\", \"a\\u00e7\\u0131klad\\u0131\", \"a\\u00e7\\u0131klad\\u0131\", \"a\\u00e7\\u0131klad\\u0131\", \"a\\u00e7\\u0131klad\\u0131\", \"a\\u00e7\\u0131klad\\u0131\", \"a\\u00e7\\u0131klad\\u0131\", \"a\\u00e7\\u0131klad\\u0131\", \"bakan\\u0131\", \"bakan\\u0131\", \"bakan\\u0131\", \"bakan\\u0131\", \"bakan\\u0131\", \"bakan\\u0131\", \"bakan\\u0131\", \"bakan\\u0131\", \"bakan\\u0131\", \"bakan\\u0131\", \"bakan\\u0131\", \"bakan\\u0131\", \"bakan\\u0131\", \"bakan\\u0131\", \"bakan\\u0131\", \"dolar\", \"dolar\", \"dolar\", \"dolar\", \"dolar\", \"dolar\", \"dolar\", \"dolar\", \"dolar\", \"dolar\", \"dolar\", \"dolar\", \"dolar\", \"dolar\", \"dolar\", \"d\\u00fc\\u015f\\u00fc\\u015fle\", \"d\\u00fc\\u015f\\u00fc\\u015fle\", \"d\\u00fc\\u015f\\u00fc\\u015fle\", \"d\\u00fc\\u015f\\u00fc\\u015fle\", \"d\\u00fc\\u015f\\u00fc\\u015fle\", \"d\\u00fc\\u015f\\u00fc\\u015fle\", \"d\\u00fc\\u015f\\u00fc\\u015fle\", \"d\\u00fc\\u015f\\u00fc\\u015fle\", \"d\\u00fc\\u015f\\u00fc\\u015fle\", \"d\\u00fc\\u015f\\u00fc\\u015fle\", \"d\\u00fc\\u015f\\u00fc\\u015fle\", \"d\\u00fc\\u015f\\u00fc\\u015fle\", \"d\\u00fc\\u015f\\u00fc\\u015fle\", \"d\\u00fc\\u015f\\u00fc\\u015fle\", \"d\\u00fc\\u015f\\u00fc\\u015fle\", \"eskiden\", \"eskiden\", \"eskiden\", \"eskiden\", \"eskiden\", \"eskiden\", \"eskiden\", \"eskiden\", \"eskiden\", \"eskiden\", \"eskiden\", \"eskiden\", \"eskiden\", \"eskiden\", \"eskiden\", \"foto\\u011fraf\", \"foto\\u011fraf\", \"foto\\u011fraf\", \"foto\\u011fraf\", \"foto\\u011fraf\", \"foto\\u011fraf\", \"foto\\u011fraf\", \"foto\\u011fraf\", \"foto\\u011fraf\", \"foto\\u011fraf\", \"foto\\u011fraf\", \"foto\\u011fraf\", \"foto\\u011fraf\", \"foto\\u011fraf\", \"foto\\u011fraf\", \"ger\\u00e7ekle\\u015fmi\\u015ftir\", \"ger\\u00e7ekle\\u015fmi\\u015ftir\", \"ger\\u00e7ekle\\u015fmi\\u015ftir\", \"ger\\u00e7ekle\\u015fmi\\u015ftir\", \"ger\\u00e7ekle\\u015fmi\\u015ftir\", \"ger\\u00e7ekle\\u015fmi\\u015ftir\", \"ger\\u00e7ekle\\u015fmi\\u015ftir\", \"ger\\u00e7ekle\\u015fmi\\u015ftir\", \"ger\\u00e7ekle\\u015fmi\\u015ftir\", \"ger\\u00e7ekle\\u015fmi\\u015ftir\", \"ger\\u00e7ekle\\u015fmi\\u015ftir\", \"ger\\u00e7ekle\\u015fmi\\u015ftir\", \"ger\\u00e7ekle\\u015fmi\\u015ftir\", \"ger\\u00e7ekle\\u015fmi\\u015ftir\", \"ger\\u00e7ekle\\u015fmi\\u015ftir\", \"ger\\u00e7ekle\\u015fti\\u011fini\", \"ger\\u00e7ekle\\u015fti\\u011fini\", \"ger\\u00e7ekle\\u015fti\\u011fini\", \"ger\\u00e7ekle\\u015fti\\u011fini\", \"ger\\u00e7ekle\\u015fti\\u011fini\", \"ger\\u00e7ekle\\u015fti\\u011fini\", \"ger\\u00e7ekle\\u015fti\\u011fini\", \"ger\\u00e7ekle\\u015fti\\u011fini\", \"ger\\u00e7ekle\\u015fti\\u011fini\", \"ger\\u00e7ekle\\u015fti\\u011fini\", \"ger\\u00e7ekle\\u015fti\\u011fini\", \"ger\\u00e7ekle\\u015fti\\u011fini\", \"ger\\u00e7ekle\\u015fti\\u011fini\", \"ger\\u00e7ekle\\u015fti\\u011fini\", \"ger\\u00e7ekle\\u015fti\\u011fini\", \"g\\u00f6re\", \"g\\u00f6re\", \"g\\u00f6re\", \"g\\u00f6re\", \"g\\u00f6re\", \"g\\u00f6re\", \"g\\u00f6re\", \"g\\u00f6re\", \"g\\u00f6re\", \"g\\u00f6re\", \"g\\u00f6re\", \"g\\u00f6re\", \"g\\u00f6re\", \"g\\u00f6re\", \"g\\u00f6re\", \"ihracat\", \"ihracat\", \"ihracat\", \"ihracat\", \"ihracat\", \"ihracat\", \"ihracat\", \"ihracat\", \"ihracat\", \"ihracat\", \"ihracat\", \"ihracat\", \"ihracat\", \"ihracat\", \"ihracat\", \"ihracat\\u0131m\\u0131z\", \"ihracat\\u0131m\\u0131z\", \"ihracat\\u0131m\\u0131z\", \"ihracat\\u0131m\\u0131z\", \"ihracat\\u0131m\\u0131z\", \"ihracat\\u0131m\\u0131z\", \"ihracat\\u0131m\\u0131z\", \"ihracat\\u0131m\\u0131z\", \"ihracat\\u0131m\\u0131z\", \"ihracat\\u0131m\\u0131z\", \"ihracat\\u0131m\\u0131z\", \"ihracat\\u0131m\\u0131z\", \"ihracat\\u0131m\\u0131z\", \"ihracat\\u0131m\\u0131z\", \"ihracat\\u0131m\\u0131z\", \"ihracat\\u0131n\", \"ihracat\\u0131n\", \"ihracat\\u0131n\", \"ihracat\\u0131n\", \"ihracat\\u0131n\", \"ihracat\\u0131n\", \"ihracat\\u0131n\", \"ihracat\\u0131n\", \"ihracat\\u0131n\", \"ihracat\\u0131n\", \"ihracat\\u0131n\", \"ihracat\\u0131n\", \"ihracat\\u0131n\", \"ihracat\\u0131n\", \"ihracat\\u0131n\", \"ithalat\", \"ithalat\", \"ithalat\", \"ithalat\", \"ithalat\", \"ithalat\", \"ithalat\", \"ithalat\", \"ithalat\", \"ithalat\", \"ithalat\", \"ithalat\", \"ithalat\", \"ithalat\", \"ithalat\", \"ithalat\\u0131m\\u0131z\", \"ithalat\\u0131m\\u0131z\", \"ithalat\\u0131m\\u0131z\", \"ithalat\\u0131m\\u0131z\", \"ithalat\\u0131m\\u0131z\", \"ithalat\\u0131m\\u0131z\", \"ithalat\\u0131m\\u0131z\", \"ithalat\\u0131m\\u0131z\", \"ithalat\\u0131m\\u0131z\", \"ithalat\\u0131m\\u0131z\", \"ithalat\\u0131m\\u0131z\", \"ithalat\\u0131m\\u0131z\", \"ithalat\\u0131m\\u0131z\", \"ithalat\\u0131m\\u0131z\", \"ithalat\\u0131m\\u0131z\", \"ithalat\\u0131n\", \"ithalat\\u0131n\", \"ithalat\\u0131n\", \"ithalat\\u0131n\", \"ithalat\\u0131n\", \"ithalat\\u0131n\", \"ithalat\\u0131n\", \"ithalat\\u0131n\", \"ithalat\\u0131n\", \"ithalat\\u0131n\", \"ithalat\\u0131n\", \"ithalat\\u0131n\", \"ithalat\\u0131n\", \"ithalat\\u0131n\", \"ithalat\\u0131n\", \"kulland\\u0131\\u011f\\u0131m\\u0131z\", \"kulland\\u0131\\u011f\\u0131m\\u0131z\", \"kulland\\u0131\\u011f\\u0131m\\u0131z\", \"kulland\\u0131\\u011f\\u0131m\\u0131z\", \"kulland\\u0131\\u011f\\u0131m\\u0131z\", \"kulland\\u0131\\u011f\\u0131m\\u0131z\", \"kulland\\u0131\\u011f\\u0131m\\u0131z\", \"kulland\\u0131\\u011f\\u0131m\\u0131z\", \"kulland\\u0131\\u011f\\u0131m\\u0131z\", \"kulland\\u0131\\u011f\\u0131m\\u0131z\", \"kulland\\u0131\\u011f\\u0131m\\u0131z\", \"kulland\\u0131\\u011f\\u0131m\\u0131z\", \"kulland\\u0131\\u011f\\u0131m\\u0131z\", \"kulland\\u0131\\u011f\\u0131m\\u0131z\", \"kulland\\u0131\\u011f\\u0131m\\u0131z\", \"milyar\", \"milyar\", \"milyar\", \"milyar\", \"milyar\", \"milyar\", \"milyar\", \"milyar\", \"milyar\", \"milyar\", \"milyar\", \"milyar\", \"milyar\", \"milyar\", \"milyar\", \"milyon\", \"milyon\", \"milyon\", \"milyon\", \"milyon\", \"milyon\", \"milyon\", \"milyon\", \"milyon\", \"milyon\", \"milyon\", \"milyon\", \"milyon\", \"milyon\", \"milyon\", \"nticaret\", \"nticaret\", \"nticaret\", \"nticaret\", \"nticaret\", \"nticaret\", \"nticaret\", \"nticaret\", \"nticaret\", \"nticaret\", \"nticaret\", \"nticaret\", \"nticaret\", \"nticaret\", \"nticaret\", \"olarak\", \"olarak\", \"olarak\", \"olarak\", \"olarak\", \"olarak\", \"olarak\", \"olarak\", \"olarak\", \"olarak\", \"olarak\", \"olarak\", \"olarak\", \"olarak\", \"olarak\", \"pekcan\", \"pekcan\", \"pekcan\", \"pekcan\", \"pekcan\", \"pekcan\", \"pekcan\", \"pekcan\", \"pekcan\", \"pekcan\", \"pekcan\", \"pekcan\", \"pekcan\", \"pekcan\", \"pekcan\", \"reklam\", \"reklam\", \"reklam\", \"reklam\", \"reklam\", \"reklam\", \"reklam\", \"reklam\", \"reklam\", \"reklam\", \"reklam\", \"reklam\", \"reklam\", \"reklam\", \"reklam\", \"reutersnbakan\", \"reutersnbakan\", \"reutersnbakan\", \"reutersnbakan\", \"reutersnbakan\", \"reutersnbakan\", \"reutersnbakan\", \"reutersnbakan\", \"reutersnbakan\", \"reutersnbakan\", \"reutersnbakan\", \"reutersnbakan\", \"reutersnbakan\", \"reutersnbakan\", \"reutersnbakan\", \"ruhsar\", \"ruhsar\", \"ruhsar\", \"ruhsar\", \"ruhsar\", \"ruhsar\", \"ruhsar\", \"ruhsar\", \"ruhsar\", \"ruhsar\", \"ruhsar\", \"ruhsar\", \"ruhsar\", \"ruhsar\", \"ruhsar\", \"seviyesinde\", \"seviyesinde\", \"seviyesinde\", \"seviyesinde\", \"seviyesinde\", \"seviyesinde\", \"seviyesinde\", \"seviyesinde\", \"seviyesinde\", \"seviyesinde\", \"seviyesinde\", \"seviyesinde\", \"seviyesinde\", \"seviyesinde\", \"seviyesinde\", \"sistemine\", \"sistemine\", \"sistemine\", \"sistemine\", \"sistemine\", \"sistemine\", \"sistemine\", \"sistemine\", \"sistemine\", \"sistemine\", \"sistemine\", \"sistemine\", \"sistemine\", \"sistemine\", \"sistemine\", \"s\\u00f6yledi\", \"s\\u00f6yledi\", \"s\\u00f6yledi\", \"s\\u00f6yledi\", \"s\\u00f6yledi\", \"s\\u00f6yledi\", \"s\\u00f6yledi\", \"s\\u00f6yledi\", \"s\\u00f6yledi\", \"s\\u00f6yledi\", \"s\\u00f6yledi\", \"s\\u00f6yledi\", \"s\\u00f6yledi\", \"s\\u00f6yledi\", \"s\\u00f6yledi\", \"ticaret\", \"ticaret\", \"ticaret\", \"ticaret\", \"ticaret\", \"ticaret\", \"ticaret\", \"ticaret\", \"ticaret\", \"ticaret\", \"ticaret\", \"ticaret\", \"ticaret\", \"ticaret\", \"ticaret\", \"y\\u00fczde\", \"y\\u00fczde\", \"y\\u00fczde\", \"y\\u00fczde\", \"y\\u00fczde\", \"y\\u00fczde\", \"y\\u00fczde\", \"y\\u00fczde\", \"y\\u00fczde\", \"y\\u00fczde\", \"y\\u00fczde\", \"y\\u00fczde\", \"y\\u00fczde\", \"y\\u00fczde\", \"y\\u00fczde\", \"\\u00f6ts\\u2019ye\", \"\\u00f6ts\\u2019ye\", \"\\u00f6ts\\u2019ye\", \"\\u00f6ts\\u2019ye\", \"\\u00f6ts\\u2019ye\", \"\\u00f6ts\\u2019ye\", \"\\u00f6ts\\u2019ye\", \"\\u00f6ts\\u2019ye\", \"\\u00f6ts\\u2019ye\", \"\\u00f6ts\\u2019ye\", \"\\u00f6ts\\u2019ye\", \"\\u00f6ts\\u2019ye\", \"\\u00f6ts\\u2019ye\", \"\\u00f6ts\\u2019ye\", \"\\u00f6ts\\u2019ye\", \"\\u00f6zel\", \"\\u00f6zel\", \"\\u00f6zel\", \"\\u00f6zel\", \"\\u00f6zel\", \"\\u00f6zel\", \"\\u00f6zel\", \"\\u00f6zel\", \"\\u00f6zel\", \"\\u00f6zel\", \"\\u00f6zel\", \"\\u00f6zel\", \"\\u00f6zel\", \"\\u00f6zel\", \"\\u00f6zel\", \"\\u015fubat\", \"\\u015fubat\", \"\\u015fubat\", \"\\u015fubat\", \"\\u015fubat\", \"\\u015fubat\", \"\\u015fubat\", \"\\u015fubat\", \"\\u015fubat\", \"\\u015fubat\", \"\\u015fubat\", \"\\u015fubat\", \"\\u015fubat\", \"\\u015fubat\", \"\\u015fubat\", \"\\u015funlar\\u0131\", \"\\u015funlar\\u0131\", \"\\u015funlar\\u0131\", \"\\u015funlar\\u0131\", \"\\u015funlar\\u0131\", \"\\u015funlar\\u0131\", \"\\u015funlar\\u0131\", \"\\u015funlar\\u0131\", \"\\u015funlar\\u0131\", \"\\u015funlar\\u0131\", \"\\u015funlar\\u0131\", \"\\u015funlar\\u0131\", \"\\u015funlar\\u0131\", \"\\u015funlar\\u0131\", \"\\u015funlar\\u0131\", \"\\u201c\", \"\\u201c\", \"\\u201c\", \"\\u201c\", \"\\u201c\", \"\\u201c\", \"\\u201c\", \"\\u201c\", \"\\u201c\", \"\\u201c\", \"\\u201c\", \"\\u201c\", \"\\u201c\", \"\\u201c\", \"\\u201c\", \"\\u201d\", \"\\u201d\", \"\\u201d\", \"\\u201d\", \"\\u201d\", \"\\u201d\", \"\\u201d\", \"\\u201d\", \"\\u201d\", \"\\u201d\", \"\\u201d\", \"\\u201d\", \"\\u201d\", \"\\u201d\", \"\\u201d\"]}, \"R\": 30, \"lambda.step\": 0.01, \"plot.opts\": {\"xlab\": \"PC1\", \"ylab\": \"PC2\"}, \"topic.order\": [1, 15, 5, 11, 3, 13, 4, 9, 2, 6, 7, 8, 10, 12, 14]};\n",
              "\n",
              "function LDAvis_load_lib(url, callback){\n",
              "  var s = document.createElement('script');\n",
              "  s.src = url;\n",
              "  s.async = true;\n",
              "  s.onreadystatechange = s.onload = callback;\n",
              "  s.onerror = function(){console.warn(\"failed to load library \" + url);};\n",
              "  document.getElementsByTagName(\"head\")[0].appendChild(s);\n",
              "}\n",
              "\n",
              "if(typeof(LDAvis) !== \"undefined\"){\n",
              "   // already loaded: just create the visualization\n",
              "   !function(LDAvis){\n",
              "       new LDAvis(\"#\" + \"ldavis_el7351376988475655043782020412\", ldavis_el7351376988475655043782020412_data);\n",
              "   }(LDAvis);\n",
              "}else if(typeof define === \"function\" && define.amd){\n",
              "   // require.js is available: use it to load d3/LDAvis\n",
              "   require.config({paths: {d3: \"https://d3js.org/d3.v5\"}});\n",
              "   require([\"d3\"], function(d3){\n",
              "      window.d3 = d3;\n",
              "      LDAvis_load_lib(\"https://cdn.jsdelivr.net/gh/bmabey/pyLDAvis@3.4.0/pyLDAvis/js/ldavis.v3.0.0.js\", function(){\n",
              "        new LDAvis(\"#\" + \"ldavis_el7351376988475655043782020412\", ldavis_el7351376988475655043782020412_data);\n",
              "      });\n",
              "    });\n",
              "}else{\n",
              "    // require.js not available: dynamically load d3 & LDAvis\n",
              "    LDAvis_load_lib(\"https://d3js.org/d3.v5.js\", function(){\n",
              "         LDAvis_load_lib(\"https://cdn.jsdelivr.net/gh/bmabey/pyLDAvis@3.4.0/pyLDAvis/js/ldavis.v3.0.0.js\", function(){\n",
              "                 new LDAvis(\"#\" + \"ldavis_el7351376988475655043782020412\", ldavis_el7351376988475655043782020412_data);\n",
              "            })\n",
              "         });\n",
              "}\n",
              "</script>"
            ]
          },
          "metadata": {},
          "execution_count": 27
        }
      ]
    },
    {
      "cell_type": "markdown",
      "source": [
        "Bu kod parçası, LDA modelinizin görselleştirilmiş bir temsilini sağlar. LDA modelindeki konuları daha iyi anlamak ve analiz etmek için kullanılır. Görselleştirme, konuların ve kelimelerin nasıl ilişkili olduğunu, hangi kelimelerin hangi konulara ait olduğunu ve konular arasında nasıl bir ayrım olduğunu görmenizi sağlar."
      ],
      "metadata": {
        "id": "AhE_AAn-9Qwd"
      }
    },
    {
      "cell_type": "markdown",
      "source": [
        "# Choosing best topic by Coherence Score"
      ],
      "metadata": {
        "id": "lu1dX4LS9XD3"
      }
    },
    {
      "cell_type": "code",
      "source": [
        "topic_number_range_list = range(9,30,3)\n",
        "\n",
        "coherence_score_list = list()\n",
        "topic_number_list = list()\n",
        "\n",
        "for topic_number in topic_number_range_list:\n",
        "    lda_model = gensim.models.ldamodel.LdaModel(\n",
        "                                                corpus= document_term_matrix,\n",
        "                                                id2word= word_list,\n",
        "                                                num_topics = topic_number,\n",
        "                                                passes = 10\n",
        "                                                )\n",
        "\n",
        "    coherence_model_lda = CoherenceModel(\n",
        "                                        model = lda_model,\n",
        "                                        texts = tokenized_text,\n",
        "                                        dictionary = word_list,\n",
        "                                        coherence='c_v'\n",
        "                                        )\n",
        "\n",
        "    temp_coherence_score_lda = coherence_model_lda.get_coherence()\n",
        "    coherence_score_list.append(temp_coherence_score_lda)\n",
        "    topic_number_list.append(topic_number)"
      ],
      "metadata": {
        "colab": {
          "base_uri": "https://localhost:8080/"
        },
        "id": "7JC-VnyL9YG8",
        "outputId": "497d1ace-0d97-4a9d-9ae8-04da2f510e51"
      },
      "execution_count": null,
      "outputs": [
        {
          "output_type": "stream",
          "name": "stderr",
          "text": [
            "/usr/local/lib/python3.10/dist-packages/ipykernel/ipkernel.py:283: DeprecationWarning: `should_run_async` will not call `transform_cell` automatically in the future. Please pass the result to `transformed_cell` argument and any exception that happen during thetransform in `preprocessing_exc_tuple` in IPython 7.17 and above.\n",
            "  and should_run_async(code)\n"
          ]
        }
      ]
    },
    {
      "cell_type": "markdown",
      "source": [
        "Ne İşe Yarar?\n",
        "\n",
        "Bu kod, LDA modelinizin çeşitli konu (topic) sayıları için koherans (coherence) puanlarını hesaplar. Koherans, konuların ne kadar anlamlı olduğunu ve kelimelerin konu içinde ne kadar tutarlı olduğunu ölçen bir metriktir. Koherans puanları, konu modellemesi için en iyi parametre ayarlarını belirlemek için kullanılır.\n",
        "\n",
        "\n",
        "Ne Zaman Kullanılır?\n",
        "\n",
        "Model Seçimi: Farklı konu sayıları için koherans puanlarını karşılaştırarak, hangi konu sayısının en iyi performansı gösterdiğini belirleyebilirsiniz. Genellikle, yüksek koherans puanı daha iyi anlamlı konuları ifade eder.\n",
        "\n",
        "Model Değerlendirme: LDA modelinin doğruluğunu ve konuların anlamlılığını değerlendirmek için kullanılır."
      ],
      "metadata": {
        "id": "LpwMN2iW-In3"
      }
    },
    {
      "cell_type": "code",
      "source": [
        "plt.plot(topic_number_list, coherence_score_list, \"-\")\n",
        "plt.xlabel(\"Topic Numbers\")\n",
        "plt.ylabel(\"Coherence Scores\")\n",
        "\n",
        "plt.show()"
      ],
      "metadata": {
        "colab": {
          "base_uri": "https://localhost:8080/",
          "height": 505
        },
        "id": "C7Kuyre--PBG",
        "outputId": "ac66ef28-1fc6-4d35-b34b-690b8e547019"
      },
      "execution_count": null,
      "outputs": [
        {
          "output_type": "stream",
          "name": "stderr",
          "text": [
            "/usr/local/lib/python3.10/dist-packages/ipykernel/ipkernel.py:283: DeprecationWarning: `should_run_async` will not call `transform_cell` automatically in the future. Please pass the result to `transformed_cell` argument and any exception that happen during thetransform in `preprocessing_exc_tuple` in IPython 7.17 and above.\n",
            "  and should_run_async(code)\n"
          ]
        },
        {
          "output_type": "display_data",
          "data": {
            "text/plain": [
              "<Figure size 640x480 with 1 Axes>"
            ],
            "image/png": "[encoded data removed]"
          },
          "metadata": {}
        }
      ]
    },
    {
      "cell_type": "markdown",
      "source": [
        "Ne İşe Yarar?\n",
        "\n",
        "Bu kod parçası, farklı konu sayıları için koherans puanlarını görsel olarak analiz etmenizi sağlar. Grafikte:\n",
        "\n",
        "X ekseninde: Farklı konu sayıları (örneğin, 9, 12, 15, ...).\n",
        "Y ekseninde: Bu konu sayıları için hesaplanan koherans puanları.\n",
        "\n",
        "Ne İçin Kullanılır?\n",
        "\n",
        "Model Seçimi: Koherans puanları ile konu sayıları arasındaki ilişkiyi görselleştirerek, hangi konu sayısının en iyi sonuçları verdiğini belirlemenize yardımcı olur. Genellikle, koherans puanı en yüksek olan konu sayısı en anlamlı ve etkili sonuçları sağlar.\n",
        "\n",
        "Model Performansı: Modelin performansını değerlendirmek için, konu sayılarının koherans puanlarına olan etkisini görselleştirir."
      ],
      "metadata": {
        "id": "KaPdU_Xe_PjD"
      }
    },
    {
      "cell_type": "code",
      "source": [
        "topics = lda_model.print_topics(num_words=7)\n",
        "topics = sorted(topics, key = lambda x: x[0])\n",
        "\n",
        "for topic in topics:\n",
        "    print(topic)"
      ],
      "metadata": {
        "colab": {
          "base_uri": "https://localhost:8080/"
        },
        "id": "kVNqReby-fIe",
        "outputId": "cd76b868-9ed0-4cc9-e195-da300914b1f9"
      },
      "execution_count": null,
      "outputs": [
        {
          "output_type": "stream",
          "name": "stdout",
          "text": [
            "(1, '0.092*\"yüzde\" + 0.062*\"şubat\" + 0.062*\"milyar\" + 0.062*\"dolar\" + 0.062*\"milyon\" + 0.062*\"ayında\" + 0.031*\"göre\"')\n",
            "(4, '0.092*\"yüzde\" + 0.062*\"dolar\" + 0.062*\"milyon\" + 0.062*\"ayında\" + 0.062*\"şubat\" + 0.062*\"milyar\" + 0.031*\"pekcan\"')\n",
            "(5, '0.092*\"yüzde\" + 0.062*\"dolar\" + 0.062*\"ayında\" + 0.062*\"milyar\" + 0.062*\"milyon\" + 0.062*\"şubat\" + 0.031*\"pekcan\"')\n",
            "(6, '0.092*\"yüzde\" + 0.062*\"dolar\" + 0.062*\"ayında\" + 0.062*\"milyar\" + 0.062*\"milyon\" + 0.062*\"şubat\" + 0.031*\"pekcan\"')\n",
            "(7, '0.092*\"yüzde\" + 0.062*\"dolar\" + 0.062*\"milyon\" + 0.062*\"ayında\" + 0.062*\"şubat\" + 0.062*\"milyar\" + 0.031*\"pekcan\"')\n",
            "(8, '0.092*\"yüzde\" + 0.062*\"dolar\" + 0.062*\"milyon\" + 0.062*\"ayında\" + 0.062*\"şubat\" + 0.062*\"milyar\" + 0.031*\"pekcan\"')\n",
            "(9, '0.092*\"yüzde\" + 0.062*\"dolar\" + 0.062*\"ayında\" + 0.062*\"milyar\" + 0.062*\"milyon\" + 0.062*\"şubat\" + 0.031*\"pekcan\"')\n",
            "(10, '0.092*\"yüzde\" + 0.062*\"şubat\" + 0.062*\"milyar\" + 0.062*\"dolar\" + 0.062*\"milyon\" + 0.062*\"ayında\" + 0.031*\"pekcan\"')\n",
            "(11, '0.092*\"yüzde\" + 0.062*\"dolar\" + 0.062*\"milyon\" + 0.062*\"ayında\" + 0.062*\"şubat\" + 0.062*\"milyar\" + 0.031*\"pekcan\"')\n",
            "(12, '0.092*\"yüzde\" + 0.062*\"dolar\" + 0.062*\"ayında\" + 0.062*\"milyar\" + 0.062*\"milyon\" + 0.062*\"şubat\" + 0.031*\"pekcan\"')\n",
            "(13, '0.025*\"reklam\" + 0.025*\"pekcan\" + 0.025*\"ruhsar\" + 0.025*\"reutersnbakan\" + 0.025*\"sistemine\" + 0.025*\"olarak\" + 0.025*\"söyledi\"')\n",
            "(14, '0.025*\"reklam\" + 0.025*\"pekcan\" + 0.025*\"ruhsar\" + 0.025*\"reutersnbakan\" + 0.025*\"sistemine\" + 0.025*\"olarak\" + 0.025*\"söyledi\"')\n",
            "(15, '0.092*\"yüzde\" + 0.062*\"şubat\" + 0.062*\"dolar\" + 0.062*\"milyar\" + 0.062*\"ayında\" + 0.062*\"milyon\" + 0.031*\"artışla\"')\n",
            "(17, '0.092*\"yüzde\" + 0.062*\"şubat\" + 0.062*\"dolar\" + 0.062*\"milyar\" + 0.062*\"ayında\" + 0.062*\"milyon\" + 0.031*\"artışla\"')\n",
            "(18, '0.092*\"yüzde\" + 0.062*\"dolar\" + 0.062*\"ayında\" + 0.062*\"milyar\" + 0.062*\"milyon\" + 0.062*\"şubat\" + 0.031*\"pekcan\"')\n",
            "(19, '0.092*\"yüzde\" + 0.062*\"dolar\" + 0.062*\"ayında\" + 0.062*\"milyar\" + 0.062*\"milyon\" + 0.062*\"şubat\" + 0.031*\"pekcan\"')\n",
            "(20, '0.025*\"reklam\" + 0.025*\"pekcan\" + 0.025*\"ruhsar\" + 0.025*\"reutersnbakan\" + 0.025*\"sistemine\" + 0.025*\"olarak\" + 0.025*\"söyledi\"')\n",
            "(21, '0.092*\"yüzde\" + 0.062*\"dolar\" + 0.062*\"ayında\" + 0.062*\"milyar\" + 0.062*\"milyon\" + 0.062*\"şubat\" + 0.031*\"pekcan\"')\n",
            "(23, '0.092*\"yüzde\" + 0.062*\"şubat\" + 0.062*\"dolar\" + 0.062*\"milyar\" + 0.062*\"ayında\" + 0.062*\"milyon\" + 0.031*\"göre\"')\n",
            "(26, '0.092*\"yüzde\" + 0.062*\"dolar\" + 0.062*\"ayında\" + 0.062*\"milyar\" + 0.062*\"milyon\" + 0.062*\"şubat\" + 0.031*\"pekcan\"')\n"
          ]
        },
        {
          "output_type": "stream",
          "name": "stderr",
          "text": [
            "/usr/local/lib/python3.10/dist-packages/ipykernel/ipkernel.py:283: DeprecationWarning: `should_run_async` will not call `transform_cell` automatically in the future. Please pass the result to `transformed_cell` argument and any exception that happen during thetransform in `preprocessing_exc_tuple` in IPython 7.17 and above.\n",
            "  and should_run_async(code)\n"
          ]
        }
      ]
    },
    {
      "cell_type": "markdown",
      "source": [
        "Ne İşe Yarar?\n",
        "\n",
        "Bu kod parçası, LDA modelinizdeki konuları ve bu konuların içindeki en önemli kelimeleri düzenli ve anlaşılır bir şekilde ekrana yazdırır Özellikle:\n",
        "\n",
        "Konu Numarası: Her bir konunun numarasını belirtir.\n",
        "\n",
        "Anahtar Kelimeler: Her konunun içindeki en önemli kelimeleri listeler.\n",
        "\n",
        "Ne İçin Kullanılır?\n",
        "\n",
        "Konu Analizi: LDA modelinizdeki konuların içeriklerini anlamak için kullanılır. Her konunun anahtar kelimeleri, o konunun ne hakkında olduğunu ve hangi kelimelerin o konuyla ilişkili olduğunu belirlemenize yardımcı olur.\n",
        "\n",
        "Model Yorumlama: Konuların sıralanmış bir listesini görsel olarak inceleyerek, modelinizin sağladığı konuları yorumlamayı kolaylaştırır."
      ],
      "metadata": {
        "id": "24Dv3DdbBkB-"
      }
    },
    {
      "cell_type": "code",
      "source": [
        "pyLDAvis.enable_notebook()\n",
        "vis = pyLDAvis.gensim.prepare(lda_model, document_term_matrix, dictionary=lda_model.id2word, mds='mmds')\n",
        "pyLDAvis.display(vis)\n",
        "#Bu kod, LDA modelinizin konularını ve bu konular arasındaki ilişkileri görselleştirmenizi sağlar. PyLDAvis, LDA modelinin sonuçlarını daha iyi anlamak ve analiz etmek için kullanılır."
      ],
      "metadata": {
        "colab": {
          "base_uri": "https://localhost:8080/",
          "height": 954
        },
        "id": "VjDiIXFW_I5d",
        "outputId": "9c406cb8-63a8-4bac-9906-8e88b7ee599e"
      },
      "execution_count": null,
      "outputs": [
        {
          "output_type": "stream",
          "name": "stderr",
          "text": [
            "/usr/local/lib/python3.10/dist-packages/ipykernel/ipkernel.py:283: DeprecationWarning: `should_run_async` will not call `transform_cell` automatically in the future. Please pass the result to `transformed_cell` argument and any exception that happen during thetransform in `preprocessing_exc_tuple` in IPython 7.17 and above.\n",
            "  and should_run_async(code)\n",
            "/usr/local/lib/python3.10/dist-packages/sklearn/manifold/_mds.py:298: FutureWarning: The default value of `normalized_stress` will change to `'auto'` in version 1.4. To suppress this warning, manually set the value of `normalized_stress`.\n",
            "  warnings.warn(\n"
          ]
        },
        {
          "output_type": "execute_result",
          "data": {
            "text/plain": [
              "<IPython.core.display.HTML object>"
            ],
            "text/html": [
              "\n",
              "<link rel=\"stylesheet\" type=\"text/css\" href=\"https://cdn.jsdelivr.net/gh/bmabey/pyLDAvis@3.4.0/pyLDAvis/js/ldavis.v1.0.0.css\">\n",
              "\n",
              "\n",
              "<div id=\"ldavis_el7351376979747358563884868277\" style=\"background-color:white;\"></div>\n",
              "<script type=\"text/javascript\">\n",
              "\n",
              "var ldavis_el7351376979747358563884868277_data = {\"mdsDat\": {\"x\": [4.295296403200986e-05, 4.295312850127124e-05, 4.295326913643097e-05, 4.2953077790500956e-05, 4.2953324894711754e-05, 4.295319734631766e-05, 4.295316946986289e-05, 4.295275447176428e-05, 4.295309519545119e-05, 4.295329254734126e-05, 4.295329155021214e-05, 4.295310454089251e-05, 4.29530703178634e-05, 4.295305912787844e-05, 4.2952988560466056e-05, 4.2953285254319664e-05, 4.295318089235961e-05, 4.295318145595702e-05, 4.29532407075473e-05, 4.2953177665516895e-05, 4.29532069397194e-05, 4.2953226583428215e-05, 4.295318537436953e-05, -0.0053196151701988235, -0.006104922955200029, 0.002694836240614508, 0.007741779412428153], \"y\": [0.006991815933328941, 0.006991837300235702, 0.006991872610710698, 0.006991839735790001, 0.0069918561500294085, 0.006991840226783786, 0.00699184992679433, 0.006991811150048562, 0.0069918570985365615, 0.006991862436819801, 0.006991855852330705, 0.006991843312147761, 0.006991853948907144, 0.006991846247025333, 0.006991822350689077, 0.006991881452357573, 0.006991856701012442, 0.0069918754688989585, 0.006991856753692589, 0.006991836063824936, 0.006991865046590094, 0.006991851539101544, 0.006991845899813339, -0.04026462824561476, -0.040153063507379336, -0.04052501019065684, -0.03986983126181834], \"topics\": [1, 2, 3, 4, 5, 6, 7, 8, 9, 10, 11, 12, 13, 14, 15, 16, 17, 18, 19, 20, 21, 22, 23, 24, 25, 26, 27], \"cluster\": [1, 1, 1, 1, 1, 1, 1, 1, 1, 1, 1, 1, 1, 1, 1, 1, 1, 1, 1, 1, 1, 1, 1, 1, 1, 1, 1], \"Freq\": [4.454278262130025, 4.408367510114093, 4.400064885132253, 4.387371000268201, 4.386207707858248, 4.377544863530739, 4.3662428719424975, 4.3662421487937175, 4.365361164968191, 4.365179836490449, 4.343432270013354, 4.340095613205752, 4.338436336473711, 4.3316264093162085, 4.31923976264039, 4.314179291972229, 4.313478240333056, 4.307784959290585, 4.287344731002871, 4.2856930924647285, 4.28291167717527, 4.231864759449146, 4.202584621590278, 0.05611699596099938, 0.05611699596099938, 0.05611699596099938, 0.05611699596099938]}, \"tinfo\": {\"Term\": [\"ruhsar\", \"\\u201c\", \"\\u015funlar\\u0131\", \"azal\\u0131\\u015fla\", \"\\u00f6ts\\u2019ye\", \"nticaret\", \"\\u00f6zel\", \"ihracat\\u0131m\\u0131z\", \"sistemine\", \"foto\\u011fraf\", \"reklam\", \"reutersnbakan\", \"artt\\u0131\", \"seviyesinde\", \"ithalat\\u0131m\\u0131z\", \"s\\u00f6yledi\", \"ticaret\", \"ithalat\\u0131n\", \"kulland\\u0131\\u011f\\u0131m\\u0131z\", \"ithalat\", \"ger\\u00e7ekle\\u015fti\\u011fini\", \"azald\\u0131\", \"a\\u00e7\\u0131klad\\u0131\", \"bakan\\u0131\", \"d\\u00fc\\u015f\\u00fc\\u015fle\", \"eskiden\", \"\\u201d\", \"ihracat\", \"ihracat\\u0131n\", \"g\\u00f6re\", \"y\\u00fczde\", \"ay\\u0131nda\", \"dolar\", \"milyar\", \"milyon\", \"\\u015fubat\", \"art\\u0131\\u015fla\", \"ger\\u00e7ekle\\u015fmi\\u015ftir\", \"g\\u00f6re\", \"olarak\", \"pekcan\", \"foto\\u011fraf\", \"sistemine\", \"ihracat\\u0131m\\u0131z\", \"\\u00f6zel\", \"azal\\u0131\\u015fla\", \"nticaret\", \"ruhsar\", \"\\u00f6ts\\u2019ye\", \"\\u015funlar\\u0131\", \"\\u201c\", \"artt\\u0131\", \"azald\\u0131\", \"a\\u00e7\\u0131klad\\u0131\", \"bakan\\u0131\", \"d\\u00fc\\u015f\\u00fc\\u015fle\", \"eskiden\", \"ger\\u00e7ekle\\u015fti\\u011fini\", \"ihracat\", \"ihracat\\u0131n\", \"ithalat\", \"ithalat\\u0131m\\u0131z\", \"ithalat\\u0131n\", \"kulland\\u0131\\u011f\\u0131m\\u0131z\", \"y\\u00fczde\", \"ay\\u0131nda\", \"dolar\", \"milyar\", \"milyon\", \"\\u015fubat\", \"art\\u0131\\u015fla\", \"ger\\u00e7ekle\\u015fmi\\u015ftir\", \"g\\u00f6re\", \"olarak\", \"pekcan\", \"azal\\u0131\\u015fla\", \"nticaret\", \"ruhsar\", \"\\u00f6ts\\u2019ye\", \"\\u015funlar\\u0131\", \"\\u201c\", \"ihracat\\u0131m\\u0131z\", \"\\u00f6zel\", \"foto\\u011fraf\", \"sistemine\", \"artt\\u0131\", \"azald\\u0131\", \"a\\u00e7\\u0131klad\\u0131\", \"bakan\\u0131\", \"d\\u00fc\\u015f\\u00fc\\u015fle\", \"eskiden\", \"ger\\u00e7ekle\\u015fti\\u011fini\", \"ihracat\", \"ihracat\\u0131n\", \"ithalat\", \"ithalat\\u0131m\\u0131z\", \"y\\u00fczde\", \"ay\\u0131nda\", \"dolar\", \"milyar\", \"milyon\", \"\\u015fubat\", \"art\\u0131\\u015fla\", \"ger\\u00e7ekle\\u015fmi\\u015ftir\", \"g\\u00f6re\", \"olarak\", \"pekcan\", \"azal\\u0131\\u015fla\", \"nticaret\", \"ruhsar\", \"\\u00f6ts\\u2019ye\", \"\\u015funlar\\u0131\", \"\\u201c\", \"ihracat\\u0131m\\u0131z\", \"\\u00f6zel\", \"foto\\u011fraf\", \"sistemine\", \"artt\\u0131\", \"azald\\u0131\", \"a\\u00e7\\u0131klad\\u0131\", \"bakan\\u0131\", \"d\\u00fc\\u015f\\u00fc\\u015fle\", \"eskiden\", \"ger\\u00e7ekle\\u015fti\\u011fini\", \"ihracat\", \"ihracat\\u0131n\", \"ithalat\", \"ithalat\\u0131m\\u0131z\", \"ithalat\\u0131n\", \"kulland\\u0131\\u011f\\u0131m\\u0131z\", \"reklam\", \"reutersnbakan\", \"y\\u00fczde\", \"ay\\u0131nda\", \"dolar\", \"milyar\", \"milyon\", \"\\u015fubat\", \"art\\u0131\\u015fla\", \"ger\\u00e7ekle\\u015fmi\\u015ftir\", \"g\\u00f6re\", \"olarak\", \"pekcan\", \"azal\\u0131\\u015fla\", \"nticaret\", \"ruhsar\", \"\\u00f6ts\\u2019ye\", \"\\u015funlar\\u0131\", \"\\u201c\", \"artt\\u0131\", \"azald\\u0131\", \"a\\u00e7\\u0131klad\\u0131\", \"bakan\\u0131\", \"d\\u00fc\\u015f\\u00fc\\u015fle\", \"eskiden\", \"ger\\u00e7ekle\\u015fti\\u011fini\", \"ihracat\", \"ihracat\\u0131n\", \"ithalat\", \"ithalat\\u0131m\\u0131z\", \"ithalat\\u0131n\", \"kulland\\u0131\\u011f\\u0131m\\u0131z\", \"reklam\", \"reutersnbakan\", \"seviyesinde\", \"y\\u00fczde\", \"ay\\u0131nda\", \"dolar\", \"milyar\", \"milyon\", \"\\u015fubat\", \"art\\u0131\\u015fla\", \"ger\\u00e7ekle\\u015fmi\\u015ftir\", \"g\\u00f6re\", \"olarak\", \"pekcan\", \"foto\\u011fraf\", \"sistemine\", \"azal\\u0131\\u015fla\", \"nticaret\", \"ruhsar\", \"\\u00f6ts\\u2019ye\", \"\\u015funlar\\u0131\", \"\\u201c\", \"ihracat\\u0131m\\u0131z\", \"\\u00f6zel\", \"artt\\u0131\", \"azald\\u0131\", \"a\\u00e7\\u0131klad\\u0131\", \"bakan\\u0131\", \"d\\u00fc\\u015f\\u00fc\\u015fle\", \"eskiden\", \"ger\\u00e7ekle\\u015fti\\u011fini\", \"ihracat\", \"ihracat\\u0131n\", \"ithalat\", \"ithalat\\u0131m\\u0131z\", \"ithalat\\u0131n\", \"kulland\\u0131\\u011f\\u0131m\\u0131z\", \"reklam\", \"y\\u00fczde\", \"ay\\u0131nda\", \"dolar\", \"milyar\", \"milyon\", \"\\u015fubat\", \"art\\u0131\\u015fla\", \"ger\\u00e7ekle\\u015fmi\\u015ftir\", \"g\\u00f6re\", \"olarak\", \"pekcan\", \"azal\\u0131\\u015fla\", \"nticaret\", \"ruhsar\", \"\\u00f6ts\\u2019ye\", \"\\u015funlar\\u0131\", \"\\u201c\", \"ihracat\\u0131m\\u0131z\", \"\\u00f6zel\", \"foto\\u011fraf\", \"sistemine\", \"artt\\u0131\", \"azald\\u0131\", \"a\\u00e7\\u0131klad\\u0131\", \"bakan\\u0131\", \"d\\u00fc\\u015f\\u00fc\\u015fle\", \"eskiden\", \"ger\\u00e7ekle\\u015fti\\u011fini\", \"ihracat\", \"ihracat\\u0131n\", \"ithalat\", \"ithalat\\u0131m\\u0131z\", \"ithalat\\u0131n\", \"kulland\\u0131\\u011f\\u0131m\\u0131z\", \"reklam\", \"reutersnbakan\", \"y\\u00fczde\", \"ay\\u0131nda\", \"dolar\", \"milyar\", \"milyon\", \"\\u015fubat\", \"art\\u0131\\u015fla\", \"ger\\u00e7ekle\\u015fmi\\u015ftir\", \"g\\u00f6re\", \"olarak\", \"pekcan\", \"ihracat\\u0131m\\u0131z\", \"\\u00f6zel\", \"foto\\u011fraf\", \"sistemine\", \"artt\\u0131\", \"azald\\u0131\", \"a\\u00e7\\u0131klad\\u0131\", \"bakan\\u0131\", \"d\\u00fc\\u015f\\u00fc\\u015fle\", \"eskiden\", \"ger\\u00e7ekle\\u015fti\\u011fini\", \"ihracat\", \"ihracat\\u0131n\", \"ithalat\", \"ithalat\\u0131m\\u0131z\", \"ithalat\\u0131n\", \"kulland\\u0131\\u011f\\u0131m\\u0131z\", \"reklam\", \"reutersnbakan\", \"seviyesinde\", \"y\\u00fczde\", \"ay\\u0131nda\", \"dolar\", \"milyar\", \"milyon\", \"\\u015fubat\", \"art\\u0131\\u015fla\", \"ger\\u00e7ekle\\u015fmi\\u015ftir\", \"g\\u00f6re\", \"olarak\", \"pekcan\", \"azal\\u0131\\u015fla\", \"nticaret\", \"ruhsar\", \"\\u00f6ts\\u2019ye\", \"\\u015funlar\\u0131\", \"\\u201c\", \"ihracat\\u0131m\\u0131z\", \"\\u00f6zel\", \"foto\\u011fraf\", \"sistemine\", \"artt\\u0131\", \"azald\\u0131\", \"a\\u00e7\\u0131klad\\u0131\", \"bakan\\u0131\", \"d\\u00fc\\u015f\\u00fc\\u015fle\", \"eskiden\", \"ger\\u00e7ekle\\u015fti\\u011fini\", \"ihracat\", \"ihracat\\u0131n\", \"ithalat\", \"ithalat\\u0131m\\u0131z\", \"ithalat\\u0131n\", \"kulland\\u0131\\u011f\\u0131m\\u0131z\", \"reklam\", \"reutersnbakan\", \"y\\u00fczde\", \"ay\\u0131nda\", \"dolar\", \"milyar\", \"milyon\", \"\\u015fubat\", \"art\\u0131\\u015fla\", \"ger\\u00e7ekle\\u015fmi\\u015ftir\", \"g\\u00f6re\", \"olarak\", \"pekcan\", \"ihracat\\u0131m\\u0131z\", \"\\u00f6zel\", \"foto\\u011fraf\", \"sistemine\", \"azal\\u0131\\u015fla\", \"nticaret\", \"ruhsar\", \"\\u00f6ts\\u2019ye\", \"\\u015funlar\\u0131\", \"\\u201c\", \"artt\\u0131\", \"azald\\u0131\", \"a\\u00e7\\u0131klad\\u0131\", \"bakan\\u0131\", \"d\\u00fc\\u015f\\u00fc\\u015fle\", \"eskiden\", \"ger\\u00e7ekle\\u015fti\\u011fini\", \"ihracat\", \"ihracat\\u0131n\", \"ithalat\", \"ithalat\\u0131m\\u0131z\", \"ithalat\\u0131n\", \"kulland\\u0131\\u011f\\u0131m\\u0131z\", \"y\\u00fczde\", \"ay\\u0131nda\", \"dolar\", \"milyar\", \"milyon\", \"\\u015fubat\", \"art\\u0131\\u015fla\", \"ger\\u00e7ekle\\u015fmi\\u015ftir\", \"g\\u00f6re\", \"olarak\", \"pekcan\", \"azal\\u0131\\u015fla\", \"nticaret\", \"ruhsar\", \"\\u00f6ts\\u2019ye\", \"\\u015funlar\\u0131\", \"\\u201c\", \"artt\\u0131\", \"azald\\u0131\", \"a\\u00e7\\u0131klad\\u0131\", \"bakan\\u0131\", \"d\\u00fc\\u015f\\u00fc\\u015fle\", \"eskiden\", \"ger\\u00e7ekle\\u015fti\\u011fini\", \"ihracat\", \"ihracat\\u0131n\", \"ithalat\", \"ithalat\\u0131m\\u0131z\", \"ithalat\\u0131n\", \"kulland\\u0131\\u011f\\u0131m\\u0131z\", \"y\\u00fczde\", \"ay\\u0131nda\", \"dolar\", \"milyar\", \"milyon\", \"\\u015fubat\", \"art\\u0131\\u015fla\", \"ger\\u00e7ekle\\u015fmi\\u015ftir\", \"g\\u00f6re\", \"olarak\", \"pekcan\", \"azal\\u0131\\u015fla\", \"nticaret\", \"ruhsar\", \"\\u00f6ts\\u2019ye\", \"\\u015funlar\\u0131\", \"\\u201c\", \"ihracat\\u0131m\\u0131z\", \"\\u00f6zel\", \"foto\\u011fraf\", \"sistemine\", \"artt\\u0131\", \"azald\\u0131\", \"a\\u00e7\\u0131klad\\u0131\", \"bakan\\u0131\", \"d\\u00fc\\u015f\\u00fc\\u015fle\", \"eskiden\", \"ger\\u00e7ekle\\u015fti\\u011fini\", \"ihracat\", \"ihracat\\u0131n\", \"ithalat\", \"ithalat\\u0131m\\u0131z\", \"ithalat\\u0131n\", \"kulland\\u0131\\u011f\\u0131m\\u0131z\", \"reklam\", \"reutersnbakan\", \"y\\u00fczde\", \"ay\\u0131nda\", \"dolar\", \"milyar\", \"milyon\", \"\\u015fubat\", \"art\\u0131\\u015fla\", \"ger\\u00e7ekle\\u015fmi\\u015ftir\", \"g\\u00f6re\", \"olarak\", \"pekcan\", \"azal\\u0131\\u015fla\", \"nticaret\", \"ruhsar\", \"\\u00f6ts\\u2019ye\", \"\\u015funlar\\u0131\", \"\\u201c\", \"ihracat\\u0131m\\u0131z\", \"\\u00f6zel\", \"foto\\u011fraf\", \"sistemine\", \"artt\\u0131\", \"azald\\u0131\", \"a\\u00e7\\u0131klad\\u0131\", \"bakan\\u0131\", \"d\\u00fc\\u015f\\u00fc\\u015fle\", \"eskiden\", \"ger\\u00e7ekle\\u015fti\\u011fini\", \"ihracat\", \"ihracat\\u0131n\", \"ithalat\", \"ithalat\\u0131m\\u0131z\", \"ithalat\\u0131n\", \"kulland\\u0131\\u011f\\u0131m\\u0131z\", \"reklam\", \"reutersnbakan\", \"y\\u00fczde\", \"ay\\u0131nda\", \"dolar\", \"milyar\", \"milyon\", \"\\u015fubat\", \"art\\u0131\\u015fla\", \"ger\\u00e7ekle\\u015fmi\\u015ftir\", \"g\\u00f6re\", \"olarak\", \"pekcan\", \"azal\\u0131\\u015fla\", \"nticaret\", \"ruhsar\", \"\\u00f6ts\\u2019ye\", \"\\u015funlar\\u0131\", \"\\u201c\", \"ihracat\\u0131m\\u0131z\", \"\\u00f6zel\", \"foto\\u011fraf\", \"sistemine\", \"artt\\u0131\", \"azald\\u0131\", \"a\\u00e7\\u0131klad\\u0131\", \"bakan\\u0131\", \"d\\u00fc\\u015f\\u00fc\\u015fle\", \"eskiden\", \"ger\\u00e7ekle\\u015fti\\u011fini\", \"ihracat\", \"ihracat\\u0131n\", \"ithalat\", \"ithalat\\u0131m\\u0131z\", \"ithalat\\u0131n\", \"kulland\\u0131\\u011f\\u0131m\\u0131z\", \"reklam\", \"reutersnbakan\", \"y\\u00fczde\", \"ay\\u0131nda\", \"dolar\", \"milyar\", \"milyon\", \"\\u015fubat\", \"art\\u0131\\u015fla\", \"ger\\u00e7ekle\\u015fmi\\u015ftir\", \"g\\u00f6re\", \"olarak\", \"pekcan\", \"azal\\u0131\\u015fla\", \"nticaret\", \"ruhsar\", \"\\u00f6ts\\u2019ye\", \"\\u015funlar\\u0131\", \"\\u201c\", \"ihracat\\u0131m\\u0131z\", \"\\u00f6zel\", \"foto\\u011fraf\", \"sistemine\", \"artt\\u0131\", \"azald\\u0131\", \"a\\u00e7\\u0131klad\\u0131\", \"bakan\\u0131\", \"d\\u00fc\\u015f\\u00fc\\u015fle\", \"eskiden\", \"ger\\u00e7ekle\\u015fti\\u011fini\", \"ihracat\", \"ihracat\\u0131n\", \"ithalat\", \"ithalat\\u0131m\\u0131z\", \"ithalat\\u0131n\", \"kulland\\u0131\\u011f\\u0131m\\u0131z\", \"reklam\", \"reutersnbakan\", \"y\\u00fczde\", \"ay\\u0131nda\", \"dolar\", \"milyar\", \"milyon\", \"\\u015fubat\", \"art\\u0131\\u015fla\", \"ger\\u00e7ekle\\u015fmi\\u015ftir\", \"g\\u00f6re\", \"olarak\", \"pekcan\", \"azal\\u0131\\u015fla\", \"nticaret\", \"ruhsar\", \"\\u00f6ts\\u2019ye\", \"\\u015funlar\\u0131\", \"\\u201c\", \"ihracat\\u0131m\\u0131z\", \"\\u00f6zel\", \"foto\\u011fraf\", \"sistemine\", \"artt\\u0131\", \"azald\\u0131\", \"a\\u00e7\\u0131klad\\u0131\", \"bakan\\u0131\", \"d\\u00fc\\u015f\\u00fc\\u015fle\", \"eskiden\", \"ger\\u00e7ekle\\u015fti\\u011fini\", \"ihracat\", \"ihracat\\u0131n\", \"ithalat\", \"ithalat\\u0131m\\u0131z\", \"ithalat\\u0131n\", \"kulland\\u0131\\u011f\\u0131m\\u0131z\", \"reklam\", \"reutersnbakan\", \"y\\u00fczde\", \"ay\\u0131nda\", \"dolar\", \"milyar\", \"milyon\", \"\\u015fubat\", \"art\\u0131\\u015fla\", \"ger\\u00e7ekle\\u015fmi\\u015ftir\", \"g\\u00f6re\", \"olarak\", \"pekcan\", \"foto\\u011fraf\", \"sistemine\", \"azal\\u0131\\u015fla\", \"nticaret\", \"ruhsar\", \"\\u00f6ts\\u2019ye\", \"\\u015funlar\\u0131\", \"\\u201c\", \"ihracat\\u0131m\\u0131z\", \"\\u00f6zel\", \"artt\\u0131\", \"azald\\u0131\", \"a\\u00e7\\u0131klad\\u0131\", \"bakan\\u0131\", \"d\\u00fc\\u015f\\u00fc\\u015fle\", \"eskiden\", \"ger\\u00e7ekle\\u015fti\\u011fini\", \"ihracat\", \"ihracat\\u0131n\", \"ithalat\", \"ithalat\\u0131m\\u0131z\", \"ithalat\\u0131n\", \"kulland\\u0131\\u011f\\u0131m\\u0131z\", \"reklam\", \"y\\u00fczde\", \"ay\\u0131nda\", \"dolar\", \"milyar\", \"milyon\", \"\\u015fubat\", \"art\\u0131\\u015fla\", \"ger\\u00e7ekle\\u015fmi\\u015ftir\", \"g\\u00f6re\", \"olarak\", \"pekcan\", \"azal\\u0131\\u015fla\", \"nticaret\", \"ruhsar\", \"\\u00f6ts\\u2019ye\", \"\\u015funlar\\u0131\", \"\\u201c\", \"ihracat\\u0131m\\u0131z\", \"\\u00f6zel\", \"artt\\u0131\", \"azald\\u0131\", \"a\\u00e7\\u0131klad\\u0131\", \"bakan\\u0131\", \"d\\u00fc\\u015f\\u00fc\\u015fle\", \"eskiden\", \"ger\\u00e7ekle\\u015fti\\u011fini\", \"ihracat\", \"ihracat\\u0131n\", \"ithalat\", \"ithalat\\u0131m\\u0131z\", \"ithalat\\u0131n\", \"kulland\\u0131\\u011f\\u0131m\\u0131z\", \"reklam\", \"reutersnbakan\", \"y\\u00fczde\", \"ay\\u0131nda\", \"dolar\", \"milyar\", \"milyon\", \"\\u015fubat\", \"art\\u0131\\u015fla\", \"ger\\u00e7ekle\\u015fmi\\u015ftir\", \"g\\u00f6re\", \"olarak\", \"pekcan\", \"ihracat\\u0131m\\u0131z\", \"\\u00f6zel\", \"foto\\u011fraf\", \"sistemine\", \"artt\\u0131\", \"azald\\u0131\", \"a\\u00e7\\u0131klad\\u0131\", \"bakan\\u0131\", \"d\\u00fc\\u015f\\u00fc\\u015fle\", \"eskiden\", \"ger\\u00e7ekle\\u015fti\\u011fini\", \"ihracat\", \"ihracat\\u0131n\", \"ithalat\", \"ithalat\\u0131m\\u0131z\", \"ithalat\\u0131n\", \"kulland\\u0131\\u011f\\u0131m\\u0131z\", \"reklam\", \"reutersnbakan\", \"seviyesinde\", \"y\\u00fczde\", \"ay\\u0131nda\", \"dolar\", \"milyar\", \"milyon\", \"\\u015fubat\", \"art\\u0131\\u015fla\", \"ger\\u00e7ekle\\u015fmi\\u015ftir\", \"g\\u00f6re\", \"olarak\", \"pekcan\", \"ihracat\\u0131m\\u0131z\", \"\\u00f6zel\", \"foto\\u011fraf\", \"sistemine\", \"artt\\u0131\", \"azald\\u0131\", \"a\\u00e7\\u0131klad\\u0131\", \"bakan\\u0131\", \"d\\u00fc\\u015f\\u00fc\\u015fle\", \"eskiden\", \"ger\\u00e7ekle\\u015fti\\u011fini\", \"ihracat\", \"ihracat\\u0131n\", \"ithalat\", \"ithalat\\u0131m\\u0131z\", \"ithalat\\u0131n\", \"kulland\\u0131\\u011f\\u0131m\\u0131z\", \"reklam\", \"reutersnbakan\", \"seviyesinde\", \"y\\u00fczde\", \"ay\\u0131nda\", \"dolar\", \"milyar\", \"milyon\", \"\\u015fubat\", \"art\\u0131\\u015fla\", \"ger\\u00e7ekle\\u015fmi\\u015ftir\", \"g\\u00f6re\", \"olarak\", \"pekcan\", \"ihracat\\u0131m\\u0131z\", \"\\u00f6zel\", \"foto\\u011fraf\", \"sistemine\", \"artt\\u0131\", \"azald\\u0131\", \"a\\u00e7\\u0131klad\\u0131\", \"bakan\\u0131\", \"d\\u00fc\\u015f\\u00fc\\u015fle\", \"eskiden\", \"ger\\u00e7ekle\\u015fti\\u011fini\", \"ihracat\", \"ihracat\\u0131n\", \"ithalat\", \"ithalat\\u0131m\\u0131z\", \"ithalat\\u0131n\", \"kulland\\u0131\\u011f\\u0131m\\u0131z\", \"reklam\", \"reutersnbakan\", \"seviyesinde\", \"y\\u00fczde\", \"ay\\u0131nda\", \"dolar\", \"milyar\", \"milyon\", \"\\u015fubat\", \"art\\u0131\\u015fla\", \"ger\\u00e7ekle\\u015fmi\\u015ftir\", \"g\\u00f6re\", \"olarak\", \"pekcan\", \"azal\\u0131\\u015fla\", \"nticaret\", \"ruhsar\", \"\\u00f6ts\\u2019ye\", \"\\u015funlar\\u0131\", \"\\u201c\", \"ihracat\\u0131m\\u0131z\", \"\\u00f6zel\", \"artt\\u0131\", \"azald\\u0131\", \"a\\u00e7\\u0131klad\\u0131\", \"bakan\\u0131\", \"d\\u00fc\\u015f\\u00fc\\u015fle\", \"eskiden\", \"ger\\u00e7ekle\\u015fti\\u011fini\", \"ihracat\", \"ihracat\\u0131n\", \"ithalat\", \"ithalat\\u0131m\\u0131z\", \"ithalat\\u0131n\", \"kulland\\u0131\\u011f\\u0131m\\u0131z\", \"reklam\", \"reutersnbakan\", \"y\\u00fczde\", \"ay\\u0131nda\", \"dolar\", \"milyar\", \"milyon\", \"\\u015fubat\", \"art\\u0131\\u015fla\", \"ger\\u00e7ekle\\u015fmi\\u015ftir\", \"g\\u00f6re\", \"olarak\", \"pekcan\", \"azal\\u0131\\u015fla\", \"nticaret\", \"ruhsar\", \"\\u00f6ts\\u2019ye\", \"\\u015funlar\\u0131\", \"\\u201c\", \"ihracat\\u0131m\\u0131z\", \"\\u00f6zel\", \"foto\\u011fraf\", \"sistemine\", \"artt\\u0131\", \"azald\\u0131\", \"a\\u00e7\\u0131klad\\u0131\", \"bakan\\u0131\", \"d\\u00fc\\u015f\\u00fc\\u015fle\", \"eskiden\", \"ger\\u00e7ekle\\u015fti\\u011fini\", \"ihracat\", \"ihracat\\u0131n\", \"ithalat\", \"ithalat\\u0131m\\u0131z\", \"ithalat\\u0131n\", \"kulland\\u0131\\u011f\\u0131m\\u0131z\", \"reklam\", \"reutersnbakan\", \"y\\u00fczde\", \"ay\\u0131nda\", \"dolar\", \"milyar\", \"milyon\", \"\\u015fubat\", \"art\\u0131\\u015fla\", \"ger\\u00e7ekle\\u015fmi\\u015ftir\", \"g\\u00f6re\", \"olarak\", \"pekcan\", \"azal\\u0131\\u015fla\", \"nticaret\", \"ruhsar\", \"\\u00f6ts\\u2019ye\", \"\\u015funlar\\u0131\", \"\\u201c\", \"ihracat\\u0131m\\u0131z\", \"\\u00f6zel\", \"foto\\u011fraf\", \"sistemine\", \"artt\\u0131\", \"azald\\u0131\", \"a\\u00e7\\u0131klad\\u0131\", \"bakan\\u0131\", \"d\\u00fc\\u015f\\u00fc\\u015fle\", \"eskiden\", \"ger\\u00e7ekle\\u015fti\\u011fini\", \"ihracat\", \"ihracat\\u0131n\", \"ithalat\", \"ithalat\\u0131m\\u0131z\", \"ithalat\\u0131n\", \"kulland\\u0131\\u011f\\u0131m\\u0131z\", \"reklam\", \"reutersnbakan\", \"azal\\u0131\\u015fla\", \"nticaret\", \"ruhsar\", \"\\u00f6ts\\u2019ye\", \"\\u015funlar\\u0131\", \"\\u201c\", \"ihracat\\u0131m\\u0131z\", \"\\u00f6zel\", \"foto\\u011fraf\", \"sistemine\", \"artt\\u0131\", \"azald\\u0131\", \"a\\u00e7\\u0131klad\\u0131\", \"bakan\\u0131\", \"d\\u00fc\\u015f\\u00fc\\u015fle\", \"eskiden\", \"ger\\u00e7ekle\\u015fti\\u011fini\", \"ihracat\", \"ihracat\\u0131n\", \"ithalat\", \"ithalat\\u0131m\\u0131z\", \"ithalat\\u0131n\", \"kulland\\u0131\\u011f\\u0131m\\u0131z\", \"reklam\", \"reutersnbakan\", \"seviyesinde\", \"s\\u00f6yledi\", \"ticaret\", \"\\u201d\", \"art\\u0131\\u015fla\", \"ay\\u0131nda\", \"dolar\", \"ger\\u00e7ekle\\u015fmi\\u015ftir\", \"g\\u00f6re\", \"milyar\", \"milyon\", \"olarak\", \"pekcan\", \"azal\\u0131\\u015fla\", \"nticaret\", \"ruhsar\", \"\\u00f6ts\\u2019ye\", \"\\u015funlar\\u0131\", \"\\u201c\", \"ihracat\\u0131m\\u0131z\", \"\\u00f6zel\", \"foto\\u011fraf\", \"sistemine\", \"artt\\u0131\", \"azald\\u0131\", \"a\\u00e7\\u0131klad\\u0131\", \"bakan\\u0131\", \"d\\u00fc\\u015f\\u00fc\\u015fle\", \"eskiden\", \"ger\\u00e7ekle\\u015fti\\u011fini\", \"ihracat\", \"ihracat\\u0131n\", \"ithalat\", \"ithalat\\u0131m\\u0131z\", \"ithalat\\u0131n\", \"kulland\\u0131\\u011f\\u0131m\\u0131z\", \"reklam\", \"reutersnbakan\", \"seviyesinde\", \"s\\u00f6yledi\", \"ticaret\", \"\\u201d\", \"art\\u0131\\u015fla\", \"ay\\u0131nda\", \"dolar\", \"ger\\u00e7ekle\\u015fmi\\u015ftir\", \"g\\u00f6re\", \"milyar\", \"milyon\", \"olarak\", \"pekcan\", \"azal\\u0131\\u015fla\", \"nticaret\", \"ruhsar\", \"\\u00f6ts\\u2019ye\", \"\\u015funlar\\u0131\", \"\\u201c\", \"ihracat\\u0131m\\u0131z\", \"\\u00f6zel\", \"foto\\u011fraf\", \"sistemine\", \"artt\\u0131\", \"azald\\u0131\", \"a\\u00e7\\u0131klad\\u0131\", \"bakan\\u0131\", \"d\\u00fc\\u015f\\u00fc\\u015fle\", \"eskiden\", \"ger\\u00e7ekle\\u015fti\\u011fini\", \"ihracat\", \"ihracat\\u0131n\", \"ithalat\", \"ithalat\\u0131m\\u0131z\", \"ithalat\\u0131n\", \"kulland\\u0131\\u011f\\u0131m\\u0131z\", \"reklam\", \"reutersnbakan\", \"seviyesinde\", \"s\\u00f6yledi\", \"ticaret\", \"\\u201d\", \"art\\u0131\\u015fla\", \"ay\\u0131nda\", \"dolar\", \"ger\\u00e7ekle\\u015fmi\\u015ftir\", \"g\\u00f6re\", \"milyar\", \"milyon\", \"olarak\", \"pekcan\", \"azal\\u0131\\u015fla\", \"nticaret\", \"ruhsar\", \"\\u00f6ts\\u2019ye\", \"\\u015funlar\\u0131\", \"\\u201c\", \"ihracat\\u0131m\\u0131z\", \"\\u00f6zel\", \"foto\\u011fraf\", \"sistemine\", \"artt\\u0131\", \"azald\\u0131\", \"a\\u00e7\\u0131klad\\u0131\", \"bakan\\u0131\", \"d\\u00fc\\u015f\\u00fc\\u015fle\", \"eskiden\", \"ger\\u00e7ekle\\u015fti\\u011fini\", \"ihracat\", \"ihracat\\u0131n\", \"ithalat\", \"ithalat\\u0131m\\u0131z\", \"ithalat\\u0131n\", \"kulland\\u0131\\u011f\\u0131m\\u0131z\", \"reklam\", \"reutersnbakan\", \"seviyesinde\", \"s\\u00f6yledi\", \"ticaret\", \"\\u201d\", \"art\\u0131\\u015fla\", \"ay\\u0131nda\", \"dolar\", \"ger\\u00e7ekle\\u015fmi\\u015ftir\", \"g\\u00f6re\", \"milyar\", \"milyon\", \"olarak\", \"pekcan\"], \"Freq\": [72210.0, 72210.0, 72210.0, 72210.0, 72210.0, 72210.0, 72210.0, 72210.0, 72210.0, 72210.0, 72210.0, 72210.0, 72210.0, 72210.0, 72210.0, 72210.0, 72210.0, 72210.0, 72210.0, 72210.0, 72210.0, 72210.0, 72210.0, 72210.0, 72210.0, 72210.0, 72210.0, 72210.0, 72210.0, 144157.0, 19271.54183535604, 12847.701297407728, 12847.701297407728, 12847.701297407728, 12847.701297407728, 12847.701297407728, 6423.866981462825, 6423.866981462825, 6423.866981462825, 6423.866981462825, 6423.866981462825, 3211.946323613453, 3211.946323613453, 3211.9453514254196, 3211.9453514254196, 3211.944962550206, 3211.944962550206, 3211.944962550206, 3211.944962550206, 3211.944962550206, 3211.944962550206, 3211.944962550206, 3211.944962550206, 3211.944962550206, 3211.944962550206, 3211.944962550206, 3211.944962550206, 3211.944962550206, 3211.944962550206, 3211.944962550206, 3211.944962550206, 3211.944962550206, 3211.944962550206, 3211.944962550206, 19072.937114470107, 12715.29320569289, 12715.29320569289, 12715.29320569289, 12715.29320569289, 12715.29320569289, 6357.655839655222, 6357.655839655222, 6357.655839655222, 6357.655839655222, 6357.655839655222, 3178.836579335839, 3178.836579335839, 3178.836579335839, 3178.836579335839, 3178.836579335839, 3178.836579335839, 3178.836386902323, 3178.836386902323, 3178.836386902323, 3178.836386902323, 3178.836386902323, 3178.836386902323, 3178.836386902323, 3178.836386902323, 3178.836386902323, 3178.836386902323, 3178.836386902323, 3178.836386902323, 3178.836386902323, 3178.836386902323, 3178.836386902323, 19037.04628445027, 12691.365470107452, 12691.365470107452, 12691.365470107452, 12691.365470107452, 12691.365470107452, 6345.684655764637, 6345.684655764637, 6345.684655764637, 6345.684655764637, 6345.684655764637, 3172.8434803088644, 3172.8434803088644, 3172.8434803088644, 3172.8434803088644, 3172.8434803088644, 3172.8434803088644, 3172.8434803088644, 3172.8434803088644, 3172.8434803088644, 3172.8434803088644, 3172.8434803088644, 3172.8434803088644, 3172.8434803088644, 3172.8434803088644, 3172.8434803088644, 3172.8434803088644, 3172.8434803088644, 3172.8434803088644, 3172.8434803088644, 3172.8434803088644, 3172.8434803088644, 3172.8434803088644, 3172.8434803088644, 3172.8434803088644, 3172.8434803088644, 18982.084346292333, 12654.734133190997, 12654.734133190997, 12654.734133190997, 12654.734133190997, 12654.734133190997, 6327.374344240705, 6327.374344240705, 6327.374344240705, 6327.374344240705, 6327.374344240705, 3163.6952158334752, 3163.6952158334752, 3163.6952158334752, 3163.6952158334752, 3163.6952158334752, 3163.6952158334752, 3163.6952158334752, 3163.6952158334752, 3163.6952158334752, 3163.6952158334752, 3163.6952158334752, 3163.6952158334752, 3163.6952158334752, 3163.6952158334752, 3163.6952158334752, 3163.6952158334752, 3163.6952158334752, 3163.6952158334752, 3163.6952158334752, 3163.6952158334752, 3163.6952158334752, 3163.6952158334752, 18977.081963470413, 12651.385678052551, 12651.385678052551, 12651.385678052551, 12651.385678052551, 12651.385678052551, 6325.698583012252, 6325.698583012252, 6325.698583012252, 6325.698583012252, 6325.698583012252, 3162.8540781611064, 3162.8540781611064, 3162.853886694907, 3162.853886694907, 3162.853886694907, 3162.853886694907, 3162.853886694907, 3162.853886694907, 3162.853886694907, 3162.853886694907, 3162.853886694907, 3162.853886694907, 3162.853886694907, 3162.853886694907, 3162.853886694907, 3162.853886694907, 3162.853886694907, 3162.853886694907, 3162.853886694907, 3162.853886694907, 3162.853886694907, 3162.853886694907, 3162.853886694907, 3162.853886694907, 18939.571288623556, 12626.392069581292, 12626.392069581292, 12626.392069581292, 12626.392069581292, 12626.392069581292, 6313.203678312639, 6313.203678312639, 6313.203678312639, 6313.203678312639, 6313.203678312639, 3156.6094826783115, 3156.6094826783115, 3156.6094826783115, 3156.6094826783115, 3156.6094826783115, 3156.6094826783115, 3156.6094826783115, 3156.6094826783115, 3156.6094826783115, 3156.6094826783115, 3156.6094826783115, 3156.6094826783115, 3156.6094826783115, 3156.6094826783115, 3156.6094826783115, 3156.6094826783115, 3156.6094826783115, 3156.6094826783115, 3156.6094826783115, 3156.6094826783115, 3156.6094826783115, 3156.6094826783115, 3156.6094826783115, 3156.6094826783115, 3156.6094826783115, 18890.692725175675, 12593.796929000951, 12593.796929000951, 12593.796929000951, 12593.796929000951, 12593.796929000951, 6296.905707098949, 6296.905707098949, 6296.905707098949, 6296.905707098949, 6296.905707098949, 3148.4583807956774, 3148.4583807956774, 3148.4583807956774, 3148.4583807956774, 3148.4583807956774, 3148.4583807956774, 3148.4583807956774, 3148.4583807956774, 3148.4583807956774, 3148.4583807956774, 3148.4583807956774, 3148.4583807956774, 3148.4583807956774, 3148.4583807956774, 3148.4583807956774, 3148.4583807956774, 3148.4583807956774, 3148.4583807956774, 3148.4583807956774, 3148.4583807956774, 18890.642328971862, 12593.775021337573, 12593.775021337573, 12593.775021337573, 12593.775021337573, 12593.775021337573, 6296.898183970032, 6296.898183970032, 6296.898183970032, 6296.898183970032, 6296.898183970032, 3148.463958368893, 3148.463958368893, 3148.463958368893, 3148.463958368893, 3148.463958368893, 3148.463958368893, 3148.463958368893, 3148.463958368893, 3148.463958368893, 3148.463958368893, 3148.463958368893, 3148.463958368893, 3148.463958368893, 3148.463958368893, 3148.463958368893, 3148.463958368893, 3148.463958368893, 3148.463958368893, 3148.463958368893, 3148.463958368893, 3148.463958368893, 3148.463958368893, 3148.463958368893, 3148.463958368893, 3148.463958368893, 18886.893235583164, 12591.256059256772, 12591.256059256772, 12591.256059256772, 12591.256059256772, 12591.256059256772, 6295.635270764308, 6295.635270764308, 6295.635270764308, 6295.635270764308, 6295.635270764308, 3147.821637062533, 3147.821637062533, 3147.821637062533, 3147.821637062533, 3147.8214465063243, 3147.8214465063243, 3147.8214465063243, 3147.8214465063243, 3147.8214465063243, 3147.8214465063243, 3147.8214465063243, 3147.8214465063243, 3147.8214465063243, 3147.8214465063243, 3147.8214465063243, 3147.8214465063243, 3147.8214465063243, 3147.8214465063243, 3147.8214465063243, 3147.8214465063243, 3147.8214465063243, 3147.8214465063243, 3147.8214465063243, 18886.105662582064, 12590.73914090317, 12590.73914090317, 12590.73914090317, 12590.73914090317, 12590.73914090317, 6295.371857031103, 6295.371857031103, 6295.371857031103, 6295.371857031103, 6295.371857031103, 3147.690311126294, 3147.690311126294, 3147.690311126294, 3147.690311126294, 3147.690311126294, 3147.690311126294, 3147.6899300297077, 3147.6899300297077, 3147.6899300297077, 3147.6899300297077, 3147.6899300297077, 3147.6899300297077, 3147.6899300297077, 3147.6899300297077, 3147.6899300297077, 3147.6899300297077, 3147.6899300297077, 3147.6899300297077, 3147.6899300297077, 18792.00190916799, 12528.008351140246, 12528.008351140246, 12528.008351140246, 12528.008351140246, 12528.008351140246, 6264.008346747486, 6264.008346747486, 6264.008346747486, 6264.008346747486, 6264.008346747486, 3132.0089133480196, 3132.0089133480196, 3132.0089133480196, 3132.0089133480196, 3132.0089133480196, 3132.0089133480196, 3132.0089133480196, 3132.0089133480196, 3132.0089133480196, 3132.0089133480196, 3132.0089133480196, 3132.0089133480196, 3132.0089133480196, 3132.0089133480196, 3132.0089133480196, 3132.0089133480196, 3132.0089133480196, 3132.0089133480196, 3132.0089133480196, 3132.0089133480196, 3132.0089133480196, 3132.0089133480196, 3132.0089133480196, 3132.0089133480196, 3132.0089133480196, 18777.56575425622, 12518.374390855455, 12518.374390855455, 12518.374390855455, 12518.374390855455, 12518.374390855455, 6259.194773560517, 6259.194773560517, 6259.194773560517, 6259.194773560517, 6259.194773560517, 3129.604964913048, 3129.604964913048, 3129.604964913048, 3129.604964913048, 3129.604964913048, 3129.604964913048, 3129.604964913048, 3129.604964913048, 3129.604964913048, 3129.604964913048, 3129.604964913048, 3129.604964913048, 3129.604964913048, 3129.604964913048, 3129.604964913048, 3129.604964913048, 3129.604964913048, 3129.604964913048, 3129.604964913048, 3129.604964913048, 3129.604964913048, 3129.604964913048, 3129.604964913048, 3129.604964913048, 3129.604964913048, 18770.38986924876, 12513.595266228658, 12513.595266228658, 12513.595266228658, 12513.595266228658, 12513.595266228658, 6256.802935779226, 6256.802935779226, 6256.802935779226, 6256.802935779226, 6256.802935779226, 3128.4065811736214, 3128.4065811736214, 3128.4065811736214, 3128.4065811736214, 3128.4065811736214, 3128.4065811736214, 3128.4065811736214, 3128.4065811736214, 3128.4065811736214, 3128.4065811736214, 3128.4065811736214, 3128.4065811736214, 3128.4065811736214, 3128.4065811736214, 3128.4065811736214, 3128.4065811736214, 3128.4065811736214, 3128.4065811736214, 3128.4065811736214, 3128.4065811736214, 3128.4065811736214, 3128.4065811736214, 3128.4065811736214, 3128.4065811736214, 3128.4065811736214, 18740.914390353944, 12493.947717021081, 12493.947717021081, 12493.947717021081, 12493.947717021081, 12493.947717021081, 6246.983690858941, 6246.983690858941, 6246.983690858941, 6246.983690858941, 6246.983690858941, 3123.4969506872944, 3123.4969506872944, 3123.4969506872944, 3123.4969506872944, 3123.4969506872944, 3123.4969506872944, 3123.4969506872944, 3123.4969506872944, 3123.4969506872944, 3123.4969506872944, 3123.4969506872944, 3123.4969506872944, 3123.4969506872944, 3123.4969506872944, 3123.4969506872944, 3123.4969506872944, 3123.4969506872944, 3123.4969506872944, 3123.4969506872944, 3123.4969506872944, 3123.4969506872944, 3123.4969506872944, 3123.4969506872944, 3123.4969506872944, 3123.4969506872944, 18687.300558806513, 12458.208165645148, 12458.208165645148, 12458.208165645148, 12458.208165645148, 12458.208165645148, 6229.113887054556, 6229.113887054556, 6229.113887054556, 6229.113887054556, 6229.113887054556, 3114.569010274331, 3114.569010274331, 3114.569010274331, 3114.569010274331, 3114.569010274331, 3114.569010274331, 3114.569010274331, 3114.569010274331, 3114.569010274331, 3114.569010274331, 3114.569010274331, 3114.569010274331, 3114.569010274331, 3114.569010274331, 3114.569010274331, 3114.569010274331, 3114.569010274331, 3114.569010274331, 3114.569010274331, 3114.569010274331, 3114.569010274331, 3114.569010274331, 3114.569010274331, 3114.569010274331, 3114.569010274331, 18665.46506037617, 12443.648144408713, 12443.648144408713, 12443.648144408713, 12443.648144408713, 12443.648144408713, 6221.82218898412, 6221.82218898412, 6221.82218898412, 6221.82218898412, 6221.82218898412, 3110.9112828140833, 3110.9112828140833, 3110.91109449206, 3110.91109449206, 3110.91109449206, 3110.91109449206, 3110.91109449206, 3110.91109449206, 3110.91109449206, 3110.91109449206, 3110.91109449206, 3110.91109449206, 3110.91109449206, 3110.91109449206, 3110.91109449206, 3110.91109449206, 3110.91109449206, 3110.91109449206, 3110.91109449206, 3110.91109449206, 3110.91109449206, 3110.91109449206, 3110.91109449206, 3110.91109449206, 18662.40180647448, 12441.612501801608, 12441.612501801608, 12441.612501801608, 12441.612501801608, 12441.612501801608, 6220.807380649333, 6220.807380649333, 6220.807380649333, 6220.807380649333, 6220.807380649333, 3110.4093390673097, 3110.4093390673097, 3110.4093390673097, 3110.4093390673097, 3110.4093390673097, 3110.4093390673097, 3110.4093390673097, 3110.4093390673097, 3110.4093390673097, 3110.4093390673097, 3110.4093390673097, 3110.4093390673097, 3110.4093390673097, 3110.4093390673097, 3110.4093390673097, 3110.4093390673097, 3110.4093390673097, 3110.4093390673097, 3110.4093390673097, 3110.4093390673097, 3110.4093390673097, 3110.4093390673097, 3110.4093390673097, 18637.79672181447, 12425.200071057769, 12425.200071057769, 12425.200071057769, 12425.200071057769, 12425.200071057769, 6212.600035528884, 6212.600035528884, 6212.600035528884, 6212.600035528884, 6212.600035528884, 3106.3011460218363, 3106.3011460218363, 3106.3011460218363, 3106.3011460218363, 3106.3011460218363, 3106.3011460218363, 3106.3011460218363, 3106.3011460218363, 3106.3011460218363, 3106.3011460218363, 3106.3011460218363, 3106.3011460218363, 3106.3011460218363, 3106.3011460218363, 3106.3011460218363, 3106.3011460218363, 3106.3011460218363, 3106.3011460218363, 3106.3011460218363, 3106.3011460218363, 18549.343324296005, 12366.23112867174, 12366.23112867174, 12366.23112867174, 12366.23112867174, 12366.23112867174, 6183.117810143606, 6183.117810143606, 6183.117810143606, 6183.117810143606, 6183.117810143606, 3091.5647067417895, 3091.5647067417895, 3091.5647067417895, 3091.5647067417895, 3091.5647067417895, 3091.5647067417895, 3091.5647067417895, 3091.5647067417895, 3091.5647067417895, 3091.5647067417895, 3091.5647067417895, 3091.5647067417895, 3091.5647067417895, 3091.5647067417895, 3091.5647067417895, 3091.5647067417895, 3091.5647067417895, 3091.5647067417895, 3091.5647067417895, 3091.5647067417895, 18542.172011100694, 12361.455989418495, 12361.455989418495, 12361.455989418495, 12361.455989418495, 12361.455989418495, 6180.734729536961, 6180.734729536961, 6180.734729536961, 6180.734729536961, 6180.734729536961, 3090.37671869586, 3090.37671869586, 3090.37671869586, 3090.37671869586, 3090.37671869586, 3090.37671869586, 3090.37671869586, 3090.37671869586, 3090.37671869586, 3090.37671869586, 3090.37671869586, 3090.37671869586, 3090.37671869586, 3090.37671869586, 3090.37671869586, 3090.37671869586, 3090.37671869586, 3090.37671869586, 3090.37671869586, 3090.37671869586, 18530.16954821987, 12353.449107517874, 12353.449107517874, 12353.449107517874, 12353.449107517874, 12353.449107517874, 6176.729040730143, 6176.729040730143, 6176.729040730143, 6176.729040730143, 6176.729040730143, 3088.366576893541, 3088.366576893541, 3088.366576893541, 3088.366576893541, 3088.366576893541, 3088.366576893541, 3088.366576893541, 3088.366576893541, 3088.366576893541, 3088.366576893541, 3088.366576893541, 3088.366576893541, 3088.366576893541, 3088.366576893541, 3088.366576893541, 3088.366576893541, 3088.366576893541, 3088.366576893541, 3088.366576893541, 3088.366576893541, 3088.366576893541, 3088.366576893541, 3088.366576893541, 18309.308811428233, 12206.20415014965, 12206.20415014965, 12206.20415014965, 12206.20415014965, 12206.20415014965, 6103.106139109302, 6103.106139109302, 6103.106139109302, 6103.106139109302, 6103.106139109302, 3051.5595350640447, 3051.5595350640447, 3051.5595350640447, 3051.5595350640447, 3051.5595350640447, 3051.5595350640447, 3051.5595350640447, 3051.5595350640447, 3051.5595350640447, 3051.5595350640447, 3051.5595350640447, 3051.5595350640447, 3051.5595350640447, 3051.5595350640447, 3051.5595350640447, 3051.5595350640447, 3051.5595350640447, 3051.5595350640447, 3051.5595350640447, 3051.5595350640447, 3051.5595350640447, 3051.5595350640447, 3051.5595350640447, 3051.5595350640447, 3051.5595350640447, 18182.61554445384, 12121.746142311986, 12121.746142311986, 12121.746142311986, 12121.746142311986, 12121.746142311986, 6060.880409184267, 6060.880409184267, 6060.880409184267, 6060.880409184267, 6060.880409184267, 3030.4464419161663, 3030.4464419161663, 3030.4464419161663, 3030.4464419161663, 3030.4464419161663, 3030.4464419161663, 3030.4464419161663, 3030.4464419161663, 3030.4464419161663, 3030.4464419161663, 3030.4464419161663, 3030.4464419161663, 3030.4464419161663, 3030.4464419161663, 3030.4464419161663, 3030.4464419161663, 3030.4464419161663, 3030.4464419161663, 3030.4464419161663, 3030.4464419161663, 3030.4464419161663, 3030.4464419161663, 3030.4464419161663, 3030.4464419161663, 3030.4464419161663, 65.75627296723964, 65.75627296723964, 65.75627296723964, 65.75627296723964, 65.75627296723964, 65.75627296723964, 65.75627296723964, 65.75627296723964, 65.75627296723964, 65.75627296723964, 65.75627296723964, 65.75627296723964, 65.75627296723964, 65.75627296723964, 65.75627296723964, 65.75627296723964, 65.75627296723964, 65.75627296723964, 65.75627296723964, 65.75627296723964, 65.75627296723964, 65.75627296723964, 65.75627296723964, 65.75627296723964, 65.75627296723964, 65.75627296723964, 65.75627296723964, 65.75627296723964, 65.75627296723964, 65.75627296723964, 65.75627296723964, 65.75627296723964, 65.75627296723964, 65.75627296723964, 65.75627296723964, 65.75627296723964, 65.75627296723964, 65.75627296723964, 65.75627296723964, 65.75627296723964, 65.75627296723964, 65.75627296723964, 65.75627296723964, 65.75627296723964, 65.75627296723964, 65.75627296723964, 65.75627296723964, 65.75627296723964, 65.75627296723964, 65.75627296723964, 65.75627296723964, 65.75627296723964, 65.75627296723964, 65.75627296723964, 65.75627296723964, 65.75627296723964, 65.75627296723964, 65.75627296723964, 65.75627296723964, 65.75627296723964, 65.75627296723964, 65.75627296723964, 65.75627296723964, 65.75627296723964, 65.75627296723964, 65.75627296723964, 65.75627296723964, 65.75627296723964, 65.75627296723964, 65.75627296723964, 65.75627296723964, 65.75627296723964, 65.75627296723964, 65.75627296723964, 65.75627296723964, 65.75627296723964, 65.75627296723964, 65.75627296723964, 65.75627296723964, 65.75627296723964, 65.75627296723964, 65.75627296723964, 65.75627296723964, 65.75627296723964, 65.75627296723964, 65.75627296723964, 65.75627296723964, 65.75627296723964, 65.75627296723964, 65.75627296723964, 65.75627296723964, 65.75627296723964, 65.75627296723964, 65.75627296723964, 65.75627296723964, 65.75627296723964, 65.75627296723964, 65.75627296723964, 65.75627296723964, 65.75627296723964, 65.75627296723964, 65.75627296723964, 65.75627296723964, 65.75627296723964, 65.75627296723964, 65.75627296723964, 65.75627296723964, 65.75627296723964, 65.75627296723964, 65.75627296723964, 65.75627296723964, 65.75627296723964, 65.75627296723964, 65.75627296723964, 65.75627296723964, 65.75627296723964, 65.75627296723964, 65.75627296723964, 65.75627296723964, 65.75627296723964, 65.75627296723964, 65.75627296723964, 65.75627296723964, 65.75627296723964, 65.75627296723964, 65.75627296723964, 65.75627296723964, 65.75627296723964, 65.75627296723964, 65.75627296723964, 65.75627296723964, 65.75627296723964, 65.75627296723964, 65.75627296723964, 65.75627296723964, 65.75627296723964, 65.75627296723964, 65.75627296723964, 65.75627296723964, 65.75627296723964, 65.75627296723964, 65.75627296723964, 65.75627296723964, 65.75627296723964, 65.75627296723964, 65.75627296723964, 65.75627296723964, 65.75627296723964, 65.75627296723964, 65.75627296723964, 65.75627296723964, 65.75627296723964], \"Total\": [72210.0, 72210.0, 72210.0, 72210.0, 72210.0, 72210.0, 72210.0, 72210.0, 72210.0, 72210.0, 72210.0, 72210.0, 72210.0, 72210.0, 72210.0, 72210.0, 72210.0, 72210.0, 72210.0, 72210.0, 72210.0, 72210.0, 72210.0, 72210.0, 72210.0, 72210.0, 72210.0, 72210.0, 72210.0, 144157.0, 431945.06718684174, 288051.14522262884, 288051.14522262884, 288051.14522262884, 288051.14522262884, 288051.14522262884, 144157.22156104894, 144157.22156104894, 144157.22156104894, 144157.22156104894, 144157.22156104894, 72210.26405014117, 72210.26405014117, 72210.26382657915, 72210.26382657915, 72210.26308680874, 72210.26308680874, 72210.26308680874, 72210.26308680874, 72210.26308680874, 72210.26308680874, 72210.26420182656, 72210.26420182656, 72210.26420182656, 72210.26420182656, 72210.26420182656, 72210.26420182656, 72210.26420182656, 72210.26420182656, 72210.26420182656, 72210.26420182656, 72210.26420182656, 72210.26420182656, 72210.26420182656, 431945.06718684174, 288051.14522262884, 288051.14522262884, 288051.14522262884, 288051.14522262884, 288051.14522262884, 144157.22156104894, 144157.22156104894, 144157.22156104894, 144157.22156104894, 144157.22156104894, 72210.26308680874, 72210.26308680874, 72210.26308680874, 72210.26308680874, 72210.26308680874, 72210.26308680874, 72210.26382657915, 72210.26382657915, 72210.26405014117, 72210.26405014117, 72210.26420182656, 72210.26420182656, 72210.26420182656, 72210.26420182656, 72210.26420182656, 72210.26420182656, 72210.26420182656, 72210.26420182656, 72210.26420182656, 72210.26420182656, 72210.26420182656, 431945.06718684174, 288051.14522262884, 288051.14522262884, 288051.14522262884, 288051.14522262884, 288051.14522262884, 144157.22156104894, 144157.22156104894, 144157.22156104894, 144157.22156104894, 144157.22156104894, 72210.26308680874, 72210.26308680874, 72210.26308680874, 72210.26308680874, 72210.26308680874, 72210.26308680874, 72210.26382657915, 72210.26382657915, 72210.26405014117, 72210.26405014117, 72210.26420182656, 72210.26420182656, 72210.26420182656, 72210.26420182656, 72210.26420182656, 72210.26420182656, 72210.26420182656, 72210.26420182656, 72210.26420182656, 72210.26420182656, 72210.26420182656, 72210.26420182656, 72210.26420182656, 72210.26420182656, 72210.26420182656, 431945.06718684174, 288051.14522262884, 288051.14522262884, 288051.14522262884, 288051.14522262884, 288051.14522262884, 144157.22156104894, 144157.22156104894, 144157.22156104894, 144157.22156104894, 144157.22156104894, 72210.26308680874, 72210.26308680874, 72210.26308680874, 72210.26308680874, 72210.26308680874, 72210.26308680874, 72210.26420182656, 72210.26420182656, 72210.26420182656, 72210.26420182656, 72210.26420182656, 72210.26420182656, 72210.26420182656, 72210.26420182656, 72210.26420182656, 72210.26420182656, 72210.26420182656, 72210.26420182656, 72210.26420182656, 72210.26420182656, 72210.26420182656, 72210.26420182656, 431945.06718684174, 288051.14522262884, 288051.14522262884, 288051.14522262884, 288051.14522262884, 288051.14522262884, 144157.22156104894, 144157.22156104894, 144157.22156104894, 144157.22156104894, 144157.22156104894, 72210.26405014117, 72210.26405014117, 72210.26308680874, 72210.26308680874, 72210.26308680874, 72210.26308680874, 72210.26308680874, 72210.26308680874, 72210.26382657915, 72210.26382657915, 72210.26420182656, 72210.26420182656, 72210.26420182656, 72210.26420182656, 72210.26420182656, 72210.26420182656, 72210.26420182656, 72210.26420182656, 72210.26420182656, 72210.26420182656, 72210.26420182656, 72210.26420182656, 72210.26420182656, 72210.26420182656, 431945.06718684174, 288051.14522262884, 288051.14522262884, 288051.14522262884, 288051.14522262884, 288051.14522262884, 144157.22156104894, 144157.22156104894, 144157.22156104894, 144157.22156104894, 144157.22156104894, 72210.26308680874, 72210.26308680874, 72210.26308680874, 72210.26308680874, 72210.26308680874, 72210.26308680874, 72210.26382657915, 72210.26382657915, 72210.26405014117, 72210.26405014117, 72210.26420182656, 72210.26420182656, 72210.26420182656, 72210.26420182656, 72210.26420182656, 72210.26420182656, 72210.26420182656, 72210.26420182656, 72210.26420182656, 72210.26420182656, 72210.26420182656, 72210.26420182656, 72210.26420182656, 72210.26420182656, 72210.26420182656, 431945.06718684174, 288051.14522262884, 288051.14522262884, 288051.14522262884, 288051.14522262884, 288051.14522262884, 144157.22156104894, 144157.22156104894, 144157.22156104894, 144157.22156104894, 144157.22156104894, 72210.26382657915, 72210.26382657915, 72210.26405014117, 72210.26405014117, 72210.26420182656, 72210.26420182656, 72210.26420182656, 72210.26420182656, 72210.26420182656, 72210.26420182656, 72210.26420182656, 72210.26420182656, 72210.26420182656, 72210.26420182656, 72210.26420182656, 72210.26420182656, 72210.26420182656, 72210.26420182656, 72210.26420182656, 72210.26420182656, 431945.06718684174, 288051.14522262884, 288051.14522262884, 288051.14522262884, 288051.14522262884, 288051.14522262884, 144157.22156104894, 144157.22156104894, 144157.22156104894, 144157.22156104894, 144157.22156104894, 72210.26308680874, 72210.26308680874, 72210.26308680874, 72210.26308680874, 72210.26308680874, 72210.26308680874, 72210.26382657915, 72210.26382657915, 72210.26405014117, 72210.26405014117, 72210.26420182656, 72210.26420182656, 72210.26420182656, 72210.26420182656, 72210.26420182656, 72210.26420182656, 72210.26420182656, 72210.26420182656, 72210.26420182656, 72210.26420182656, 72210.26420182656, 72210.26420182656, 72210.26420182656, 72210.26420182656, 72210.26420182656, 431945.06718684174, 288051.14522262884, 288051.14522262884, 288051.14522262884, 288051.14522262884, 288051.14522262884, 144157.22156104894, 144157.22156104894, 144157.22156104894, 144157.22156104894, 144157.22156104894, 72210.26382657915, 72210.26382657915, 72210.26405014117, 72210.26405014117, 72210.26308680874, 72210.26308680874, 72210.26308680874, 72210.26308680874, 72210.26308680874, 72210.26308680874, 72210.26420182656, 72210.26420182656, 72210.26420182656, 72210.26420182656, 72210.26420182656, 72210.26420182656, 72210.26420182656, 72210.26420182656, 72210.26420182656, 72210.26420182656, 72210.26420182656, 72210.26420182656, 72210.26420182656, 431945.06718684174, 288051.14522262884, 288051.14522262884, 288051.14522262884, 288051.14522262884, 288051.14522262884, 144157.22156104894, 144157.22156104894, 144157.22156104894, 144157.22156104894, 144157.22156104894, 72210.26308680874, 72210.26308680874, 72210.26308680874, 72210.26308680874, 72210.26308680874, 72210.26308680874, 72210.26420182656, 72210.26420182656, 72210.26420182656, 72210.26420182656, 72210.26420182656, 72210.26420182656, 72210.26420182656, 72210.26420182656, 72210.26420182656, 72210.26420182656, 72210.26420182656, 72210.26420182656, 72210.26420182656, 431945.06718684174, 288051.14522262884, 288051.14522262884, 288051.14522262884, 288051.14522262884, 288051.14522262884, 144157.22156104894, 144157.22156104894, 144157.22156104894, 144157.22156104894, 144157.22156104894, 72210.26308680874, 72210.26308680874, 72210.26308680874, 72210.26308680874, 72210.26308680874, 72210.26308680874, 72210.26382657915, 72210.26382657915, 72210.26405014117, 72210.26405014117, 72210.26420182656, 72210.26420182656, 72210.26420182656, 72210.26420182656, 72210.26420182656, 72210.26420182656, 72210.26420182656, 72210.26420182656, 72210.26420182656, 72210.26420182656, 72210.26420182656, 72210.26420182656, 72210.26420182656, 72210.26420182656, 72210.26420182656, 431945.06718684174, 288051.14522262884, 288051.14522262884, 288051.14522262884, 288051.14522262884, 288051.14522262884, 144157.22156104894, 144157.22156104894, 144157.22156104894, 144157.22156104894, 144157.22156104894, 72210.26308680874, 72210.26308680874, 72210.26308680874, 72210.26308680874, 72210.26308680874, 72210.26308680874, 72210.26382657915, 72210.26382657915, 72210.26405014117, 72210.26405014117, 72210.26420182656, 72210.26420182656, 72210.26420182656, 72210.26420182656, 72210.26420182656, 72210.26420182656, 72210.26420182656, 72210.26420182656, 72210.26420182656, 72210.26420182656, 72210.26420182656, 72210.26420182656, 72210.26420182656, 72210.26420182656, 72210.26420182656, 431945.06718684174, 288051.14522262884, 288051.14522262884, 288051.14522262884, 288051.14522262884, 288051.14522262884, 144157.22156104894, 144157.22156104894, 144157.22156104894, 144157.22156104894, 144157.22156104894, 72210.26308680874, 72210.26308680874, 72210.26308680874, 72210.26308680874, 72210.26308680874, 72210.26308680874, 72210.26382657915, 72210.26382657915, 72210.26405014117, 72210.26405014117, 72210.26420182656, 72210.26420182656, 72210.26420182656, 72210.26420182656, 72210.26420182656, 72210.26420182656, 72210.26420182656, 72210.26420182656, 72210.26420182656, 72210.26420182656, 72210.26420182656, 72210.26420182656, 72210.26420182656, 72210.26420182656, 72210.26420182656, 431945.06718684174, 288051.14522262884, 288051.14522262884, 288051.14522262884, 288051.14522262884, 288051.14522262884, 144157.22156104894, 144157.22156104894, 144157.22156104894, 144157.22156104894, 144157.22156104894, 72210.26308680874, 72210.26308680874, 72210.26308680874, 72210.26308680874, 72210.26308680874, 72210.26308680874, 72210.26382657915, 72210.26382657915, 72210.26405014117, 72210.26405014117, 72210.26420182656, 72210.26420182656, 72210.26420182656, 72210.26420182656, 72210.26420182656, 72210.26420182656, 72210.26420182656, 72210.26420182656, 72210.26420182656, 72210.26420182656, 72210.26420182656, 72210.26420182656, 72210.26420182656, 72210.26420182656, 72210.26420182656, 431945.06718684174, 288051.14522262884, 288051.14522262884, 288051.14522262884, 288051.14522262884, 288051.14522262884, 144157.22156104894, 144157.22156104894, 144157.22156104894, 144157.22156104894, 144157.22156104894, 72210.26308680874, 72210.26308680874, 72210.26308680874, 72210.26308680874, 72210.26308680874, 72210.26308680874, 72210.26382657915, 72210.26382657915, 72210.26405014117, 72210.26405014117, 72210.26420182656, 72210.26420182656, 72210.26420182656, 72210.26420182656, 72210.26420182656, 72210.26420182656, 72210.26420182656, 72210.26420182656, 72210.26420182656, 72210.26420182656, 72210.26420182656, 72210.26420182656, 72210.26420182656, 72210.26420182656, 72210.26420182656, 431945.06718684174, 288051.14522262884, 288051.14522262884, 288051.14522262884, 288051.14522262884, 288051.14522262884, 144157.22156104894, 144157.22156104894, 144157.22156104894, 144157.22156104894, 144157.22156104894, 72210.26405014117, 72210.26405014117, 72210.26308680874, 72210.26308680874, 72210.26308680874, 72210.26308680874, 72210.26308680874, 72210.26308680874, 72210.26382657915, 72210.26382657915, 72210.26420182656, 72210.26420182656, 72210.26420182656, 72210.26420182656, 72210.26420182656, 72210.26420182656, 72210.26420182656, 72210.26420182656, 72210.26420182656, 72210.26420182656, 72210.26420182656, 72210.26420182656, 72210.26420182656, 72210.26420182656, 431945.06718684174, 288051.14522262884, 288051.14522262884, 288051.14522262884, 288051.14522262884, 288051.14522262884, 144157.22156104894, 144157.22156104894, 144157.22156104894, 144157.22156104894, 144157.22156104894, 72210.26308680874, 72210.26308680874, 72210.26308680874, 72210.26308680874, 72210.26308680874, 72210.26308680874, 72210.26382657915, 72210.26382657915, 72210.26420182656, 72210.26420182656, 72210.26420182656, 72210.26420182656, 72210.26420182656, 72210.26420182656, 72210.26420182656, 72210.26420182656, 72210.26420182656, 72210.26420182656, 72210.26420182656, 72210.26420182656, 72210.26420182656, 72210.26420182656, 72210.26420182656, 431945.06718684174, 288051.14522262884, 288051.14522262884, 288051.14522262884, 288051.14522262884, 288051.14522262884, 144157.22156104894, 144157.22156104894, 144157.22156104894, 144157.22156104894, 144157.22156104894, 72210.26382657915, 72210.26382657915, 72210.26405014117, 72210.26405014117, 72210.26420182656, 72210.26420182656, 72210.26420182656, 72210.26420182656, 72210.26420182656, 72210.26420182656, 72210.26420182656, 72210.26420182656, 72210.26420182656, 72210.26420182656, 72210.26420182656, 72210.26420182656, 72210.26420182656, 72210.26420182656, 72210.26420182656, 72210.26420182656, 431945.06718684174, 288051.14522262884, 288051.14522262884, 288051.14522262884, 288051.14522262884, 288051.14522262884, 144157.22156104894, 144157.22156104894, 144157.22156104894, 144157.22156104894, 144157.22156104894, 72210.26382657915, 72210.26382657915, 72210.26405014117, 72210.26405014117, 72210.26420182656, 72210.26420182656, 72210.26420182656, 72210.26420182656, 72210.26420182656, 72210.26420182656, 72210.26420182656, 72210.26420182656, 72210.26420182656, 72210.26420182656, 72210.26420182656, 72210.26420182656, 72210.26420182656, 72210.26420182656, 72210.26420182656, 72210.26420182656, 431945.06718684174, 288051.14522262884, 288051.14522262884, 288051.14522262884, 288051.14522262884, 288051.14522262884, 144157.22156104894, 144157.22156104894, 144157.22156104894, 144157.22156104894, 144157.22156104894, 72210.26382657915, 72210.26382657915, 72210.26405014117, 72210.26405014117, 72210.26420182656, 72210.26420182656, 72210.26420182656, 72210.26420182656, 72210.26420182656, 72210.26420182656, 72210.26420182656, 72210.26420182656, 72210.26420182656, 72210.26420182656, 72210.26420182656, 72210.26420182656, 72210.26420182656, 72210.26420182656, 72210.26420182656, 72210.26420182656, 431945.06718684174, 288051.14522262884, 288051.14522262884, 288051.14522262884, 288051.14522262884, 288051.14522262884, 144157.22156104894, 144157.22156104894, 144157.22156104894, 144157.22156104894, 144157.22156104894, 72210.26308680874, 72210.26308680874, 72210.26308680874, 72210.26308680874, 72210.26308680874, 72210.26308680874, 72210.26382657915, 72210.26382657915, 72210.26420182656, 72210.26420182656, 72210.26420182656, 72210.26420182656, 72210.26420182656, 72210.26420182656, 72210.26420182656, 72210.26420182656, 72210.26420182656, 72210.26420182656, 72210.26420182656, 72210.26420182656, 72210.26420182656, 72210.26420182656, 72210.26420182656, 431945.06718684174, 288051.14522262884, 288051.14522262884, 288051.14522262884, 288051.14522262884, 288051.14522262884, 144157.22156104894, 144157.22156104894, 144157.22156104894, 144157.22156104894, 144157.22156104894, 72210.26308680874, 72210.26308680874, 72210.26308680874, 72210.26308680874, 72210.26308680874, 72210.26308680874, 72210.26382657915, 72210.26382657915, 72210.26405014117, 72210.26405014117, 72210.26420182656, 72210.26420182656, 72210.26420182656, 72210.26420182656, 72210.26420182656, 72210.26420182656, 72210.26420182656, 72210.26420182656, 72210.26420182656, 72210.26420182656, 72210.26420182656, 72210.26420182656, 72210.26420182656, 72210.26420182656, 72210.26420182656, 431945.06718684174, 288051.14522262884, 288051.14522262884, 288051.14522262884, 288051.14522262884, 288051.14522262884, 144157.22156104894, 144157.22156104894, 144157.22156104894, 144157.22156104894, 144157.22156104894, 72210.26308680874, 72210.26308680874, 72210.26308680874, 72210.26308680874, 72210.26308680874, 72210.26308680874, 72210.26382657915, 72210.26382657915, 72210.26405014117, 72210.26405014117, 72210.26420182656, 72210.26420182656, 72210.26420182656, 72210.26420182656, 72210.26420182656, 72210.26420182656, 72210.26420182656, 72210.26420182656, 72210.26420182656, 72210.26420182656, 72210.26420182656, 72210.26420182656, 72210.26420182656, 72210.26420182656, 72210.26420182656, 72210.26308680874, 72210.26308680874, 72210.26308680874, 72210.26308680874, 72210.26308680874, 72210.26308680874, 72210.26382657915, 72210.26382657915, 72210.26405014117, 72210.26405014117, 72210.26420182656, 72210.26420182656, 72210.26420182656, 72210.26420182656, 72210.26420182656, 72210.26420182656, 72210.26420182656, 72210.26420182656, 72210.26420182656, 72210.26420182656, 72210.26420182656, 72210.26420182656, 72210.26420182656, 72210.26420182656, 72210.26420182656, 72210.26420182656, 72210.26420182656, 72210.26420182656, 72210.26420182656, 144157.22156104894, 288051.14522262884, 288051.14522262884, 144157.22156104894, 144157.22156104894, 288051.14522262884, 288051.14522262884, 144157.22156104894, 144157.22156104894, 72210.26308680874, 72210.26308680874, 72210.26308680874, 72210.26308680874, 72210.26308680874, 72210.26308680874, 72210.26382657915, 72210.26382657915, 72210.26405014117, 72210.26405014117, 72210.26420182656, 72210.26420182656, 72210.26420182656, 72210.26420182656, 72210.26420182656, 72210.26420182656, 72210.26420182656, 72210.26420182656, 72210.26420182656, 72210.26420182656, 72210.26420182656, 72210.26420182656, 72210.26420182656, 72210.26420182656, 72210.26420182656, 72210.26420182656, 72210.26420182656, 72210.26420182656, 72210.26420182656, 144157.22156104894, 288051.14522262884, 288051.14522262884, 144157.22156104894, 144157.22156104894, 288051.14522262884, 288051.14522262884, 144157.22156104894, 144157.22156104894, 72210.26308680874, 72210.26308680874, 72210.26308680874, 72210.26308680874, 72210.26308680874, 72210.26308680874, 72210.26382657915, 72210.26382657915, 72210.26405014117, 72210.26405014117, 72210.26420182656, 72210.26420182656, 72210.26420182656, 72210.26420182656, 72210.26420182656, 72210.26420182656, 72210.26420182656, 72210.26420182656, 72210.26420182656, 72210.26420182656, 72210.26420182656, 72210.26420182656, 72210.26420182656, 72210.26420182656, 72210.26420182656, 72210.26420182656, 72210.26420182656, 72210.26420182656, 72210.26420182656, 144157.22156104894, 288051.14522262884, 288051.14522262884, 144157.22156104894, 144157.22156104894, 288051.14522262884, 288051.14522262884, 144157.22156104894, 144157.22156104894, 72210.26308680874, 72210.26308680874, 72210.26308680874, 72210.26308680874, 72210.26308680874, 72210.26308680874, 72210.26382657915, 72210.26382657915, 72210.26405014117, 72210.26405014117, 72210.26420182656, 72210.26420182656, 72210.26420182656, 72210.26420182656, 72210.26420182656, 72210.26420182656, 72210.26420182656, 72210.26420182656, 72210.26420182656, 72210.26420182656, 72210.26420182656, 72210.26420182656, 72210.26420182656, 72210.26420182656, 72210.26420182656, 72210.26420182656, 72210.26420182656, 72210.26420182656, 72210.26420182656, 144157.22156104894, 288051.14522262884, 288051.14522262884, 144157.22156104894, 144157.22156104894, 288051.14522262884, 288051.14522262884, 144157.22156104894, 144157.22156104894], \"Category\": [\"Default\", \"Default\", \"Default\", \"Default\", \"Default\", \"Default\", \"Default\", \"Default\", \"Default\", \"Default\", \"Default\", \"Default\", \"Default\", \"Default\", \"Default\", \"Default\", \"Default\", \"Default\", \"Default\", \"Default\", \"Default\", \"Default\", \"Default\", \"Default\", \"Default\", \"Default\", \"Default\", \"Default\", \"Default\", \"Default\", \"Topic1\", \"Topic1\", \"Topic1\", \"Topic1\", \"Topic1\", \"Topic1\", \"Topic1\", \"Topic1\", \"Topic1\", \"Topic1\", \"Topic1\", \"Topic1\", \"Topic1\", \"Topic1\", \"Topic1\", \"Topic1\", \"Topic1\", \"Topic1\", \"Topic1\", \"Topic1\", \"Topic1\", \"Topic1\", \"Topic1\", \"Topic1\", \"Topic1\", \"Topic1\", \"Topic1\", \"Topic1\", \"Topic1\", \"Topic1\", \"Topic1\", \"Topic1\", \"Topic1\", \"Topic1\", \"Topic2\", \"Topic2\", \"Topic2\", \"Topic2\", \"Topic2\", \"Topic2\", \"Topic2\", \"Topic2\", \"Topic2\", \"Topic2\", \"Topic2\", \"Topic2\", \"Topic2\", \"Topic2\", \"Topic2\", \"Topic2\", \"Topic2\", \"Topic2\", \"Topic2\", \"Topic2\", \"Topic2\", \"Topic2\", \"Topic2\", \"Topic2\", \"Topic2\", \"Topic2\", \"Topic2\", \"Topic2\", \"Topic2\", \"Topic2\", \"Topic2\", \"Topic2\", \"Topic3\", \"Topic3\", \"Topic3\", \"Topic3\", \"Topic3\", \"Topic3\", \"Topic3\", \"Topic3\", \"Topic3\", \"Topic3\", \"Topic3\", \"Topic3\", \"Topic3\", \"Topic3\", \"Topic3\", \"Topic3\", \"Topic3\", \"Topic3\", \"Topic3\", \"Topic3\", \"Topic3\", \"Topic3\", \"Topic3\", \"Topic3\", \"Topic3\", \"Topic3\", \"Topic3\", \"Topic3\", \"Topic3\", \"Topic3\", \"Topic3\", \"Topic3\", \"Topic3\", \"Topic3\", \"Topic3\", \"Topic3\", \"Topic4\", \"Topic4\", \"Topic4\", \"Topic4\", \"Topic4\", \"Topic4\", \"Topic4\", \"Topic4\", \"Topic4\", \"Topic4\", \"Topic4\", \"Topic4\", \"Topic4\", \"Topic4\", \"Topic4\", \"Topic4\", \"Topic4\", \"Topic4\", \"Topic4\", \"Topic4\", \"Topic4\", \"Topic4\", \"Topic4\", \"Topic4\", \"Topic4\", \"Topic4\", \"Topic4\", \"Topic4\", \"Topic4\", \"Topic4\", \"Topic4\", \"Topic4\", \"Topic4\", \"Topic5\", \"Topic5\", \"Topic5\", \"Topic5\", \"Topic5\", \"Topic5\", \"Topic5\", \"Topic5\", \"Topic5\", \"Topic5\", \"Topic5\", \"Topic5\", \"Topic5\", \"Topic5\", \"Topic5\", \"Topic5\", \"Topic5\", \"Topic5\", \"Topic5\", \"Topic5\", \"Topic5\", \"Topic5\", \"Topic5\", \"Topic5\", \"Topic5\", \"Topic5\", \"Topic5\", \"Topic5\", \"Topic5\", \"Topic5\", \"Topic5\", \"Topic5\", \"Topic5\", \"Topic5\", \"Topic5\", \"Topic6\", \"Topic6\", \"Topic6\", \"Topic6\", \"Topic6\", \"Topic6\", \"Topic6\", \"Topic6\", \"Topic6\", \"Topic6\", \"Topic6\", \"Topic6\", \"Topic6\", \"Topic6\", \"Topic6\", \"Topic6\", \"Topic6\", \"Topic6\", \"Topic6\", \"Topic6\", \"Topic6\", \"Topic6\", \"Topic6\", \"Topic6\", \"Topic6\", \"Topic6\", \"Topic6\", \"Topic6\", \"Topic6\", \"Topic6\", \"Topic6\", \"Topic6\", \"Topic6\", \"Topic6\", \"Topic6\", \"Topic6\", \"Topic7\", \"Topic7\", \"Topic7\", \"Topic7\", \"Topic7\", \"Topic7\", \"Topic7\", \"Topic7\", \"Topic7\", \"Topic7\", \"Topic7\", \"Topic7\", \"Topic7\", \"Topic7\", \"Topic7\", \"Topic7\", \"Topic7\", \"Topic7\", \"Topic7\", \"Topic7\", \"Topic7\", \"Topic7\", \"Topic7\", \"Topic7\", \"Topic7\", \"Topic7\", \"Topic7\", \"Topic7\", \"Topic7\", \"Topic7\", \"Topic7\", \"Topic8\", \"Topic8\", \"Topic8\", \"Topic8\", \"Topic8\", \"Topic8\", \"Topic8\", \"Topic8\", \"Topic8\", \"Topic8\", \"Topic8\", \"Topic8\", \"Topic8\", \"Topic8\", \"Topic8\", \"Topic8\", \"Topic8\", \"Topic8\", \"Topic8\", \"Topic8\", \"Topic8\", \"Topic8\", \"Topic8\", \"Topic8\", \"Topic8\", \"Topic8\", \"Topic8\", \"Topic8\", \"Topic8\", \"Topic8\", \"Topic8\", \"Topic8\", \"Topic8\", \"Topic8\", \"Topic8\", \"Topic8\", \"Topic9\", \"Topic9\", \"Topic9\", \"Topic9\", \"Topic9\", \"Topic9\", \"Topic9\", \"Topic9\", \"Topic9\", \"Topic9\", \"Topic9\", \"Topic9\", \"Topic9\", \"Topic9\", \"Topic9\", \"Topic9\", \"Topic9\", \"Topic9\", \"Topic9\", \"Topic9\", \"Topic9\", \"Topic9\", \"Topic9\", \"Topic9\", \"Topic9\", \"Topic9\", \"Topic9\", \"Topic9\", \"Topic9\", \"Topic9\", \"Topic9\", \"Topic9\", \"Topic9\", \"Topic9\", \"Topic10\", \"Topic10\", \"Topic10\", \"Topic10\", \"Topic10\", \"Topic10\", \"Topic10\", \"Topic10\", \"Topic10\", \"Topic10\", \"Topic10\", \"Topic10\", \"Topic10\", \"Topic10\", \"Topic10\", \"Topic10\", \"Topic10\", \"Topic10\", \"Topic10\", \"Topic10\", \"Topic10\", \"Topic10\", \"Topic10\", \"Topic10\", \"Topic10\", \"Topic10\", \"Topic10\", \"Topic10\", \"Topic10\", \"Topic10\", \"Topic11\", \"Topic11\", \"Topic11\", \"Topic11\", \"Topic11\", \"Topic11\", \"Topic11\", \"Topic11\", \"Topic11\", \"Topic11\", \"Topic11\", \"Topic11\", \"Topic11\", \"Topic11\", \"Topic11\", \"Topic11\", \"Topic11\", \"Topic11\", \"Topic11\", \"Topic11\", \"Topic11\", \"Topic11\", \"Topic11\", \"Topic11\", \"Topic11\", \"Topic11\", \"Topic11\", \"Topic11\", \"Topic11\", \"Topic11\", \"Topic11\", \"Topic11\", \"Topic11\", \"Topic11\", \"Topic11\", \"Topic11\", \"Topic12\", \"Topic12\", \"Topic12\", \"Topic12\", \"Topic12\", \"Topic12\", \"Topic12\", \"Topic12\", \"Topic12\", \"Topic12\", \"Topic12\", \"Topic12\", \"Topic12\", \"Topic12\", \"Topic12\", \"Topic12\", \"Topic12\", \"Topic12\", \"Topic12\", \"Topic12\", \"Topic12\", \"Topic12\", \"Topic12\", \"Topic12\", \"Topic12\", \"Topic12\", \"Topic12\", \"Topic12\", \"Topic12\", \"Topic12\", \"Topic12\", \"Topic12\", \"Topic12\", \"Topic12\", \"Topic12\", \"Topic12\", \"Topic13\", \"Topic13\", \"Topic13\", \"Topic13\", \"Topic13\", \"Topic13\", \"Topic13\", \"Topic13\", \"Topic13\", \"Topic13\", \"Topic13\", \"Topic13\", \"Topic13\", \"Topic13\", \"Topic13\", \"Topic13\", \"Topic13\", \"Topic13\", \"Topic13\", \"Topic13\", \"Topic13\", \"Topic13\", \"Topic13\", \"Topic13\", \"Topic13\", \"Topic13\", \"Topic13\", \"Topic13\", \"Topic13\", \"Topic13\", \"Topic13\", \"Topic13\", \"Topic13\", \"Topic13\", \"Topic13\", \"Topic13\", \"Topic14\", \"Topic14\", \"Topic14\", \"Topic14\", \"Topic14\", \"Topic14\", \"Topic14\", \"Topic14\", \"Topic14\", \"Topic14\", \"Topic14\", \"Topic14\", \"Topic14\", \"Topic14\", \"Topic14\", \"Topic14\", \"Topic14\", \"Topic14\", \"Topic14\", \"Topic14\", \"Topic14\", \"Topic14\", \"Topic14\", \"Topic14\", \"Topic14\", \"Topic14\", \"Topic14\", \"Topic14\", \"Topic14\", \"Topic14\", \"Topic14\", \"Topic14\", \"Topic14\", \"Topic14\", \"Topic14\", \"Topic14\", \"Topic15\", \"Topic15\", \"Topic15\", \"Topic15\", \"Topic15\", \"Topic15\", \"Topic15\", \"Topic15\", \"Topic15\", \"Topic15\", \"Topic15\", \"Topic15\", \"Topic15\", \"Topic15\", \"Topic15\", \"Topic15\", \"Topic15\", \"Topic15\", \"Topic15\", \"Topic15\", \"Topic15\", \"Topic15\", \"Topic15\", \"Topic15\", \"Topic15\", \"Topic15\", \"Topic15\", \"Topic15\", \"Topic15\", \"Topic15\", \"Topic15\", \"Topic15\", \"Topic15\", \"Topic15\", \"Topic15\", \"Topic15\", \"Topic16\", \"Topic16\", \"Topic16\", \"Topic16\", \"Topic16\", \"Topic16\", \"Topic16\", \"Topic16\", \"Topic16\", \"Topic16\", \"Topic16\", \"Topic16\", \"Topic16\", \"Topic16\", \"Topic16\", \"Topic16\", \"Topic16\", \"Topic16\", \"Topic16\", \"Topic16\", \"Topic16\", \"Topic16\", \"Topic16\", \"Topic16\", \"Topic16\", \"Topic16\", \"Topic16\", \"Topic16\", \"Topic16\", \"Topic16\", \"Topic16\", \"Topic16\", \"Topic16\", \"Topic16\", \"Topic16\", \"Topic17\", \"Topic17\", \"Topic17\", \"Topic17\", \"Topic17\", \"Topic17\", \"Topic17\", \"Topic17\", \"Topic17\", \"Topic17\", \"Topic17\", \"Topic17\", \"Topic17\", \"Topic17\", \"Topic17\", \"Topic17\", \"Topic17\", \"Topic17\", \"Topic17\", \"Topic17\", \"Topic17\", \"Topic17\", \"Topic17\", \"Topic17\", \"Topic17\", \"Topic17\", \"Topic17\", \"Topic17\", \"Topic17\", \"Topic17\", \"Topic17\", \"Topic17\", \"Topic17\", \"Topic17\", \"Topic18\", \"Topic18\", \"Topic18\", \"Topic18\", \"Topic18\", \"Topic18\", \"Topic18\", \"Topic18\", \"Topic18\", \"Topic18\", \"Topic18\", \"Topic18\", \"Topic18\", \"Topic18\", \"Topic18\", \"Topic18\", \"Topic18\", \"Topic18\", \"Topic18\", \"Topic18\", \"Topic18\", \"Topic18\", \"Topic18\", \"Topic18\", \"Topic18\", \"Topic18\", \"Topic18\", \"Topic18\", \"Topic18\", \"Topic18\", \"Topic18\", \"Topic19\", \"Topic19\", \"Topic19\", \"Topic19\", \"Topic19\", \"Topic19\", \"Topic19\", \"Topic19\", \"Topic19\", \"Topic19\", \"Topic19\", \"Topic19\", \"Topic19\", \"Topic19\", \"Topic19\", \"Topic19\", \"Topic19\", \"Topic19\", \"Topic19\", \"Topic19\", \"Topic19\", \"Topic19\", \"Topic19\", \"Topic19\", \"Topic19\", \"Topic19\", \"Topic19\", \"Topic19\", \"Topic19\", \"Topic19\", \"Topic19\", \"Topic20\", \"Topic20\", \"Topic20\", \"Topic20\", \"Topic20\", \"Topic20\", \"Topic20\", \"Topic20\", \"Topic20\", \"Topic20\", \"Topic20\", \"Topic20\", \"Topic20\", \"Topic20\", \"Topic20\", \"Topic20\", \"Topic20\", \"Topic20\", \"Topic20\", \"Topic20\", \"Topic20\", \"Topic20\", \"Topic20\", \"Topic20\", \"Topic20\", \"Topic20\", \"Topic20\", \"Topic20\", \"Topic20\", \"Topic20\", \"Topic20\", \"Topic21\", \"Topic21\", \"Topic21\", \"Topic21\", \"Topic21\", \"Topic21\", \"Topic21\", \"Topic21\", \"Topic21\", \"Topic21\", \"Topic21\", \"Topic21\", \"Topic21\", \"Topic21\", \"Topic21\", \"Topic21\", \"Topic21\", \"Topic21\", \"Topic21\", \"Topic21\", \"Topic21\", \"Topic21\", \"Topic21\", \"Topic21\", \"Topic21\", \"Topic21\", \"Topic21\", \"Topic21\", \"Topic21\", \"Topic21\", \"Topic21\", \"Topic21\", \"Topic21\", \"Topic21\", \"Topic22\", \"Topic22\", \"Topic22\", \"Topic22\", \"Topic22\", \"Topic22\", \"Topic22\", \"Topic22\", \"Topic22\", \"Topic22\", \"Topic22\", \"Topic22\", \"Topic22\", \"Topic22\", \"Topic22\", \"Topic22\", \"Topic22\", \"Topic22\", \"Topic22\", \"Topic22\", \"Topic22\", \"Topic22\", \"Topic22\", \"Topic22\", \"Topic22\", \"Topic22\", \"Topic22\", \"Topic22\", \"Topic22\", \"Topic22\", \"Topic22\", \"Topic22\", \"Topic22\", \"Topic22\", \"Topic22\", \"Topic22\", \"Topic23\", \"Topic23\", \"Topic23\", \"Topic23\", \"Topic23\", \"Topic23\", \"Topic23\", \"Topic23\", \"Topic23\", \"Topic23\", \"Topic23\", \"Topic23\", \"Topic23\", \"Topic23\", \"Topic23\", \"Topic23\", \"Topic23\", \"Topic23\", \"Topic23\", \"Topic23\", \"Topic23\", \"Topic23\", \"Topic23\", \"Topic23\", \"Topic23\", \"Topic23\", \"Topic23\", \"Topic23\", \"Topic23\", \"Topic23\", \"Topic23\", \"Topic23\", \"Topic23\", \"Topic23\", \"Topic23\", \"Topic23\", \"Topic24\", \"Topic24\", \"Topic24\", \"Topic24\", \"Topic24\", \"Topic24\", \"Topic24\", \"Topic24\", \"Topic24\", \"Topic24\", \"Topic24\", \"Topic24\", \"Topic24\", \"Topic24\", \"Topic24\", \"Topic24\", \"Topic24\", \"Topic24\", \"Topic24\", \"Topic24\", \"Topic24\", \"Topic24\", \"Topic24\", \"Topic24\", \"Topic24\", \"Topic24\", \"Topic24\", \"Topic24\", \"Topic24\", \"Topic24\", \"Topic24\", \"Topic24\", \"Topic24\", \"Topic24\", \"Topic24\", \"Topic24\", \"Topic24\", \"Topic24\", \"Topic25\", \"Topic25\", \"Topic25\", \"Topic25\", \"Topic25\", \"Topic25\", \"Topic25\", \"Topic25\", \"Topic25\", \"Topic25\", \"Topic25\", \"Topic25\", \"Topic25\", \"Topic25\", \"Topic25\", \"Topic25\", \"Topic25\", \"Topic25\", \"Topic25\", \"Topic25\", \"Topic25\", \"Topic25\", \"Topic25\", \"Topic25\", \"Topic25\", \"Topic25\", \"Topic25\", \"Topic25\", \"Topic25\", \"Topic25\", \"Topic25\", \"Topic25\", \"Topic25\", \"Topic25\", \"Topic25\", \"Topic25\", \"Topic25\", \"Topic25\", \"Topic26\", \"Topic26\", \"Topic26\", \"Topic26\", \"Topic26\", \"Topic26\", \"Topic26\", \"Topic26\", \"Topic26\", \"Topic26\", \"Topic26\", \"Topic26\", \"Topic26\", \"Topic26\", \"Topic26\", \"Topic26\", \"Topic26\", \"Topic26\", \"Topic26\", \"Topic26\", \"Topic26\", \"Topic26\", \"Topic26\", \"Topic26\", \"Topic26\", \"Topic26\", \"Topic26\", \"Topic26\", \"Topic26\", \"Topic26\", \"Topic26\", \"Topic26\", \"Topic26\", \"Topic26\", \"Topic26\", \"Topic26\", \"Topic26\", \"Topic26\", \"Topic27\", \"Topic27\", \"Topic27\", \"Topic27\", \"Topic27\", \"Topic27\", \"Topic27\", \"Topic27\", \"Topic27\", \"Topic27\", \"Topic27\", \"Topic27\", \"Topic27\", \"Topic27\", \"Topic27\", \"Topic27\", \"Topic27\", \"Topic27\", \"Topic27\", \"Topic27\", \"Topic27\", \"Topic27\", \"Topic27\", \"Topic27\", \"Topic27\", \"Topic27\", \"Topic27\", \"Topic27\", \"Topic27\", \"Topic27\", \"Topic27\", \"Topic27\", \"Topic27\", \"Topic27\", \"Topic27\", \"Topic27\", \"Topic27\", \"Topic27\"], \"logprob\": [30.0, 29.0, 28.0, 27.0, 26.0, 25.0, 24.0, 23.0, 22.0, 21.0, 20.0, 19.0, 18.0, 17.0, 16.0, 15.0, 14.0, 13.0, 12.0, 11.0, 10.0, 9.0, 8.0, 7.0, 6.0, 5.0, 4.0, 3.0, 2.0, 1.0, -2.3826, -2.7881, -2.7881, -2.7881, -2.7881, -2.7881, -3.4812, -3.4812, -3.4812, -3.4812, -3.4812, -4.1744, -4.1744, -4.1744, -4.1744, -4.1744, -4.1744, -4.1744, -4.1744, -4.1744, -4.1744, -4.1744, -4.1744, -4.1744, -4.1744, -4.1744, -4.1744, -4.1744, -4.1744, -4.1744, -4.1744, -4.1744, -4.1744, -4.1744, -2.3826, -2.7881, -2.7881, -2.7881, -2.7881, -2.7881, -3.4812, -3.4812, -3.4812, -3.4812, -3.4812, -4.1744, -4.1744, -4.1744, -4.1744, -4.1744, -4.1744, -4.1744, -4.1744, -4.1744, -4.1744, -4.1744, -4.1744, -4.1744, -4.1744, -4.1744, -4.1744, -4.1744, -4.1744, -4.1744, -4.1744, -4.1744, -2.3826, -2.7881, -2.7881, -2.7881, -2.7881, -2.7881, -3.4812, -3.4812, -3.4812, -3.4812, -3.4812, -4.1744, -4.1744, -4.1744, -4.1744, -4.1744, -4.1744, -4.1744, -4.1744, -4.1744, -4.1744, -4.1744, -4.1744, -4.1744, -4.1744, -4.1744, -4.1744, -4.1744, -4.1744, -4.1744, -4.1744, -4.1744, -4.1744, -4.1744, -4.1744, -4.1744, -2.3826, -2.7881, -2.7881, -2.7881, -2.7881, -2.7881, -3.4812, -3.4812, -3.4812, -3.4812, -3.4812, -4.1744, -4.1744, -4.1744, -4.1744, -4.1744, -4.1744, -4.1744, -4.1744, -4.1744, -4.1744, -4.1744, -4.1744, -4.1744, -4.1744, -4.1744, -4.1744, -4.1744, -4.1744, -4.1744, -4.1744, -4.1744, -4.1744, -2.3826, -2.7881, -2.7881, -2.7881, -2.7881, -2.7881, -3.4812, -3.4812, -3.4812, -3.4812, -3.4812, -4.1744, -4.1744, -4.1744, -4.1744, -4.1744, -4.1744, -4.1744, -4.1744, -4.1744, -4.1744, -4.1744, -4.1744, -4.1744, -4.1744, -4.1744, -4.1744, -4.1744, -4.1744, -4.1744, -4.1744, -4.1744, -4.1744, -4.1744, -4.1744, -2.3826, -2.7881, -2.7881, -2.7881, -2.7881, -2.7881, -3.4812, -3.4812, -3.4812, -3.4812, -3.4812, -4.1744, -4.1744, -4.1744, -4.1744, -4.1744, -4.1744, -4.1744, -4.1744, -4.1744, -4.1744, -4.1744, -4.1744, -4.1744, -4.1744, -4.1744, -4.1744, -4.1744, -4.1744, -4.1744, -4.1744, -4.1744, -4.1744, -4.1744, -4.1744, -4.1744, -2.3826, -2.7881, -2.7881, -2.7881, -2.7881, -2.7881, -3.4812, -3.4812, -3.4812, -3.4812, -3.4812, -4.1744, -4.1744, -4.1744, -4.1744, -4.1744, -4.1744, -4.1744, -4.1744, -4.1744, -4.1744, -4.1744, -4.1744, -4.1744, -4.1744, -4.1744, -4.1744, -4.1744, -4.1744, -4.1744, -4.1744, -2.3826, -2.7881, -2.7881, -2.7881, -2.7881, -2.7881, -3.4812, -3.4812, -3.4812, -3.4812, -3.4812, -4.1744, -4.1744, -4.1744, -4.1744, -4.1744, -4.1744, -4.1744, -4.1744, -4.1744, -4.1744, -4.1744, -4.1744, -4.1744, -4.1744, -4.1744, -4.1744, -4.1744, -4.1744, -4.1744, -4.1744, -4.1744, -4.1744, -4.1744, -4.1744, -4.1744, -2.3826, -2.7881, -2.7881, -2.7881, -2.7881, -2.7881, -3.4812, -3.4812, -3.4812, -3.4812, -3.4812, -4.1744, -4.1744, -4.1744, -4.1744, -4.1744, -4.1744, -4.1744, -4.1744, -4.1744, -4.1744, -4.1744, -4.1744, -4.1744, -4.1744, -4.1744, -4.1744, -4.1744, -4.1744, -4.1744, -4.1744, -4.1744, -4.1744, -4.1744, -2.3826, -2.7881, -2.7881, -2.7881, -2.7881, -2.7881, -3.4812, -3.4812, -3.4812, -3.4812, -3.4812, -4.1744, -4.1744, -4.1744, -4.1744, -4.1744, -4.1744, -4.1744, -4.1744, -4.1744, -4.1744, -4.1744, -4.1744, -4.1744, -4.1744, -4.1744, -4.1744, -4.1744, -4.1744, -4.1744, -2.3826, -2.7881, -2.7881, -2.7881, -2.7881, -2.7881, -3.4812, -3.4812, -3.4812, -3.4812, -3.4812, -4.1744, -4.1744, -4.1744, -4.1744, -4.1744, -4.1744, -4.1744, -4.1744, -4.1744, -4.1744, -4.1744, -4.1744, -4.1744, -4.1744, -4.1744, -4.1744, -4.1744, -4.1744, -4.1744, -4.1744, -4.1744, -4.1744, -4.1744, -4.1744, -4.1744, -2.3826, -2.7881, -2.7881, -2.7881, -2.7881, -2.7881, -3.4812, -3.4812, -3.4812, -3.4812, -3.4812, -4.1744, -4.1744, -4.1744, -4.1744, -4.1744, -4.1744, -4.1744, -4.1744, -4.1744, -4.1744, -4.1744, -4.1744, -4.1744, -4.1744, -4.1744, -4.1744, -4.1744, -4.1744, -4.1744, -4.1744, -4.1744, -4.1744, -4.1744, -4.1744, -4.1744, -2.3826, -2.7881, -2.7881, -2.7881, -2.7881, -2.7881, -3.4812, -3.4812, -3.4812, -3.4812, -3.4812, -4.1744, -4.1744, -4.1744, -4.1744, -4.1744, -4.1744, -4.1744, -4.1744, -4.1744, -4.1744, -4.1744, -4.1744, -4.1744, -4.1744, -4.1744, -4.1744, -4.1744, -4.1744, -4.1744, -4.1744, -4.1744, -4.1744, -4.1744, -4.1744, -4.1744, -2.3826, -2.7881, -2.7881, -2.7881, -2.7881, -2.7881, -3.4812, -3.4812, -3.4812, -3.4812, -3.4812, -4.1744, -4.1744, -4.1744, -4.1744, -4.1744, -4.1744, -4.1744, -4.1744, -4.1744, -4.1744, -4.1744, -4.1744, -4.1744, -4.1744, -4.1744, -4.1744, -4.1744, -4.1744, -4.1744, -4.1744, -4.1744, -4.1744, -4.1744, -4.1744, -4.1744, -2.3826, -2.7881, -2.7881, -2.7881, -2.7881, -2.7881, -3.4812, -3.4812, -3.4812, -3.4812, -3.4812, -4.1744, -4.1744, -4.1744, -4.1744, -4.1744, -4.1744, -4.1744, -4.1744, -4.1744, -4.1744, -4.1744, -4.1744, -4.1744, -4.1744, -4.1744, -4.1744, -4.1744, -4.1744, -4.1744, -4.1744, -4.1744, -4.1744, -4.1744, -4.1744, -4.1744, -2.3826, -2.7881, -2.7881, -2.7881, -2.7881, -2.7881, -3.4812, -3.4812, -3.4812, -3.4812, -3.4812, -4.1744, -4.1744, -4.1744, -4.1744, -4.1744, -4.1744, -4.1744, -4.1744, -4.1744, -4.1744, -4.1744, -4.1744, -4.1744, -4.1744, -4.1744, -4.1744, -4.1744, -4.1744, -4.1744, -4.1744, -4.1744, -4.1744, -4.1744, -4.1744, -2.3826, -2.7881, -2.7881, -2.7881, -2.7881, -2.7881, -3.4812, -3.4812, -3.4812, -3.4812, -3.4812, -4.1744, -4.1744, -4.1744, -4.1744, -4.1744, -4.1744, -4.1744, -4.1744, -4.1744, -4.1744, -4.1744, -4.1744, -4.1744, -4.1744, -4.1744, -4.1744, -4.1744, -4.1744, -4.1744, -4.1744, -4.1744, -4.1744, -4.1744, -2.3826, -2.7881, -2.7881, -2.7881, -2.7881, -2.7881, -3.4812, -3.4812, -3.4812, -3.4812, -3.4812, -4.1744, -4.1744, -4.1744, -4.1744, -4.1744, -4.1744, -4.1744, -4.1744, -4.1744, -4.1744, -4.1744, -4.1744, -4.1744, -4.1744, -4.1744, -4.1744, -4.1744, -4.1744, -4.1744, -4.1744, -2.3826, -2.7881, -2.7881, -2.7881, -2.7881, -2.7881, -3.4812, -3.4812, -3.4812, -3.4812, -3.4812, -4.1744, -4.1744, -4.1744, -4.1744, -4.1744, -4.1744, -4.1744, -4.1744, -4.1744, -4.1744, -4.1744, -4.1744, -4.1744, -4.1744, -4.1744, -4.1744, -4.1744, -4.1744, -4.1744, -4.1744, -2.3826, -2.7881, -2.7881, -2.7881, -2.7881, -2.7881, -3.4812, -3.4812, -3.4812, -3.4812, -3.4812, -4.1744, -4.1744, -4.1744, -4.1744, -4.1744, -4.1744, -4.1744, -4.1744, -4.1744, -4.1744, -4.1744, -4.1744, -4.1744, -4.1744, -4.1744, -4.1744, -4.1744, -4.1744, -4.1744, -4.1744, -2.3826, -2.7881, -2.7881, -2.7881, -2.7881, -2.7881, -3.4812, -3.4812, -3.4812, -3.4812, -3.4812, -4.1744, -4.1744, -4.1744, -4.1744, -4.1744, -4.1744, -4.1744, -4.1744, -4.1744, -4.1744, -4.1744, -4.1744, -4.1744, -4.1744, -4.1744, -4.1744, -4.1744, -4.1744, -4.1744, -4.1744, -4.1744, -4.1744, -4.1744, -2.3826, -2.7881, -2.7881, -2.7881, -2.7881, -2.7881, -3.4812, -3.4812, -3.4812, -3.4812, -3.4812, -4.1744, -4.1744, -4.1744, -4.1744, -4.1744, -4.1744, -4.1744, -4.1744, -4.1744, -4.1744, -4.1744, -4.1744, -4.1744, -4.1744, -4.1744, -4.1744, -4.1744, -4.1744, -4.1744, -4.1744, -4.1744, -4.1744, -4.1744, -4.1744, -4.1744, -2.3826, -2.7881, -2.7881, -2.7881, -2.7881, -2.7881, -3.4812, -3.4812, -3.4812, -3.4812, -3.4812, -4.1744, -4.1744, -4.1744, -4.1744, -4.1744, -4.1744, -4.1744, -4.1744, -4.1744, -4.1744, -4.1744, -4.1744, -4.1744, -4.1744, -4.1744, -4.1744, -4.1744, -4.1744, -4.1744, -4.1744, -4.1744, -4.1744, -4.1744, -4.1744, -4.1744, -3.6889, -3.6889, -3.6889, -3.6889, -3.6889, -3.6889, -3.6889, -3.6889, -3.6889, -3.6889, -3.6889, -3.6889, -3.6889, -3.6889, -3.6889, -3.6889, -3.6889, -3.6889, -3.6889, -3.6889, -3.6889, -3.6889, -3.6889, -3.6889, -3.6889, -3.6889, -3.6889, -3.6889, -3.6889, -3.6889, -3.6889, -3.6889, -3.6889, -3.6889, -3.6889, -3.6889, -3.6889, -3.6889, -3.6889, -3.6889, -3.6889, -3.6889, -3.6889, -3.6889, -3.6889, -3.6889, -3.6889, -3.6889, -3.6889, -3.6889, -3.6889, -3.6889, -3.6889, -3.6889, -3.6889, -3.6889, -3.6889, -3.6889, -3.6889, -3.6889, -3.6889, -3.6889, -3.6889, -3.6889, -3.6889, -3.6889, -3.6889, -3.6889, -3.6889, -3.6889, -3.6889, -3.6889, -3.6889, -3.6889, -3.6889, -3.6889, -3.6889, -3.6889, -3.6889, -3.6889, -3.6889, -3.6889, -3.6889, -3.6889, -3.6889, -3.6889, -3.6889, -3.6889, -3.6889, -3.6889, -3.6889, -3.6889, -3.6889, -3.6889, -3.6889, -3.6889, -3.6889, -3.6889, -3.6889, -3.6889, -3.6889, -3.6889, -3.6889, -3.6889, -3.6889, -3.6889, -3.6889, -3.6889, -3.6889, -3.6889, -3.6889, -3.6889, -3.6889, -3.6889, -3.6889, -3.6889, -3.6889, -3.6889, -3.6889, -3.6889, -3.6889, -3.6889, -3.6889, -3.6889, -3.6889, -3.6889, -3.6889, -3.6889, -3.6889, -3.6889, -3.6889, -3.6889, -3.6889, -3.6889, -3.6889, -3.6889, -3.6889, -3.6889, -3.6889, -3.6889, -3.6889, -3.6889, -3.6889, -3.6889, -3.6889, -3.6889, -3.6889, -3.6889, -3.6889, -3.6889, -3.6889, -3.6889], \"loglift\": [30.0, 29.0, 28.0, 27.0, 26.0, 25.0, 24.0, 23.0, 22.0, 21.0, 20.0, 19.0, 18.0, 17.0, 16.0, 15.0, 14.0, 13.0, 12.0, 11.0, 10.0, 9.0, 8.0, 7.0, 6.0, 5.0, 4.0, 3.0, 2.0, 1.0, 0.0016, 0.0013, 0.0013, 0.0013, 0.0013, 0.0013, 0.0004, 0.0004, 0.0004, 0.0004, 0.0004, -0.0014, -0.0014, -0.0014, -0.0014, -0.0014, -0.0014, -0.0014, -0.0014, -0.0014, -0.0014, -0.0014, -0.0014, -0.0014, -0.0014, -0.0014, -0.0014, -0.0014, -0.0014, -0.0014, -0.0014, -0.0014, -0.0014, -0.0014, 0.0016, 0.0013, 0.0013, 0.0013, 0.0013, 0.0013, 0.0004, 0.0004, 0.0004, 0.0004, 0.0004, -0.0014, -0.0014, -0.0014, -0.0014, -0.0014, -0.0014, -0.0014, -0.0014, -0.0014, -0.0014, -0.0014, -0.0014, -0.0014, -0.0014, -0.0014, -0.0014, -0.0014, -0.0014, -0.0014, -0.0014, -0.0014, 0.0016, 0.0013, 0.0013, 0.0013, 0.0013, 0.0013, 0.0004, 0.0004, 0.0004, 0.0004, 0.0004, -0.0014, -0.0014, -0.0014, -0.0014, -0.0014, -0.0014, -0.0014, -0.0014, -0.0014, -0.0014, -0.0014, -0.0014, -0.0014, -0.0014, -0.0014, -0.0014, -0.0014, -0.0014, -0.0014, -0.0014, -0.0014, -0.0014, -0.0014, -0.0014, -0.0014, 0.0016, 0.0013, 0.0013, 0.0013, 0.0013, 0.0013, 0.0004, 0.0004, 0.0004, 0.0004, 0.0004, -0.0014, -0.0014, -0.0014, -0.0014, -0.0014, -0.0014, -0.0014, -0.0014, -0.0014, -0.0014, -0.0014, -0.0014, -0.0014, -0.0014, -0.0014, -0.0014, -0.0014, -0.0014, -0.0014, -0.0014, -0.0014, -0.0014, 0.0016, 0.0013, 0.0013, 0.0013, 0.0013, 0.0013, 0.0004, 0.0004, 0.0004, 0.0004, 0.0004, -0.0014, -0.0014, -0.0014, -0.0014, -0.0014, -0.0014, -0.0014, -0.0014, -0.0014, -0.0014, -0.0014, -0.0014, -0.0014, -0.0014, -0.0014, -0.0014, -0.0014, -0.0014, -0.0014, -0.0014, -0.0014, -0.0014, -0.0014, -0.0014, 0.0016, 0.0013, 0.0013, 0.0013, 0.0013, 0.0013, 0.0004, 0.0004, 0.0004, 0.0004, 0.0004, -0.0014, -0.0014, -0.0014, -0.0014, -0.0014, -0.0014, -0.0014, -0.0014, -0.0014, -0.0014, -0.0014, -0.0014, -0.0014, -0.0014, -0.0014, -0.0014, -0.0014, -0.0014, -0.0014, -0.0014, -0.0014, -0.0014, -0.0014, -0.0014, -0.0014, 0.0016, 0.0013, 0.0013, 0.0013, 0.0013, 0.0013, 0.0004, 0.0004, 0.0004, 0.0004, 0.0004, -0.0014, -0.0014, -0.0014, -0.0014, -0.0014, -0.0014, -0.0014, -0.0014, -0.0014, -0.0014, -0.0014, -0.0014, -0.0014, -0.0014, -0.0014, -0.0014, -0.0014, -0.0014, -0.0014, -0.0014, 0.0016, 0.0013, 0.0013, 0.0013, 0.0013, 0.0013, 0.0004, 0.0004, 0.0004, 0.0004, 0.0004, -0.0014, -0.0014, -0.0014, -0.0014, -0.0014, -0.0014, -0.0014, -0.0014, -0.0014, -0.0014, -0.0014, -0.0014, -0.0014, -0.0014, -0.0014, -0.0014, -0.0014, -0.0014, -0.0014, -0.0014, -0.0014, -0.0014, -0.0014, -0.0014, -0.0014, 0.0016, 0.0013, 0.0013, 0.0013, 0.0013, 0.0013, 0.0004, 0.0004, 0.0004, 0.0004, 0.0004, -0.0014, -0.0014, -0.0014, -0.0014, -0.0014, -0.0014, -0.0014, -0.0014, -0.0014, -0.0014, -0.0014, -0.0014, -0.0014, -0.0014, -0.0014, -0.0014, -0.0014, -0.0014, -0.0014, -0.0014, -0.0014, -0.0014, -0.0014, 0.0016, 0.0013, 0.0013, 0.0013, 0.0013, 0.0013, 0.0004, 0.0004, 0.0004, 0.0004, 0.0004, -0.0014, -0.0014, -0.0014, -0.0014, -0.0014, -0.0014, -0.0014, -0.0014, -0.0014, -0.0014, -0.0014, -0.0014, -0.0014, -0.0014, -0.0014, -0.0014, -0.0014, -0.0014, -0.0014, 0.0016, 0.0013, 0.0013, 0.0013, 0.0013, 0.0013, 0.0004, 0.0004, 0.0004, 0.0004, 0.0004, -0.0014, -0.0014, -0.0014, -0.0014, -0.0014, -0.0014, -0.0014, -0.0014, -0.0014, -0.0014, -0.0014, -0.0014, -0.0014, -0.0014, -0.0014, -0.0014, -0.0014, -0.0014, -0.0014, -0.0014, -0.0014, -0.0014, -0.0014, -0.0014, -0.0014, 0.0016, 0.0013, 0.0013, 0.0013, 0.0013, 0.0013, 0.0004, 0.0004, 0.0004, 0.0004, 0.0004, -0.0014, -0.0014, -0.0014, -0.0014, -0.0014, -0.0014, -0.0014, -0.0014, -0.0014, -0.0014, -0.0014, -0.0014, -0.0014, -0.0014, -0.0014, -0.0014, -0.0014, -0.0014, -0.0014, -0.0014, -0.0014, -0.0014, -0.0014, -0.0014, -0.0014, 0.0016, 0.0013, 0.0013, 0.0013, 0.0013, 0.0013, 0.0004, 0.0004, 0.0004, 0.0004, 0.0004, -0.0014, -0.0014, -0.0014, -0.0014, -0.0014, -0.0014, -0.0014, -0.0014, -0.0014, -0.0014, -0.0014, -0.0014, -0.0014, -0.0014, -0.0014, -0.0014, -0.0014, -0.0014, -0.0014, -0.0014, -0.0014, -0.0014, -0.0014, -0.0014, -0.0014, 0.0016, 0.0013, 0.0013, 0.0013, 0.0013, 0.0013, 0.0004, 0.0004, 0.0004, 0.0004, 0.0004, -0.0014, -0.0014, -0.0014, -0.0014, -0.0014, -0.0014, -0.0014, -0.0014, -0.0014, -0.0014, -0.0014, -0.0014, -0.0014, -0.0014, -0.0014, -0.0014, -0.0014, -0.0014, -0.0014, -0.0014, -0.0014, -0.0014, -0.0014, -0.0014, -0.0014, 0.0016, 0.0013, 0.0013, 0.0013, 0.0013, 0.0013, 0.0004, 0.0004, 0.0004, 0.0004, 0.0004, -0.0014, -0.0014, -0.0014, -0.0014, -0.0014, -0.0014, -0.0014, -0.0014, -0.0014, -0.0014, -0.0014, -0.0014, -0.0014, -0.0014, -0.0014, -0.0014, -0.0014, -0.0014, -0.0014, -0.0014, -0.0014, -0.0014, -0.0014, -0.0014, -0.0014, 0.0016, 0.0013, 0.0013, 0.0013, 0.0013, 0.0013, 0.0004, 0.0004, 0.0004, 0.0004, 0.0004, -0.0014, -0.0014, -0.0014, -0.0014, -0.0014, -0.0014, -0.0014, -0.0014, -0.0014, -0.0014, -0.0014, -0.0014, -0.0014, -0.0014, -0.0014, -0.0014, -0.0014, -0.0014, -0.0014, -0.0014, -0.0014, -0.0014, -0.0014, -0.0014, 0.0016, 0.0013, 0.0013, 0.0013, 0.0013, 0.0013, 0.0004, 0.0004, 0.0004, 0.0004, 0.0004, -0.0014, -0.0014, -0.0014, -0.0014, -0.0014, -0.0014, -0.0014, -0.0014, -0.0014, -0.0014, -0.0014, -0.0014, -0.0014, -0.0014, -0.0014, -0.0014, -0.0014, -0.0014, -0.0014, -0.0014, -0.0014, -0.0014, -0.0014, 0.0016, 0.0013, 0.0013, 0.0013, 0.0013, 0.0013, 0.0004, 0.0004, 0.0004, 0.0004, 0.0004, -0.0014, -0.0014, -0.0014, -0.0014, -0.0014, -0.0014, -0.0014, -0.0014, -0.0014, -0.0014, -0.0014, -0.0014, -0.0014, -0.0014, -0.0014, -0.0014, -0.0014, -0.0014, -0.0014, -0.0014, 0.0016, 0.0013, 0.0013, 0.0013, 0.0013, 0.0013, 0.0004, 0.0004, 0.0004, 0.0004, 0.0004, -0.0014, -0.0014, -0.0014, -0.0014, -0.0014, -0.0014, -0.0014, -0.0014, -0.0014, -0.0014, -0.0014, -0.0014, -0.0014, -0.0014, -0.0014, -0.0014, -0.0014, -0.0014, -0.0014, -0.0014, 0.0016, 0.0013, 0.0013, 0.0013, 0.0013, 0.0013, 0.0004, 0.0004, 0.0004, 0.0004, 0.0004, -0.0014, -0.0014, -0.0014, -0.0014, -0.0014, -0.0014, -0.0014, -0.0014, -0.0014, -0.0014, -0.0014, -0.0014, -0.0014, -0.0014, -0.0014, -0.0014, -0.0014, -0.0014, -0.0014, -0.0014, 0.0016, 0.0013, 0.0013, 0.0013, 0.0013, 0.0013, 0.0004, 0.0004, 0.0004, 0.0004, 0.0004, -0.0014, -0.0014, -0.0014, -0.0014, -0.0014, -0.0014, -0.0014, -0.0014, -0.0014, -0.0014, -0.0014, -0.0014, -0.0014, -0.0014, -0.0014, -0.0014, -0.0014, -0.0014, -0.0014, -0.0014, -0.0014, -0.0014, -0.0014, 0.0016, 0.0013, 0.0013, 0.0013, 0.0013, 0.0013, 0.0004, 0.0004, 0.0004, 0.0004, 0.0004, -0.0014, -0.0014, -0.0014, -0.0014, -0.0014, -0.0014, -0.0014, -0.0014, -0.0014, -0.0014, -0.0014, -0.0014, -0.0014, -0.0014, -0.0014, -0.0014, -0.0014, -0.0014, -0.0014, -0.0014, -0.0014, -0.0014, -0.0014, -0.0014, -0.0014, 0.0016, 0.0013, 0.0013, 0.0013, 0.0013, 0.0013, 0.0004, 0.0004, 0.0004, 0.0004, 0.0004, -0.0014, -0.0014, -0.0014, -0.0014, -0.0014, -0.0014, -0.0014, -0.0014, -0.0014, -0.0014, -0.0014, -0.0014, -0.0014, -0.0014, -0.0014, -0.0014, -0.0014, -0.0014, -0.0014, -0.0014, -0.0014, -0.0014, -0.0014, -0.0014, -0.0014, 0.4841, 0.4841, 0.4841, 0.4841, 0.4841, 0.4841, 0.4841, 0.4841, 0.4841, 0.4841, 0.4841, 0.4841, 0.4841, 0.4841, 0.4841, 0.4841, 0.4841, 0.4841, 0.4841, 0.4841, 0.4841, 0.4841, 0.4841, 0.4841, 0.4841, 0.4841, 0.4841, 0.4841, 0.4841, -0.2072, -0.8995, -0.8995, -0.2072, -0.2072, -0.8995, -0.8995, -0.2072, -0.2072, 0.4841, 0.4841, 0.4841, 0.4841, 0.4841, 0.4841, 0.4841, 0.4841, 0.4841, 0.4841, 0.4841, 0.4841, 0.4841, 0.4841, 0.4841, 0.4841, 0.4841, 0.4841, 0.4841, 0.4841, 0.4841, 0.4841, 0.4841, 0.4841, 0.4841, 0.4841, 0.4841, 0.4841, 0.4841, -0.2072, -0.8995, -0.8995, -0.2072, -0.2072, -0.8995, -0.8995, -0.2072, -0.2072, 0.4841, 0.4841, 0.4841, 0.4841, 0.4841, 0.4841, 0.4841, 0.4841, 0.4841, 0.4841, 0.4841, 0.4841, 0.4841, 0.4841, 0.4841, 0.4841, 0.4841, 0.4841, 0.4841, 0.4841, 0.4841, 0.4841, 0.4841, 0.4841, 0.4841, 0.4841, 0.4841, 0.4841, 0.4841, -0.2072, -0.8995, -0.8995, -0.2072, -0.2072, -0.8995, -0.8995, -0.2072, -0.2072, 0.4841, 0.4841, 0.4841, 0.4841, 0.4841, 0.4841, 0.4841, 0.4841, 0.4841, 0.4841, 0.4841, 0.4841, 0.4841, 0.4841, 0.4841, 0.4841, 0.4841, 0.4841, 0.4841, 0.4841, 0.4841, 0.4841, 0.4841, 0.4841, 0.4841, 0.4841, 0.4841, 0.4841, 0.4841, -0.2072, -0.8995, -0.8995, -0.2072, -0.2072, -0.8995, -0.8995, -0.2072, -0.2072]}, \"token.table\": {\"Topic\": [1, 2, 3, 4, 5, 6, 7, 8, 9, 10, 11, 12, 13, 14, 15, 16, 17, 18, 19, 20, 21, 22, 23, 24, 25, 26, 27, 1, 2, 3, 4, 5, 6, 7, 8, 9, 10, 11, 12, 13, 14, 15, 16, 17, 18, 19, 20, 21, 22, 23, 24, 25, 26, 27, 1, 2, 3, 4, 5, 6, 7, 8, 9, 10, 11, 12, 13, 14, 15, 16, 17, 18, 19, 20, 21, 22, 23, 24, 25, 26, 27, 1, 2, 3, 4, 5, 6, 7, 8, 9, 10, 11, 12, 13, 14, 15, 16, 17, 18, 19, 20, 21, 22, 23, 24, 25, 26, 27, 1, 2, 3, 4, 5, 6, 7, 8, 9, 10, 11, 12, 13, 14, 15, 16, 17, 18, 19, 20, 21, 22, 23, 24, 25, 26, 27, 1, 2, 3, 4, 5, 6, 7, 8, 9, 10, 11, 12, 13, 14, 15, 16, 17, 18, 19, 20, 21, 22, 23, 24, 25, 26, 27, 1, 2, 3, 4, 5, 6, 7, 8, 9, 10, 11, 12, 13, 14, 15, 16, 17, 18, 19, 20, 21, 22, 23, 24, 25, 26, 27, 1, 2, 3, 4, 5, 6, 7, 8, 9, 10, 11, 12, 13, 14, 15, 16, 17, 18, 19, 20, 21, 22, 23, 24, 25, 26, 27, 1, 2, 3, 4, 5, 6, 7, 8, 9, 10, 11, 12, 13, 14, 15, 16, 17, 18, 19, 20, 21, 22, 23, 24, 25, 26, 27, 1, 2, 3, 4, 5, 6, 7, 8, 9, 10, 11, 12, 13, 14, 15, 16, 17, 18, 19, 20, 21, 22, 23, 24, 25, 26, 27, 1, 2, 3, 4, 5, 6, 7, 8, 9, 10, 11, 12, 13, 14, 15, 16, 17, 18, 19, 20, 21, 22, 23, 24, 25, 26, 27, 1, 2, 3, 4, 5, 6, 7, 8, 9, 10, 11, 12, 13, 14, 15, 16, 17, 18, 19, 20, 21, 22, 23, 24, 25, 26, 27, 1, 2, 3, 4, 5, 6, 7, 8, 9, 10, 11, 12, 13, 14, 15, 16, 17, 18, 19, 20, 21, 22, 23, 24, 25, 26, 27, 1, 2, 3, 4, 5, 6, 7, 8, 9, 10, 11, 12, 13, 14, 15, 16, 17, 18, 19, 20, 21, 22, 23, 24, 25, 26, 27, 1, 2, 3, 4, 5, 6, 7, 8, 9, 10, 11, 12, 13, 14, 15, 16, 17, 18, 19, 20, 21, 22, 23, 24, 25, 26, 27, 1, 2, 3, 4, 5, 6, 7, 8, 9, 10, 11, 12, 13, 14, 15, 16, 17, 18, 19, 20, 21, 22, 23, 24, 25, 26, 27, 1, 2, 3, 4, 5, 6, 7, 8, 9, 10, 11, 12, 13, 14, 15, 16, 17, 18, 19, 20, 21, 22, 23, 24, 25, 26, 27, 1, 2, 3, 4, 5, 6, 7, 8, 9, 10, 11, 12, 13, 14, 15, 16, 17, 18, 19, 20, 21, 22, 23, 24, 25, 26, 27, 1, 2, 3, 4, 5, 6, 7, 8, 9, 10, 11, 12, 13, 14, 15, 16, 17, 18, 19, 20, 21, 22, 23, 24, 25, 26, 27, 1, 2, 3, 4, 5, 6, 7, 8, 9, 10, 11, 12, 13, 14, 15, 16, 17, 18, 19, 20, 21, 22, 23, 24, 25, 26, 27, 1, 2, 3, 4, 5, 6, 7, 8, 9, 10, 11, 12, 13, 14, 15, 16, 17, 18, 19, 20, 21, 22, 23, 24, 25, 26, 27, 1, 2, 3, 4, 5, 6, 7, 8, 9, 10, 11, 12, 13, 14, 15, 16, 17, 18, 19, 20, 21, 22, 23, 24, 25, 26, 27, 1, 2, 3, 4, 5, 6, 7, 8, 9, 10, 11, 12, 13, 14, 15, 16, 17, 18, 19, 20, 21, 22, 23, 24, 25, 26, 27, 1, 2, 3, 4, 5, 6, 7, 8, 9, 10, 11, 12, 13, 14, 15, 16, 17, 18, 19, 20, 21, 22, 23, 24, 25, 26, 27, 1, 2, 3, 4, 5, 6, 7, 8, 9, 10, 11, 12, 13, 14, 15, 16, 17, 18, 19, 20, 21, 22, 23, 24, 25, 26, 27, 1, 2, 3, 4, 5, 6, 7, 8, 9, 10, 11, 12, 13, 14, 15, 16, 17, 18, 19, 20, 21, 22, 23, 24, 25, 26, 27, 1, 2, 3, 4, 5, 6, 7, 8, 9, 10, 11, 12, 13, 14, 15, 16, 17, 18, 19, 20, 21, 22, 23, 24, 25, 26, 27, 1, 2, 3, 4, 5, 6, 7, 8, 9, 10, 11, 12, 13, 14, 15, 16, 17, 18, 19, 20, 21, 22, 23, 24, 25, 26, 27, 1, 2, 3, 4, 5, 6, 7, 8, 9, 10, 11, 12, 13, 14, 15, 16, 17, 18, 19, 20, 21, 22, 23, 24, 25, 26, 27, 1, 2, 3, 4, 5, 6, 7, 8, 9, 10, 11, 12, 13, 14, 15, 16, 17, 18, 19, 20, 21, 22, 23, 24, 25, 26, 27, 1, 2, 3, 4, 5, 6, 7, 8, 9, 10, 11, 12, 13, 14, 15, 16, 17, 18, 19, 20, 21, 22, 23, 24, 25, 26, 27, 1, 2, 3, 4, 5, 6, 7, 8, 9, 10, 11, 12, 13, 14, 15, 16, 17, 18, 19, 20, 21, 22, 23, 24, 25, 26, 27, 1, 2, 3, 4, 5, 6, 7, 8, 9, 10, 11, 12, 13, 14, 15, 16, 17, 18, 19, 20, 21, 22, 23, 24, 25, 26, 27, 1, 2, 3, 4, 5, 6, 7, 8, 9, 10, 11, 12, 13, 14, 15, 16, 17, 18, 19, 20, 21, 22, 23, 24, 25, 26, 27, 1, 2, 3, 4, 5, 6, 7, 8, 9, 10, 11, 12, 13, 14, 15, 16, 17, 18, 19, 20, 21, 22, 23, 24, 25, 26, 27, 1, 2, 3, 4, 5, 6, 7, 8, 9, 10, 11, 12, 13, 14, 15, 16, 17, 18, 19, 20, 21, 22, 23, 24, 25, 26, 27, 1, 2, 3, 4, 5, 6, 7, 8, 9, 10, 11, 12, 13, 14, 15, 16, 17, 18, 19, 20, 21, 22, 23, 24, 25, 26, 27, 1, 2, 3, 4, 5, 6, 7, 8, 9, 10, 11, 12, 13, 14, 15, 16, 17, 18, 19, 20, 21, 22, 23, 24, 25, 26, 27, 1, 2, 3, 4, 5, 6, 7, 8, 9, 10, 11, 12, 13, 14, 15, 16, 17, 18, 19, 20, 21, 22, 23, 24, 25, 26, 27, 1, 2, 3, 4, 5, 6, 7, 8, 9, 10, 11, 12, 13, 14, 15, 16, 17, 18, 19, 20, 21, 22, 23, 24, 25, 26, 27], \"Freq\": [0.04448121102316577, 0.04402421227977708, 0.04394112159916095, 0.043816485578236766, 0.04380263713146741, 0.043719546450851285, 0.043594910429927095, 0.043594910429927095, 0.043594910429927095, 0.043594910429927095, 0.04337333528161743, 0.04334563838807872, 0.04331794149454001, 0.04324869926069324, 0.04313791168653841, 0.04308251789946099, 0.04306866945269164, 0.04301327566561422, 0.04281939741084326, 0.04279170051730455, 0.042764003623765846, 0.04226545954006909, 0.0419607937111433, 0.0009139974867773788, 0.0009139974867773788, 0.0009139974867773788, 0.0009139974867773788, 0.0445624570898067, 0.04410462362655526, 0.04402138117869136, 0.04388958063624019, 0.043882643765584865, 0.04379246444706564, 0.04368147451658044, 0.04368147451658044, 0.04367453764592512, 0.043667600775269794, 0.04345255778495472, 0.0434178734316781, 0.04340399969036745, 0.0433346309838142, 0.04320976731201836, 0.04316120921743108, 0.043154272346775754, 0.04309877738153316, 0.04289067126187341, 0.04287679752056276, 0.04284905003794146, 0.04233572160944743, 0.04204437304192379, 0.00045783346325143867, 0.00045783346325143867, 0.00045783346325143867, 0.00045783346325143867, 0.044603190138577796, 0.04414146657939109, 0.04405814804239499, 0.04393317023690085, 0.043919283814068164, 0.043832493671363895, 0.04372140228870243, 0.04372140228870243, 0.043710987471577915, 0.043710987471577915, 0.04349227631196316, 0.04345756025488145, 0.043443673832048765, 0.043374241717885356, 0.04324926391239121, 0.04320066143247681, 0.043193718221060474, 0.04313470092402157, 0.0429298761872395, 0.04291251815869864, 0.042884745313033275, 0.04237441927393218, 0.04208280439444583, 0.00022912597673926952, 0.00022912597673926952, 0.00022912597673926952, 0.00022912597673926952, 0.04448121102316577, 0.04402421227977708, 0.04394112159916095, 0.043816485578236766, 0.04380263713146741, 0.043719546450851285, 0.043594910429927095, 0.043594910429927095, 0.043594910429927095, 0.043594910429927095, 0.04337333528161743, 0.04334563838807872, 0.04331794149454001, 0.04324869926069324, 0.04313791168653841, 0.04308251789946099, 0.04306866945269164, 0.04301327566561422, 0.04281939741084326, 0.04279170051730455, 0.042764003623765846, 0.04226545954006909, 0.0419607937111433, 0.0009139974867773788, 0.0009139974867773788, 0.0009139974867773788, 0.0009139974867773788, 0.04448121171001194, 0.044024212959566614, 0.04394112227766746, 0.04381648625481874, 0.04380263780783554, 0.04371954712593639, 0.043594911103087663, 0.043594911103087663, 0.043594911103087663, 0.043594911103087663, 0.0433733359513566, 0.043345639057390216, 0.043317942163423835, 0.043248699928507876, 0.04313791235264234, 0.04308251856470957, 0.04306867011772638, 0.04301327632979361, 0.042819398072028926, 0.042791701178062545, 0.042764004284096165, 0.042265460192701255, 0.04196079435907104, 0.0009139975008906563, 0.0009139975008906563, 0.0009139975008906563, 0.0009139975008906563, 0.04448121102316577, 0.04402421227977708, 0.04394112159916095, 0.043816485578236766, 0.04380263713146741, 0.043719546450851285, 0.043594910429927095, 0.043594910429927095, 0.043594910429927095, 0.043594910429927095, 0.04337333528161743, 0.04334563838807872, 0.04331794149454001, 0.04324869926069324, 0.04313791168653841, 0.04308251789946099, 0.04306866945269164, 0.04301327566561422, 0.04281939741084326, 0.04279170051730455, 0.042764003623765846, 0.04226545954006909, 0.0419607937111433, 0.0009139974867773788, 0.0009139974867773788, 0.0009139974867773788, 0.0009139974867773788, 0.04448121102316577, 0.04402421227977708, 0.04394112159916095, 0.043816485578236766, 0.04380263713146741, 0.043719546450851285, 0.043594910429927095, 0.043594910429927095, 0.043594910429927095, 0.043594910429927095, 0.04337333528161743, 0.04334563838807872, 0.04331794149454001, 0.04324869926069324, 0.04313791168653841, 0.04308251789946099, 0.04306866945269164, 0.04301327566561422, 0.04281939741084326, 0.04279170051730455, 0.042764003623765846, 0.04226545954006909, 0.0419607937111433, 0.0009139974867773788, 0.0009139974867773788, 0.0009139974867773788, 0.0009139974867773788, 0.044603190138577796, 0.04414146657939109, 0.04405814804239499, 0.04393317023690085, 0.043919283814068164, 0.043832493671363895, 0.04372140228870243, 0.04372140228870243, 0.043710987471577915, 0.043710987471577915, 0.04349227631196316, 0.04345756025488145, 0.043443673832048765, 0.043374241717885356, 0.04324926391239121, 0.04320066143247681, 0.043193718221060474, 0.04313470092402157, 0.0429298761872395, 0.04291251815869864, 0.042884745313033275, 0.04237441927393218, 0.04208280439444583, 0.00022912597673926952, 0.00022912597673926952, 0.00022912597673926952, 0.00022912597673926952, 0.04448121102316577, 0.04402421227977708, 0.04394112159916095, 0.043816485578236766, 0.04380263713146741, 0.043719546450851285, 0.043594910429927095, 0.043594910429927095, 0.043594910429927095, 0.043594910429927095, 0.04337333528161743, 0.04334563838807872, 0.04331794149454001, 0.04324869926069324, 0.04313791168653841, 0.04308251789946099, 0.04306866945269164, 0.04301327566561422, 0.04281939741084326, 0.04279170051730455, 0.042764003623765846, 0.04226545954006909, 0.0419607937111433, 0.0009139974867773788, 0.0009139974867773788, 0.0009139974867773788, 0.0009139974867773788, 0.04448121102316577, 0.04402421227977708, 0.04394112159916095, 0.043816485578236766, 0.04380263713146741, 0.043719546450851285, 0.043594910429927095, 0.043594910429927095, 0.043594910429927095, 0.043594910429927095, 0.04337333528161743, 0.04334563838807872, 0.04331794149454001, 0.04324869926069324, 0.04313791168653841, 0.04308251789946099, 0.04306866945269164, 0.04301327566561422, 0.04281939741084326, 0.04279170051730455, 0.042764003623765846, 0.04226545954006909, 0.0419607937111433, 0.0009139974867773788, 0.0009139974867773788, 0.0009139974867773788, 0.0009139974867773788, 0.04448121111660332, 0.04402421237225465, 0.04394112169146398, 0.04381648567027799, 0.04380263722347954, 0.04371954654268888, 0.043594910521502876, 0.043594910521502876, 0.043594910521502876, 0.043594910521502876, 0.043373335372727764, 0.04334563847913088, 0.04331794158553399, 0.04324869935154177, 0.04313791177715421, 0.043082517989960434, 0.04306866954316199, 0.043013275755968215, 0.04281939750078999, 0.0427917006071931, 0.04276400371359621, 0.04226545962885222, 0.04196079379928644, 0.0009139974886973284, 0.0009139974886973284, 0.0009139974886973284, 0.0009139974886973284, 0.0445624570898067, 0.04410462362655526, 0.04402138117869136, 0.04388958063624019, 0.043882643765584865, 0.04379246444706564, 0.04368147451658044, 0.04368147451658044, 0.04367453764592512, 0.043667600775269794, 0.04345255778495472, 0.0434178734316781, 0.04340399969036745, 0.0433346309838142, 0.04320976731201836, 0.04316120921743108, 0.043154272346775754, 0.04309877738153316, 0.04289067126187341, 0.04287679752056276, 0.04284905003794146, 0.04233572160944743, 0.04204437304192379, 0.00045783346325143867, 0.00045783346325143867, 0.00045783346325143867, 0.00045783346325143867, 0.04448121102316577, 0.04402421227977708, 0.04394112159916095, 0.043816485578236766, 0.04380263713146741, 0.043719546450851285, 0.043594910429927095, 0.043594910429927095, 0.043594910429927095, 0.043594910429927095, 0.04337333528161743, 0.04334563838807872, 0.04331794149454001, 0.04324869926069324, 0.04313791168653841, 0.04308251789946099, 0.04306866945269164, 0.04301327566561422, 0.04281939741084326, 0.04279170051730455, 0.042764003623765846, 0.04226545954006909, 0.0419607937111433, 0.0009139974867773788, 0.0009139974867773788, 0.0009139974867773788, 0.0009139974867773788, 0.0445624570898067, 0.04410462362655526, 0.04402138117869136, 0.04388958063624019, 0.043882643765584865, 0.04379246444706564, 0.04368147451658044, 0.04368147451658044, 0.04367453764592512, 0.043667600775269794, 0.04345255778495472, 0.0434178734316781, 0.04340399969036745, 0.0433346309838142, 0.04320976731201836, 0.04316120921743108, 0.043154272346775754, 0.04309877738153316, 0.04289067126187341, 0.04287679752056276, 0.04284905003794146, 0.04233572160944743, 0.04204437304192379, 0.00045783346325143867, 0.00045783346325143867, 0.00045783346325143867, 0.00045783346325143867, 0.04448121102316577, 0.04402421227977708, 0.04394112159916095, 0.043816485578236766, 0.04380263713146741, 0.043719546450851285, 0.043594910429927095, 0.043594910429927095, 0.043594910429927095, 0.043594910429927095, 0.04337333528161743, 0.04334563838807872, 0.04331794149454001, 0.04324869926069324, 0.04313791168653841, 0.04308251789946099, 0.04306866945269164, 0.04301327566561422, 0.04281939741084326, 0.04279170051730455, 0.042764003623765846, 0.04226545954006909, 0.0419607937111433, 0.0009139974867773788, 0.0009139974867773788, 0.0009139974867773788, 0.0009139974867773788, 0.044481211254316554, 0.044024212508553026, 0.04394112182750511, 0.043816485805933246, 0.04380263735909193, 0.043719546678044015, 0.04359491065647214, 0.04359491065647214, 0.04359491065647214, 0.04359491065647214, 0.043373335507011036, 0.0433456386133284, 0.04331794171964576, 0.04324869948543917, 0.043137911910708614, 0.043082518123343336, 0.04306866967650202, 0.04301327588913675, 0.04281939763335828, 0.04279170073967564, 0.042764003845993, 0.04226545975970552, 0.0419607939291965, 0.0009139974915270525, 0.0009139974915270525, 0.0009139974915270525, 0.0009139974915270525, 0.04448121102316577, 0.04402421227977708, 0.04394112159916095, 0.043816485578236766, 0.04380263713146741, 0.043719546450851285, 0.043594910429927095, 0.043594910429927095, 0.043594910429927095, 0.043594910429927095, 0.04337333528161743, 0.04334563838807872, 0.04331794149454001, 0.04324869926069324, 0.04313791168653841, 0.04308251789946099, 0.04306866945269164, 0.04301327566561422, 0.04281939741084326, 0.04279170051730455, 0.042764003623765846, 0.04226545954006909, 0.0419607937111433, 0.0009139974867773788, 0.0009139974867773788, 0.0009139974867773788, 0.0009139974867773788, 0.04448121102316577, 0.04402421227977708, 0.04394112159916095, 0.043816485578236766, 0.04380263713146741, 0.043719546450851285, 0.043594910429927095, 0.043594910429927095, 0.043594910429927095, 0.043594910429927095, 0.04337333528161743, 0.04334563838807872, 0.04331794149454001, 0.04324869926069324, 0.04313791168653841, 0.04308251789946099, 0.04306866945269164, 0.04301327566561422, 0.04281939741084326, 0.04279170051730455, 0.042764003623765846, 0.04226545954006909, 0.0419607937111433, 0.0009139974867773788, 0.0009139974867773788, 0.0009139974867773788, 0.0009139974867773788, 0.04448121102316577, 0.04402421227977708, 0.04394112159916095, 0.043816485578236766, 0.04380263713146741, 0.043719546450851285, 0.043594910429927095, 0.043594910429927095, 0.043594910429927095, 0.043594910429927095, 0.04337333528161743, 0.04334563838807872, 0.04331794149454001, 0.04324869926069324, 0.04313791168653841, 0.04308251789946099, 0.04306866945269164, 0.04301327566561422, 0.04281939741084326, 0.04279170051730455, 0.042764003623765846, 0.04226545954006909, 0.0419607937111433, 0.0009139974867773788, 0.0009139974867773788, 0.0009139974867773788, 0.0009139974867773788, 0.04448121102316577, 0.04402421227977708, 0.04394112159916095, 0.043816485578236766, 0.04380263713146741, 0.043719546450851285, 0.043594910429927095, 0.043594910429927095, 0.043594910429927095, 0.043594910429927095, 0.04337333528161743, 0.04334563838807872, 0.04331794149454001, 0.04324869926069324, 0.04313791168653841, 0.04308251789946099, 0.04306866945269164, 0.04301327566561422, 0.04281939741084326, 0.04279170051730455, 0.042764003623765846, 0.04226545954006909, 0.0419607937111433, 0.0009139974867773788, 0.0009139974867773788, 0.0009139974867773788, 0.0009139974867773788, 0.04448121102316577, 0.04402421227977708, 0.04394112159916095, 0.043816485578236766, 0.04380263713146741, 0.043719546450851285, 0.043594910429927095, 0.043594910429927095, 0.043594910429927095, 0.043594910429927095, 0.04337333528161743, 0.04334563838807872, 0.04331794149454001, 0.04324869926069324, 0.04313791168653841, 0.04308251789946099, 0.04306866945269164, 0.04301327566561422, 0.04281939741084326, 0.04279170051730455, 0.042764003623765846, 0.04226545954006909, 0.0419607937111433, 0.0009139974867773788, 0.0009139974867773788, 0.0009139974867773788, 0.0009139974867773788, 0.044603190138577796, 0.04414146657939109, 0.04405814804239499, 0.04393317023690085, 0.043919283814068164, 0.043832493671363895, 0.04372140228870243, 0.04372140228870243, 0.043710987471577915, 0.043710987471577915, 0.04349227631196316, 0.04345756025488145, 0.043443673832048765, 0.043374241717885356, 0.04324926391239121, 0.04320066143247681, 0.043193718221060474, 0.04313470092402157, 0.0429298761872395, 0.04291251815869864, 0.042884745313033275, 0.04237441927393218, 0.04208280439444583, 0.00022912597673926952, 0.00022912597673926952, 0.00022912597673926952, 0.00022912597673926952, 0.044603190138577796, 0.04414146657939109, 0.04405814804239499, 0.04393317023690085, 0.043919283814068164, 0.043832493671363895, 0.04372140228870243, 0.04372140228870243, 0.043710987471577915, 0.043710987471577915, 0.04349227631196316, 0.04345756025488145, 0.043443673832048765, 0.043374241717885356, 0.04324926391239121, 0.04320066143247681, 0.043193718221060474, 0.04313470092402157, 0.0429298761872395, 0.04291251815869864, 0.042884745313033275, 0.04237441927393218, 0.04208280439444583, 0.00022912597673926952, 0.00022912597673926952, 0.00022912597673926952, 0.00022912597673926952, 0.04448121171001194, 0.044024212959566614, 0.04394112227766746, 0.04381648625481874, 0.04380263780783554, 0.04371954712593639, 0.043594911103087663, 0.043594911103087663, 0.043594911103087663, 0.043594911103087663, 0.0433733359513566, 0.043345639057390216, 0.043317942163423835, 0.043248699928507876, 0.04313791235264234, 0.04308251856470957, 0.04306867011772638, 0.04301327632979361, 0.042819398072028926, 0.042791701178062545, 0.042764004284096165, 0.042265460192701255, 0.04196079435907104, 0.0009139975008906563, 0.0009139975008906563, 0.0009139975008906563, 0.0009139975008906563, 0.0445624570898067, 0.04410462362655526, 0.04402138117869136, 0.04388958063624019, 0.043882643765584865, 0.04379246444706564, 0.04368147451658044, 0.04368147451658044, 0.04367453764592512, 0.043667600775269794, 0.04345255778495472, 0.0434178734316781, 0.04340399969036745, 0.0433346309838142, 0.04320976731201836, 0.04316120921743108, 0.043154272346775754, 0.04309877738153316, 0.04289067126187341, 0.04287679752056276, 0.04284905003794146, 0.04233572160944743, 0.04204437304192379, 0.00045783346325143867, 0.00045783346325143867, 0.00045783346325143867, 0.00045783346325143867, 0.0445624570898067, 0.04410462362655526, 0.04402138117869136, 0.04388958063624019, 0.043882643765584865, 0.04379246444706564, 0.04368147451658044, 0.04368147451658044, 0.04367453764592512, 0.043667600775269794, 0.04345255778495472, 0.0434178734316781, 0.04340399969036745, 0.0433346309838142, 0.04320976731201836, 0.04316120921743108, 0.043154272346775754, 0.04309877738153316, 0.04289067126187341, 0.04287679752056276, 0.04284905003794146, 0.04233572160944743, 0.04204437304192379, 0.00045783346325143867, 0.00045783346325143867, 0.00045783346325143867, 0.00045783346325143867, 0.04448121102316577, 0.04402421227977708, 0.04394112159916095, 0.043816485578236766, 0.04380263713146741, 0.043719546450851285, 0.043594910429927095, 0.043594910429927095, 0.043594910429927095, 0.043594910429927095, 0.04337333528161743, 0.04334563838807872, 0.04331794149454001, 0.04324869926069324, 0.04313791168653841, 0.04308251789946099, 0.04306866945269164, 0.04301327566561422, 0.04281939741084326, 0.04279170051730455, 0.042764003623765846, 0.04226545954006909, 0.0419607937111433, 0.0009139974867773788, 0.0009139974867773788, 0.0009139974867773788, 0.0009139974867773788, 0.04448121102316577, 0.04402421227977708, 0.04394112159916095, 0.043816485578236766, 0.04380263713146741, 0.043719546450851285, 0.043594910429927095, 0.043594910429927095, 0.043594910429927095, 0.043594910429927095, 0.04337333528161743, 0.04334563838807872, 0.04331794149454001, 0.04324869926069324, 0.04313791168653841, 0.04308251789946099, 0.04306866945269164, 0.04301327566561422, 0.04281939741084326, 0.04279170051730455, 0.042764003623765846, 0.04226545954006909, 0.0419607937111433, 0.0009139974867773788, 0.0009139974867773788, 0.0009139974867773788, 0.0009139974867773788, 0.04448121171001194, 0.044024212959566614, 0.04394112227766746, 0.04381648625481874, 0.04380263780783554, 0.04371954712593639, 0.043594911103087663, 0.043594911103087663, 0.043594911103087663, 0.043594911103087663, 0.0433733359513566, 0.043345639057390216, 0.043317942163423835, 0.043248699928507876, 0.04313791235264234, 0.04308251856470957, 0.04306867011772638, 0.04301327632979361, 0.042819398072028926, 0.042791701178062545, 0.042764004284096165, 0.042265460192701255, 0.04196079435907104, 0.0009139975008906563, 0.0009139975008906563, 0.0009139975008906563, 0.0009139975008906563, 0.04448121102316577, 0.04402421227977708, 0.04394112159916095, 0.043816485578236766, 0.04380263713146741, 0.043719546450851285, 0.043594910429927095, 0.043594910429927095, 0.043594910429927095, 0.043594910429927095, 0.04337333528161743, 0.04334563838807872, 0.04331794149454001, 0.04324869926069324, 0.04313791168653841, 0.04308251789946099, 0.04306866945269164, 0.04301327566561422, 0.04281939741084326, 0.04279170051730455, 0.042764003623765846, 0.04226545954006909, 0.0419607937111433, 0.0009139974867773788, 0.0009139974867773788, 0.0009139974867773788, 0.0009139974867773788, 0.04448121111660332, 0.04402421237225465, 0.04394112169146398, 0.04381648567027799, 0.04380263722347954, 0.04371954654268888, 0.043594910521502876, 0.043594910521502876, 0.043594910521502876, 0.043594910521502876, 0.043373335372727764, 0.04334563847913088, 0.04331794158553399, 0.04324869935154177, 0.04313791177715421, 0.043082517989960434, 0.04306866954316199, 0.043013275755968215, 0.04281939750078999, 0.0427917006071931, 0.04276400371359621, 0.04226545962885222, 0.04196079379928644, 0.0009139974886973284, 0.0009139974886973284, 0.0009139974886973284, 0.0009139974886973284, 0.04448121102316577, 0.04402421227977708, 0.04394112159916095, 0.043816485578236766, 0.04380263713146741, 0.043719546450851285, 0.043594910429927095, 0.043594910429927095, 0.043594910429927095, 0.043594910429927095, 0.04337333528161743, 0.04334563838807872, 0.04331794149454001, 0.04324869926069324, 0.04313791168653841, 0.04308251789946099, 0.04306866945269164, 0.04301327566561422, 0.04281939741084326, 0.04279170051730455, 0.042764003623765846, 0.04226545954006909, 0.0419607937111433, 0.0009139974867773788, 0.0009139974867773788, 0.0009139974867773788, 0.0009139974867773788, 0.04448121102316577, 0.04402421227977708, 0.04394112159916095, 0.043816485578236766, 0.04380263713146741, 0.043719546450851285, 0.043594910429927095, 0.043594910429927095, 0.043594910429927095, 0.043594910429927095, 0.04337333528161743, 0.04334563838807872, 0.04331794149454001, 0.04324869926069324, 0.04313791168653841, 0.04308251789946099, 0.04306866945269164, 0.04301327566561422, 0.04281939741084326, 0.04279170051730455, 0.042764003623765846, 0.04226545954006909, 0.0419607937111433, 0.0009139974867773788, 0.0009139974867773788, 0.0009139974867773788, 0.0009139974867773788, 0.044616784549743965, 0.0441560778184551, 0.04407273388716666, 0.04394540288103155, 0.043933827335019264, 0.04384816829452837, 0.04373472794360799, 0.04373472794360799, 0.04372546750679817, 0.043723152397595715, 0.04350553213256479, 0.043473120603730396, 0.043454599730110746, 0.0433874615632395, 0.04326244566630685, 0.0432115132638528, 0.04320456793624543, 0.04314900531538647, 0.04294296059636783, 0.04292675483195063, 0.04289897352152115, 0.04238733438777824, 0.04209563062826871, 0.00015279720736213688, 0.00015279720736213688, 0.00015279720736213688, 0.00015279720736213688, 0.04448121171001194, 0.044024212959566614, 0.04394112227766746, 0.04381648625481874, 0.04380263780783554, 0.04371954712593639, 0.043594911103087663, 0.043594911103087663, 0.043594911103087663, 0.043594911103087663, 0.0433733359513566, 0.043345639057390216, 0.043317942163423835, 0.043248699928507876, 0.04313791235264234, 0.04308251856470957, 0.04306867011772638, 0.04301327632979361, 0.042819398072028926, 0.042791701178062545, 0.042764004284096165, 0.042265460192701255, 0.04196079435907104, 0.0009139975008906563, 0.0009139975008906563, 0.0009139975008906563, 0.0009139975008906563, 0.044481211254316554, 0.044024212508553026, 0.04394112182750511, 0.043816485805933246, 0.04380263735909193, 0.043719546678044015, 0.04359491065647214, 0.04359491065647214, 0.04359491065647214, 0.04359491065647214, 0.043373335507011036, 0.0433456386133284, 0.04331794171964576, 0.04324869948543917, 0.043137911910708614, 0.043082518123343336, 0.04306866967650202, 0.04301327588913675, 0.04281939763335828, 0.04279170073967564, 0.042764003845993, 0.04226545975970552, 0.0419607939291965, 0.0009139974915270525, 0.0009139974915270525, 0.0009139974915270525, 0.0009139974915270525, 0.044603190138577796, 0.04414146657939109, 0.04405814804239499, 0.04393317023690085, 0.043919283814068164, 0.043832493671363895, 0.04372140228870243, 0.04372140228870243, 0.043710987471577915, 0.043710987471577915, 0.04349227631196316, 0.04345756025488145, 0.043443673832048765, 0.043374241717885356, 0.04324926391239121, 0.04320066143247681, 0.043193718221060474, 0.04313470092402157, 0.0429298761872395, 0.04291251815869864, 0.042884745313033275, 0.04237441927393218, 0.04208280439444583, 0.00022912597673926952, 0.00022912597673926952, 0.00022912597673926952, 0.00022912597673926952, 0.04448121171001194, 0.044024212959566614, 0.04394112227766746, 0.04381648625481874, 0.04380263780783554, 0.04371954712593639, 0.043594911103087663, 0.043594911103087663, 0.043594911103087663, 0.043594911103087663, 0.0433733359513566, 0.043345639057390216, 0.043317942163423835, 0.043248699928507876, 0.04313791235264234, 0.04308251856470957, 0.04306867011772638, 0.04301327632979361, 0.042819398072028926, 0.042791701178062545, 0.042764004284096165, 0.042265460192701255, 0.04196079435907104, 0.0009139975008906563, 0.0009139975008906563, 0.0009139975008906563, 0.0009139975008906563, 0.04448121171001194, 0.044024212959566614, 0.04394112227766746, 0.04381648625481874, 0.04380263780783554, 0.04371954712593639, 0.043594911103087663, 0.043594911103087663, 0.043594911103087663, 0.043594911103087663, 0.0433733359513566, 0.043345639057390216, 0.043317942163423835, 0.043248699928507876, 0.04313791235264234, 0.04308251856470957, 0.04306867011772638, 0.04301327632979361, 0.042819398072028926, 0.042791701178062545, 0.042764004284096165, 0.042265460192701255, 0.04196079435907104, 0.0009139975008906563, 0.0009139975008906563, 0.0009139975008906563, 0.0009139975008906563, 0.04448121102316577, 0.04402421227977708, 0.04394112159916095, 0.043816485578236766, 0.04380263713146741, 0.043719546450851285, 0.043594910429927095, 0.043594910429927095, 0.043594910429927095, 0.043594910429927095, 0.04337333528161743, 0.04334563838807872, 0.04331794149454001, 0.04324869926069324, 0.04313791168653841, 0.04308251789946099, 0.04306866945269164, 0.04301327566561422, 0.04281939741084326, 0.04279170051730455, 0.042764003623765846, 0.04226545954006909, 0.0419607937111433, 0.0009139974867773788, 0.0009139974867773788, 0.0009139974867773788, 0.0009139974867773788], \"Term\": [\"artt\\u0131\", \"artt\\u0131\", \"artt\\u0131\", \"artt\\u0131\", \"artt\\u0131\", \"artt\\u0131\", \"artt\\u0131\", \"artt\\u0131\", \"artt\\u0131\", \"artt\\u0131\", \"artt\\u0131\", \"artt\\u0131\", \"artt\\u0131\", \"artt\\u0131\", \"artt\\u0131\", \"artt\\u0131\", \"artt\\u0131\", \"artt\\u0131\", \"artt\\u0131\", \"artt\\u0131\", \"artt\\u0131\", \"artt\\u0131\", \"artt\\u0131\", \"artt\\u0131\", \"artt\\u0131\", \"artt\\u0131\", \"artt\\u0131\", \"art\\u0131\\u015fla\", \"art\\u0131\\u015fla\", \"art\\u0131\\u015fla\", \"art\\u0131\\u015fla\", \"art\\u0131\\u015fla\", \"art\\u0131\\u015fla\", \"art\\u0131\\u015fla\", \"art\\u0131\\u015fla\", \"art\\u0131\\u015fla\", \"art\\u0131\\u015fla\", \"art\\u0131\\u015fla\", \"art\\u0131\\u015fla\", \"art\\u0131\\u015fla\", \"art\\u0131\\u015fla\", \"art\\u0131\\u015fla\", \"art\\u0131\\u015fla\", \"art\\u0131\\u015fla\", \"art\\u0131\\u015fla\", \"art\\u0131\\u015fla\", \"art\\u0131\\u015fla\", \"art\\u0131\\u015fla\", \"art\\u0131\\u015fla\", \"art\\u0131\\u015fla\", \"art\\u0131\\u015fla\", \"art\\u0131\\u015fla\", \"art\\u0131\\u015fla\", \"art\\u0131\\u015fla\", \"ay\\u0131nda\", \"ay\\u0131nda\", \"ay\\u0131nda\", \"ay\\u0131nda\", \"ay\\u0131nda\", \"ay\\u0131nda\", \"ay\\u0131nda\", \"ay\\u0131nda\", \"ay\\u0131nda\", \"ay\\u0131nda\", \"ay\\u0131nda\", \"ay\\u0131nda\", \"ay\\u0131nda\", \"ay\\u0131nda\", \"ay\\u0131nda\", \"ay\\u0131nda\", \"ay\\u0131nda\", \"ay\\u0131nda\", \"ay\\u0131nda\", \"ay\\u0131nda\", \"ay\\u0131nda\", \"ay\\u0131nda\", \"ay\\u0131nda\", \"ay\\u0131nda\", \"ay\\u0131nda\", \"ay\\u0131nda\", \"ay\\u0131nda\", \"azald\\u0131\", \"azald\\u0131\", \"azald\\u0131\", \"azald\\u0131\", \"azald\\u0131\", \"azald\\u0131\", \"azald\\u0131\", \"azald\\u0131\", \"azald\\u0131\", \"azald\\u0131\", \"azald\\u0131\", \"azald\\u0131\", \"azald\\u0131\", \"azald\\u0131\", \"azald\\u0131\", \"azald\\u0131\", \"azald\\u0131\", \"azald\\u0131\", \"azald\\u0131\", \"azald\\u0131\", \"azald\\u0131\", \"azald\\u0131\", \"azald\\u0131\", \"azald\\u0131\", \"azald\\u0131\", \"azald\\u0131\", \"azald\\u0131\", \"azal\\u0131\\u015fla\", \"azal\\u0131\\u015fla\", \"azal\\u0131\\u015fla\", \"azal\\u0131\\u015fla\", \"azal\\u0131\\u015fla\", \"azal\\u0131\\u015fla\", \"azal\\u0131\\u015fla\", \"azal\\u0131\\u015fla\", \"azal\\u0131\\u015fla\", \"azal\\u0131\\u015fla\", \"azal\\u0131\\u015fla\", \"azal\\u0131\\u015fla\", \"azal\\u0131\\u015fla\", \"azal\\u0131\\u015fla\", \"azal\\u0131\\u015fla\", \"azal\\u0131\\u015fla\", \"azal\\u0131\\u015fla\", \"azal\\u0131\\u015fla\", \"azal\\u0131\\u015fla\", \"azal\\u0131\\u015fla\", \"azal\\u0131\\u015fla\", \"azal\\u0131\\u015fla\", \"azal\\u0131\\u015fla\", \"azal\\u0131\\u015fla\", \"azal\\u0131\\u015fla\", \"azal\\u0131\\u015fla\", \"azal\\u0131\\u015fla\", \"a\\u00e7\\u0131klad\\u0131\", \"a\\u00e7\\u0131klad\\u0131\", \"a\\u00e7\\u0131klad\\u0131\", \"a\\u00e7\\u0131klad\\u0131\", \"a\\u00e7\\u0131klad\\u0131\", \"a\\u00e7\\u0131klad\\u0131\", \"a\\u00e7\\u0131klad\\u0131\", \"a\\u00e7\\u0131klad\\u0131\", \"a\\u00e7\\u0131klad\\u0131\", \"a\\u00e7\\u0131klad\\u0131\", \"a\\u00e7\\u0131klad\\u0131\", \"a\\u00e7\\u0131klad\\u0131\", \"a\\u00e7\\u0131klad\\u0131\", \"a\\u00e7\\u0131klad\\u0131\", \"a\\u00e7\\u0131klad\\u0131\", \"a\\u00e7\\u0131klad\\u0131\", \"a\\u00e7\\u0131klad\\u0131\", \"a\\u00e7\\u0131klad\\u0131\", \"a\\u00e7\\u0131klad\\u0131\", \"a\\u00e7\\u0131klad\\u0131\", \"a\\u00e7\\u0131klad\\u0131\", \"a\\u00e7\\u0131klad\\u0131\", \"a\\u00e7\\u0131klad\\u0131\", \"a\\u00e7\\u0131klad\\u0131\", \"a\\u00e7\\u0131klad\\u0131\", \"a\\u00e7\\u0131klad\\u0131\", \"a\\u00e7\\u0131klad\\u0131\", \"bakan\\u0131\", \"bakan\\u0131\", \"bakan\\u0131\", \"bakan\\u0131\", \"bakan\\u0131\", \"bakan\\u0131\", \"bakan\\u0131\", \"bakan\\u0131\", \"bakan\\u0131\", \"bakan\\u0131\", \"bakan\\u0131\", \"bakan\\u0131\", \"bakan\\u0131\", \"bakan\\u0131\", \"bakan\\u0131\", \"bakan\\u0131\", \"bakan\\u0131\", \"bakan\\u0131\", \"bakan\\u0131\", \"bakan\\u0131\", \"bakan\\u0131\", \"bakan\\u0131\", \"bakan\\u0131\", \"bakan\\u0131\", \"bakan\\u0131\", \"bakan\\u0131\", \"bakan\\u0131\", \"dolar\", \"dolar\", \"dolar\", \"dolar\", \"dolar\", \"dolar\", \"dolar\", \"dolar\", \"dolar\", \"dolar\", \"dolar\", \"dolar\", \"dolar\", \"dolar\", \"dolar\", \"dolar\", \"dolar\", \"dolar\", \"dolar\", \"dolar\", \"dolar\", \"dolar\", \"dolar\", \"dolar\", \"dolar\", \"dolar\", \"dolar\", \"d\\u00fc\\u015f\\u00fc\\u015fle\", \"d\\u00fc\\u015f\\u00fc\\u015fle\", \"d\\u00fc\\u015f\\u00fc\\u015fle\", \"d\\u00fc\\u015f\\u00fc\\u015fle\", \"d\\u00fc\\u015f\\u00fc\\u015fle\", \"d\\u00fc\\u015f\\u00fc\\u015fle\", \"d\\u00fc\\u015f\\u00fc\\u015fle\", \"d\\u00fc\\u015f\\u00fc\\u015fle\", \"d\\u00fc\\u015f\\u00fc\\u015fle\", \"d\\u00fc\\u015f\\u00fc\\u015fle\", \"d\\u00fc\\u015f\\u00fc\\u015fle\", \"d\\u00fc\\u015f\\u00fc\\u015fle\", \"d\\u00fc\\u015f\\u00fc\\u015fle\", \"d\\u00fc\\u015f\\u00fc\\u015fle\", \"d\\u00fc\\u015f\\u00fc\\u015fle\", \"d\\u00fc\\u015f\\u00fc\\u015fle\", \"d\\u00fc\\u015f\\u00fc\\u015fle\", \"d\\u00fc\\u015f\\u00fc\\u015fle\", \"d\\u00fc\\u015f\\u00fc\\u015fle\", \"d\\u00fc\\u015f\\u00fc\\u015fle\", \"d\\u00fc\\u015f\\u00fc\\u015fle\", \"d\\u00fc\\u015f\\u00fc\\u015fle\", \"d\\u00fc\\u015f\\u00fc\\u015fle\", \"d\\u00fc\\u015f\\u00fc\\u015fle\", \"d\\u00fc\\u015f\\u00fc\\u015fle\", \"d\\u00fc\\u015f\\u00fc\\u015fle\", \"d\\u00fc\\u015f\\u00fc\\u015fle\", \"eskiden\", \"eskiden\", \"eskiden\", \"eskiden\", \"eskiden\", \"eskiden\", \"eskiden\", \"eskiden\", \"eskiden\", \"eskiden\", \"eskiden\", \"eskiden\", \"eskiden\", \"eskiden\", \"eskiden\", \"eskiden\", \"eskiden\", \"eskiden\", \"eskiden\", \"eskiden\", \"eskiden\", \"eskiden\", \"eskiden\", \"eskiden\", \"eskiden\", \"eskiden\", \"eskiden\", \"foto\\u011fraf\", \"foto\\u011fraf\", \"foto\\u011fraf\", \"foto\\u011fraf\", \"foto\\u011fraf\", \"foto\\u011fraf\", \"foto\\u011fraf\", \"foto\\u011fraf\", \"foto\\u011fraf\", \"foto\\u011fraf\", \"foto\\u011fraf\", \"foto\\u011fraf\", \"foto\\u011fraf\", \"foto\\u011fraf\", \"foto\\u011fraf\", \"foto\\u011fraf\", \"foto\\u011fraf\", \"foto\\u011fraf\", \"foto\\u011fraf\", \"foto\\u011fraf\", \"foto\\u011fraf\", \"foto\\u011fraf\", \"foto\\u011fraf\", \"foto\\u011fraf\", \"foto\\u011fraf\", \"foto\\u011fraf\", \"foto\\u011fraf\", \"ger\\u00e7ekle\\u015fmi\\u015ftir\", \"ger\\u00e7ekle\\u015fmi\\u015ftir\", \"ger\\u00e7ekle\\u015fmi\\u015ftir\", \"ger\\u00e7ekle\\u015fmi\\u015ftir\", \"ger\\u00e7ekle\\u015fmi\\u015ftir\", \"ger\\u00e7ekle\\u015fmi\\u015ftir\", \"ger\\u00e7ekle\\u015fmi\\u015ftir\", \"ger\\u00e7ekle\\u015fmi\\u015ftir\", \"ger\\u00e7ekle\\u015fmi\\u015ftir\", \"ger\\u00e7ekle\\u015fmi\\u015ftir\", \"ger\\u00e7ekle\\u015fmi\\u015ftir\", \"ger\\u00e7ekle\\u015fmi\\u015ftir\", \"ger\\u00e7ekle\\u015fmi\\u015ftir\", \"ger\\u00e7ekle\\u015fmi\\u015ftir\", \"ger\\u00e7ekle\\u015fmi\\u015ftir\", \"ger\\u00e7ekle\\u015fmi\\u015ftir\", \"ger\\u00e7ekle\\u015fmi\\u015ftir\", \"ger\\u00e7ekle\\u015fmi\\u015ftir\", \"ger\\u00e7ekle\\u015fmi\\u015ftir\", \"ger\\u00e7ekle\\u015fmi\\u015ftir\", \"ger\\u00e7ekle\\u015fmi\\u015ftir\", \"ger\\u00e7ekle\\u015fmi\\u015ftir\", \"ger\\u00e7ekle\\u015fmi\\u015ftir\", \"ger\\u00e7ekle\\u015fmi\\u015ftir\", \"ger\\u00e7ekle\\u015fmi\\u015ftir\", \"ger\\u00e7ekle\\u015fmi\\u015ftir\", \"ger\\u00e7ekle\\u015fmi\\u015ftir\", \"ger\\u00e7ekle\\u015fti\\u011fini\", \"ger\\u00e7ekle\\u015fti\\u011fini\", \"ger\\u00e7ekle\\u015fti\\u011fini\", \"ger\\u00e7ekle\\u015fti\\u011fini\", \"ger\\u00e7ekle\\u015fti\\u011fini\", \"ger\\u00e7ekle\\u015fti\\u011fini\", \"ger\\u00e7ekle\\u015fti\\u011fini\", \"ger\\u00e7ekle\\u015fti\\u011fini\", \"ger\\u00e7ekle\\u015fti\\u011fini\", \"ger\\u00e7ekle\\u015fti\\u011fini\", \"ger\\u00e7ekle\\u015fti\\u011fini\", \"ger\\u00e7ekle\\u015fti\\u011fini\", \"ger\\u00e7ekle\\u015fti\\u011fini\", \"ger\\u00e7ekle\\u015fti\\u011fini\", \"ger\\u00e7ekle\\u015fti\\u011fini\", \"ger\\u00e7ekle\\u015fti\\u011fini\", \"ger\\u00e7ekle\\u015fti\\u011fini\", \"ger\\u00e7ekle\\u015fti\\u011fini\", \"ger\\u00e7ekle\\u015fti\\u011fini\", \"ger\\u00e7ekle\\u015fti\\u011fini\", \"ger\\u00e7ekle\\u015fti\\u011fini\", \"ger\\u00e7ekle\\u015fti\\u011fini\", \"ger\\u00e7ekle\\u015fti\\u011fini\", \"ger\\u00e7ekle\\u015fti\\u011fini\", \"ger\\u00e7ekle\\u015fti\\u011fini\", \"ger\\u00e7ekle\\u015fti\\u011fini\", \"ger\\u00e7ekle\\u015fti\\u011fini\", \"g\\u00f6re\", \"g\\u00f6re\", \"g\\u00f6re\", \"g\\u00f6re\", \"g\\u00f6re\", \"g\\u00f6re\", \"g\\u00f6re\", \"g\\u00f6re\", \"g\\u00f6re\", \"g\\u00f6re\", \"g\\u00f6re\", \"g\\u00f6re\", \"g\\u00f6re\", \"g\\u00f6re\", \"g\\u00f6re\", \"g\\u00f6re\", \"g\\u00f6re\", \"g\\u00f6re\", \"g\\u00f6re\", \"g\\u00f6re\", \"g\\u00f6re\", \"g\\u00f6re\", \"g\\u00f6re\", \"g\\u00f6re\", \"g\\u00f6re\", \"g\\u00f6re\", \"g\\u00f6re\", \"ihracat\", \"ihracat\", \"ihracat\", \"ihracat\", \"ihracat\", \"ihracat\", \"ihracat\", \"ihracat\", \"ihracat\", \"ihracat\", \"ihracat\", \"ihracat\", \"ihracat\", \"ihracat\", \"ihracat\", \"ihracat\", \"ihracat\", \"ihracat\", \"ihracat\", \"ihracat\", \"ihracat\", \"ihracat\", \"ihracat\", \"ihracat\", \"ihracat\", \"ihracat\", \"ihracat\", \"ihracat\\u0131m\\u0131z\", \"ihracat\\u0131m\\u0131z\", \"ihracat\\u0131m\\u0131z\", \"ihracat\\u0131m\\u0131z\", \"ihracat\\u0131m\\u0131z\", \"ihracat\\u0131m\\u0131z\", \"ihracat\\u0131m\\u0131z\", \"ihracat\\u0131m\\u0131z\", \"ihracat\\u0131m\\u0131z\", \"ihracat\\u0131m\\u0131z\", \"ihracat\\u0131m\\u0131z\", \"ihracat\\u0131m\\u0131z\", \"ihracat\\u0131m\\u0131z\", \"ihracat\\u0131m\\u0131z\", \"ihracat\\u0131m\\u0131z\", \"ihracat\\u0131m\\u0131z\", \"ihracat\\u0131m\\u0131z\", \"ihracat\\u0131m\\u0131z\", \"ihracat\\u0131m\\u0131z\", \"ihracat\\u0131m\\u0131z\", \"ihracat\\u0131m\\u0131z\", \"ihracat\\u0131m\\u0131z\", \"ihracat\\u0131m\\u0131z\", \"ihracat\\u0131m\\u0131z\", \"ihracat\\u0131m\\u0131z\", \"ihracat\\u0131m\\u0131z\", \"ihracat\\u0131m\\u0131z\", \"ihracat\\u0131n\", \"ihracat\\u0131n\", \"ihracat\\u0131n\", \"ihracat\\u0131n\", \"ihracat\\u0131n\", \"ihracat\\u0131n\", \"ihracat\\u0131n\", \"ihracat\\u0131n\", \"ihracat\\u0131n\", \"ihracat\\u0131n\", \"ihracat\\u0131n\", \"ihracat\\u0131n\", \"ihracat\\u0131n\", \"ihracat\\u0131n\", \"ihracat\\u0131n\", \"ihracat\\u0131n\", \"ihracat\\u0131n\", \"ihracat\\u0131n\", \"ihracat\\u0131n\", \"ihracat\\u0131n\", \"ihracat\\u0131n\", \"ihracat\\u0131n\", \"ihracat\\u0131n\", \"ihracat\\u0131n\", \"ihracat\\u0131n\", \"ihracat\\u0131n\", \"ihracat\\u0131n\", \"ithalat\", \"ithalat\", \"ithalat\", \"ithalat\", \"ithalat\", \"ithalat\", \"ithalat\", \"ithalat\", \"ithalat\", \"ithalat\", \"ithalat\", \"ithalat\", \"ithalat\", \"ithalat\", \"ithalat\", \"ithalat\", \"ithalat\", \"ithalat\", \"ithalat\", \"ithalat\", \"ithalat\", \"ithalat\", \"ithalat\", \"ithalat\", \"ithalat\", \"ithalat\", \"ithalat\", \"ithalat\\u0131m\\u0131z\", \"ithalat\\u0131m\\u0131z\", \"ithalat\\u0131m\\u0131z\", \"ithalat\\u0131m\\u0131z\", \"ithalat\\u0131m\\u0131z\", \"ithalat\\u0131m\\u0131z\", \"ithalat\\u0131m\\u0131z\", \"ithalat\\u0131m\\u0131z\", \"ithalat\\u0131m\\u0131z\", \"ithalat\\u0131m\\u0131z\", \"ithalat\\u0131m\\u0131z\", \"ithalat\\u0131m\\u0131z\", \"ithalat\\u0131m\\u0131z\", \"ithalat\\u0131m\\u0131z\", \"ithalat\\u0131m\\u0131z\", \"ithalat\\u0131m\\u0131z\", \"ithalat\\u0131m\\u0131z\", \"ithalat\\u0131m\\u0131z\", \"ithalat\\u0131m\\u0131z\", \"ithalat\\u0131m\\u0131z\", \"ithalat\\u0131m\\u0131z\", \"ithalat\\u0131m\\u0131z\", \"ithalat\\u0131m\\u0131z\", \"ithalat\\u0131m\\u0131z\", \"ithalat\\u0131m\\u0131z\", \"ithalat\\u0131m\\u0131z\", \"ithalat\\u0131m\\u0131z\", \"ithalat\\u0131n\", \"ithalat\\u0131n\", \"ithalat\\u0131n\", \"ithalat\\u0131n\", \"ithalat\\u0131n\", \"ithalat\\u0131n\", \"ithalat\\u0131n\", \"ithalat\\u0131n\", \"ithalat\\u0131n\", \"ithalat\\u0131n\", \"ithalat\\u0131n\", \"ithalat\\u0131n\", \"ithalat\\u0131n\", \"ithalat\\u0131n\", \"ithalat\\u0131n\", \"ithalat\\u0131n\", \"ithalat\\u0131n\", \"ithalat\\u0131n\", \"ithalat\\u0131n\", \"ithalat\\u0131n\", \"ithalat\\u0131n\", \"ithalat\\u0131n\", \"ithalat\\u0131n\", \"ithalat\\u0131n\", \"ithalat\\u0131n\", \"ithalat\\u0131n\", \"ithalat\\u0131n\", \"kulland\\u0131\\u011f\\u0131m\\u0131z\", \"kulland\\u0131\\u011f\\u0131m\\u0131z\", \"kulland\\u0131\\u011f\\u0131m\\u0131z\", \"kulland\\u0131\\u011f\\u0131m\\u0131z\", \"kulland\\u0131\\u011f\\u0131m\\u0131z\", \"kulland\\u0131\\u011f\\u0131m\\u0131z\", \"kulland\\u0131\\u011f\\u0131m\\u0131z\", \"kulland\\u0131\\u011f\\u0131m\\u0131z\", \"kulland\\u0131\\u011f\\u0131m\\u0131z\", \"kulland\\u0131\\u011f\\u0131m\\u0131z\", \"kulland\\u0131\\u011f\\u0131m\\u0131z\", \"kulland\\u0131\\u011f\\u0131m\\u0131z\", \"kulland\\u0131\\u011f\\u0131m\\u0131z\", \"kulland\\u0131\\u011f\\u0131m\\u0131z\", \"kulland\\u0131\\u011f\\u0131m\\u0131z\", \"kulland\\u0131\\u011f\\u0131m\\u0131z\", \"kulland\\u0131\\u011f\\u0131m\\u0131z\", \"kulland\\u0131\\u011f\\u0131m\\u0131z\", \"kulland\\u0131\\u011f\\u0131m\\u0131z\", \"kulland\\u0131\\u011f\\u0131m\\u0131z\", \"kulland\\u0131\\u011f\\u0131m\\u0131z\", \"kulland\\u0131\\u011f\\u0131m\\u0131z\", \"kulland\\u0131\\u011f\\u0131m\\u0131z\", \"kulland\\u0131\\u011f\\u0131m\\u0131z\", \"kulland\\u0131\\u011f\\u0131m\\u0131z\", \"kulland\\u0131\\u011f\\u0131m\\u0131z\", \"kulland\\u0131\\u011f\\u0131m\\u0131z\", \"milyar\", \"milyar\", \"milyar\", \"milyar\", \"milyar\", \"milyar\", \"milyar\", \"milyar\", \"milyar\", \"milyar\", \"milyar\", \"milyar\", \"milyar\", \"milyar\", \"milyar\", \"milyar\", \"milyar\", \"milyar\", \"milyar\", \"milyar\", \"milyar\", \"milyar\", \"milyar\", \"milyar\", \"milyar\", \"milyar\", \"milyar\", \"milyon\", \"milyon\", \"milyon\", \"milyon\", \"milyon\", \"milyon\", \"milyon\", \"milyon\", \"milyon\", \"milyon\", \"milyon\", \"milyon\", \"milyon\", \"milyon\", \"milyon\", \"milyon\", \"milyon\", \"milyon\", \"milyon\", \"milyon\", \"milyon\", \"milyon\", \"milyon\", \"milyon\", \"milyon\", \"milyon\", \"milyon\", \"nticaret\", \"nticaret\", \"nticaret\", \"nticaret\", \"nticaret\", \"nticaret\", \"nticaret\", \"nticaret\", \"nticaret\", \"nticaret\", \"nticaret\", \"nticaret\", \"nticaret\", \"nticaret\", \"nticaret\", \"nticaret\", \"nticaret\", \"nticaret\", \"nticaret\", \"nticaret\", \"nticaret\", \"nticaret\", \"nticaret\", \"nticaret\", \"nticaret\", \"nticaret\", \"nticaret\", \"olarak\", \"olarak\", \"olarak\", \"olarak\", \"olarak\", \"olarak\", \"olarak\", \"olarak\", \"olarak\", \"olarak\", \"olarak\", \"olarak\", \"olarak\", \"olarak\", \"olarak\", \"olarak\", \"olarak\", \"olarak\", \"olarak\", \"olarak\", \"olarak\", \"olarak\", \"olarak\", \"olarak\", \"olarak\", \"olarak\", \"olarak\", \"pekcan\", \"pekcan\", \"pekcan\", \"pekcan\", \"pekcan\", \"pekcan\", \"pekcan\", \"pekcan\", \"pekcan\", \"pekcan\", \"pekcan\", \"pekcan\", \"pekcan\", \"pekcan\", \"pekcan\", \"pekcan\", \"pekcan\", \"pekcan\", \"pekcan\", \"pekcan\", \"pekcan\", \"pekcan\", \"pekcan\", \"pekcan\", \"pekcan\", \"pekcan\", \"pekcan\", \"reklam\", \"reklam\", \"reklam\", \"reklam\", \"reklam\", \"reklam\", \"reklam\", \"reklam\", \"reklam\", \"reklam\", \"reklam\", \"reklam\", \"reklam\", \"reklam\", \"reklam\", \"reklam\", \"reklam\", \"reklam\", \"reklam\", \"reklam\", \"reklam\", \"reklam\", \"reklam\", \"reklam\", \"reklam\", \"reklam\", \"reklam\", \"reutersnbakan\", \"reutersnbakan\", \"reutersnbakan\", \"reutersnbakan\", \"reutersnbakan\", \"reutersnbakan\", \"reutersnbakan\", \"reutersnbakan\", \"reutersnbakan\", \"reutersnbakan\", \"reutersnbakan\", \"reutersnbakan\", \"reutersnbakan\", \"reutersnbakan\", \"reutersnbakan\", \"reutersnbakan\", \"reutersnbakan\", \"reutersnbakan\", \"reutersnbakan\", \"reutersnbakan\", \"reutersnbakan\", \"reutersnbakan\", \"reutersnbakan\", \"reutersnbakan\", \"reutersnbakan\", \"reutersnbakan\", \"reutersnbakan\", \"ruhsar\", \"ruhsar\", \"ruhsar\", \"ruhsar\", \"ruhsar\", \"ruhsar\", \"ruhsar\", \"ruhsar\", \"ruhsar\", \"ruhsar\", \"ruhsar\", \"ruhsar\", \"ruhsar\", \"ruhsar\", \"ruhsar\", \"ruhsar\", \"ruhsar\", \"ruhsar\", \"ruhsar\", \"ruhsar\", \"ruhsar\", \"ruhsar\", \"ruhsar\", \"ruhsar\", \"ruhsar\", \"ruhsar\", \"ruhsar\", \"seviyesinde\", \"seviyesinde\", \"seviyesinde\", \"seviyesinde\", \"seviyesinde\", \"seviyesinde\", \"seviyesinde\", \"seviyesinde\", \"seviyesinde\", \"seviyesinde\", \"seviyesinde\", \"seviyesinde\", \"seviyesinde\", \"seviyesinde\", \"seviyesinde\", \"seviyesinde\", \"seviyesinde\", \"seviyesinde\", \"seviyesinde\", \"seviyesinde\", \"seviyesinde\", \"seviyesinde\", \"seviyesinde\", \"seviyesinde\", \"seviyesinde\", \"seviyesinde\", \"seviyesinde\", \"sistemine\", \"sistemine\", \"sistemine\", \"sistemine\", \"sistemine\", \"sistemine\", \"sistemine\", \"sistemine\", \"sistemine\", \"sistemine\", \"sistemine\", \"sistemine\", \"sistemine\", \"sistemine\", \"sistemine\", \"sistemine\", \"sistemine\", \"sistemine\", \"sistemine\", \"sistemine\", \"sistemine\", \"sistemine\", \"sistemine\", \"sistemine\", \"sistemine\", \"sistemine\", \"sistemine\", \"s\\u00f6yledi\", \"s\\u00f6yledi\", \"s\\u00f6yledi\", \"s\\u00f6yledi\", \"s\\u00f6yledi\", \"s\\u00f6yledi\", \"s\\u00f6yledi\", \"s\\u00f6yledi\", \"s\\u00f6yledi\", \"s\\u00f6yledi\", \"s\\u00f6yledi\", \"s\\u00f6yledi\", \"s\\u00f6yledi\", \"s\\u00f6yledi\", \"s\\u00f6yledi\", \"s\\u00f6yledi\", \"s\\u00f6yledi\", \"s\\u00f6yledi\", \"s\\u00f6yledi\", \"s\\u00f6yledi\", \"s\\u00f6yledi\", \"s\\u00f6yledi\", \"s\\u00f6yledi\", \"s\\u00f6yledi\", \"s\\u00f6yledi\", \"s\\u00f6yledi\", \"s\\u00f6yledi\", \"ticaret\", \"ticaret\", \"ticaret\", \"ticaret\", \"ticaret\", \"ticaret\", \"ticaret\", \"ticaret\", \"ticaret\", \"ticaret\", \"ticaret\", \"ticaret\", \"ticaret\", \"ticaret\", \"ticaret\", \"ticaret\", \"ticaret\", \"ticaret\", \"ticaret\", \"ticaret\", \"ticaret\", \"ticaret\", \"ticaret\", \"ticaret\", \"ticaret\", \"ticaret\", \"ticaret\", \"y\\u00fczde\", \"y\\u00fczde\", \"y\\u00fczde\", \"y\\u00fczde\", \"y\\u00fczde\", \"y\\u00fczde\", \"y\\u00fczde\", \"y\\u00fczde\", \"y\\u00fczde\", \"y\\u00fczde\", \"y\\u00fczde\", \"y\\u00fczde\", \"y\\u00fczde\", \"y\\u00fczde\", \"y\\u00fczde\", \"y\\u00fczde\", \"y\\u00fczde\", \"y\\u00fczde\", \"y\\u00fczde\", \"y\\u00fczde\", \"y\\u00fczde\", \"y\\u00fczde\", \"y\\u00fczde\", \"y\\u00fczde\", \"y\\u00fczde\", \"y\\u00fczde\", \"y\\u00fczde\", \"\\u00f6ts\\u2019ye\", \"\\u00f6ts\\u2019ye\", \"\\u00f6ts\\u2019ye\", \"\\u00f6ts\\u2019ye\", \"\\u00f6ts\\u2019ye\", \"\\u00f6ts\\u2019ye\", \"\\u00f6ts\\u2019ye\", \"\\u00f6ts\\u2019ye\", \"\\u00f6ts\\u2019ye\", \"\\u00f6ts\\u2019ye\", \"\\u00f6ts\\u2019ye\", \"\\u00f6ts\\u2019ye\", \"\\u00f6ts\\u2019ye\", \"\\u00f6ts\\u2019ye\", \"\\u00f6ts\\u2019ye\", \"\\u00f6ts\\u2019ye\", \"\\u00f6ts\\u2019ye\", \"\\u00f6ts\\u2019ye\", \"\\u00f6ts\\u2019ye\", \"\\u00f6ts\\u2019ye\", \"\\u00f6ts\\u2019ye\", \"\\u00f6ts\\u2019ye\", \"\\u00f6ts\\u2019ye\", \"\\u00f6ts\\u2019ye\", \"\\u00f6ts\\u2019ye\", \"\\u00f6ts\\u2019ye\", \"\\u00f6ts\\u2019ye\", \"\\u00f6zel\", \"\\u00f6zel\", \"\\u00f6zel\", \"\\u00f6zel\", \"\\u00f6zel\", \"\\u00f6zel\", \"\\u00f6zel\", \"\\u00f6zel\", \"\\u00f6zel\", \"\\u00f6zel\", \"\\u00f6zel\", \"\\u00f6zel\", \"\\u00f6zel\", \"\\u00f6zel\", \"\\u00f6zel\", \"\\u00f6zel\", \"\\u00f6zel\", \"\\u00f6zel\", \"\\u00f6zel\", \"\\u00f6zel\", \"\\u00f6zel\", \"\\u00f6zel\", \"\\u00f6zel\", \"\\u00f6zel\", \"\\u00f6zel\", \"\\u00f6zel\", \"\\u00f6zel\", \"\\u015fubat\", \"\\u015fubat\", \"\\u015fubat\", \"\\u015fubat\", \"\\u015fubat\", \"\\u015fubat\", \"\\u015fubat\", \"\\u015fubat\", \"\\u015fubat\", \"\\u015fubat\", \"\\u015fubat\", \"\\u015fubat\", \"\\u015fubat\", \"\\u015fubat\", \"\\u015fubat\", \"\\u015fubat\", \"\\u015fubat\", \"\\u015fubat\", \"\\u015fubat\", \"\\u015fubat\", \"\\u015fubat\", \"\\u015fubat\", \"\\u015fubat\", \"\\u015fubat\", \"\\u015fubat\", \"\\u015fubat\", \"\\u015fubat\", \"\\u015funlar\\u0131\", \"\\u015funlar\\u0131\", \"\\u015funlar\\u0131\", \"\\u015funlar\\u0131\", \"\\u015funlar\\u0131\", \"\\u015funlar\\u0131\", \"\\u015funlar\\u0131\", \"\\u015funlar\\u0131\", \"\\u015funlar\\u0131\", \"\\u015funlar\\u0131\", \"\\u015funlar\\u0131\", \"\\u015funlar\\u0131\", \"\\u015funlar\\u0131\", \"\\u015funlar\\u0131\", \"\\u015funlar\\u0131\", \"\\u015funlar\\u0131\", \"\\u015funlar\\u0131\", \"\\u015funlar\\u0131\", \"\\u015funlar\\u0131\", \"\\u015funlar\\u0131\", \"\\u015funlar\\u0131\", \"\\u015funlar\\u0131\", \"\\u015funlar\\u0131\", \"\\u015funlar\\u0131\", \"\\u015funlar\\u0131\", \"\\u015funlar\\u0131\", \"\\u015funlar\\u0131\", \"\\u201c\", \"\\u201c\", \"\\u201c\", \"\\u201c\", \"\\u201c\", \"\\u201c\", \"\\u201c\", \"\\u201c\", \"\\u201c\", \"\\u201c\", \"\\u201c\", \"\\u201c\", \"\\u201c\", \"\\u201c\", \"\\u201c\", \"\\u201c\", \"\\u201c\", \"\\u201c\", \"\\u201c\", \"\\u201c\", \"\\u201c\", \"\\u201c\", \"\\u201c\", \"\\u201c\", \"\\u201c\", \"\\u201c\", \"\\u201c\", \"\\u201d\", \"\\u201d\", \"\\u201d\", \"\\u201d\", \"\\u201d\", \"\\u201d\", \"\\u201d\", \"\\u201d\", \"\\u201d\", \"\\u201d\", \"\\u201d\", \"\\u201d\", \"\\u201d\", \"\\u201d\", \"\\u201d\", \"\\u201d\", \"\\u201d\", \"\\u201d\", \"\\u201d\", \"\\u201d\", \"\\u201d\", \"\\u201d\", \"\\u201d\", \"\\u201d\", \"\\u201d\", \"\\u201d\", \"\\u201d\"]}, \"R\": 30, \"lambda.step\": 0.01, \"plot.opts\": {\"xlab\": \"PC1\", \"ylab\": \"PC2\"}, \"topic.order\": [23, 24, 26, 11, 17, 6, 9, 19, 18, 1, 7, 10, 25, 20, 27, 16, 3, 5, 12, 8, 2, 22, 13, 15, 21, 4, 14]};\n",
              "\n",
              "function LDAvis_load_lib(url, callback){\n",
              "  var s = document.createElement('script');\n",
              "  s.src = url;\n",
              "  s.async = true;\n",
              "  s.onreadystatechange = s.onload = callback;\n",
              "  s.onerror = function(){console.warn(\"failed to load library \" + url);};\n",
              "  document.getElementsByTagName(\"head\")[0].appendChild(s);\n",
              "}\n",
              "\n",
              "if(typeof(LDAvis) !== \"undefined\"){\n",
              "   // already loaded: just create the visualization\n",
              "   !function(LDAvis){\n",
              "       new LDAvis(\"#\" + \"ldavis_el7351376979747358563884868277\", ldavis_el7351376979747358563884868277_data);\n",
              "   }(LDAvis);\n",
              "}else if(typeof define === \"function\" && define.amd){\n",
              "   // require.js is available: use it to load d3/LDAvis\n",
              "   require.config({paths: {d3: \"https://d3js.org/d3.v5\"}});\n",
              "   require([\"d3\"], function(d3){\n",
              "      window.d3 = d3;\n",
              "      LDAvis_load_lib(\"https://cdn.jsdelivr.net/gh/bmabey/pyLDAvis@3.4.0/pyLDAvis/js/ldavis.v3.0.0.js\", function(){\n",
              "        new LDAvis(\"#\" + \"ldavis_el7351376979747358563884868277\", ldavis_el7351376979747358563884868277_data);\n",
              "      });\n",
              "    });\n",
              "}else{\n",
              "    // require.js not available: dynamically load d3 & LDAvis\n",
              "    LDAvis_load_lib(\"https://d3js.org/d3.v5.js\", function(){\n",
              "         LDAvis_load_lib(\"https://cdn.jsdelivr.net/gh/bmabey/pyLDAvis@3.4.0/pyLDAvis/js/ldavis.v3.0.0.js\", function(){\n",
              "                 new LDAvis(\"#\" + \"ldavis_el7351376979747358563884868277\", ldavis_el7351376979747358563884868277_data);\n",
              "            })\n",
              "         });\n",
              "}\n",
              "</script>"
            ]
          },
          "metadata": {},
          "execution_count": 31
        }
      ]
    },
    {
      "cell_type": "code",
      "source": [],
      "metadata": {
        "id": "Pds9y3-2BN74"
      },
      "execution_count": null,
      "outputs": []
    }
  ]
}